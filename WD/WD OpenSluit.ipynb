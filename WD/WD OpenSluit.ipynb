{
 "cells": [
  {
   "cell_type": "code",
   "execution_count": 2,
   "metadata": {},
   "outputs": [],
   "source": [
    "import sqlite3\n",
    "import numpy as np\n",
    "import pandas as pd\n",
    "import glob\n",
    "import datetime\n",
    "# modellen importeren\n",
    "from sklearn.cluster import AgglomerativeClustering\n",
    "from sklearn.ensemble import RandomForestRegressor\n",
    "from sklearn.preprocessing import StandardScaler\n",
    "from sklearn.metrics import r2_score\n",
    "from sklearn.metrics import mean_squared_error\n",
    "\n",
    "import matplotlib.pyplot as plt\n",
    "%matplotlib inline"
   ]
  },
  {
   "cell_type": "code",
   "execution_count": 3,
   "metadata": {},
   "outputs": [],
   "source": [
    "# Maak verbinding met de database\n",
    "con = sqlite3.connect(r\"D:\\Code\\Notebooks\\SCADA_Bruggen\") # zet hier het path naar je eigen database\n",
    "cur = con.cursor()\n",
    "\n",
    "'''\n",
    "Laad de data van een brug uit de database\n",
    "WHERE = data inladen vanaf 2016, als je dit niet begrijpt hoe het werkt is het geen probleem\n",
    "De limit geeft aan dat je maar een bepaald aantal lines wil laden\n",
    "'''\n",
    "\n",
    "df = pd.read_sql(\"SELECT * FROM WD\", con)\n",
    "con.close()"
   ]
  },
  {
   "cell_type": "code",
   "execution_count": 4,
   "metadata": {},
   "outputs": [
    {
     "data": {
      "text/html": [
       "<div>\n",
       "<style scoped>\n",
       "    .dataframe tbody tr th:only-of-type {\n",
       "        vertical-align: middle;\n",
       "    }\n",
       "\n",
       "    .dataframe tbody tr th {\n",
       "        vertical-align: top;\n",
       "    }\n",
       "\n",
       "    .dataframe thead th {\n",
       "        text-align: right;\n",
       "    }\n",
       "</style>\n",
       "<table border=\"1\" class=\"dataframe\">\n",
       "  <thead>\n",
       "    <tr style=\"text-align: right;\">\n",
       "      <th></th>\n",
       "      <th>index</th>\n",
       "      <th>Tijd</th>\n",
       "      <th>Type</th>\n",
       "      <th>Klasse</th>\n",
       "      <th>Waarde</th>\n",
       "      <th>ID</th>\n",
       "      <th>Omschrijving</th>\n",
       "      <th>Status</th>\n",
       "      <th>Prioriteit</th>\n",
       "      <th>Tijd came</th>\n",
       "      <th>Tijd went</th>\n",
       "      <th>Tijd ack</th>\n",
       "      <th>Gebr.ID</th>\n",
       "      <th>DPE</th>\n",
       "    </tr>\n",
       "  </thead>\n",
       "  <tbody>\n",
       "    <tr>\n",
       "      <th>4108303</th>\n",
       "      <td>4108303</td>\n",
       "      <td>01-12-2018 00:00:34.665</td>\n",
       "      <td>PROCES</td>\n",
       "      <td>NaN</td>\n",
       "      <td>212</td>\n",
       "      <td>NaN</td>\n",
       "      <td>Meteo Actuele Windrichting</td>\n",
       "      <td>None</td>\n",
       "      <td>None</td>\n",
       "      <td>None</td>\n",
       "      <td>None</td>\n",
       "      <td>None</td>\n",
       "      <td>0</td>\n",
       "      <td>DB_H61-Meteo-S.Meteodata.Windrichting.Actueel</td>\n",
       "    </tr>\n",
       "    <tr>\n",
       "      <th>4108304</th>\n",
       "      <td>4108304</td>\n",
       "      <td>01-12-2018 00:00:08.637</td>\n",
       "      <td>PROCES</td>\n",
       "      <td>NaN</td>\n",
       "      <td>1.7187497615814</td>\n",
       "      <td>NaN</td>\n",
       "      <td>Meteo Actuele Windkracht</td>\n",
       "      <td>None</td>\n",
       "      <td>None</td>\n",
       "      <td>None</td>\n",
       "      <td>None</td>\n",
       "      <td>None</td>\n",
       "      <td>0</td>\n",
       "      <td>DB_H61-Meteo-S.Meteodata.Windkracht.Actueel</td>\n",
       "    </tr>\n",
       "    <tr>\n",
       "      <th>4108305</th>\n",
       "      <td>4108305</td>\n",
       "      <td>01-12-2018 00:00:03.632</td>\n",
       "      <td>PROCES</td>\n",
       "      <td>NaN</td>\n",
       "      <td>225</td>\n",
       "      <td>NaN</td>\n",
       "      <td>Meteo Actuele Windrichting</td>\n",
       "      <td>None</td>\n",
       "      <td>None</td>\n",
       "      <td>None</td>\n",
       "      <td>None</td>\n",
       "      <td>None</td>\n",
       "      <td>0</td>\n",
       "      <td>DB_H61-Meteo-S.Meteodata.Windrichting.Actueel</td>\n",
       "    </tr>\n",
       "    <tr>\n",
       "      <th>4108306</th>\n",
       "      <td>4108306</td>\n",
       "      <td>01-12-2018 00:00:01.095</td>\n",
       "      <td>PROCES</td>\n",
       "      <td>NaN</td>\n",
       "      <td>TRUE</td>\n",
       "      <td>NaN</td>\n",
       "      <td>Afsluitbomen Algemeen Geluidsniveau Bel Nachts...</td>\n",
       "      <td>None</td>\n",
       "      <td>None</td>\n",
       "      <td>None</td>\n",
       "      <td>None</td>\n",
       "      <td>None</td>\n",
       "      <td>0</td>\n",
       "      <td>DB_L21-Asb-Alg-S.Status._00</td>\n",
       "    </tr>\n",
       "    <tr>\n",
       "      <th>4108307</th>\n",
       "      <td>4108307</td>\n",
       "      <td>01-12-2018 00:00:01.095</td>\n",
       "      <td>PROCES</td>\n",
       "      <td>NaN</td>\n",
       "      <td>FALSE</td>\n",
       "      <td>NaN</td>\n",
       "      <td>Afsluitbomen Algemeen Geluidsniveau Bel Dagstand</td>\n",
       "      <td>None</td>\n",
       "      <td>None</td>\n",
       "      <td>None</td>\n",
       "      <td>None</td>\n",
       "      <td>None</td>\n",
       "      <td>0</td>\n",
       "      <td>DB_L21-Asb-Alg-S.Status._01</td>\n",
       "    </tr>\n",
       "  </tbody>\n",
       "</table>\n",
       "</div>"
      ],
      "text/plain": [
       "           index                     Tijd    Type  Klasse           Waarde  \\\n",
       "4108303  4108303  01-12-2018 00:00:34.665  PROCES     NaN              212   \n",
       "4108304  4108304  01-12-2018 00:00:08.637  PROCES     NaN  1.7187497615814   \n",
       "4108305  4108305  01-12-2018 00:00:03.632  PROCES     NaN              225   \n",
       "4108306  4108306  01-12-2018 00:00:01.095  PROCES     NaN             TRUE   \n",
       "4108307  4108307  01-12-2018 00:00:01.095  PROCES     NaN            FALSE   \n",
       "\n",
       "         ID                                       Omschrijving Status  \\\n",
       "4108303 NaN                         Meteo Actuele Windrichting   None   \n",
       "4108304 NaN                           Meteo Actuele Windkracht   None   \n",
       "4108305 NaN                         Meteo Actuele Windrichting   None   \n",
       "4108306 NaN  Afsluitbomen Algemeen Geluidsniveau Bel Nachts...   None   \n",
       "4108307 NaN   Afsluitbomen Algemeen Geluidsniveau Bel Dagstand   None   \n",
       "\n",
       "        Prioriteit Tijd came Tijd went Tijd ack Gebr.ID  \\\n",
       "4108303       None      None      None     None       0   \n",
       "4108304       None      None      None     None       0   \n",
       "4108305       None      None      None     None       0   \n",
       "4108306       None      None      None     None       0   \n",
       "4108307       None      None      None     None       0   \n",
       "\n",
       "                                                   DPE  \n",
       "4108303  DB_H61-Meteo-S.Meteodata.Windrichting.Actueel  \n",
       "4108304    DB_H61-Meteo-S.Meteodata.Windkracht.Actueel  \n",
       "4108305  DB_H61-Meteo-S.Meteodata.Windrichting.Actueel  \n",
       "4108306                    DB_L21-Asb-Alg-S.Status._00  \n",
       "4108307                    DB_L21-Asb-Alg-S.Status._01  "
      ]
     },
     "execution_count": 4,
     "metadata": {},
     "output_type": "execute_result"
    }
   ],
   "source": [
    "df.tail()"
   ]
  },
  {
   "cell_type": "markdown",
   "metadata": {},
   "source": [
    "## Windkracht dataframe"
   ]
  },
  {
   "cell_type": "code",
   "execution_count": 5,
   "metadata": {},
   "outputs": [
    {
     "data": {
      "text/html": [
       "<div>\n",
       "<style scoped>\n",
       "    .dataframe tbody tr th:only-of-type {\n",
       "        vertical-align: middle;\n",
       "    }\n",
       "\n",
       "    .dataframe tbody tr th {\n",
       "        vertical-align: top;\n",
       "    }\n",
       "\n",
       "    .dataframe thead th {\n",
       "        text-align: right;\n",
       "    }\n",
       "</style>\n",
       "<table border=\"1\" class=\"dataframe\">\n",
       "  <thead>\n",
       "    <tr style=\"text-align: right;\">\n",
       "      <th></th>\n",
       "      <th>Wk</th>\n",
       "    </tr>\n",
       "  </thead>\n",
       "  <tbody>\n",
       "    <tr>\n",
       "      <th>count</th>\n",
       "      <td>249071.000000</td>\n",
       "    </tr>\n",
       "    <tr>\n",
       "      <th>mean</th>\n",
       "      <td>1.939474</td>\n",
       "    </tr>\n",
       "    <tr>\n",
       "      <th>std</th>\n",
       "      <td>1.283935</td>\n",
       "    </tr>\n",
       "    <tr>\n",
       "      <th>min</th>\n",
       "      <td>0.002170</td>\n",
       "    </tr>\n",
       "    <tr>\n",
       "      <th>25%</th>\n",
       "      <td>0.994285</td>\n",
       "    </tr>\n",
       "    <tr>\n",
       "      <th>50%</th>\n",
       "      <td>1.684389</td>\n",
       "    </tr>\n",
       "    <tr>\n",
       "      <th>75%</th>\n",
       "      <td>2.592954</td>\n",
       "    </tr>\n",
       "    <tr>\n",
       "      <th>max</th>\n",
       "      <td>14.105903</td>\n",
       "    </tr>\n",
       "  </tbody>\n",
       "</table>\n",
       "</div>"
      ],
      "text/plain": [
       "                  Wk\n",
       "count  249071.000000\n",
       "mean        1.939474\n",
       "std         1.283935\n",
       "min         0.002170\n",
       "25%         0.994285\n",
       "50%         1.684389\n",
       "75%         2.592954\n",
       "max        14.105903"
      ]
     },
     "execution_count": 5,
     "metadata": {},
     "output_type": "execute_result"
    }
   ],
   "source": [
    "wkdf = df[df.Omschrijving == 'Meteo Actuele Windkracht']\n",
    "\n",
    "wkdf = wkdf[['Tijd', 'Waarde']].copy()\n",
    "wkdf['Tijd'] = pd.to_datetime(wkdf.Tijd, dayfirst = True)\n",
    "wkdf['Waarde'] = wkdf.Waarde.astype('float')\n",
    "\n",
    "# negatieve windkracht heb ik nog nooit gezien, dus die nemen we niet mee\n",
    "wkdf = wkdf[wkdf.Waarde > 0]\n",
    "wkdf.columns = ['time','Wk']\n",
    "\n",
    "# check of alles gelukt is\n",
    "wkdf.describe()"
   ]
  },
  {
   "cell_type": "code",
   "execution_count": 6,
   "metadata": {},
   "outputs": [
    {
     "data": {
      "text/html": [
       "<div>\n",
       "<style scoped>\n",
       "    .dataframe tbody tr th:only-of-type {\n",
       "        vertical-align: middle;\n",
       "    }\n",
       "\n",
       "    .dataframe tbody tr th {\n",
       "        vertical-align: top;\n",
       "    }\n",
       "\n",
       "    .dataframe thead th {\n",
       "        text-align: right;\n",
       "    }\n",
       "</style>\n",
       "<table border=\"1\" class=\"dataframe\">\n",
       "  <thead>\n",
       "    <tr style=\"text-align: right;\">\n",
       "      <th></th>\n",
       "      <th>time</th>\n",
       "      <th>Wk</th>\n",
       "    </tr>\n",
       "  </thead>\n",
       "  <tbody>\n",
       "    <tr>\n",
       "      <th>4108176</th>\n",
       "      <td>2018-12-01 00:46:32.436</td>\n",
       "      <td>1.715133</td>\n",
       "    </tr>\n",
       "    <tr>\n",
       "      <th>4108236</th>\n",
       "      <td>2018-12-01 00:34:34.986</td>\n",
       "      <td>0.652488</td>\n",
       "    </tr>\n",
       "    <tr>\n",
       "      <th>4108272</th>\n",
       "      <td>2018-12-01 00:26:17.836</td>\n",
       "      <td>1.705367</td>\n",
       "    </tr>\n",
       "    <tr>\n",
       "      <th>4108277</th>\n",
       "      <td>2018-12-01 00:24:17.636</td>\n",
       "      <td>0.609809</td>\n",
       "    </tr>\n",
       "    <tr>\n",
       "      <th>4108304</th>\n",
       "      <td>2018-12-01 00:00:08.637</td>\n",
       "      <td>1.718750</td>\n",
       "    </tr>\n",
       "  </tbody>\n",
       "</table>\n",
       "</div>"
      ],
      "text/plain": [
       "                           time        Wk\n",
       "4108176 2018-12-01 00:46:32.436  1.715133\n",
       "4108236 2018-12-01 00:34:34.986  0.652488\n",
       "4108272 2018-12-01 00:26:17.836  1.705367\n",
       "4108277 2018-12-01 00:24:17.636  0.609809\n",
       "4108304 2018-12-01 00:00:08.637  1.718750"
      ]
     },
     "execution_count": 6,
     "metadata": {},
     "output_type": "execute_result"
    }
   ],
   "source": [
    "wkdf.tail()"
   ]
  },
  {
   "cell_type": "markdown",
   "metadata": {},
   "source": [
    "## Windrichting"
   ]
  },
  {
   "cell_type": "code",
   "execution_count": 7,
   "metadata": {},
   "outputs": [
    {
     "name": "stderr",
     "output_type": "stream",
     "text": [
      "C:\\Users\\denni\\Anaconda3\\lib\\site-packages\\ipykernel_launcher.py:5: SettingWithCopyWarning: \n",
      "A value is trying to be set on a copy of a slice from a DataFrame.\n",
      "Try using .loc[row_indexer,col_indexer] = value instead\n",
      "\n",
      "See the caveats in the documentation: http://pandas.pydata.org/pandas-docs/stable/indexing.html#indexing-view-versus-copy\n",
      "  \"\"\"\n",
      "C:\\Users\\denni\\Anaconda3\\lib\\site-packages\\ipykernel_launcher.py:6: SettingWithCopyWarning: \n",
      "A value is trying to be set on a copy of a slice from a DataFrame.\n",
      "Try using .loc[row_indexer,col_indexer] = value instead\n",
      "\n",
      "See the caveats in the documentation: http://pandas.pydata.org/pandas-docs/stable/indexing.html#indexing-view-versus-copy\n",
      "  \n"
     ]
    },
    {
     "name": "stdout",
     "output_type": "stream",
     "text": [
      "<class 'pandas.core.frame.DataFrame'>\n",
      "Int64Index: 408394 entries, 634 to 4108305\n",
      "Data columns (total 2 columns):\n",
      "time    408394 non-null datetime64[ns]\n",
      "WR      408394 non-null float64\n",
      "dtypes: datetime64[ns](1), float64(1)\n",
      "memory usage: 9.3 MB\n"
     ]
    }
   ],
   "source": [
    "# Haal windrichting data uit standaard df \n",
    "wrdf = df[df.Omschrijving == 'Meteo Actuele Windrichting']\n",
    "\n",
    "# zet de types om naar werkbare types\n",
    "wrdf['Tijd'] = pd.to_datetime(wrdf.Tijd, dayfirst = True)\n",
    "wrdf['Waarde'] = wrdf.Waarde.astype('float')\n",
    "\n",
    "# negatieve windrichtingen bestaan niet\n",
    "wrdf = wrdf[wrdf.Waarde > 0]\n",
    "\n",
    "# Maak df met allen tijd en waarde kolom\n",
    "wrdf = wrdf[['Tijd', 'Waarde']].copy()\n",
    "\n",
    "# Pas kolom namen aan zodat het later gemerged kan worden en duidelijk blijft\n",
    "wrdf.columns = ['time','WR']\n",
    "wrdf.head()\n",
    "\n",
    "#check of alles gelukt is\n",
    "wrdf.info()"
   ]
  },
  {
   "cell_type": "markdown",
   "metadata": {},
   "source": [
    "## Brug Beweging DataFrame"
   ]
  },
  {
   "cell_type": "code",
   "execution_count": 8,
   "metadata": {},
   "outputs": [],
   "source": [
    "# Maak een df met daarin alle meldingen die te maken hebben met het openen en sluiten van de brug\n",
    "\n",
    "OpenSluit = df[df.Omschrijving == 'Brug Beweging Actief']\n",
    "SluitOpen = OpenSluit.append(df[df.Omschrijving == 'Algemeen Commando Brug Openen'])\n",
    "OpenSluitBeweging = SluitOpen.append(df[df.Omschrijving == 'Algemeen Commando Brug Sluiten']) \n",
    "OpenSluitBeweging.Tijd = pd.to_datetime(OpenSluitBeweging.Tijd, dayfirst = True)"
   ]
  },
  {
   "cell_type": "code",
   "execution_count": 9,
   "metadata": {},
   "outputs": [
    {
     "data": {
      "text/html": [
       "<div>\n",
       "<style scoped>\n",
       "    .dataframe tbody tr th:only-of-type {\n",
       "        vertical-align: middle;\n",
       "    }\n",
       "\n",
       "    .dataframe tbody tr th {\n",
       "        vertical-align: top;\n",
       "    }\n",
       "\n",
       "    .dataframe thead th {\n",
       "        text-align: right;\n",
       "    }\n",
       "</style>\n",
       "<table border=\"1\" class=\"dataframe\">\n",
       "  <thead>\n",
       "    <tr style=\"text-align: right;\">\n",
       "      <th></th>\n",
       "      <th>index</th>\n",
       "      <th>Tijd</th>\n",
       "      <th>Type</th>\n",
       "      <th>Klasse</th>\n",
       "      <th>Waarde</th>\n",
       "      <th>ID</th>\n",
       "      <th>Omschrijving</th>\n",
       "      <th>Status</th>\n",
       "      <th>Prioriteit</th>\n",
       "      <th>Tijd came</th>\n",
       "      <th>Tijd went</th>\n",
       "      <th>Tijd ack</th>\n",
       "      <th>Gebr.ID</th>\n",
       "      <th>DPE</th>\n",
       "    </tr>\n",
       "  </thead>\n",
       "  <tbody>\n",
       "    <tr>\n",
       "      <th>1224</th>\n",
       "      <td>1224</td>\n",
       "      <td>2015-12-15 20:52:24.305</td>\n",
       "      <td>PROCES</td>\n",
       "      <td>NaN</td>\n",
       "      <td>FALSE</td>\n",
       "      <td>NaN</td>\n",
       "      <td>Brug Beweging Actief</td>\n",
       "      <td>None</td>\n",
       "      <td>None</td>\n",
       "      <td>None</td>\n",
       "      <td>None</td>\n",
       "      <td>None</td>\n",
       "      <td>0</td>\n",
       "      <td>DB_A11-Brug-S.Status.BewR</td>\n",
       "    </tr>\n",
       "    <tr>\n",
       "      <th>1486</th>\n",
       "      <td>1486</td>\n",
       "      <td>2015-12-15 20:50:58.998</td>\n",
       "      <td>PROCES</td>\n",
       "      <td>NaN</td>\n",
       "      <td>TRUE</td>\n",
       "      <td>NaN</td>\n",
       "      <td>Brug Beweging Actief</td>\n",
       "      <td>None</td>\n",
       "      <td>None</td>\n",
       "      <td>None</td>\n",
       "      <td>None</td>\n",
       "      <td>None</td>\n",
       "      <td>0</td>\n",
       "      <td>DB_A11-Brug-S.Status.BewR</td>\n",
       "    </tr>\n",
       "    <tr>\n",
       "      <th>1669</th>\n",
       "      <td>1669</td>\n",
       "      <td>2015-12-15 20:49:43.911</td>\n",
       "      <td>PROCES</td>\n",
       "      <td>NaN</td>\n",
       "      <td>FALSE</td>\n",
       "      <td>NaN</td>\n",
       "      <td>Brug Beweging Actief</td>\n",
       "      <td>None</td>\n",
       "      <td>None</td>\n",
       "      <td>None</td>\n",
       "      <td>None</td>\n",
       "      <td>None</td>\n",
       "      <td>0</td>\n",
       "      <td>DB_A11-Brug-S.Status.BewR</td>\n",
       "    </tr>\n",
       "    <tr>\n",
       "      <th>1836</th>\n",
       "      <td>1836</td>\n",
       "      <td>2015-12-15 20:48:29.404</td>\n",
       "      <td>PROCES</td>\n",
       "      <td>NaN</td>\n",
       "      <td>TRUE</td>\n",
       "      <td>NaN</td>\n",
       "      <td>Brug Beweging Actief</td>\n",
       "      <td>None</td>\n",
       "      <td>None</td>\n",
       "      <td>None</td>\n",
       "      <td>None</td>\n",
       "      <td>None</td>\n",
       "      <td>0</td>\n",
       "      <td>DB_A11-Brug-S.Status.BewR</td>\n",
       "    </tr>\n",
       "    <tr>\n",
       "      <th>3536</th>\n",
       "      <td>3536</td>\n",
       "      <td>2015-12-15 18:13:47.643</td>\n",
       "      <td>PROCES</td>\n",
       "      <td>NaN</td>\n",
       "      <td>FALSE</td>\n",
       "      <td>NaN</td>\n",
       "      <td>Brug Beweging Actief</td>\n",
       "      <td>None</td>\n",
       "      <td>None</td>\n",
       "      <td>None</td>\n",
       "      <td>None</td>\n",
       "      <td>None</td>\n",
       "      <td>0</td>\n",
       "      <td>DB_A11-Brug-S.Status.BewR</td>\n",
       "    </tr>\n",
       "  </tbody>\n",
       "</table>\n",
       "</div>"
      ],
      "text/plain": [
       "      index                    Tijd    Type  Klasse Waarde  ID  \\\n",
       "1224   1224 2015-12-15 20:52:24.305  PROCES     NaN  FALSE NaN   \n",
       "1486   1486 2015-12-15 20:50:58.998  PROCES     NaN   TRUE NaN   \n",
       "1669   1669 2015-12-15 20:49:43.911  PROCES     NaN  FALSE NaN   \n",
       "1836   1836 2015-12-15 20:48:29.404  PROCES     NaN   TRUE NaN   \n",
       "3536   3536 2015-12-15 18:13:47.643  PROCES     NaN  FALSE NaN   \n",
       "\n",
       "              Omschrijving Status Prioriteit Tijd came Tijd went Tijd ack  \\\n",
       "1224  Brug Beweging Actief   None       None      None      None     None   \n",
       "1486  Brug Beweging Actief   None       None      None      None     None   \n",
       "1669  Brug Beweging Actief   None       None      None      None     None   \n",
       "1836  Brug Beweging Actief   None       None      None      None     None   \n",
       "3536  Brug Beweging Actief   None       None      None      None     None   \n",
       "\n",
       "     Gebr.ID                        DPE  \n",
       "1224       0  DB_A11-Brug-S.Status.BewR  \n",
       "1486       0  DB_A11-Brug-S.Status.BewR  \n",
       "1669       0  DB_A11-Brug-S.Status.BewR  \n",
       "1836       0  DB_A11-Brug-S.Status.BewR  \n",
       "3536       0  DB_A11-Brug-S.Status.BewR  "
      ]
     },
     "execution_count": 9,
     "metadata": {},
     "output_type": "execute_result"
    }
   ],
   "source": [
    "OpenSluitBeweging.head()"
   ]
  },
  {
   "cell_type": "code",
   "execution_count": 10,
   "metadata": {},
   "outputs": [
    {
     "name": "stdout",
     "output_type": "stream",
     "text": [
      "<class 'pandas.core.frame.DataFrame'>\n",
      "Int64Index: 20173 entries, 1224 to 4104551\n",
      "Data columns (total 14 columns):\n",
      "index           20173 non-null int64\n",
      "Tijd            20173 non-null datetime64[ns]\n",
      "Type            20173 non-null object\n",
      "Klasse          0 non-null float64\n",
      "Waarde          20173 non-null object\n",
      "ID              0 non-null float64\n",
      "Omschrijving    20173 non-null object\n",
      "Status          0 non-null object\n",
      "Prioriteit      0 non-null object\n",
      "Tijd came       0 non-null object\n",
      "Tijd went       0 non-null object\n",
      "Tijd ack        0 non-null object\n",
      "Gebr.ID         20173 non-null object\n",
      "DPE             20173 non-null object\n",
      "dtypes: datetime64[ns](1), float64(2), int64(1), object(10)\n",
      "memory usage: 2.3+ MB\n"
     ]
    }
   ],
   "source": [
    "OpenSluitBeweging.info()"
   ]
  },
  {
   "cell_type": "code",
   "execution_count": 11,
   "metadata": {},
   "outputs": [],
   "source": [
    "# Sorteer het df op datum. (je sorteert op index omdat Tijd kolom niet mee wilden werken)\n",
    "Duur = OpenSluitBeweging.sort_index()"
   ]
  },
  {
   "cell_type": "code",
   "execution_count": 12,
   "metadata": {},
   "outputs": [
    {
     "data": {
      "text/html": [
       "<div>\n",
       "<style scoped>\n",
       "    .dataframe tbody tr th:only-of-type {\n",
       "        vertical-align: middle;\n",
       "    }\n",
       "\n",
       "    .dataframe tbody tr th {\n",
       "        vertical-align: top;\n",
       "    }\n",
       "\n",
       "    .dataframe thead th {\n",
       "        text-align: right;\n",
       "    }\n",
       "</style>\n",
       "<table border=\"1\" class=\"dataframe\">\n",
       "  <thead>\n",
       "    <tr style=\"text-align: right;\">\n",
       "      <th></th>\n",
       "      <th>index</th>\n",
       "      <th>Tijd</th>\n",
       "      <th>Type</th>\n",
       "      <th>Klasse</th>\n",
       "      <th>Waarde</th>\n",
       "      <th>ID</th>\n",
       "      <th>Omschrijving</th>\n",
       "      <th>Status</th>\n",
       "      <th>Prioriteit</th>\n",
       "      <th>Tijd came</th>\n",
       "      <th>Tijd went</th>\n",
       "      <th>Tijd ack</th>\n",
       "      <th>Gebr.ID</th>\n",
       "      <th>DPE</th>\n",
       "    </tr>\n",
       "  </thead>\n",
       "  <tbody>\n",
       "    <tr>\n",
       "      <th>1224</th>\n",
       "      <td>1224</td>\n",
       "      <td>2015-12-15 20:52:24.305</td>\n",
       "      <td>PROCES</td>\n",
       "      <td>NaN</td>\n",
       "      <td>FALSE</td>\n",
       "      <td>NaN</td>\n",
       "      <td>Brug Beweging Actief</td>\n",
       "      <td>None</td>\n",
       "      <td>None</td>\n",
       "      <td>None</td>\n",
       "      <td>None</td>\n",
       "      <td>None</td>\n",
       "      <td>0</td>\n",
       "      <td>DB_A11-Brug-S.Status.BewR</td>\n",
       "    </tr>\n",
       "    <tr>\n",
       "      <th>1456</th>\n",
       "      <td>1456</td>\n",
       "      <td>2015-12-15 20:51:01.250</td>\n",
       "      <td>PROCES</td>\n",
       "      <td>NaN</td>\n",
       "      <td>FALSE</td>\n",
       "      <td>NaN</td>\n",
       "      <td>Algemeen Commando Brug Sluiten</td>\n",
       "      <td>None</td>\n",
       "      <td>None</td>\n",
       "      <td>None</td>\n",
       "      <td>None</td>\n",
       "      <td>None</td>\n",
       "      <td>0</td>\n",
       "      <td>DB_D00-Algemeen-S.CMD.BrugSl.Cmd</td>\n",
       "    </tr>\n",
       "    <tr>\n",
       "      <th>1486</th>\n",
       "      <td>1486</td>\n",
       "      <td>2015-12-15 20:50:58.998</td>\n",
       "      <td>PROCES</td>\n",
       "      <td>NaN</td>\n",
       "      <td>TRUE</td>\n",
       "      <td>NaN</td>\n",
       "      <td>Brug Beweging Actief</td>\n",
       "      <td>None</td>\n",
       "      <td>None</td>\n",
       "      <td>None</td>\n",
       "      <td>None</td>\n",
       "      <td>None</td>\n",
       "      <td>0</td>\n",
       "      <td>DB_A11-Brug-S.Status.BewR</td>\n",
       "    </tr>\n",
       "    <tr>\n",
       "      <th>1487</th>\n",
       "      <td>1487</td>\n",
       "      <td>2015-12-15 20:50:58.842</td>\n",
       "      <td>PROCES</td>\n",
       "      <td>NaN</td>\n",
       "      <td>TRUE</td>\n",
       "      <td>NaN</td>\n",
       "      <td>Algemeen Commando Brug Sluiten</td>\n",
       "      <td>None</td>\n",
       "      <td>None</td>\n",
       "      <td>None</td>\n",
       "      <td>None</td>\n",
       "      <td>None</td>\n",
       "      <td>24</td>\n",
       "      <td>DB_D00-Algemeen-S.CMD.BrugSl.Cmd</td>\n",
       "    </tr>\n",
       "    <tr>\n",
       "      <th>1669</th>\n",
       "      <td>1669</td>\n",
       "      <td>2015-12-15 20:49:43.911</td>\n",
       "      <td>PROCES</td>\n",
       "      <td>NaN</td>\n",
       "      <td>FALSE</td>\n",
       "      <td>NaN</td>\n",
       "      <td>Brug Beweging Actief</td>\n",
       "      <td>None</td>\n",
       "      <td>None</td>\n",
       "      <td>None</td>\n",
       "      <td>None</td>\n",
       "      <td>None</td>\n",
       "      <td>0</td>\n",
       "      <td>DB_A11-Brug-S.Status.BewR</td>\n",
       "    </tr>\n",
       "  </tbody>\n",
       "</table>\n",
       "</div>"
      ],
      "text/plain": [
       "      index                    Tijd    Type  Klasse Waarde  ID  \\\n",
       "1224   1224 2015-12-15 20:52:24.305  PROCES     NaN  FALSE NaN   \n",
       "1456   1456 2015-12-15 20:51:01.250  PROCES     NaN  FALSE NaN   \n",
       "1486   1486 2015-12-15 20:50:58.998  PROCES     NaN   TRUE NaN   \n",
       "1487   1487 2015-12-15 20:50:58.842  PROCES     NaN   TRUE NaN   \n",
       "1669   1669 2015-12-15 20:49:43.911  PROCES     NaN  FALSE NaN   \n",
       "\n",
       "                        Omschrijving Status Prioriteit Tijd came Tijd went  \\\n",
       "1224            Brug Beweging Actief   None       None      None      None   \n",
       "1456  Algemeen Commando Brug Sluiten   None       None      None      None   \n",
       "1486            Brug Beweging Actief   None       None      None      None   \n",
       "1487  Algemeen Commando Brug Sluiten   None       None      None      None   \n",
       "1669            Brug Beweging Actief   None       None      None      None   \n",
       "\n",
       "     Tijd ack Gebr.ID                               DPE  \n",
       "1224     None       0         DB_A11-Brug-S.Status.BewR  \n",
       "1456     None       0  DB_D00-Algemeen-S.CMD.BrugSl.Cmd  \n",
       "1486     None       0         DB_A11-Brug-S.Status.BewR  \n",
       "1487     None      24  DB_D00-Algemeen-S.CMD.BrugSl.Cmd  \n",
       "1669     None       0         DB_A11-Brug-S.Status.BewR  "
      ]
     },
     "execution_count": 12,
     "metadata": {},
     "output_type": "execute_result"
    }
   ],
   "source": [
    "Duur.head()"
   ]
  },
  {
   "cell_type": "code",
   "execution_count": 13,
   "metadata": {},
   "outputs": [],
   "source": [
    "# Maak een kolom in df met daarin de tijd omgezet naar seconden, zodat het makkelijker rekenen wordt\n",
    "Duur['seconden'] = (Duur.Tijd.astype(np.int64) // 10**9)"
   ]
  },
  {
   "cell_type": "code",
   "execution_count": 14,
   "metadata": {},
   "outputs": [],
   "source": [
    "Duur.to_csv('beweging.csv')"
   ]
  },
  {
   "cell_type": "code",
   "execution_count": 15,
   "metadata": {},
   "outputs": [],
   "source": [
    "begin = 0\n",
    "eind = 0\n",
    "x = 0\n",
    "tst = None\n",
    "sluit = True\n",
    "duur = list()\n",
    "oslist = list()\n",
    "timestamp = list()\n",
    "\n",
    "for index, row in Duur.iterrows():\n",
    "    waarde = row[4]\n",
    "    oms = row[6]\n",
    "    sec = row[14]\n",
    "    ts = row[1]\n",
    "    if ((oms == 'Brug Beweging Actief') & (waarde == \"TRUE\")):\n",
    "        begin = sec\n",
    "        tst = ts       \n",
    "    elif ((oms == 'Brug Beweging Actief') & (waarde == \"FALSE\")):\n",
    "        eind = sec\n",
    "    if (oms == 'Algemeen Commando Brug Openen'):\n",
    "        sluit = False\n",
    "    elif (oms == 'Algemeen Commando Brug Sluiten'):\n",
    "        sluit = True\n",
    "    if ((eind!=0) & (begin!=0)):\n",
    "        duur.append(eind-begin)\n",
    "        timestamp.append(ts)\n",
    "        oslist.append(sluit)\n",
    "        eind = 0\n",
    "        begin = 0\n",
    "    "
   ]
  },
  {
   "cell_type": "code",
   "execution_count": 16,
   "metadata": {},
   "outputs": [],
   "source": [
    "# maak het nieuwe df aan\n",
    "duurdf  = pd.DataFrame(duur)\n",
    "duurdf['beweging'] = oslist\n",
    "duurdf['time'] = timestamp"
   ]
  },
  {
   "cell_type": "code",
   "execution_count": 17,
   "metadata": {},
   "outputs": [
    {
     "data": {
      "text/html": [
       "<div>\n",
       "<style scoped>\n",
       "    .dataframe tbody tr th:only-of-type {\n",
       "        vertical-align: middle;\n",
       "    }\n",
       "\n",
       "    .dataframe tbody tr th {\n",
       "        vertical-align: top;\n",
       "    }\n",
       "\n",
       "    .dataframe thead th {\n",
       "        text-align: right;\n",
       "    }\n",
       "</style>\n",
       "<table border=\"1\" class=\"dataframe\">\n",
       "  <thead>\n",
       "    <tr style=\"text-align: right;\">\n",
       "      <th></th>\n",
       "      <th>0</th>\n",
       "      <th>beweging</th>\n",
       "      <th>time</th>\n",
       "    </tr>\n",
       "  </thead>\n",
       "  <tbody>\n",
       "    <tr>\n",
       "      <th>0</th>\n",
       "      <td>86</td>\n",
       "      <td>True</td>\n",
       "      <td>2015-12-15 20:50:58.998</td>\n",
       "    </tr>\n",
       "    <tr>\n",
       "      <th>1</th>\n",
       "      <td>74</td>\n",
       "      <td>False</td>\n",
       "      <td>2015-12-15 20:48:29.404</td>\n",
       "    </tr>\n",
       "    <tr>\n",
       "      <th>2</th>\n",
       "      <td>84</td>\n",
       "      <td>True</td>\n",
       "      <td>2015-12-15 18:00:32.621</td>\n",
       "    </tr>\n",
       "    <tr>\n",
       "      <th>3</th>\n",
       "      <td>74</td>\n",
       "      <td>False</td>\n",
       "      <td>2015-12-15 17:57:38.221</td>\n",
       "    </tr>\n",
       "    <tr>\n",
       "      <th>4</th>\n",
       "      <td>85</td>\n",
       "      <td>True</td>\n",
       "      <td>2015-12-15 15:02:36.424</td>\n",
       "    </tr>\n",
       "  </tbody>\n",
       "</table>\n",
       "</div>"
      ],
      "text/plain": [
       "    0  beweging                    time\n",
       "0  86      True 2015-12-15 20:50:58.998\n",
       "1  74     False 2015-12-15 20:48:29.404\n",
       "2  84      True 2015-12-15 18:00:32.621\n",
       "3  74     False 2015-12-15 17:57:38.221\n",
       "4  85      True 2015-12-15 15:02:36.424"
      ]
     },
     "execution_count": 17,
     "metadata": {},
     "output_type": "execute_result"
    }
   ],
   "source": [
    "# 0 == sluit\n",
    "# oneven == open\n",
    "\n",
    "duurdf.head()"
   ]
  },
  {
   "cell_type": "code",
   "execution_count": 18,
   "metadata": {},
   "outputs": [],
   "source": [
    "duurdf.columns = ['duur','beweging','time']"
   ]
  },
  {
   "cell_type": "code",
   "execution_count": 19,
   "metadata": {},
   "outputs": [
    {
     "name": "stdout",
     "output_type": "stream",
     "text": [
      "<class 'pandas.core.frame.DataFrame'>\n",
      "RangeIndex: 5029 entries, 0 to 5028\n",
      "Data columns (total 3 columns):\n",
      "duur        5029 non-null int64\n",
      "beweging    5029 non-null bool\n",
      "time        5029 non-null datetime64[ns]\n",
      "dtypes: bool(1), datetime64[ns](1), int64(1)\n",
      "memory usage: 83.6 KB\n"
     ]
    }
   ],
   "source": [
    "duurdf.info()"
   ]
  },
  {
   "cell_type": "markdown",
   "metadata": {},
   "source": [
    "# Mergen van verschillende dataframes"
   ]
  },
  {
   "cell_type": "markdown",
   "metadata": {},
   "source": [
    "## maak één dataframe met  daarin alle waarden die nodig  zijn"
   ]
  },
  {
   "cell_type": "code",
   "execution_count": 20,
   "metadata": {},
   "outputs": [],
   "source": [
    "# samenvoegen van duur data en windrichting\n",
    "# sorteer de dataframes op de time kolom, anders werkt de merge_asof niet\n",
    "sortedduur = duurdf.sort_values('time')\n",
    "sortedwr  =  wrdf.sort_values('time')\n",
    "\n",
    "# voeg de gesorteerde dataframes samen gelet op de time kolom, waarbij hij zoekt naar de eerstvoorgaande time waarde\n",
    "mergeddf = pd.merge_asof(sortedduur,sortedwr, on = 'time')"
   ]
  },
  {
   "cell_type": "code",
   "execution_count": 21,
   "metadata": {},
   "outputs": [],
   "source": [
    "# hetzelfde als hierboven maar dan met de windkracht\n",
    "sortedmerged = mergeddf.sort_values('time')\n",
    "sortedwk  =  wkdf.sort_values('time')\n",
    "duurWrWk = pd.merge_asof(sortedmerged,sortedwk, on = 'time')"
   ]
  },
  {
   "cell_type": "code",
   "execution_count": 22,
   "metadata": {},
   "outputs": [
    {
     "data": {
      "text/html": [
       "<div>\n",
       "<style scoped>\n",
       "    .dataframe tbody tr th:only-of-type {\n",
       "        vertical-align: middle;\n",
       "    }\n",
       "\n",
       "    .dataframe tbody tr th {\n",
       "        vertical-align: top;\n",
       "    }\n",
       "\n",
       "    .dataframe thead th {\n",
       "        text-align: right;\n",
       "    }\n",
       "</style>\n",
       "<table border=\"1\" class=\"dataframe\">\n",
       "  <thead>\n",
       "    <tr style=\"text-align: right;\">\n",
       "      <th></th>\n",
       "      <th>duur</th>\n",
       "      <th>beweging</th>\n",
       "      <th>time</th>\n",
       "      <th>WR</th>\n",
       "      <th>Wk</th>\n",
       "    </tr>\n",
       "  </thead>\n",
       "  <tbody>\n",
       "    <tr>\n",
       "      <th>5019</th>\n",
       "      <td>76</td>\n",
       "      <td>False</td>\n",
       "      <td>2018-11-30 12:12:33.701</td>\n",
       "      <td>197.0</td>\n",
       "      <td>1.902127</td>\n",
       "    </tr>\n",
       "    <tr>\n",
       "      <th>5020</th>\n",
       "      <td>84</td>\n",
       "      <td>True</td>\n",
       "      <td>2018-11-30 12:14:56.001</td>\n",
       "      <td>225.0</td>\n",
       "      <td>2.968751</td>\n",
       "    </tr>\n",
       "    <tr>\n",
       "      <th>5021</th>\n",
       "      <td>76</td>\n",
       "      <td>False</td>\n",
       "      <td>2018-11-30 12:44:01.807</td>\n",
       "      <td>220.0</td>\n",
       "      <td>1.927083</td>\n",
       "    </tr>\n",
       "    <tr>\n",
       "      <th>5022</th>\n",
       "      <td>85</td>\n",
       "      <td>True</td>\n",
       "      <td>2018-11-30 12:47:52.400</td>\n",
       "      <td>225.0</td>\n",
       "      <td>1.927083</td>\n",
       "    </tr>\n",
       "    <tr>\n",
       "      <th>5023</th>\n",
       "      <td>76</td>\n",
       "      <td>False</td>\n",
       "      <td>2018-11-30 18:00:09.989</td>\n",
       "      <td>240.0</td>\n",
       "      <td>1.275319</td>\n",
       "    </tr>\n",
       "    <tr>\n",
       "      <th>5024</th>\n",
       "      <td>84</td>\n",
       "      <td>True</td>\n",
       "      <td>2018-11-30 18:03:14.102</td>\n",
       "      <td>268.0</td>\n",
       "      <td>1.275319</td>\n",
       "    </tr>\n",
       "    <tr>\n",
       "      <th>5025</th>\n",
       "      <td>75</td>\n",
       "      <td>False</td>\n",
       "      <td>2018-11-30 19:40:41.283</td>\n",
       "      <td>221.0</td>\n",
       "      <td>2.238860</td>\n",
       "    </tr>\n",
       "    <tr>\n",
       "      <th>5026</th>\n",
       "      <td>85</td>\n",
       "      <td>True</td>\n",
       "      <td>2018-11-30 19:43:59.279</td>\n",
       "      <td>220.0</td>\n",
       "      <td>2.238860</td>\n",
       "    </tr>\n",
       "    <tr>\n",
       "      <th>5027</th>\n",
       "      <td>76</td>\n",
       "      <td>False</td>\n",
       "      <td>2018-12-01 12:27:18.980</td>\n",
       "      <td>140.0</td>\n",
       "      <td>3.659940</td>\n",
       "    </tr>\n",
       "    <tr>\n",
       "      <th>5028</th>\n",
       "      <td>83</td>\n",
       "      <td>True</td>\n",
       "      <td>2018-12-01 12:31:46.305</td>\n",
       "      <td>165.0</td>\n",
       "      <td>2.659505</td>\n",
       "    </tr>\n",
       "  </tbody>\n",
       "</table>\n",
       "</div>"
      ],
      "text/plain": [
       "      duur  beweging                    time     WR        Wk\n",
       "5019    76     False 2018-11-30 12:12:33.701  197.0  1.902127\n",
       "5020    84      True 2018-11-30 12:14:56.001  225.0  2.968751\n",
       "5021    76     False 2018-11-30 12:44:01.807  220.0  1.927083\n",
       "5022    85      True 2018-11-30 12:47:52.400  225.0  1.927083\n",
       "5023    76     False 2018-11-30 18:00:09.989  240.0  1.275319\n",
       "5024    84      True 2018-11-30 18:03:14.102  268.0  1.275319\n",
       "5025    75     False 2018-11-30 19:40:41.283  221.0  2.238860\n",
       "5026    85      True 2018-11-30 19:43:59.279  220.0  2.238860\n",
       "5027    76     False 2018-12-01 12:27:18.980  140.0  3.659940\n",
       "5028    83      True 2018-12-01 12:31:46.305  165.0  2.659505"
      ]
     },
     "execution_count": 22,
     "metadata": {},
     "output_type": "execute_result"
    }
   ],
   "source": [
    "duurWrWk.tail(10)"
   ]
  },
  {
   "cell_type": "markdown",
   "metadata": {},
   "source": [
    "## check voor outliers"
   ]
  },
  {
   "cell_type": "code",
   "execution_count": 23,
   "metadata": {},
   "outputs": [
    {
     "data": {
      "text/plain": [
       "<matplotlib.axes._subplots.AxesSubplot at 0x212423b3be0>"
      ]
     },
     "execution_count": 23,
     "metadata": {},
     "output_type": "execute_result"
    },
    {
     "data": {
      "image/png": "[encoded data removed]",
      "text/plain": [
       "<Figure size 432x288 with 1 Axes>"
      ]
     },
     "metadata": {
      "needs_background": "light"
     },
     "output_type": "display_data"
    }
   ],
   "source": [
    "duurWrWk.boxplot('duur')"
   ]
  },
  {
   "cell_type": "markdown",
   "metadata": {},
   "source": [
    "## Grafieken sluiten brug"
   ]
  },
  {
   "cell_type": "code",
   "execution_count": 25,
   "metadata": {},
   "outputs": [
    {
     "data": {
      "text/plain": [
       "<matplotlib.axes._subplots.AxesSubplot at 0x2120ddab048>"
      ]
     },
     "execution_count": 25,
     "metadata": {},
     "output_type": "execute_result"
    },
    {
     "data": {
      "image/png": "[encoded data removed]",
      "text/plain": [
       "<Figure size 432x288 with 1 Axes>"
      ]
     },
     "metadata": {
      "needs_background": "light"
     },
     "output_type": "display_data"
    }
   ],
   "source": [
    "# Duur tegenover tijd\n",
    "openen = duurWrWk[duurWrWk.beweging == False]\n",
    "openen.plot(x = \"time\", y = 'duur', style = '.')"
   ]
  },
  {
   "cell_type": "code",
   "execution_count": 26,
   "metadata": {},
   "outputs": [
    {
     "data": {
      "text/plain": [
       "<matplotlib.axes._subplots.AxesSubplot at 0x2120f34d438>"
      ]
     },
     "execution_count": 26,
     "metadata": {},
     "output_type": "execute_result"
    },
    {
     "data": {
      "image/png": "[encoded data removed]",
      "text/plain": [
       "<Figure size 432x288 with 1 Axes>"
      ]
     },
     "metadata": {
      "needs_background": "light"
     },
     "output_type": "display_data"
    }
   ],
   "source": [
    "# duur tegenover tijd\n",
    "sluit = duurWrWk[duurWrWk.beweging == True]\n",
    "sluit.plot(x = \"time\", y = 'duur', style = '.')"
   ]
  },
  {
   "cell_type": "code",
   "execution_count": 70,
   "metadata": {},
   "outputs": [],
   "source": [
    "openin = openen[(openen.duur >= 65) & (openen.duur <= 125)]\n",
    "openout = openen[(openen.duur < 75) | (openen.duur > 125)]"
   ]
  },
  {
   "cell_type": "code",
   "execution_count": 71,
   "metadata": {},
   "outputs": [],
   "source": [
    "sluitin = sluit[sluit.duur > 75]\n",
    "sluitout = sluit[sluit.duur < 75]"
   ]
  },
  {
   "cell_type": "code",
   "execution_count": 72,
   "metadata": {},
   "outputs": [
    {
     "data": {
      "text/plain": [
       "count      2506.000000\n",
       "mean         64.739026\n",
       "std        3519.050805\n",
       "min      -25049.000000\n",
       "25%          75.000000\n",
       "50%          75.000000\n",
       "75%          77.000000\n",
       "max      128634.000000\n",
       "Name: duur, dtype: float64"
      ]
     },
     "execution_count": 72,
     "metadata": {},
     "output_type": "execute_result"
    }
   ],
   "source": [
    "openen.duur.describe()"
   ]
  },
  {
   "cell_type": "code",
   "execution_count": 73,
   "metadata": {},
   "outputs": [
    {
     "data": {
      "text/plain": [
       "(2462, 5)"
      ]
     },
     "execution_count": 73,
     "metadata": {},
     "output_type": "execute_result"
    }
   ],
   "source": [
    "sluitin.shape"
   ]
  },
  {
   "cell_type": "code",
   "execution_count": 74,
   "metadata": {},
   "outputs": [
    {
     "data": {
      "text/plain": [
       "(61, 5)"
      ]
     },
     "execution_count": 74,
     "metadata": {},
     "output_type": "execute_result"
    }
   ],
   "source": [
    "sluitout.shape"
   ]
  },
  {
   "cell_type": "code",
   "execution_count": 75,
   "metadata": {},
   "outputs": [
    {
     "data": {
      "text/plain": [
       "2.2504724274179693"
      ]
     },
     "execution_count": 75,
     "metadata": {},
     "output_type": "execute_result"
    }
   ],
   "source": [
    "sluitPerOut = ((131/5821)*100)\n",
    "sluitPerOut"
   ]
  },
  {
   "cell_type": "code",
   "execution_count": 76,
   "metadata": {},
   "outputs": [
    {
     "data": {
      "text/plain": [
       "(2457, 7)"
      ]
     },
     "execution_count": 76,
     "metadata": {},
     "output_type": "execute_result"
    }
   ],
   "source": [
    "openin.shape"
   ]
  },
  {
   "cell_type": "code",
   "execution_count": 77,
   "metadata": {},
   "outputs": [
    {
     "data": {
      "text/plain": [
       "(499, 7)"
      ]
     },
     "execution_count": 77,
     "metadata": {},
     "output_type": "execute_result"
    }
   ],
   "source": [
    "openout.shape"
   ]
  },
  {
   "cell_type": "code",
   "execution_count": 78,
   "metadata": {},
   "outputs": [
    {
     "data": {
      "text/plain": [
       "4.401979184439515"
      ]
     },
     "execution_count": 78,
     "metadata": {},
     "output_type": "execute_result"
    }
   ],
   "source": [
    "openPerOut = ((258/5861)*100)\n",
    "openPerOut"
   ]
  },
  {
   "cell_type": "code",
   "execution_count": 79,
   "metadata": {},
   "outputs": [
    {
     "data": {
      "text/plain": [
       "<matplotlib.axes._subplots.AxesSubplot at 0x2121fd97ef0>"
      ]
     },
     "execution_count": 79,
     "metadata": {},
     "output_type": "execute_result"
    },
    {
     "data": {
      "image/png": "[encoded data removed]",
      "text/plain": [
       "<Figure size 432x288 with 1 Axes>"
      ]
     },
     "metadata": {
      "needs_background": "light"
     },
     "output_type": "display_data"
    }
   ],
   "source": [
    "# duur tegenover windkracht\n",
    "sluit.plot(x = \"duur\", y = 'Wk', style = '.', color = 'red')"
   ]
  },
  {
   "cell_type": "code",
   "execution_count": 80,
   "metadata": {},
   "outputs": [
    {
     "data": {
      "text/plain": [
       "<matplotlib.axes._subplots.AxesSubplot at 0x21220376198>"
      ]
     },
     "execution_count": 80,
     "metadata": {},
     "output_type": "execute_result"
    },
    {
     "data": {
      "image/png": "[encoded data removed]",
      "text/plain": [
       "<Figure size 432x288 with 1 Axes>"
      ]
     },
     "metadata": {
      "needs_background": "light"
     },
     "output_type": "display_data"
    }
   ],
   "source": [
    "# Duur tegenover windrichting\n",
    "sluit.plot(x = \"duur\", y = 'WR', style = '.', color = 'purple')"
   ]
  },
  {
   "cell_type": "markdown",
   "metadata": {},
   "source": [
    "## Grafieken openen"
   ]
  },
  {
   "cell_type": "code",
   "execution_count": 81,
   "metadata": {},
   "outputs": [
    {
     "data": {
      "text/plain": [
       "<matplotlib.axes._subplots.AxesSubplot at 0x21220e32048>"
      ]
     },
     "execution_count": 81,
     "metadata": {},
     "output_type": "execute_result"
    },
    {
     "data": {
      "image/png": "[encoded data removed]",
      "text/plain": [
       "<Figure size 432x288 with 1 Axes>"
      ]
     },
     "metadata": {
      "needs_background": "light"
     },
     "output_type": "display_data"
    }
   ],
   "source": [
    "# Duur tegenover windkracht\n",
    "openen.plot(x = \"duur\", y = 'Wk', style = '.', color = 'red')"
   ]
  },
  {
   "cell_type": "code",
   "execution_count": 82,
   "metadata": {},
   "outputs": [
    {
     "data": {
      "text/plain": [
       "<matplotlib.axes._subplots.AxesSubplot at 0x21221663f98>"
      ]
     },
     "execution_count": 82,
     "metadata": {},
     "output_type": "execute_result"
    },
    {
     "data": {
      "image/png": "[encoded data removed]",
      "text/plain": [
       "<Figure size 432x288 with 1 Axes>"
      ]
     },
     "metadata": {
      "needs_background": "light"
     },
     "output_type": "display_data"
    }
   ],
   "source": [
    "# Duur tegenover Windrichting\n",
    "openen.plot(x = \"duur\", y = 'WR', style = '.', color = 'purple')"
   ]
  },
  {
   "cell_type": "markdown",
   "metadata": {},
   "source": [
    "## Data Cleaning"
   ]
  },
  {
   "cell_type": "code",
   "execution_count": 113,
   "metadata": {},
   "outputs": [
    {
     "data": {
      "text/html": [
       "<div>\n",
       "<style scoped>\n",
       "    .dataframe tbody tr th:only-of-type {\n",
       "        vertical-align: middle;\n",
       "    }\n",
       "\n",
       "    .dataframe tbody tr th {\n",
       "        vertical-align: top;\n",
       "    }\n",
       "\n",
       "    .dataframe thead th {\n",
       "        text-align: right;\n",
       "    }\n",
       "</style>\n",
       "<table border=\"1\" class=\"dataframe\">\n",
       "  <thead>\n",
       "    <tr style=\"text-align: right;\">\n",
       "      <th></th>\n",
       "      <th>duur</th>\n",
       "      <th>WR</th>\n",
       "      <th>Wk</th>\n",
       "    </tr>\n",
       "  </thead>\n",
       "  <tbody>\n",
       "    <tr>\n",
       "      <th>count</th>\n",
       "      <td>4919.000000</td>\n",
       "      <td>4919.000000</td>\n",
       "      <td>4919.000000</td>\n",
       "    </tr>\n",
       "    <tr>\n",
       "      <th>mean</th>\n",
       "      <td>80.059972</td>\n",
       "      <td>193.084163</td>\n",
       "      <td>1.898299</td>\n",
       "    </tr>\n",
       "    <tr>\n",
       "      <th>std</th>\n",
       "      <td>5.028170</td>\n",
       "      <td>70.674473</td>\n",
       "      <td>1.182387</td>\n",
       "    </tr>\n",
       "    <tr>\n",
       "      <th>min</th>\n",
       "      <td>67.000000</td>\n",
       "      <td>1.000000</td>\n",
       "      <td>0.002170</td>\n",
       "    </tr>\n",
       "    <tr>\n",
       "      <th>25%</th>\n",
       "      <td>75.000000</td>\n",
       "      <td>140.000000</td>\n",
       "      <td>1.005136</td>\n",
       "    </tr>\n",
       "    <tr>\n",
       "      <th>50%</th>\n",
       "      <td>79.000000</td>\n",
       "      <td>217.000000</td>\n",
       "      <td>1.685113</td>\n",
       "    </tr>\n",
       "    <tr>\n",
       "      <th>75%</th>\n",
       "      <td>84.000000</td>\n",
       "      <td>238.000000</td>\n",
       "      <td>2.532913</td>\n",
       "    </tr>\n",
       "    <tr>\n",
       "      <th>max</th>\n",
       "      <td>97.000000</td>\n",
       "      <td>358.000000</td>\n",
       "      <td>10.807291</td>\n",
       "    </tr>\n",
       "  </tbody>\n",
       "</table>\n",
       "</div>"
      ],
      "text/plain": [
       "              duur           WR           Wk\n",
       "count  4919.000000  4919.000000  4919.000000\n",
       "mean     80.059972   193.084163     1.898299\n",
       "std       5.028170    70.674473     1.182387\n",
       "min      67.000000     1.000000     0.002170\n",
       "25%      75.000000   140.000000     1.005136\n",
       "50%      79.000000   217.000000     1.685113\n",
       "75%      84.000000   238.000000     2.532913\n",
       "max      97.000000   358.000000    10.807291"
      ]
     },
     "execution_count": 113,
     "metadata": {},
     "output_type": "execute_result"
    }
   ],
   "source": [
    "# haal de outliers uit de data\n",
    "cleanDuur = duurWrWk[duurWrWk.duur >  65]\n",
    "cleanDuur = cleanDuur[cleanDuur.duur < 125]\n",
    "cleanDuur.describe()"
   ]
  },
  {
   "cell_type": "code",
   "execution_count": 114,
   "metadata": {},
   "outputs": [
    {
     "data": {
      "text/plain": [
       "<matplotlib.axes._subplots.AxesSubplot at 0x21231ca96a0>"
      ]
     },
     "execution_count": 114,
     "metadata": {},
     "output_type": "execute_result"
    },
    {
     "data": {
      "image/png": "[encoded data removed]",
      "text/plain": [
       "<Figure size 432x288 with 1 Axes>"
      ]
     },
     "metadata": {
      "needs_background": "light"
     },
     "output_type": "display_data"
    }
   ],
   "source": [
    "cleanDuur.boxplot('duur')"
   ]
  },
  {
   "cell_type": "markdown",
   "metadata": {},
   "source": [
    "## Duur van openen bruggen over de tijd"
   ]
  },
  {
   "cell_type": "code",
   "execution_count": 115,
   "metadata": {},
   "outputs": [],
   "source": [
    "cleanOpen = cleanDuur[cleanDuur.beweging == False]"
   ]
  },
  {
   "cell_type": "code",
   "execution_count": 116,
   "metadata": {},
   "outputs": [
    {
     "data": {
      "text/plain": [
       "<matplotlib.axes._subplots.AxesSubplot at 0x21232633e48>"
      ]
     },
     "execution_count": 116,
     "metadata": {},
     "output_type": "execute_result"
    },
    {
     "data": {
      "image/png": "[encoded data removed]",
      "text/plain": [
       "<Figure size 432x288 with 1 Axes>"
      ]
     },
     "metadata": {
      "needs_background": "light"
     },
     "output_type": "display_data"
    }
   ],
   "source": [
    "cleanOpen.plot(x = 'time', y ='duur', style = '.')"
   ]
  },
  {
   "cell_type": "markdown",
   "metadata": {},
   "source": [
    "## Duur van sluiten bruggen over de tijd"
   ]
  },
  {
   "cell_type": "code",
   "execution_count": 117,
   "metadata": {},
   "outputs": [],
   "source": [
    "cleanSluit = cleanDuur[cleanDuur.beweging == True]"
   ]
  },
  {
   "cell_type": "code",
   "execution_count": 118,
   "metadata": {},
   "outputs": [
    {
     "data": {
      "text/plain": [
       "<matplotlib.axes._subplots.AxesSubplot at 0x212343682b0>"
      ]
     },
     "execution_count": 118,
     "metadata": {},
     "output_type": "execute_result"
    },
    {
     "data": {
      "image/png": "[encoded data removed]",
      "text/plain": [
       "<Figure size 432x288 with 1 Axes>"
      ]
     },
     "metadata": {
      "needs_background": "light"
     },
     "output_type": "display_data"
    }
   ],
   "source": [
    "cleanSluit.plot(x = \"time\", y = 'duur', style = '.')"
   ]
  },
  {
   "cell_type": "markdown",
   "metadata": {},
   "source": [
    "## data prep voor dagdeel"
   ]
  },
  {
   "cell_type": "code",
   "execution_count": 119,
   "metadata": {},
   "outputs": [
    {
     "name": "stderr",
     "output_type": "stream",
     "text": [
      "C:\\Users\\denni\\Anaconda3\\lib\\site-packages\\ipykernel_launcher.py:2: SettingWithCopyWarning: \n",
      "A value is trying to be set on a copy of a slice from a DataFrame.\n",
      "Try using .loc[row_indexer,col_indexer] = value instead\n",
      "\n",
      "See the caveats in the documentation: http://pandas.pydata.org/pandas-docs/stable/indexing.html#indexing-view-versus-copy\n",
      "  \n",
      "C:\\Users\\denni\\Anaconda3\\lib\\site-packages\\ipykernel_launcher.py:3: SettingWithCopyWarning: \n",
      "A value is trying to be set on a copy of a slice from a DataFrame.\n",
      "Try using .loc[row_indexer,col_indexer] = value instead\n",
      "\n",
      "See the caveats in the documentation: http://pandas.pydata.org/pandas-docs/stable/indexing.html#indexing-view-versus-copy\n",
      "  This is separate from the ipykernel package so we can avoid doing imports until\n"
     ]
    }
   ],
   "source": [
    "# Uur kolom maken om dagdeel te bepalen.\n",
    "cleanOpen['uur'] = cleanOpen.time.dt.hour\n",
    "cleanSluit['uur'] = cleanSluit.time.dt.hour\n",
    "cleanDuur['uur'] = cleanDuur.time.dt.hour"
   ]
  },
  {
   "cell_type": "markdown",
   "metadata": {},
   "source": [
    "# Boxplots\n",
    "## Boxplots per dagdeel"
   ]
  },
  {
   "cell_type": "code",
   "execution_count": 120,
   "metadata": {},
   "outputs": [
    {
     "data": {
      "text/plain": [
       "([<matplotlib.axis.XTick at 0x2122ba3d4e0>,\n",
       "  <matplotlib.axis.XTick at 0x21234b5b550>,\n",
       "  <matplotlib.axis.XTick at 0x21234b5be80>,\n",
       "  <matplotlib.axis.XTick at 0x212358aea20>],\n",
       " <a list of 4 Text xticklabel objects>)"
      ]
     },
     "execution_count": 120,
     "metadata": {},
     "output_type": "execute_result"
    },
    {
     "data": {
      "image/png": "[encoded data removed]",
      "text/plain": [
       "<Figure size 432x288 with 1 Axes>"
      ]
     },
     "metadata": {
      "needs_background": "light"
     },
     "output_type": "display_data"
    }
   ],
   "source": [
    "ochtendDuur = cleanDuur[((cleanDuur.uur >= 6)  & (cleanDuur.uur <= 12))]\n",
    "middagDuur = cleanDuur[((cleanDuur.uur >= 13)  & (cleanDuur.uur <= 18))]\n",
    "avondDuur = cleanDuur[((cleanDuur.uur >= 19)  & (cleanDuur.uur <= 24))]\n",
    "nachtDuur = cleanDuur[((cleanDuur.uur >= 0)  & (cleanDuur.uur <= 5))]\n",
    "data  = [cleanDuur.duur, ochtendDuur.duur, middagDuur.duur, avondDuur.duur, nachtDuur.duur]\n",
    "plt.boxplot(data)\n",
    "plt.xticks([1, 2, 3, 4], ('alles','ochtend', 'middag','avond', 'nacht'))"
   ]
  },
  {
   "cell_type": "markdown",
   "metadata": {},
   "source": [
    "## Boxplot openen dagdeel"
   ]
  },
  {
   "cell_type": "code",
   "execution_count": 121,
   "metadata": {},
   "outputs": [
    {
     "data": {
      "text/plain": [
       "Text(0, 0.5, 'Duur (s)')"
      ]
     },
     "execution_count": 121,
     "metadata": {},
     "output_type": "execute_result"
    },
    {
     "data": {
      "image/png": "[encoded data removed]",
      "text/plain": [
       "<Figure size 1152x648 with 1 Axes>"
      ]
     },
     "metadata": {
      "needs_background": "light"
     },
     "output_type": "display_data"
    }
   ],
   "source": [
    "# maak nieuwe dataframes met daarin alle ochtend, middag en avond openingen.\n",
    "# Deze brug opent in deze periode niet s'nachts\n",
    "\n",
    "ochtendDuurOpen = cleanOpen[((cleanOpen.uur >= 6)  & (cleanOpen.uur <= 12))]\n",
    "middagDuurOpen= cleanOpen[((cleanOpen.uur >= 13)  & (cleanOpen.uur <= 18))]\n",
    "avondDuurOpen = cleanOpen[((cleanOpen.uur >= 19)  & (cleanOpen.uur <= 24))]\n",
    "\n",
    "# selecteer de data om in de boxplot te zetten\n",
    "dataOpen  = [cleanOpen.duur, ochtendDuurOpen.duur, middagDuurOpen.duur, avondDuurOpen.duur]\n",
    "\n",
    "# Boxplot\n",
    "plt.figure(figsize=(16,9))\n",
    "plt.boxplot(dataOpen)\n",
    "plt.xticks([1, 2, 3, 4], ('Totaal','ochtend', 'middag','avond'))\n",
    "plt.title('Duur van openen van brug WT per dagdeel van 1-1-2016 tot 4-11-2016')\n",
    "plt.ylabel('Duur (s)')"
   ]
  },
  {
   "cell_type": "markdown",
   "metadata": {},
   "source": [
    "## Boxplot sluiten per dagdeel"
   ]
  },
  {
   "cell_type": "code",
   "execution_count": 122,
   "metadata": {},
   "outputs": [
    {
     "data": {
      "text/plain": [
       "Text(0, 0.5, 'Duur (s)')"
      ]
     },
     "execution_count": 122,
     "metadata": {},
     "output_type": "execute_result"
    },
    {
     "data": {
      "image/png": "[encoded data removed]",
      "text/plain": [
       "<Figure size 1152x648 with 1 Axes>"
      ]
     },
     "metadata": {
      "needs_background": "light"
     },
     "output_type": "display_data"
    }
   ],
   "source": [
    "ochtendDuurSluit = cleanSluit[((cleanSluit.uur >= 6)  & (cleanSluit.uur <= 12))]\n",
    "middagDuurSluit= cleanSluit[((cleanSluit.uur >= 13)  & (cleanSluit.uur <= 18))]\n",
    "avondDuurSluit = cleanSluit[((cleanSluit.uur >= 19)  & (cleanSluit.uur <= 24))]\n",
    "dataSluit  = [cleanSluit.duur, ochtendDuurSluit.duur, middagDuurSluit.duur, avondDuurSluit.duur]\n",
    "plt.figure(figsize=(16,9))\n",
    "plt.boxplot(dataSluit)\n",
    "plt.xticks([1, 2, 3, 4], ('Totaal','ochtend', 'middag','avond'))\n",
    "plt.title('Duur van sluiten van brug WT per dagdeel van 1-1-2016 tot 4-11-2016')\n",
    "plt.ylabel('Duur (s)')"
   ]
  },
  {
   "cell_type": "markdown",
   "metadata": {},
   "source": [
    "## Boxplots per windrichting"
   ]
  },
  {
   "cell_type": "code",
   "execution_count": 123,
   "metadata": {},
   "outputs": [
    {
     "data": {
      "text/plain": [
       "([<matplotlib.axis.XTick at 0x21238d6c2b0>,\n",
       "  <matplotlib.axis.XTick at 0x21238d46ba8>,\n",
       "  <matplotlib.axis.XTick at 0x21238d468d0>,\n",
       "  <matplotlib.axis.XTick at 0x2123a1446a0>,\n",
       "  <matplotlib.axis.XTick at 0x2123a144b38>,\n",
       "  <matplotlib.axis.XTick at 0x2123a1600b8>,\n",
       "  <matplotlib.axis.XTick at 0x2123a160518>,\n",
       "  <matplotlib.axis.XTick at 0x2123a1609e8>,\n",
       "  <matplotlib.axis.XTick at 0x2123a160eb8>],\n",
       " <a list of 9 Text xticklabel objects>)"
      ]
     },
     "execution_count": 123,
     "metadata": {},
     "output_type": "execute_result"
    },
    {
     "data": {
      "image/png": "[encoded data removed]",
      "text/plain": [
       "<Figure size 432x288 with 1 Axes>"
      ]
     },
     "metadata": {
      "needs_background": "light"
     },
     "output_type": "display_data"
    }
   ],
   "source": [
    "cleanDuur['N'] = ((cleanDuur.WR >= 0) & (cleanDuur.WR <= 22.5) | (cleanDuur.WR >= 337.6) & (cleanDuur.WR <= 360)).astype('int')\n",
    "cleanDuur['NO'] = ((cleanDuur.WR >=22.6) & (cleanDuur.WR <= 67.5)).astype('int')\n",
    "cleanDuur['O'] = ((cleanDuur.WR >=67.6) & (cleanDuur.WR <= 112.5)).astype('int')\n",
    "cleanDuur['ZO'] = ((cleanDuur.WR >=112.6) & (cleanDuur.WR <= 157.5)).astype('int')\n",
    "cleanDuur['Z'] = ((cleanDuur.WR >=157.6) & (cleanDuur.WR <= 202.5)).astype('int')\n",
    "cleanDuur['ZW'] = ((cleanDuur.WR >=202.6) & (cleanDuur.WR <= 247.2)).astype('int')\n",
    "cleanDuur['W'] = ((cleanDuur.WR>=247.6) & (cleanDuur.WR <= 292.5)).astype('int')\n",
    "cleanDuur['NW'] = ((cleanDuur.WR >=292.6) & (cleanDuur.WR <= 337.5)).astype('int')\n",
    "\n",
    "N = cleanDuur[cleanDuur.N == 1]\n",
    "NO = cleanDuur[cleanDuur.NO == 1]\n",
    "O = cleanDuur[cleanDuur.O == 1]\n",
    "ZO = cleanDuur[cleanDuur.ZO == 1]\n",
    "Z = cleanDuur[cleanDuur.Z == 1]\n",
    "ZW = cleanDuur[cleanDuur.ZW == 1]\n",
    "W = cleanDuur[cleanDuur.W == 1]\n",
    "NW = cleanDuur[cleanDuur.NW == 1]\n",
    "\n",
    "data = [cleanDuur.duur, N.duur,NO.duur,O.duur,ZO.duur,Z.duur, ZW.duur, W.duur, NW.duur]\n",
    "plt.boxplot(data)\n",
    "plt.xticks([1, 2, 3, 4, 5, 6, 7, 8, 9], ('Totaal','N','NO','O','ZO' ,'Z' ,'ZW','W','NW'))"
   ]
  },
  {
   "cell_type": "markdown",
   "metadata": {},
   "source": [
    "## Boxplot duur openen per windrichting"
   ]
  },
  {
   "cell_type": "code",
   "execution_count": 124,
   "metadata": {},
   "outputs": [
    {
     "data": {
      "text/plain": [
       "Text(0, 0.5, 'Duur (s)')"
      ]
     },
     "execution_count": 124,
     "metadata": {},
     "output_type": "execute_result"
    },
    {
     "data": {
      "image/png": "[encoded data removed]",
      "text/plain": [
       "<Figure size 1152x648 with 1 Axes>"
      ]
     },
     "metadata": {
      "needs_background": "light"
     },
     "output_type": "display_data"
    }
   ],
   "source": [
    "# dataframes aanmaken met alleen de data per windrichting, dus dataframe voor Noord, Oost, etc.\n",
    "openN = cleanOpen[((cleanOpen.WR >= 0) & (cleanOpen.WR <= 22.5) | (cleanOpen.WR >= 337.6) & (cleanOpen.WR <= 360))]\n",
    "openNO = cleanOpen[((cleanOpen.WR >=22.6) & (cleanOpen.WR <= 67.5))]\n",
    "openO = cleanOpen[((cleanOpen.WR >=67.6) & (cleanOpen.WR <= 112.5))]\n",
    "openZO = cleanOpen[((cleanOpen.WR >=112.6) & (cleanOpen.WR <= 157.5))]\n",
    "openZ = cleanOpen[((cleanOpen.WR >=157.6) & (cleanOpen.WR <= 202.5))]\n",
    "openZW = cleanOpen[((cleanOpen.WR >=202.6) & (cleanOpen.WR <= 247.2))]\n",
    "openW = cleanOpen[((cleanOpen.WR>=247.6) & (cleanOpen.WR <= 292.5))]\n",
    "openNW = cleanOpen[((cleanOpen.WR >=292.6) & (cleanOpen.WR <= 337.5))]\n",
    "\n",
    "# selecteer data voor plot\n",
    "data = [cleanOpen.duur, openN.duur,openNO.duur,openO.duur,openZO.duur,openZ.duur, openZW.duur, openW.duur, openNW.duur]\n",
    "\n",
    "# Boxplot\n",
    "plt.figure(figsize=(16,9))\n",
    "plt.boxplot(data)\n",
    "plt.xticks([1, 2, 3, 4, 5, 6, 7, 8, 9], ('Totaal','N','NO','O','ZO' ,'Z' ,'ZW','W','NW'))\n",
    "plt.title('Duur van opening brug WT per windrichting van 1-1-2016 tot 4-11-2016')\n",
    "plt.ylabel('Duur (s)')"
   ]
  },
  {
   "cell_type": "markdown",
   "metadata": {},
   "source": [
    "## Boxplot duur sluiten per windrichting"
   ]
  },
  {
   "cell_type": "code",
   "execution_count": 125,
   "metadata": {},
   "outputs": [
    {
     "data": {
      "text/plain": [
       "Text(0, 0.5, 'Duur (s)')"
      ]
     },
     "execution_count": 125,
     "metadata": {},
     "output_type": "execute_result"
    },
    {
     "data": {
      "image/png": "[encoded data removed]",
      "text/plain": [
       "<Figure size 1152x648 with 1 Axes>"
      ]
     },
     "metadata": {
      "needs_background": "light"
     },
     "output_type": "display_data"
    }
   ],
   "source": [
    "sluitN = cleanSluit[((cleanSluit.WR >= 0) & (cleanSluit.WR <= 22.5) | (cleanSluit.WR >= 337.6) & (cleanSluit.WR <= 360))]\n",
    "sluitNO = cleanSluit[((cleanSluit.WR >=22.6) & (cleanSluit.WR <= 67.5))]\n",
    "sluitO = cleanSluit[((cleanSluit.WR >=67.6) & (cleanSluit.WR <= 112.5))]\n",
    "sluitZO = cleanSluit[((cleanSluit.WR >=112.6) & (cleanSluit.WR <= 157.5))]\n",
    "sluitZ = cleanSluit[((cleanSluit.WR >=157.6) & (cleanSluit.WR <= 202.5))]\n",
    "sluitZW = cleanSluit[((cleanSluit.WR >=202.6) & (cleanSluit.WR <= 247.2))]\n",
    "sluitW = cleanSluit[((cleanSluit.WR>=247.6) & (cleanSluit.WR <= 292.5))]\n",
    "sluitNW = cleanSluit[((cleanSluit.WR >=292.6) & (cleanSluit.WR <= 337.5))]\n",
    "\n",
    "data = [cleanSluit.duur, sluitN.duur,sluitNO.duur,sluitO.duur,sluitZO.duur,sluitZ.duur, sluitZW.duur, sluitW.duur, sluitNW.duur]\n",
    "\n",
    "plt.figure(figsize=(16,9))\n",
    "plt.boxplot(data)\n",
    "plt.xticks([1, 2, 3, 4, 5, 6, 7, 8, 9], ('Totaal','N','NO','O','ZO' ,'Z' ,'ZW','W','NW'))\n",
    "plt.title('Duur van sluiting brug WT per windrichting van 1-1-2016 tot 4-11-2016')\n",
    "plt.ylabel('Duur (s)')"
   ]
  },
  {
   "cell_type": "markdown",
   "metadata": {},
   "source": [
    "# Scatter duur openen"
   ]
  },
  {
   "cell_type": "code",
   "execution_count": 126,
   "metadata": {},
   "outputs": [
    {
     "name": "stderr",
     "output_type": "stream",
     "text": [
      "C:\\Users\\denni\\Anaconda3\\lib\\site-packages\\ipykernel_launcher.py:21: SettingWithCopyWarning: \n",
      "A value is trying to be set on a copy of a slice from a DataFrame.\n",
      "Try using .loc[row_indexer,col_indexer] = value instead\n",
      "\n",
      "See the caveats in the documentation: http://pandas.pydata.org/pandas-docs/stable/indexing.html#indexing-view-versus-copy\n"
     ]
    },
    {
     "data": {
      "text/html": [
       "<div>\n",
       "<style scoped>\n",
       "    .dataframe tbody tr th:only-of-type {\n",
       "        vertical-align: middle;\n",
       "    }\n",
       "\n",
       "    .dataframe tbody tr th {\n",
       "        vertical-align: top;\n",
       "    }\n",
       "\n",
       "    .dataframe thead th {\n",
       "        text-align: right;\n",
       "    }\n",
       "</style>\n",
       "<table border=\"1\" class=\"dataframe\">\n",
       "  <thead>\n",
       "    <tr style=\"text-align: right;\">\n",
       "      <th></th>\n",
       "      <th>duur</th>\n",
       "      <th>beweging</th>\n",
       "      <th>time</th>\n",
       "      <th>WR</th>\n",
       "      <th>Wk</th>\n",
       "      <th>uur</th>\n",
       "      <th>WRbin</th>\n",
       "    </tr>\n",
       "  </thead>\n",
       "  <tbody>\n",
       "    <tr>\n",
       "      <th>0</th>\n",
       "      <td>74</td>\n",
       "      <td>False</td>\n",
       "      <td>2015-12-15 14:59:54.618</td>\n",
       "      <td>301.0</td>\n",
       "      <td>1.128472</td>\n",
       "      <td>14</td>\n",
       "      <td>7</td>\n",
       "    </tr>\n",
       "    <tr>\n",
       "      <th>2</th>\n",
       "      <td>74</td>\n",
       "      <td>False</td>\n",
       "      <td>2015-12-15 17:57:38.221</td>\n",
       "      <td>133.0</td>\n",
       "      <td>1.019965</td>\n",
       "      <td>17</td>\n",
       "      <td>3</td>\n",
       "    </tr>\n",
       "    <tr>\n",
       "      <th>4</th>\n",
       "      <td>74</td>\n",
       "      <td>False</td>\n",
       "      <td>2015-12-15 20:48:29.404</td>\n",
       "      <td>132.0</td>\n",
       "      <td>1.888021</td>\n",
       "      <td>20</td>\n",
       "      <td>3</td>\n",
       "    </tr>\n",
       "    <tr>\n",
       "      <th>6</th>\n",
       "      <td>75</td>\n",
       "      <td>False</td>\n",
       "      <td>2015-12-16 07:16:23.793</td>\n",
       "      <td>256.0</td>\n",
       "      <td>2.430555</td>\n",
       "      <td>7</td>\n",
       "      <td>6</td>\n",
       "    </tr>\n",
       "    <tr>\n",
       "      <th>8</th>\n",
       "      <td>75</td>\n",
       "      <td>False</td>\n",
       "      <td>2015-12-16 09:40:30.884</td>\n",
       "      <td>196.0</td>\n",
       "      <td>3.125000</td>\n",
       "      <td>9</td>\n",
       "      <td>4</td>\n",
       "    </tr>\n",
       "  </tbody>\n",
       "</table>\n",
       "</div>"
      ],
      "text/plain": [
       "   duur  beweging                    time     WR        Wk  uur  WRbin\n",
       "0    74     False 2015-12-15 14:59:54.618  301.0  1.128472   14      7\n",
       "2    74     False 2015-12-15 17:57:38.221  133.0  1.019965   17      3\n",
       "4    74     False 2015-12-15 20:48:29.404  132.0  1.888021   20      3\n",
       "6    75     False 2015-12-16 07:16:23.793  256.0  2.430555    7      6\n",
       "8    75     False 2015-12-16 09:40:30.884  196.0  3.125000    9      4"
      ]
     },
     "execution_count": 126,
     "metadata": {},
     "output_type": "execute_result"
    }
   ],
   "source": [
    "wrbin = list()\n",
    "for index, row in cleanOpen.iterrows():\n",
    "    wr = row[3]\n",
    "    wk = row[4]\n",
    "    if(((wr >= 0) & (wr<=22.5))| ((wr >= 337.6) & (wr<=360))):\n",
    "        wrbin.append(0)      \n",
    "    elif((wr >= 22.6) & (wr<=67.5)):\n",
    "        wrbin.append(1)\n",
    "    elif((wr >= 67.6) & (wr<=112.5)):\n",
    "        wrbin.append(2)\n",
    "    elif((wr >= 112.6) & (wr<=157.5)):\n",
    "        wrbin.append(3)\n",
    "    elif((wr >= 157.6) & (wr<=202.5)):\n",
    "        wrbin.append(4)\n",
    "    elif((wr >= 202.6) & (wr<=247.5)):\n",
    "        wrbin.append(5)\n",
    "    elif((wr >= 247.6) & (wr<=292.5)):\n",
    "        wrbin.append(6)\n",
    "    elif((wr >= 292.6) & (wr<=337.5)):\n",
    "        wrbin.append(7)\n",
    "cleanOpen['WRbin'] = wrbin\n",
    "cleanOpen.head()"
   ]
  },
  {
   "cell_type": "code",
   "execution_count": 127,
   "metadata": {},
   "outputs": [
    {
     "data": {
      "text/plain": [
       "count    2456.000000\n",
       "mean        1.907852\n",
       "std         1.200629\n",
       "min         0.002170\n",
       "25%         1.006402\n",
       "50%         1.678784\n",
       "75%         2.545483\n",
       "max         9.807583\n",
       "Name: Wk, dtype: float64"
      ]
     },
     "execution_count": 127,
     "metadata": {},
     "output_type": "execute_result"
    }
   ],
   "source": [
    "cleanOpen.Wk.describe()"
   ]
  },
  {
   "cell_type": "code",
   "execution_count": 128,
   "metadata": {},
   "outputs": [
    {
     "name": "stderr",
     "output_type": "stream",
     "text": [
      "C:\\Users\\denni\\Anaconda3\\lib\\site-packages\\ipykernel_launcher.py:26: SettingWithCopyWarning: \n",
      "A value is trying to be set on a copy of a slice from a DataFrame.\n",
      "Try using .loc[row_indexer,col_indexer] = value instead\n",
      "\n",
      "See the caveats in the documentation: http://pandas.pydata.org/pandas-docs/stable/indexing.html#indexing-view-versus-copy\n"
     ]
    },
    {
     "data": {
      "text/html": [
       "<div>\n",
       "<style scoped>\n",
       "    .dataframe tbody tr th:only-of-type {\n",
       "        vertical-align: middle;\n",
       "    }\n",
       "\n",
       "    .dataframe tbody tr th {\n",
       "        vertical-align: top;\n",
       "    }\n",
       "\n",
       "    .dataframe thead th {\n",
       "        text-align: right;\n",
       "    }\n",
       "</style>\n",
       "<table border=\"1\" class=\"dataframe\">\n",
       "  <thead>\n",
       "    <tr style=\"text-align: right;\">\n",
       "      <th></th>\n",
       "      <th>duur</th>\n",
       "      <th>beweging</th>\n",
       "      <th>time</th>\n",
       "      <th>WR</th>\n",
       "      <th>Wk</th>\n",
       "      <th>uur</th>\n",
       "      <th>WRbin</th>\n",
       "      <th>WKbin</th>\n",
       "    </tr>\n",
       "  </thead>\n",
       "  <tbody>\n",
       "    <tr>\n",
       "      <th>0</th>\n",
       "      <td>74</td>\n",
       "      <td>False</td>\n",
       "      <td>2015-12-15 14:59:54.618</td>\n",
       "      <td>301.0</td>\n",
       "      <td>1.128472</td>\n",
       "      <td>14</td>\n",
       "      <td>7</td>\n",
       "      <td>1</td>\n",
       "    </tr>\n",
       "    <tr>\n",
       "      <th>2</th>\n",
       "      <td>74</td>\n",
       "      <td>False</td>\n",
       "      <td>2015-12-15 17:57:38.221</td>\n",
       "      <td>133.0</td>\n",
       "      <td>1.019965</td>\n",
       "      <td>17</td>\n",
       "      <td>3</td>\n",
       "      <td>1</td>\n",
       "    </tr>\n",
       "    <tr>\n",
       "      <th>4</th>\n",
       "      <td>74</td>\n",
       "      <td>False</td>\n",
       "      <td>2015-12-15 20:48:29.404</td>\n",
       "      <td>132.0</td>\n",
       "      <td>1.888021</td>\n",
       "      <td>20</td>\n",
       "      <td>3</td>\n",
       "      <td>2</td>\n",
       "    </tr>\n",
       "    <tr>\n",
       "      <th>6</th>\n",
       "      <td>75</td>\n",
       "      <td>False</td>\n",
       "      <td>2015-12-16 07:16:23.793</td>\n",
       "      <td>256.0</td>\n",
       "      <td>2.430555</td>\n",
       "      <td>7</td>\n",
       "      <td>6</td>\n",
       "      <td>2</td>\n",
       "    </tr>\n",
       "    <tr>\n",
       "      <th>8</th>\n",
       "      <td>75</td>\n",
       "      <td>False</td>\n",
       "      <td>2015-12-16 09:40:30.884</td>\n",
       "      <td>196.0</td>\n",
       "      <td>3.125000</td>\n",
       "      <td>9</td>\n",
       "      <td>4</td>\n",
       "      <td>2</td>\n",
       "    </tr>\n",
       "  </tbody>\n",
       "</table>\n",
       "</div>"
      ],
      "text/plain": [
       "   duur  beweging                    time     WR        Wk  uur  WRbin  WKbin\n",
       "0    74     False 2015-12-15 14:59:54.618  301.0  1.128472   14      7      1\n",
       "2    74     False 2015-12-15 17:57:38.221  133.0  1.019965   17      3      1\n",
       "4    74     False 2015-12-15 20:48:29.404  132.0  1.888021   20      3      2\n",
       "6    75     False 2015-12-16 07:16:23.793  256.0  2.430555    7      6      2\n",
       "8    75     False 2015-12-16 09:40:30.884  196.0  3.125000    9      4      2"
      ]
     },
     "execution_count": 128,
     "metadata": {},
     "output_type": "execute_result"
    }
   ],
   "source": [
    "wkbin = list()\n",
    "for index, row in cleanOpen.iterrows():\n",
    "    wk = row[4]\n",
    "    if((wk >= 0) & (wk<=0.2)):\n",
    "        wkbin.append(0)      \n",
    "    elif((wk > 0.2) & (wk<=1.5)):\n",
    "        wkbin.append(1)\n",
    "    elif((wk > 1.5) & (wk<=3.3)):\n",
    "        wkbin.append(2)\n",
    "    elif((wk > 3.3) & (wk<=5.4)):\n",
    "        wkbin.append(3)\n",
    "    elif((wk > 5.4) & (wk<=7.9)):\n",
    "        wkbin.append(4)\n",
    "    elif((wk > 7.9) & (wk<=10.7)):\n",
    "        wkbin.append(5)\n",
    "    elif((wk > 10.7) & (wk<=13.8)):\n",
    "        wkbin.append(6)\n",
    "    elif((wk > 13.8) & (wk<=17.1)):\n",
    "        wkbin.append(7)\n",
    "    elif((wk > 17.1) & (wk<=20.7)):\n",
    "        wkbin.append(8)   \n",
    "    elif((wk > 20.7) & (wk<=24.4)):\n",
    "        wkbin.append(9)\n",
    "    elif((wk > 24.4) & (wk<=28.4)):\n",
    "        wkbin.append(10)\n",
    "cleanOpen['WKbin'] = wkbin\n",
    "cleanOpen.head()\n"
   ]
  },
  {
   "cell_type": "code",
   "execution_count": 129,
   "metadata": {},
   "outputs": [
    {
     "data": {
      "text/plain": [
       "Text(0.5, 1.0, 'Duur per windrichting')"
      ]
     },
     "execution_count": 129,
     "metadata": {},
     "output_type": "execute_result"
    },
    {
     "data": {
      "image/png": "[encoded data removed]",
      "text/plain": [
       "<Figure size 432x288 with 1 Axes>"
      ]
     },
     "metadata": {
      "needs_background": "light"
     },
     "output_type": "display_data"
    }
   ],
   "source": [
    "fig, ax = plt.subplots()\n",
    "scatter = ax.scatter(cleanOpen.WR, cleanOpen.duur, c = cleanOpen.WRbin,  s=50, cmap='gnuplot')\n",
    "ax.set_title(\"Duur per windrichting\")"
   ]
  },
  {
   "cell_type": "code",
   "execution_count": 130,
   "metadata": {},
   "outputs": [
    {
     "data": {
      "text/plain": [
       "Text(0.5, 1.0, 'Duur per windrichting')"
      ]
     },
     "execution_count": 130,
     "metadata": {},
     "output_type": "execute_result"
    },
    {
     "data": {
      "image/png": "[encoded data removed]",
      "text/plain": [
       "<Figure size 432x288 with 1 Axes>"
      ]
     },
     "metadata": {
      "needs_background": "light"
     },
     "output_type": "display_data"
    }
   ],
   "source": [
    "fig, ax = plt.subplots()\n",
    "scatter = ax.scatter(cleanOpen.WR, cleanOpen.duur, c = cleanOpen.WKbin,  s=50, cmap='gnuplot')\n",
    "ax.set_title(\"Duur per windrichting\")"
   ]
  },
  {
   "cell_type": "code",
   "execution_count": 131,
   "metadata": {},
   "outputs": [
    {
     "data": {
      "text/plain": [
       "Text(0.5, 1.0, 'Duur per windkracht')"
      ]
     },
     "execution_count": 131,
     "metadata": {},
     "output_type": "execute_result"
    },
    {
     "data": {
      "image/png": "[encoded data removed]",
      "text/plain": [
       "<Figure size 432x288 with 1 Axes>"
      ]
     },
     "metadata": {
      "needs_background": "light"
     },
     "output_type": "display_data"
    }
   ],
   "source": [
    "fig, ax = plt.subplots()\n",
    "scatter = ax.scatter(cleanOpen.Wk, cleanOpen.duur, c = cleanOpen.WKbin,  s=50, cmap='gnuplot')\n",
    "ax.set_title(\"Duur per windkracht\")"
   ]
  },
  {
   "cell_type": "code",
   "execution_count": 132,
   "metadata": {},
   "outputs": [
    {
     "data": {
      "text/plain": [
       "Text(0.5, 1.0, 'Duur per windkracht')"
      ]
     },
     "execution_count": 132,
     "metadata": {},
     "output_type": "execute_result"
    },
    {
     "data": {
      "image/png": "[encoded data removed]",
      "text/plain": [
       "<Figure size 432x288 with 1 Axes>"
      ]
     },
     "metadata": {
      "needs_background": "light"
     },
     "output_type": "display_data"
    }
   ],
   "source": [
    "fig, ax = plt.subplots()\n",
    "scatter = ax.scatter(cleanOpen.Wk, cleanOpen.duur, c = cleanOpen.WRbin,  s=50, cmap='gnuplot')\n",
    "ax.set_title(\"Duur per windkracht\")"
   ]
  },
  {
   "cell_type": "markdown",
   "metadata": {},
   "source": [
    "# Scatter duur sluiten"
   ]
  },
  {
   "cell_type": "code",
   "execution_count": 133,
   "metadata": {},
   "outputs": [
    {
     "name": "stderr",
     "output_type": "stream",
     "text": [
      "C:\\Users\\denni\\Anaconda3\\lib\\site-packages\\ipykernel_launcher.py:21: SettingWithCopyWarning: \n",
      "A value is trying to be set on a copy of a slice from a DataFrame.\n",
      "Try using .loc[row_indexer,col_indexer] = value instead\n",
      "\n",
      "See the caveats in the documentation: http://pandas.pydata.org/pandas-docs/stable/indexing.html#indexing-view-versus-copy\n"
     ]
    },
    {
     "data": {
      "text/html": [
       "<div>\n",
       "<style scoped>\n",
       "    .dataframe tbody tr th:only-of-type {\n",
       "        vertical-align: middle;\n",
       "    }\n",
       "\n",
       "    .dataframe tbody tr th {\n",
       "        vertical-align: top;\n",
       "    }\n",
       "\n",
       "    .dataframe thead th {\n",
       "        text-align: right;\n",
       "    }\n",
       "</style>\n",
       "<table border=\"1\" class=\"dataframe\">\n",
       "  <thead>\n",
       "    <tr style=\"text-align: right;\">\n",
       "      <th></th>\n",
       "      <th>duur</th>\n",
       "      <th>beweging</th>\n",
       "      <th>time</th>\n",
       "      <th>WR</th>\n",
       "      <th>Wk</th>\n",
       "      <th>uur</th>\n",
       "      <th>WRbin</th>\n",
       "    </tr>\n",
       "  </thead>\n",
       "  <tbody>\n",
       "    <tr>\n",
       "      <th>1</th>\n",
       "      <td>85</td>\n",
       "      <td>True</td>\n",
       "      <td>2015-12-15 15:02:36.424</td>\n",
       "      <td>147.0</td>\n",
       "      <td>0.737847</td>\n",
       "      <td>15</td>\n",
       "      <td>3</td>\n",
       "    </tr>\n",
       "    <tr>\n",
       "      <th>3</th>\n",
       "      <td>84</td>\n",
       "      <td>True</td>\n",
       "      <td>2015-12-15 18:00:32.621</td>\n",
       "      <td>121.0</td>\n",
       "      <td>1.801215</td>\n",
       "      <td>18</td>\n",
       "      <td>3</td>\n",
       "    </tr>\n",
       "    <tr>\n",
       "      <th>5</th>\n",
       "      <td>86</td>\n",
       "      <td>True</td>\n",
       "      <td>2015-12-15 20:50:58.998</td>\n",
       "      <td>104.0</td>\n",
       "      <td>2.473958</td>\n",
       "      <td>20</td>\n",
       "      <td>2</td>\n",
       "    </tr>\n",
       "    <tr>\n",
       "      <th>7</th>\n",
       "      <td>86</td>\n",
       "      <td>True</td>\n",
       "      <td>2015-12-16 07:18:36.697</td>\n",
       "      <td>172.0</td>\n",
       "      <td>0.846354</td>\n",
       "      <td>7</td>\n",
       "      <td>4</td>\n",
       "    </tr>\n",
       "    <tr>\n",
       "      <th>9</th>\n",
       "      <td>85</td>\n",
       "      <td>True</td>\n",
       "      <td>2015-12-16 09:44:14.088</td>\n",
       "      <td>128.0</td>\n",
       "      <td>1.388889</td>\n",
       "      <td>9</td>\n",
       "      <td>3</td>\n",
       "    </tr>\n",
       "  </tbody>\n",
       "</table>\n",
       "</div>"
      ],
      "text/plain": [
       "   duur  beweging                    time     WR        Wk  uur  WRbin\n",
       "1    85      True 2015-12-15 15:02:36.424  147.0  0.737847   15      3\n",
       "3    84      True 2015-12-15 18:00:32.621  121.0  1.801215   18      3\n",
       "5    86      True 2015-12-15 20:50:58.998  104.0  2.473958   20      2\n",
       "7    86      True 2015-12-16 07:18:36.697  172.0  0.846354    7      4\n",
       "9    85      True 2015-12-16 09:44:14.088  128.0  1.388889    9      3"
      ]
     },
     "execution_count": 133,
     "metadata": {},
     "output_type": "execute_result"
    }
   ],
   "source": [
    "wrbin = list()\n",
    "for index, row in cleanSluit.iterrows():\n",
    "    wr = row[3]\n",
    "    wk = row[4]\n",
    "    if(((wr >= 0) & (wr<=22.5))| ((wr >= 337.6) & (wr<=360))):\n",
    "        wrbin.append(0)      \n",
    "    elif((wr >= 22.6) & (wr<=67.5)):\n",
    "        wrbin.append(1)\n",
    "    elif((wr >= 67.6) & (wr<=112.5)):\n",
    "        wrbin.append(2)\n",
    "    elif((wr >= 112.6) & (wr<=157.5)):\n",
    "        wrbin.append(3)\n",
    "    elif((wr >= 157.6) & (wr<=202.5)):\n",
    "        wrbin.append(4)\n",
    "    elif((wr >= 202.6) & (wr<=247.5)):\n",
    "        wrbin.append(5)\n",
    "    elif((wr >= 247.6) & (wr<=292.5)):\n",
    "        wrbin.append(6)\n",
    "    elif((wr >= 292.6) & (wr<=337.5)):\n",
    "        wrbin.append(7)\n",
    "cleanSluit['WRbin'] = wrbin\n",
    "cleanSluit.head()"
   ]
  },
  {
   "cell_type": "code",
   "execution_count": 134,
   "metadata": {},
   "outputs": [
    {
     "name": "stderr",
     "output_type": "stream",
     "text": [
      "C:\\Users\\denni\\Anaconda3\\lib\\site-packages\\ipykernel_launcher.py:26: SettingWithCopyWarning: \n",
      "A value is trying to be set on a copy of a slice from a DataFrame.\n",
      "Try using .loc[row_indexer,col_indexer] = value instead\n",
      "\n",
      "See the caveats in the documentation: http://pandas.pydata.org/pandas-docs/stable/indexing.html#indexing-view-versus-copy\n"
     ]
    },
    {
     "data": {
      "text/html": [
       "<div>\n",
       "<style scoped>\n",
       "    .dataframe tbody tr th:only-of-type {\n",
       "        vertical-align: middle;\n",
       "    }\n",
       "\n",
       "    .dataframe tbody tr th {\n",
       "        vertical-align: top;\n",
       "    }\n",
       "\n",
       "    .dataframe thead th {\n",
       "        text-align: right;\n",
       "    }\n",
       "</style>\n",
       "<table border=\"1\" class=\"dataframe\">\n",
       "  <thead>\n",
       "    <tr style=\"text-align: right;\">\n",
       "      <th></th>\n",
       "      <th>duur</th>\n",
       "      <th>beweging</th>\n",
       "      <th>time</th>\n",
       "      <th>WR</th>\n",
       "      <th>Wk</th>\n",
       "      <th>uur</th>\n",
       "      <th>WRbin</th>\n",
       "      <th>WKbin</th>\n",
       "    </tr>\n",
       "  </thead>\n",
       "  <tbody>\n",
       "    <tr>\n",
       "      <th>1</th>\n",
       "      <td>85</td>\n",
       "      <td>True</td>\n",
       "      <td>2015-12-15 15:02:36.424</td>\n",
       "      <td>147.0</td>\n",
       "      <td>0.737847</td>\n",
       "      <td>15</td>\n",
       "      <td>3</td>\n",
       "      <td>1</td>\n",
       "    </tr>\n",
       "    <tr>\n",
       "      <th>3</th>\n",
       "      <td>84</td>\n",
       "      <td>True</td>\n",
       "      <td>2015-12-15 18:00:32.621</td>\n",
       "      <td>121.0</td>\n",
       "      <td>1.801215</td>\n",
       "      <td>18</td>\n",
       "      <td>3</td>\n",
       "      <td>2</td>\n",
       "    </tr>\n",
       "    <tr>\n",
       "      <th>5</th>\n",
       "      <td>86</td>\n",
       "      <td>True</td>\n",
       "      <td>2015-12-15 20:50:58.998</td>\n",
       "      <td>104.0</td>\n",
       "      <td>2.473958</td>\n",
       "      <td>20</td>\n",
       "      <td>2</td>\n",
       "      <td>2</td>\n",
       "    </tr>\n",
       "    <tr>\n",
       "      <th>7</th>\n",
       "      <td>86</td>\n",
       "      <td>True</td>\n",
       "      <td>2015-12-16 07:18:36.697</td>\n",
       "      <td>172.0</td>\n",
       "      <td>0.846354</td>\n",
       "      <td>7</td>\n",
       "      <td>4</td>\n",
       "      <td>1</td>\n",
       "    </tr>\n",
       "    <tr>\n",
       "      <th>9</th>\n",
       "      <td>85</td>\n",
       "      <td>True</td>\n",
       "      <td>2015-12-16 09:44:14.088</td>\n",
       "      <td>128.0</td>\n",
       "      <td>1.388889</td>\n",
       "      <td>9</td>\n",
       "      <td>3</td>\n",
       "      <td>1</td>\n",
       "    </tr>\n",
       "  </tbody>\n",
       "</table>\n",
       "</div>"
      ],
      "text/plain": [
       "   duur  beweging                    time     WR        Wk  uur  WRbin  WKbin\n",
       "1    85      True 2015-12-15 15:02:36.424  147.0  0.737847   15      3      1\n",
       "3    84      True 2015-12-15 18:00:32.621  121.0  1.801215   18      3      2\n",
       "5    86      True 2015-12-15 20:50:58.998  104.0  2.473958   20      2      2\n",
       "7    86      True 2015-12-16 07:18:36.697  172.0  0.846354    7      4      1\n",
       "9    85      True 2015-12-16 09:44:14.088  128.0  1.388889    9      3      1"
      ]
     },
     "execution_count": 134,
     "metadata": {},
     "output_type": "execute_result"
    }
   ],
   "source": [
    "wkbin = list()\n",
    "for index, row in cleanSluit.iterrows():\n",
    "    wk = row[4]\n",
    "    if((wk >= 0) & (wk<=0.2)):\n",
    "        wkbin.append(0)      \n",
    "    elif((wk > 0.2) & (wk<=1.5)):\n",
    "        wkbin.append(1)\n",
    "    elif((wk > 1.5) & (wk<=3.3)):\n",
    "        wkbin.append(2)\n",
    "    elif((wk > 3.3) & (wk<=5.4)):\n",
    "        wkbin.append(3)\n",
    "    elif((wk > 5.4) & (wk<=7.9)):\n",
    "        wkbin.append(4)\n",
    "    elif((wk > 7.9) & (wk<=10.7)):\n",
    "        wkbin.append(5)\n",
    "    elif((wk > 10.7) & (wk<=13.8)):\n",
    "        wkbin.append(6)\n",
    "    elif((wk > 13.8) & (wk<=17.1)):\n",
    "        wkbin.append(7)\n",
    "    elif((wk > 17.1) & (wk<=20.7)):\n",
    "        wkbin.append(8)   \n",
    "    elif((wk > 20.7) & (wk<=24.4)):\n",
    "        wkbin.append(9)\n",
    "    elif((wk > 24.4) & (wk<=28.4)):\n",
    "        wkbin.append(10)\n",
    "cleanSluit['WKbin'] = wkbin\n",
    "cleanSluit.head()"
   ]
  },
  {
   "cell_type": "code",
   "execution_count": 135,
   "metadata": {},
   "outputs": [
    {
     "data": {
      "text/plain": [
       "Text(0.5, 1.0, 'Duur per windrichting')"
      ]
     },
     "execution_count": 135,
     "metadata": {},
     "output_type": "execute_result"
    },
    {
     "data": {
      "image/png": "[encoded data removed]",
      "text/plain": [
       "<Figure size 432x288 with 1 Axes>"
      ]
     },
     "metadata": {
      "needs_background": "light"
     },
     "output_type": "display_data"
    }
   ],
   "source": [
    "fig, ax = plt.subplots()\n",
    "scatter = ax.scatter(cleanSluit.WR, cleanSluit.duur, c = cleanSluit.WRbin,  s=50, cmap='gnuplot')\n",
    "ax.set_title(\"Duur per windrichting\")"
   ]
  },
  {
   "cell_type": "code",
   "execution_count": 136,
   "metadata": {},
   "outputs": [
    {
     "data": {
      "text/plain": [
       "Text(0.5, 1.0, 'Duur per windrichting')"
      ]
     },
     "execution_count": 136,
     "metadata": {},
     "output_type": "execute_result"
    },
    {
     "data": {
      "image/png": "[encoded data removed]",
      "text/plain": [
       "<Figure size 432x288 with 1 Axes>"
      ]
     },
     "metadata": {
      "needs_background": "light"
     },
     "output_type": "display_data"
    }
   ],
   "source": [
    "fig, ax = plt.subplots()\n",
    "scatter = ax.scatter(cleanSluit.duur, cleanSluit.WR,  c = cleanSluit.WKbin,  s=50, cmap='gnuplot')\n",
    "ax.set_title(\"Duur per windrichting\")"
   ]
  },
  {
   "cell_type": "code",
   "execution_count": 137,
   "metadata": {},
   "outputs": [
    {
     "data": {
      "text/plain": [
       "Text(0.5, 1.0, 'Duur per windrichting')"
      ]
     },
     "execution_count": 137,
     "metadata": {},
     "output_type": "execute_result"
    },
    {
     "data": {
      "image/png": "[encoded data removed]",
      "text/plain": [
       "<Figure size 432x288 with 1 Axes>"
      ]
     },
     "metadata": {
      "needs_background": "light"
     },
     "output_type": "display_data"
    }
   ],
   "source": [
    "fig, ax = plt.subplots()\n",
    "scatter = ax.scatter(cleanSluit.WR, cleanSluit.duur, c = cleanSluit.WKbin,  s=50, cmap='gnuplot')\n",
    "ax.set_title(\"Duur per windrichting\")"
   ]
  },
  {
   "cell_type": "code",
   "execution_count": 138,
   "metadata": {},
   "outputs": [
    {
     "data": {
      "text/plain": [
       "Text(0.5, 1.0, 'Duur per windkracht')"
      ]
     },
     "execution_count": 138,
     "metadata": {},
     "output_type": "execute_result"
    },
    {
     "data": {
      "image/png": "[encoded data removed]",
      "text/plain": [
       "<Figure size 432x288 with 1 Axes>"
      ]
     },
     "metadata": {
      "needs_background": "light"
     },
     "output_type": "display_data"
    }
   ],
   "source": [
    "fig, ax = plt.subplots()\n",
    "scatter = ax.scatter(cleanSluit.Wk, cleanSluit.duur, c = cleanSluit.WKbin,  s=50, cmap='gnuplot')\n",
    "ax.set_title(\"Duur per windkracht\")"
   ]
  },
  {
   "cell_type": "code",
   "execution_count": 139,
   "metadata": {},
   "outputs": [
    {
     "data": {
      "text/plain": [
       "Text(0.5, 1.0, 'Duur per windkracht')"
      ]
     },
     "execution_count": 139,
     "metadata": {},
     "output_type": "execute_result"
    },
    {
     "data": {
      "image/png": "[encoded data removed]",
      "text/plain": [
       "<Figure size 432x288 with 1 Axes>"
      ]
     },
     "metadata": {
      "needs_background": "light"
     },
     "output_type": "display_data"
    }
   ],
   "source": [
    "fig, ax = plt.subplots()\n",
    "scatter = ax.scatter(cleanSluit.Wk, cleanSluit.duur, c = cleanSluit.WRbin,  s=50, cmap='gnuplot')\n",
    "ax.set_title(\"Duur per windkracht\")"
   ]
  },
  {
   "cell_type": "code",
   "execution_count": 140,
   "metadata": {},
   "outputs": [
    {
     "name": "stderr",
     "output_type": "stream",
     "text": [
      "C:\\Users\\denni\\Anaconda3\\lib\\site-packages\\ipykernel_launcher.py:21: SettingWithCopyWarning: \n",
      "A value is trying to be set on a copy of a slice from a DataFrame.\n",
      "Try using .loc[row_indexer,col_indexer] = value instead\n",
      "\n",
      "See the caveats in the documentation: http://pandas.pydata.org/pandas-docs/stable/indexing.html#indexing-view-versus-copy\n"
     ]
    },
    {
     "data": {
      "text/html": [
       "<div>\n",
       "<style scoped>\n",
       "    .dataframe tbody tr th:only-of-type {\n",
       "        vertical-align: middle;\n",
       "    }\n",
       "\n",
       "    .dataframe tbody tr th {\n",
       "        vertical-align: top;\n",
       "    }\n",
       "\n",
       "    .dataframe thead th {\n",
       "        text-align: right;\n",
       "    }\n",
       "</style>\n",
       "<table border=\"1\" class=\"dataframe\">\n",
       "  <thead>\n",
       "    <tr style=\"text-align: right;\">\n",
       "      <th></th>\n",
       "      <th>duur</th>\n",
       "      <th>beweging</th>\n",
       "      <th>time</th>\n",
       "      <th>WR</th>\n",
       "      <th>Wk</th>\n",
       "      <th>WRbin</th>\n",
       "      <th>WKbin</th>\n",
       "    </tr>\n",
       "  </thead>\n",
       "  <tbody>\n",
       "    <tr>\n",
       "      <th>0</th>\n",
       "      <td>74</td>\n",
       "      <td>False</td>\n",
       "      <td>2015-12-15 14:59:54.618</td>\n",
       "      <td>301.0</td>\n",
       "      <td>1.128472</td>\n",
       "      <td>7</td>\n",
       "      <td>1</td>\n",
       "    </tr>\n",
       "    <tr>\n",
       "      <th>2</th>\n",
       "      <td>74</td>\n",
       "      <td>False</td>\n",
       "      <td>2015-12-15 17:57:38.221</td>\n",
       "      <td>133.0</td>\n",
       "      <td>1.019965</td>\n",
       "      <td>3</td>\n",
       "      <td>1</td>\n",
       "    </tr>\n",
       "    <tr>\n",
       "      <th>4</th>\n",
       "      <td>74</td>\n",
       "      <td>False</td>\n",
       "      <td>2015-12-15 20:48:29.404</td>\n",
       "      <td>132.0</td>\n",
       "      <td>1.888021</td>\n",
       "      <td>3</td>\n",
       "      <td>2</td>\n",
       "    </tr>\n",
       "    <tr>\n",
       "      <th>6</th>\n",
       "      <td>75</td>\n",
       "      <td>False</td>\n",
       "      <td>2015-12-16 07:16:23.793</td>\n",
       "      <td>256.0</td>\n",
       "      <td>2.430555</td>\n",
       "      <td>6</td>\n",
       "      <td>2</td>\n",
       "    </tr>\n",
       "    <tr>\n",
       "      <th>8</th>\n",
       "      <td>75</td>\n",
       "      <td>False</td>\n",
       "      <td>2015-12-16 09:40:30.884</td>\n",
       "      <td>196.0</td>\n",
       "      <td>3.125000</td>\n",
       "      <td>4</td>\n",
       "      <td>2</td>\n",
       "    </tr>\n",
       "  </tbody>\n",
       "</table>\n",
       "</div>"
      ],
      "text/plain": [
       "   duur  beweging                    time     WR        Wk  WRbin  WKbin\n",
       "0    74     False 2015-12-15 14:59:54.618  301.0  1.128472      7      1\n",
       "2    74     False 2015-12-15 17:57:38.221  133.0  1.019965      3      1\n",
       "4    74     False 2015-12-15 20:48:29.404  132.0  1.888021      3      2\n",
       "6    75     False 2015-12-16 07:16:23.793  256.0  2.430555      6      2\n",
       "8    75     False 2015-12-16 09:40:30.884  196.0  3.125000      4      2"
      ]
     },
     "execution_count": 140,
     "metadata": {},
     "output_type": "execute_result"
    }
   ],
   "source": [
    "wrbin = list()\n",
    "for index, row in openen.iterrows():\n",
    "    wr = row[3]\n",
    "    wk = row[4]\n",
    "    if(((wr >= 0) & (wr<=22.5))| ((wr >= 337.6) & (wr<=360))):\n",
    "        wrbin.append(0)      \n",
    "    elif((wr >= 22.6) & (wr<=67.5)):\n",
    "        wrbin.append(1)\n",
    "    elif((wr >= 67.6) & (wr<=112.5)):\n",
    "        wrbin.append(2)\n",
    "    elif((wr >= 112.6) & (wr<=157.5)):\n",
    "        wrbin.append(3)\n",
    "    elif((wr >= 157.6) & (wr<=202.5)):\n",
    "        wrbin.append(4)\n",
    "    elif((wr >= 202.6) & (wr<=247.5)):\n",
    "        wrbin.append(5)\n",
    "    elif((wr >= 247.6) & (wr<=292.5)):\n",
    "        wrbin.append(6)\n",
    "    elif((wr >= 292.6) & (wr<=337.5)):\n",
    "        wrbin.append(7)\n",
    "openen['WRbin'] = wrbin\n",
    "openen.head()"
   ]
  },
  {
   "cell_type": "code",
   "execution_count": 141,
   "metadata": {},
   "outputs": [
    {
     "name": "stderr",
     "output_type": "stream",
     "text": [
      "C:\\Users\\denni\\Anaconda3\\lib\\site-packages\\ipykernel_launcher.py:26: SettingWithCopyWarning: \n",
      "A value is trying to be set on a copy of a slice from a DataFrame.\n",
      "Try using .loc[row_indexer,col_indexer] = value instead\n",
      "\n",
      "See the caveats in the documentation: http://pandas.pydata.org/pandas-docs/stable/indexing.html#indexing-view-versus-copy\n"
     ]
    },
    {
     "data": {
      "text/html": [
       "<div>\n",
       "<style scoped>\n",
       "    .dataframe tbody tr th:only-of-type {\n",
       "        vertical-align: middle;\n",
       "    }\n",
       "\n",
       "    .dataframe tbody tr th {\n",
       "        vertical-align: top;\n",
       "    }\n",
       "\n",
       "    .dataframe thead th {\n",
       "        text-align: right;\n",
       "    }\n",
       "</style>\n",
       "<table border=\"1\" class=\"dataframe\">\n",
       "  <thead>\n",
       "    <tr style=\"text-align: right;\">\n",
       "      <th></th>\n",
       "      <th>duur</th>\n",
       "      <th>beweging</th>\n",
       "      <th>time</th>\n",
       "      <th>WR</th>\n",
       "      <th>Wk</th>\n",
       "      <th>WRbin</th>\n",
       "      <th>WKbin</th>\n",
       "    </tr>\n",
       "  </thead>\n",
       "  <tbody>\n",
       "    <tr>\n",
       "      <th>0</th>\n",
       "      <td>74</td>\n",
       "      <td>False</td>\n",
       "      <td>2015-12-15 14:59:54.618</td>\n",
       "      <td>301.0</td>\n",
       "      <td>1.128472</td>\n",
       "      <td>7</td>\n",
       "      <td>1</td>\n",
       "    </tr>\n",
       "    <tr>\n",
       "      <th>2</th>\n",
       "      <td>74</td>\n",
       "      <td>False</td>\n",
       "      <td>2015-12-15 17:57:38.221</td>\n",
       "      <td>133.0</td>\n",
       "      <td>1.019965</td>\n",
       "      <td>3</td>\n",
       "      <td>1</td>\n",
       "    </tr>\n",
       "    <tr>\n",
       "      <th>4</th>\n",
       "      <td>74</td>\n",
       "      <td>False</td>\n",
       "      <td>2015-12-15 20:48:29.404</td>\n",
       "      <td>132.0</td>\n",
       "      <td>1.888021</td>\n",
       "      <td>3</td>\n",
       "      <td>2</td>\n",
       "    </tr>\n",
       "    <tr>\n",
       "      <th>6</th>\n",
       "      <td>75</td>\n",
       "      <td>False</td>\n",
       "      <td>2015-12-16 07:16:23.793</td>\n",
       "      <td>256.0</td>\n",
       "      <td>2.430555</td>\n",
       "      <td>6</td>\n",
       "      <td>2</td>\n",
       "    </tr>\n",
       "    <tr>\n",
       "      <th>8</th>\n",
       "      <td>75</td>\n",
       "      <td>False</td>\n",
       "      <td>2015-12-16 09:40:30.884</td>\n",
       "      <td>196.0</td>\n",
       "      <td>3.125000</td>\n",
       "      <td>4</td>\n",
       "      <td>2</td>\n",
       "    </tr>\n",
       "  </tbody>\n",
       "</table>\n",
       "</div>"
      ],
      "text/plain": [
       "   duur  beweging                    time     WR        Wk  WRbin  WKbin\n",
       "0    74     False 2015-12-15 14:59:54.618  301.0  1.128472      7      1\n",
       "2    74     False 2015-12-15 17:57:38.221  133.0  1.019965      3      1\n",
       "4    74     False 2015-12-15 20:48:29.404  132.0  1.888021      3      2\n",
       "6    75     False 2015-12-16 07:16:23.793  256.0  2.430555      6      2\n",
       "8    75     False 2015-12-16 09:40:30.884  196.0  3.125000      4      2"
      ]
     },
     "execution_count": 141,
     "metadata": {},
     "output_type": "execute_result"
    }
   ],
   "source": [
    "wkbin = list()\n",
    "for index, row in openen.iterrows():\n",
    "    wk = row[4]\n",
    "    if((wk >= 0) & (wk<=0.2)):\n",
    "        wkbin.append(0)      \n",
    "    elif((wk > 0.2) & (wk<=1.5)):\n",
    "        wkbin.append(1)\n",
    "    elif((wk > 1.5) & (wk<=3.3)):\n",
    "        wkbin.append(2)\n",
    "    elif((wk > 3.3) & (wk<=5.4)):\n",
    "        wkbin.append(3)\n",
    "    elif((wk > 5.4) & (wk<=7.9)):\n",
    "        wkbin.append(4)\n",
    "    elif((wk > 7.9) & (wk<=10.7)):\n",
    "        wkbin.append(5)\n",
    "    elif((wk > 10.7) & (wk<=13.8)):\n",
    "        wkbin.append(6)\n",
    "    elif((wk > 13.8) & (wk<=17.1)):\n",
    "        wkbin.append(7)\n",
    "    elif((wk > 17.1) & (wk<=20.7)):\n",
    "        wkbin.append(8)   \n",
    "    elif((wk > 20.7) & (wk<=24.4)):\n",
    "        wkbin.append(9)\n",
    "    elif((wk > 24.4) & (wk<=28.4)):\n",
    "        wkbin.append(10)\n",
    "openen['WKbin'] = wkbin\n",
    "openen.head()"
   ]
  },
  {
   "cell_type": "markdown",
   "metadata": {},
   "source": [
    "# Dataframe omzetten naar CSV\n"
   ]
  },
  {
   "cell_type": "code",
   "execution_count": 142,
   "metadata": {},
   "outputs": [],
   "source": [
    "cleanOpen.to_csv('DuurOpening.csv')\n",
    "cleanSluit.to_csv('DuurSluiten.csv')\n",
    "cleanDuur.to_csv('CleanedDuur.csv')\n",
    "openen.to_csv('Open.csv')\n",
    "sluit.to_csv('Sluiten.csv')"
   ]
  }
 ],
 "metadata": {
  "kernelspec": {
   "display_name": "Python 3",
   "language": "python",
   "name": "python3"
  },
  "language_info": {
   "codemirror_mode": {
    "name": "ipython",
    "version": 3
   },
   "file_extension": ".py",
   "mimetype": "text/x-python",
   "name": "python",
   "nbconvert_exporter": "python",
   "pygments_lexer": "ipython3",
   "version": "3.7.1"
  }
 },
 "nbformat": 4,
 "nbformat_minor": 2
}
