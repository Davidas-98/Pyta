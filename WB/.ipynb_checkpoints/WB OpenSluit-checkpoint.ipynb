{
 "cells": [
  {
   "cell_type": "code",
   "execution_count": 1,
   "metadata": {},
   "outputs": [],
   "source": [
    "import sqlite3\n",
    "import numpy as np\n",
    "import pandas as pd\n",
    "import glob\n",
    "import datetime\n",
    "# modellen importeren\n",
    "from sklearn.cluster import AgglomerativeClustering\n",
    "from sklearn.ensemble import RandomForestRegressor\n",
    "from sklearn.preprocessing import StandardScaler\n",
    "from sklearn.metrics import r2_score\n",
    "from sklearn.metrics import mean_squared_error\n",
    "\n",
    "import matplotlib.pyplot as plt\n",
    "%matplotlib inline"
   ]
  },
  {
   "cell_type": "code",
   "execution_count": 2,
   "metadata": {},
   "outputs": [],
   "source": [
    "# Maak verbinding met de database\n",
    "con = sqlite3.connect(r\"D:\\Code\\Notebooks\\SCADA_Bruggen\") # zet hier het path naar je eigen database\n",
    "cur = con.cursor()\n",
    "\n",
    "'''\n",
    "Laad de data van een brug uit de database\n",
    "WHERE = data inladen vanaf 2016, als je dit niet begrijpt hoe het werkt is het geen probleem\n",
    "De limit geeft aan dat je maar een bepaald aantal lines wil laden\n",
    "'''\n",
    "\n",
    "df = pd.read_sql(\"SELECT * FROM WB\", con)\n",
    "con.close()"
   ]
  },
  {
   "cell_type": "code",
   "execution_count": 3,
   "metadata": {},
   "outputs": [
    {
     "data": {
      "text/html": [
       "<div>\n",
       "<style scoped>\n",
       "    .dataframe tbody tr th:only-of-type {\n",
       "        vertical-align: middle;\n",
       "    }\n",
       "\n",
       "    .dataframe tbody tr th {\n",
       "        vertical-align: top;\n",
       "    }\n",
       "\n",
       "    .dataframe thead th {\n",
       "        text-align: right;\n",
       "    }\n",
       "</style>\n",
       "<table border=\"1\" class=\"dataframe\">\n",
       "  <thead>\n",
       "    <tr style=\"text-align: right;\">\n",
       "      <th></th>\n",
       "      <th>index</th>\n",
       "      <th>Tijd</th>\n",
       "      <th>Type</th>\n",
       "      <th>Klasse</th>\n",
       "      <th>Waarde</th>\n",
       "      <th>ID</th>\n",
       "      <th>Omschrijving</th>\n",
       "      <th>Status</th>\n",
       "      <th>Prioriteit</th>\n",
       "      <th>Tijd came</th>\n",
       "      <th>Tijd went</th>\n",
       "      <th>Tijd ack</th>\n",
       "      <th>Gebr.ID</th>\n",
       "      <th>DPE</th>\n",
       "    </tr>\n",
       "  </thead>\n",
       "  <tbody>\n",
       "    <tr>\n",
       "      <th>8681657</th>\n",
       "      <td>8681657</td>\n",
       "      <td>01-12-2018 00:00:34.712</td>\n",
       "      <td>PROCES</td>\n",
       "      <td>NaN</td>\n",
       "      <td>212</td>\n",
       "      <td>NaN</td>\n",
       "      <td>Meteo Actuele Windrichting</td>\n",
       "      <td>None</td>\n",
       "      <td>None</td>\n",
       "      <td>None</td>\n",
       "      <td>None</td>\n",
       "      <td>None</td>\n",
       "      <td>0.0</td>\n",
       "      <td>DB_H61-Meteo-S.Meteodata.Windrichting.Actueel</td>\n",
       "    </tr>\n",
       "    <tr>\n",
       "      <th>8681658</th>\n",
       "      <td>8681658</td>\n",
       "      <td>01-12-2018 00:00:08.586</td>\n",
       "      <td>PROCES</td>\n",
       "      <td>NaN</td>\n",
       "      <td>1.7187497615814</td>\n",
       "      <td>NaN</td>\n",
       "      <td>Meteo Actuele Windkracht</td>\n",
       "      <td>None</td>\n",
       "      <td>None</td>\n",
       "      <td>None</td>\n",
       "      <td>None</td>\n",
       "      <td>None</td>\n",
       "      <td>0.0</td>\n",
       "      <td>DB_H61-Meteo-S.Meteodata.Windkracht.Actueel</td>\n",
       "    </tr>\n",
       "    <tr>\n",
       "      <th>8681659</th>\n",
       "      <td>8681659</td>\n",
       "      <td>01-12-2018 00:00:03.581</td>\n",
       "      <td>PROCES</td>\n",
       "      <td>NaN</td>\n",
       "      <td>225</td>\n",
       "      <td>NaN</td>\n",
       "      <td>Meteo Actuele Windrichting</td>\n",
       "      <td>None</td>\n",
       "      <td>None</td>\n",
       "      <td>None</td>\n",
       "      <td>None</td>\n",
       "      <td>None</td>\n",
       "      <td>0.0</td>\n",
       "      <td>DB_H61-Meteo-S.Meteodata.Windrichting.Actueel</td>\n",
       "    </tr>\n",
       "    <tr>\n",
       "      <th>8681660</th>\n",
       "      <td>8681660</td>\n",
       "      <td>01-12-2018 00:00:01.046</td>\n",
       "      <td>PROCES</td>\n",
       "      <td>NaN</td>\n",
       "      <td>TRUE</td>\n",
       "      <td>NaN</td>\n",
       "      <td>Afsluitbomen Algemeen Nacht Stand</td>\n",
       "      <td>None</td>\n",
       "      <td>None</td>\n",
       "      <td>None</td>\n",
       "      <td>None</td>\n",
       "      <td>None</td>\n",
       "      <td>0.0</td>\n",
       "      <td>DB_L21-Asb-Alg-S.Status._00</td>\n",
       "    </tr>\n",
       "    <tr>\n",
       "      <th>8681661</th>\n",
       "      <td>8681661</td>\n",
       "      <td>01-12-2018 00:00:01.046</td>\n",
       "      <td>PROCES</td>\n",
       "      <td>NaN</td>\n",
       "      <td>FALSE</td>\n",
       "      <td>NaN</td>\n",
       "      <td>Afsluitbomen Algemeen Dag Stand</td>\n",
       "      <td>None</td>\n",
       "      <td>None</td>\n",
       "      <td>None</td>\n",
       "      <td>None</td>\n",
       "      <td>None</td>\n",
       "      <td>0.0</td>\n",
       "      <td>DB_L21-Asb-Alg-S.Status._01</td>\n",
       "    </tr>\n",
       "  </tbody>\n",
       "</table>\n",
       "</div>"
      ],
      "text/plain": [
       "           index                     Tijd    Type  Klasse           Waarde  \\\n",
       "8681657  8681657  01-12-2018 00:00:34.712  PROCES     NaN              212   \n",
       "8681658  8681658  01-12-2018 00:00:08.586  PROCES     NaN  1.7187497615814   \n",
       "8681659  8681659  01-12-2018 00:00:03.581  PROCES     NaN              225   \n",
       "8681660  8681660  01-12-2018 00:00:01.046  PROCES     NaN             TRUE   \n",
       "8681661  8681661  01-12-2018 00:00:01.046  PROCES     NaN            FALSE   \n",
       "\n",
       "         ID                       Omschrijving Status Prioriteit Tijd came  \\\n",
       "8681657 NaN         Meteo Actuele Windrichting   None       None      None   \n",
       "8681658 NaN           Meteo Actuele Windkracht   None       None      None   \n",
       "8681659 NaN         Meteo Actuele Windrichting   None       None      None   \n",
       "8681660 NaN  Afsluitbomen Algemeen Nacht Stand   None       None      None   \n",
       "8681661 NaN    Afsluitbomen Algemeen Dag Stand   None       None      None   \n",
       "\n",
       "        Tijd went Tijd ack Gebr.ID  \\\n",
       "8681657      None     None     0.0   \n",
       "8681658      None     None     0.0   \n",
       "8681659      None     None     0.0   \n",
       "8681660      None     None     0.0   \n",
       "8681661      None     None     0.0   \n",
       "\n",
       "                                                   DPE  \n",
       "8681657  DB_H61-Meteo-S.Meteodata.Windrichting.Actueel  \n",
       "8681658    DB_H61-Meteo-S.Meteodata.Windkracht.Actueel  \n",
       "8681659  DB_H61-Meteo-S.Meteodata.Windrichting.Actueel  \n",
       "8681660                    DB_L21-Asb-Alg-S.Status._00  \n",
       "8681661                    DB_L21-Asb-Alg-S.Status._01  "
      ]
     },
     "execution_count": 3,
     "metadata": {},
     "output_type": "execute_result"
    }
   ],
   "source": [
    "df.tail()"
   ]
  },
  {
   "cell_type": "markdown",
   "metadata": {},
   "source": [
    "## Windkracht dataframe"
   ]
  },
  {
   "cell_type": "code",
   "execution_count": 4,
   "metadata": {},
   "outputs": [
    {
     "data": {
      "text/html": [
       "<div>\n",
       "<style scoped>\n",
       "    .dataframe tbody tr th:only-of-type {\n",
       "        vertical-align: middle;\n",
       "    }\n",
       "\n",
       "    .dataframe tbody tr th {\n",
       "        vertical-align: top;\n",
       "    }\n",
       "\n",
       "    .dataframe thead th {\n",
       "        text-align: right;\n",
       "    }\n",
       "</style>\n",
       "<table border=\"1\" class=\"dataframe\">\n",
       "  <thead>\n",
       "    <tr style=\"text-align: right;\">\n",
       "      <th></th>\n",
       "      <th>Wk</th>\n",
       "    </tr>\n",
       "  </thead>\n",
       "  <tbody>\n",
       "    <tr>\n",
       "      <th>count</th>\n",
       "      <td>6.142440e+05</td>\n",
       "    </tr>\n",
       "    <tr>\n",
       "      <th>mean</th>\n",
       "      <td>1.841194e+00</td>\n",
       "    </tr>\n",
       "    <tr>\n",
       "      <th>std</th>\n",
       "      <td>1.218347e+00</td>\n",
       "    </tr>\n",
       "    <tr>\n",
       "      <th>min</th>\n",
       "      <td>5.712112e-09</td>\n",
       "    </tr>\n",
       "    <tr>\n",
       "      <th>25%</th>\n",
       "      <td>9.577546e-01</td>\n",
       "    </tr>\n",
       "    <tr>\n",
       "      <th>50%</th>\n",
       "      <td>1.594690e+00</td>\n",
       "    </tr>\n",
       "    <tr>\n",
       "      <th>75%</th>\n",
       "      <td>2.449363e+00</td>\n",
       "    </tr>\n",
       "    <tr>\n",
       "      <th>max</th>\n",
       "      <td>1.842448e+01</td>\n",
       "    </tr>\n",
       "  </tbody>\n",
       "</table>\n",
       "</div>"
      ],
      "text/plain": [
       "                 Wk\n",
       "count  6.142440e+05\n",
       "mean   1.841194e+00\n",
       "std    1.218347e+00\n",
       "min    5.712112e-09\n",
       "25%    9.577546e-01\n",
       "50%    1.594690e+00\n",
       "75%    2.449363e+00\n",
       "max    1.842448e+01"
      ]
     },
     "execution_count": 4,
     "metadata": {},
     "output_type": "execute_result"
    }
   ],
   "source": [
    "wkdf = df[df.Omschrijving == 'Meteo Actuele Windkracht']\n",
    "\n",
    "wkdf = wkdf[['Tijd', 'Waarde']].copy()\n",
    "wkdf['Tijd'] = pd.to_datetime(wkdf.Tijd, dayfirst = True)\n",
    "wkdf['Waarde'] = wkdf.Waarde.astype('float')\n",
    "\n",
    "# negatieve windkracht heb ik nog nooit gezien, dus die nemen we niet mee\n",
    "wkdf = wkdf[wkdf.Waarde > 0]\n",
    "wkdf.columns = ['time','Wk']\n",
    "\n",
    "# check of alles gelukt is\n",
    "wkdf.describe()"
   ]
  },
  {
   "cell_type": "code",
   "execution_count": 5,
   "metadata": {},
   "outputs": [
    {
     "data": {
      "text/html": [
       "<div>\n",
       "<style scoped>\n",
       "    .dataframe tbody tr th:only-of-type {\n",
       "        vertical-align: middle;\n",
       "    }\n",
       "\n",
       "    .dataframe tbody tr th {\n",
       "        vertical-align: top;\n",
       "    }\n",
       "\n",
       "    .dataframe thead th {\n",
       "        text-align: right;\n",
       "    }\n",
       "</style>\n",
       "<table border=\"1\" class=\"dataframe\">\n",
       "  <thead>\n",
       "    <tr style=\"text-align: right;\">\n",
       "      <th></th>\n",
       "      <th>time</th>\n",
       "      <th>Wk</th>\n",
       "    </tr>\n",
       "  </thead>\n",
       "  <tbody>\n",
       "    <tr>\n",
       "      <th>8681535</th>\n",
       "      <td>2018-12-01 00:46:32.468</td>\n",
       "      <td>1.715133</td>\n",
       "    </tr>\n",
       "    <tr>\n",
       "      <th>8681592</th>\n",
       "      <td>2018-12-01 00:34:34.903</td>\n",
       "      <td>0.652488</td>\n",
       "    </tr>\n",
       "    <tr>\n",
       "      <th>8681625</th>\n",
       "      <td>2018-12-01 00:26:17.886</td>\n",
       "      <td>1.705367</td>\n",
       "    </tr>\n",
       "    <tr>\n",
       "      <th>8681630</th>\n",
       "      <td>2018-12-01 00:24:17.691</td>\n",
       "      <td>0.609809</td>\n",
       "    </tr>\n",
       "    <tr>\n",
       "      <th>8681658</th>\n",
       "      <td>2018-12-01 00:00:08.586</td>\n",
       "      <td>1.718750</td>\n",
       "    </tr>\n",
       "  </tbody>\n",
       "</table>\n",
       "</div>"
      ],
      "text/plain": [
       "                           time        Wk\n",
       "8681535 2018-12-01 00:46:32.468  1.715133\n",
       "8681592 2018-12-01 00:34:34.903  0.652488\n",
       "8681625 2018-12-01 00:26:17.886  1.705367\n",
       "8681630 2018-12-01 00:24:17.691  0.609809\n",
       "8681658 2018-12-01 00:00:08.586  1.718750"
      ]
     },
     "execution_count": 5,
     "metadata": {},
     "output_type": "execute_result"
    }
   ],
   "source": [
    "wkdf.tail()"
   ]
  },
  {
   "cell_type": "markdown",
   "metadata": {},
   "source": [
    "## Windrichting"
   ]
  },
  {
   "cell_type": "code",
   "execution_count": 6,
   "metadata": {},
   "outputs": [
    {
     "name": "stderr",
     "output_type": "stream",
     "text": [
      "C:\\Users\\denni\\Anaconda3\\lib\\site-packages\\ipykernel_launcher.py:5: SettingWithCopyWarning: \n",
      "A value is trying to be set on a copy of a slice from a DataFrame.\n",
      "Try using .loc[row_indexer,col_indexer] = value instead\n",
      "\n",
      "See the caveats in the documentation: http://pandas.pydata.org/pandas-docs/stable/indexing.html#indexing-view-versus-copy\n",
      "  \"\"\"\n",
      "C:\\Users\\denni\\Anaconda3\\lib\\site-packages\\ipykernel_launcher.py:6: SettingWithCopyWarning: \n",
      "A value is trying to be set on a copy of a slice from a DataFrame.\n",
      "Try using .loc[row_indexer,col_indexer] = value instead\n",
      "\n",
      "See the caveats in the documentation: http://pandas.pydata.org/pandas-docs/stable/indexing.html#indexing-view-versus-copy\n",
      "  \n"
     ]
    },
    {
     "name": "stdout",
     "output_type": "stream",
     "text": [
      "<class 'pandas.core.frame.DataFrame'>\n",
      "Int64Index: 790001 entries, 9 to 8681659\n",
      "Data columns (total 2 columns):\n",
      "time    790001 non-null datetime64[ns]\n",
      "WR      790001 non-null float64\n",
      "dtypes: datetime64[ns](1), float64(1)\n",
      "memory usage: 18.1 MB\n"
     ]
    }
   ],
   "source": [
    "# Haal windrichting data uit standaard df \n",
    "wrdf = df[df.Omschrijving == 'Meteo Actuele Windrichting']\n",
    "\n",
    "# zet de types om naar werkbare types\n",
    "wrdf['Tijd'] = pd.to_datetime(wrdf.Tijd, dayfirst = True)\n",
    "wrdf['Waarde'] = wrdf.Waarde.astype('float')\n",
    "\n",
    "# negatieve windrichtingen bestaan niet\n",
    "wrdf = wrdf[wrdf.Waarde > 0]\n",
    "\n",
    "# Maak df met allen tijd en waarde kolom\n",
    "wrdf = wrdf[['Tijd', 'Waarde']].copy()\n",
    "\n",
    "# Pas kolom namen aan zodat het later gemerged kan worden en duidelijk blijft\n",
    "wrdf.columns = ['time','WR']\n",
    "wrdf.head()\n",
    "\n",
    "#check of alles gelukt is\n",
    "wrdf.info()"
   ]
  },
  {
   "cell_type": "markdown",
   "metadata": {},
   "source": [
    "## Brug Beweging DataFrame"
   ]
  },
  {
   "cell_type": "code",
   "execution_count": 7,
   "metadata": {},
   "outputs": [],
   "source": [
    "# Maak een df met daarin alle meldingen die te maken hebben met het openen en sluiten van de brug\n",
    "\n",
    "OpenSluit = df[df.Omschrijving == 'Brug Beweging Actief']\n",
    "SluitOpen = OpenSluit.append(df[df.Omschrijving == 'Algemeen Commando Brug Openen'])\n",
    "OpenSluitBeweging = SluitOpen.append(df[df.Omschrijving == 'Algemeen Commando Brug Sluiten']) \n",
    "OpenSluitBeweging.Tijd = pd.to_datetime(OpenSluitBeweging.Tijd, dayfirst = True)"
   ]
  },
  {
   "cell_type": "code",
   "execution_count": 8,
   "metadata": {},
   "outputs": [
    {
     "data": {
      "text/html": [
       "<div>\n",
       "<style scoped>\n",
       "    .dataframe tbody tr th:only-of-type {\n",
       "        vertical-align: middle;\n",
       "    }\n",
       "\n",
       "    .dataframe tbody tr th {\n",
       "        vertical-align: top;\n",
       "    }\n",
       "\n",
       "    .dataframe thead th {\n",
       "        text-align: right;\n",
       "    }\n",
       "</style>\n",
       "<table border=\"1\" class=\"dataframe\">\n",
       "  <thead>\n",
       "    <tr style=\"text-align: right;\">\n",
       "      <th></th>\n",
       "      <th>index</th>\n",
       "      <th>Tijd</th>\n",
       "      <th>Type</th>\n",
       "      <th>Klasse</th>\n",
       "      <th>Waarde</th>\n",
       "      <th>ID</th>\n",
       "      <th>Omschrijving</th>\n",
       "      <th>Status</th>\n",
       "      <th>Prioriteit</th>\n",
       "      <th>Tijd came</th>\n",
       "      <th>Tijd went</th>\n",
       "      <th>Tijd ack</th>\n",
       "      <th>Gebr.ID</th>\n",
       "      <th>DPE</th>\n",
       "    </tr>\n",
       "  </thead>\n",
       "  <tbody>\n",
       "    <tr>\n",
       "      <th>1119</th>\n",
       "      <td>1119</td>\n",
       "      <td>2015-12-02 15:47:07.178</td>\n",
       "      <td>PROCES</td>\n",
       "      <td>NaN</td>\n",
       "      <td>FALSE</td>\n",
       "      <td>NaN</td>\n",
       "      <td>Brug Beweging Actief</td>\n",
       "      <td>None</td>\n",
       "      <td>None</td>\n",
       "      <td>None</td>\n",
       "      <td>None</td>\n",
       "      <td>None</td>\n",
       "      <td>0</td>\n",
       "      <td>DB_A11-Brug-S.Status.BewR</td>\n",
       "    </tr>\n",
       "    <tr>\n",
       "      <th>1208</th>\n",
       "      <td>1208</td>\n",
       "      <td>2015-12-02 15:46:16.276</td>\n",
       "      <td>PROCES</td>\n",
       "      <td>NaN</td>\n",
       "      <td>TRUE</td>\n",
       "      <td>NaN</td>\n",
       "      <td>Brug Beweging Actief</td>\n",
       "      <td>None</td>\n",
       "      <td>None</td>\n",
       "      <td>None</td>\n",
       "      <td>None</td>\n",
       "      <td>None</td>\n",
       "      <td>0</td>\n",
       "      <td>DB_A11-Brug-S.Status.BewR</td>\n",
       "    </tr>\n",
       "    <tr>\n",
       "      <th>1317</th>\n",
       "      <td>1317</td>\n",
       "      <td>2015-12-02 15:45:05.000</td>\n",
       "      <td>PROCES</td>\n",
       "      <td>NaN</td>\n",
       "      <td>FALSE</td>\n",
       "      <td>NaN</td>\n",
       "      <td>Brug Beweging Actief</td>\n",
       "      <td>None</td>\n",
       "      <td>None</td>\n",
       "      <td>None</td>\n",
       "      <td>None</td>\n",
       "      <td>None</td>\n",
       "      <td>0</td>\n",
       "      <td>DB_A11-Brug-S.Status.BewR</td>\n",
       "    </tr>\n",
       "    <tr>\n",
       "      <th>1397</th>\n",
       "      <td>1397</td>\n",
       "      <td>2015-12-02 15:44:14.085</td>\n",
       "      <td>PROCES</td>\n",
       "      <td>NaN</td>\n",
       "      <td>TRUE</td>\n",
       "      <td>NaN</td>\n",
       "      <td>Brug Beweging Actief</td>\n",
       "      <td>None</td>\n",
       "      <td>None</td>\n",
       "      <td>None</td>\n",
       "      <td>None</td>\n",
       "      <td>None</td>\n",
       "      <td>0</td>\n",
       "      <td>DB_A11-Brug-S.Status.BewR</td>\n",
       "    </tr>\n",
       "    <tr>\n",
       "      <th>2031</th>\n",
       "      <td>2031</td>\n",
       "      <td>2015-12-02 15:30:34.276</td>\n",
       "      <td>PROCES</td>\n",
       "      <td>NaN</td>\n",
       "      <td>FALSE</td>\n",
       "      <td>NaN</td>\n",
       "      <td>Brug Beweging Actief</td>\n",
       "      <td>None</td>\n",
       "      <td>None</td>\n",
       "      <td>None</td>\n",
       "      <td>None</td>\n",
       "      <td>None</td>\n",
       "      <td>0</td>\n",
       "      <td>DB_A11-Brug-S.Status.BewR</td>\n",
       "    </tr>\n",
       "  </tbody>\n",
       "</table>\n",
       "</div>"
      ],
      "text/plain": [
       "      index                    Tijd    Type  Klasse Waarde  ID  \\\n",
       "1119   1119 2015-12-02 15:47:07.178  PROCES     NaN  FALSE NaN   \n",
       "1208   1208 2015-12-02 15:46:16.276  PROCES     NaN   TRUE NaN   \n",
       "1317   1317 2015-12-02 15:45:05.000  PROCES     NaN  FALSE NaN   \n",
       "1397   1397 2015-12-02 15:44:14.085  PROCES     NaN   TRUE NaN   \n",
       "2031   2031 2015-12-02 15:30:34.276  PROCES     NaN  FALSE NaN   \n",
       "\n",
       "              Omschrijving Status Prioriteit Tijd came Tijd went Tijd ack  \\\n",
       "1119  Brug Beweging Actief   None       None      None      None     None   \n",
       "1208  Brug Beweging Actief   None       None      None      None     None   \n",
       "1317  Brug Beweging Actief   None       None      None      None     None   \n",
       "1397  Brug Beweging Actief   None       None      None      None     None   \n",
       "2031  Brug Beweging Actief   None       None      None      None     None   \n",
       "\n",
       "     Gebr.ID                        DPE  \n",
       "1119       0  DB_A11-Brug-S.Status.BewR  \n",
       "1208       0  DB_A11-Brug-S.Status.BewR  \n",
       "1317       0  DB_A11-Brug-S.Status.BewR  \n",
       "1397       0  DB_A11-Brug-S.Status.BewR  \n",
       "2031       0  DB_A11-Brug-S.Status.BewR  "
      ]
     },
     "execution_count": 8,
     "metadata": {},
     "output_type": "execute_result"
    }
   ],
   "source": [
    "OpenSluitBeweging.head()"
   ]
  },
  {
   "cell_type": "code",
   "execution_count": 9,
   "metadata": {},
   "outputs": [
    {
     "name": "stdout",
     "output_type": "stream",
     "text": [
      "<class 'pandas.core.frame.DataFrame'>\n",
      "Int64Index: 51299 entries, 1119 to 8678999\n",
      "Data columns (total 14 columns):\n",
      "index           51299 non-null int64\n",
      "Tijd            51299 non-null datetime64[ns]\n",
      "Type            51299 non-null object\n",
      "Klasse          0 non-null float64\n",
      "Waarde          51299 non-null object\n",
      "ID              0 non-null float64\n",
      "Omschrijving    51299 non-null object\n",
      "Status          0 non-null object\n",
      "Prioriteit      0 non-null object\n",
      "Tijd came       0 non-null object\n",
      "Tijd went       0 non-null object\n",
      "Tijd ack        0 non-null object\n",
      "Gebr.ID         51299 non-null object\n",
      "DPE             51299 non-null object\n",
      "dtypes: datetime64[ns](1), float64(2), int64(1), object(10)\n",
      "memory usage: 5.9+ MB\n"
     ]
    }
   ],
   "source": [
    "OpenSluitBeweging.info()"
   ]
  },
  {
   "cell_type": "code",
   "execution_count": 10,
   "metadata": {},
   "outputs": [],
   "source": [
    "# Sorteer het df op datum. (je sorteert op index omdat Tijd kolom niet mee wilden werken)\n",
    "Duur = OpenSluitBeweging.sort_index()"
   ]
  },
  {
   "cell_type": "code",
   "execution_count": 11,
   "metadata": {},
   "outputs": [
    {
     "data": {
      "text/html": [
       "<div>\n",
       "<style scoped>\n",
       "    .dataframe tbody tr th:only-of-type {\n",
       "        vertical-align: middle;\n",
       "    }\n",
       "\n",
       "    .dataframe tbody tr th {\n",
       "        vertical-align: top;\n",
       "    }\n",
       "\n",
       "    .dataframe thead th {\n",
       "        text-align: right;\n",
       "    }\n",
       "</style>\n",
       "<table border=\"1\" class=\"dataframe\">\n",
       "  <thead>\n",
       "    <tr style=\"text-align: right;\">\n",
       "      <th></th>\n",
       "      <th>index</th>\n",
       "      <th>Tijd</th>\n",
       "      <th>Type</th>\n",
       "      <th>Klasse</th>\n",
       "      <th>Waarde</th>\n",
       "      <th>ID</th>\n",
       "      <th>Omschrijving</th>\n",
       "      <th>Status</th>\n",
       "      <th>Prioriteit</th>\n",
       "      <th>Tijd came</th>\n",
       "      <th>Tijd went</th>\n",
       "      <th>Tijd ack</th>\n",
       "      <th>Gebr.ID</th>\n",
       "      <th>DPE</th>\n",
       "    </tr>\n",
       "  </thead>\n",
       "  <tbody>\n",
       "    <tr>\n",
       "      <th>1119</th>\n",
       "      <td>1119</td>\n",
       "      <td>2015-12-02 15:47:07.178</td>\n",
       "      <td>PROCES</td>\n",
       "      <td>NaN</td>\n",
       "      <td>FALSE</td>\n",
       "      <td>NaN</td>\n",
       "      <td>Brug Beweging Actief</td>\n",
       "      <td>None</td>\n",
       "      <td>None</td>\n",
       "      <td>None</td>\n",
       "      <td>None</td>\n",
       "      <td>None</td>\n",
       "      <td>0</td>\n",
       "      <td>DB_A11-Brug-S.Status.BewR</td>\n",
       "    </tr>\n",
       "    <tr>\n",
       "      <th>1194</th>\n",
       "      <td>1194</td>\n",
       "      <td>2015-12-02 15:46:18.319</td>\n",
       "      <td>PROCES</td>\n",
       "      <td>NaN</td>\n",
       "      <td>FALSE</td>\n",
       "      <td>NaN</td>\n",
       "      <td>Algemeen Commando Brug Sluiten</td>\n",
       "      <td>None</td>\n",
       "      <td>None</td>\n",
       "      <td>None</td>\n",
       "      <td>None</td>\n",
       "      <td>None</td>\n",
       "      <td>0</td>\n",
       "      <td>DB_D00-Algemeen-S.CMD.BrugSl.Cmd</td>\n",
       "    </tr>\n",
       "    <tr>\n",
       "      <th>1208</th>\n",
       "      <td>1208</td>\n",
       "      <td>2015-12-02 15:46:16.276</td>\n",
       "      <td>PROCES</td>\n",
       "      <td>NaN</td>\n",
       "      <td>TRUE</td>\n",
       "      <td>NaN</td>\n",
       "      <td>Brug Beweging Actief</td>\n",
       "      <td>None</td>\n",
       "      <td>None</td>\n",
       "      <td>None</td>\n",
       "      <td>None</td>\n",
       "      <td>None</td>\n",
       "      <td>0</td>\n",
       "      <td>DB_A11-Brug-S.Status.BewR</td>\n",
       "    </tr>\n",
       "    <tr>\n",
       "      <th>1228</th>\n",
       "      <td>1228</td>\n",
       "      <td>2015-12-02 15:46:15.994</td>\n",
       "      <td>PROCES</td>\n",
       "      <td>NaN</td>\n",
       "      <td>TRUE</td>\n",
       "      <td>NaN</td>\n",
       "      <td>Algemeen Commando Brug Sluiten</td>\n",
       "      <td>None</td>\n",
       "      <td>None</td>\n",
       "      <td>None</td>\n",
       "      <td>None</td>\n",
       "      <td>None</td>\n",
       "      <td>79</td>\n",
       "      <td>DB_D00-Algemeen-S.CMD.BrugSl.Cmd</td>\n",
       "    </tr>\n",
       "    <tr>\n",
       "      <th>1317</th>\n",
       "      <td>1317</td>\n",
       "      <td>2015-12-02 15:45:05.000</td>\n",
       "      <td>PROCES</td>\n",
       "      <td>NaN</td>\n",
       "      <td>FALSE</td>\n",
       "      <td>NaN</td>\n",
       "      <td>Brug Beweging Actief</td>\n",
       "      <td>None</td>\n",
       "      <td>None</td>\n",
       "      <td>None</td>\n",
       "      <td>None</td>\n",
       "      <td>None</td>\n",
       "      <td>0</td>\n",
       "      <td>DB_A11-Brug-S.Status.BewR</td>\n",
       "    </tr>\n",
       "  </tbody>\n",
       "</table>\n",
       "</div>"
      ],
      "text/plain": [
       "      index                    Tijd    Type  Klasse Waarde  ID  \\\n",
       "1119   1119 2015-12-02 15:47:07.178  PROCES     NaN  FALSE NaN   \n",
       "1194   1194 2015-12-02 15:46:18.319  PROCES     NaN  FALSE NaN   \n",
       "1208   1208 2015-12-02 15:46:16.276  PROCES     NaN   TRUE NaN   \n",
       "1228   1228 2015-12-02 15:46:15.994  PROCES     NaN   TRUE NaN   \n",
       "1317   1317 2015-12-02 15:45:05.000  PROCES     NaN  FALSE NaN   \n",
       "\n",
       "                        Omschrijving Status Prioriteit Tijd came Tijd went  \\\n",
       "1119            Brug Beweging Actief   None       None      None      None   \n",
       "1194  Algemeen Commando Brug Sluiten   None       None      None      None   \n",
       "1208            Brug Beweging Actief   None       None      None      None   \n",
       "1228  Algemeen Commando Brug Sluiten   None       None      None      None   \n",
       "1317            Brug Beweging Actief   None       None      None      None   \n",
       "\n",
       "     Tijd ack Gebr.ID                               DPE  \n",
       "1119     None       0         DB_A11-Brug-S.Status.BewR  \n",
       "1194     None       0  DB_D00-Algemeen-S.CMD.BrugSl.Cmd  \n",
       "1208     None       0         DB_A11-Brug-S.Status.BewR  \n",
       "1228     None      79  DB_D00-Algemeen-S.CMD.BrugSl.Cmd  \n",
       "1317     None       0         DB_A11-Brug-S.Status.BewR  "
      ]
     },
     "execution_count": 11,
     "metadata": {},
     "output_type": "execute_result"
    }
   ],
   "source": [
    "Duur.head()"
   ]
  },
  {
   "cell_type": "code",
   "execution_count": 12,
   "metadata": {},
   "outputs": [],
   "source": [
    "# Maak een kolom in df met daarin de tijd omgezet naar seconden, zodat het makkelijker rekenen wordt\n",
    "Duur['seconden'] = (Duur.Tijd.astype(np.int64) // 10**9)"
   ]
  },
  {
   "cell_type": "code",
   "execution_count": 13,
   "metadata": {},
   "outputs": [],
   "source": [
    "Duur.to_csv('beweging.csv')"
   ]
  },
  {
   "cell_type": "code",
   "execution_count": 14,
   "metadata": {},
   "outputs": [],
   "source": [
    "begin = 0\n",
    "eind = 0\n",
    "x = 0\n",
    "tst = None\n",
    "sluit = True\n",
    "duur = list()\n",
    "oslist = list()\n",
    "timestamp = list()\n",
    "\n",
    "for index, row in Duur.iterrows():\n",
    "    waarde = row[4]\n",
    "    oms = row[6]\n",
    "    sec = row[14]\n",
    "    ts = row[1]\n",
    "    if ((oms == 'Brug Beweging Actief') & (waarde == \"TRUE\")):\n",
    "        begin = sec\n",
    "        tst = ts       \n",
    "    elif ((oms == 'Brug Beweging Actief') & (waarde == \"FALSE\")):\n",
    "        eind = sec\n",
    "    if (oms == 'Algemeen Commando Brug Openen'):\n",
    "        sluit = False\n",
    "    elif (oms == 'Algemeen Commando Brug Sluiten'):\n",
    "        sluit = True\n",
    "    if ((eind!=0) & (begin!=0)):\n",
    "        duur.append(eind-begin)\n",
    "        timestamp.append(ts)\n",
    "        oslist.append(sluit)\n",
    "        eind = 0\n",
    "        begin = 0\n",
    "    "
   ]
  },
  {
   "cell_type": "code",
   "execution_count": 15,
   "metadata": {},
   "outputs": [],
   "source": [
    "# maak het nieuwe df aan\n",
    "duurdf  = pd.DataFrame(duur)\n",
    "duurdf['beweging'] = oslist\n",
    "duurdf['time'] = timestamp"
   ]
  },
  {
   "cell_type": "code",
   "execution_count": 16,
   "metadata": {},
   "outputs": [
    {
     "data": {
      "text/html": [
       "<div>\n",
       "<style scoped>\n",
       "    .dataframe tbody tr th:only-of-type {\n",
       "        vertical-align: middle;\n",
       "    }\n",
       "\n",
       "    .dataframe tbody tr th {\n",
       "        vertical-align: top;\n",
       "    }\n",
       "\n",
       "    .dataframe thead th {\n",
       "        text-align: right;\n",
       "    }\n",
       "</style>\n",
       "<table border=\"1\" class=\"dataframe\">\n",
       "  <thead>\n",
       "    <tr style=\"text-align: right;\">\n",
       "      <th></th>\n",
       "      <th>0</th>\n",
       "      <th>beweging</th>\n",
       "      <th>time</th>\n",
       "    </tr>\n",
       "  </thead>\n",
       "  <tbody>\n",
       "    <tr>\n",
       "      <th>0</th>\n",
       "      <td>51</td>\n",
       "      <td>True</td>\n",
       "      <td>2015-12-02 15:46:16.276</td>\n",
       "    </tr>\n",
       "    <tr>\n",
       "      <th>1</th>\n",
       "      <td>51</td>\n",
       "      <td>False</td>\n",
       "      <td>2015-12-02 15:44:14.085</td>\n",
       "    </tr>\n",
       "    <tr>\n",
       "      <th>2</th>\n",
       "      <td>51</td>\n",
       "      <td>True</td>\n",
       "      <td>2015-12-02 15:29:43.281</td>\n",
       "    </tr>\n",
       "    <tr>\n",
       "      <th>3</th>\n",
       "      <td>51</td>\n",
       "      <td>False</td>\n",
       "      <td>2015-12-02 15:27:41.079</td>\n",
       "    </tr>\n",
       "    <tr>\n",
       "      <th>4</th>\n",
       "      <td>51</td>\n",
       "      <td>True</td>\n",
       "      <td>2015-12-02 14:17:20.077</td>\n",
       "    </tr>\n",
       "  </tbody>\n",
       "</table>\n",
       "</div>"
      ],
      "text/plain": [
       "    0  beweging                    time\n",
       "0  51      True 2015-12-02 15:46:16.276\n",
       "1  51     False 2015-12-02 15:44:14.085\n",
       "2  51      True 2015-12-02 15:29:43.281\n",
       "3  51     False 2015-12-02 15:27:41.079\n",
       "4  51      True 2015-12-02 14:17:20.077"
      ]
     },
     "execution_count": 16,
     "metadata": {},
     "output_type": "execute_result"
    }
   ],
   "source": [
    "# 0 == sluit\n",
    "# oneven == open\n",
    "\n",
    "duurdf.head()"
   ]
  },
  {
   "cell_type": "code",
   "execution_count": 17,
   "metadata": {},
   "outputs": [],
   "source": [
    "duurdf.columns = ['duur','beweging','time']"
   ]
  },
  {
   "cell_type": "code",
   "execution_count": 18,
   "metadata": {},
   "outputs": [
    {
     "name": "stdout",
     "output_type": "stream",
     "text": [
      "<class 'pandas.core.frame.DataFrame'>\n",
      "RangeIndex: 12809 entries, 0 to 12808\n",
      "Data columns (total 3 columns):\n",
      "duur        12809 non-null int64\n",
      "beweging    12809 non-null bool\n",
      "time        12809 non-null datetime64[ns]\n",
      "dtypes: bool(1), datetime64[ns](1), int64(1)\n",
      "memory usage: 212.7 KB\n"
     ]
    }
   ],
   "source": [
    "duurdf.info()"
   ]
  },
  {
   "cell_type": "markdown",
   "metadata": {},
   "source": [
    "# Mergen van verschillende dataframes"
   ]
  },
  {
   "cell_type": "markdown",
   "metadata": {},
   "source": [
    "## maak één dataframe met  daarin alle waarden die nodig  zijn"
   ]
  },
  {
   "cell_type": "code",
   "execution_count": 19,
   "metadata": {},
   "outputs": [],
   "source": [
    "# samenvoegen van duur data en windrichting\n",
    "# sorteer de dataframes op de time kolom, anders werkt de merge_asof niet\n",
    "sortedduur = duurdf.sort_values('time')\n",
    "sortedwr  =  wrdf.sort_values('time')\n",
    "\n",
    "# voeg de gesorteerde dataframes samen gelet op de time kolom, waarbij hij zoekt naar de eerstvoorgaande time waarde\n",
    "mergeddf = pd.merge_asof(sortedduur,sortedwr, on = 'time')"
   ]
  },
  {
   "cell_type": "code",
   "execution_count": 20,
   "metadata": {},
   "outputs": [],
   "source": [
    "# hetzelfde als hierboven maar dan met de windkracht\n",
    "sortedmerged = mergeddf.sort_values('time')\n",
    "sortedwk  =  wkdf.sort_values('time')\n",
    "duurWrWk = pd.merge_asof(sortedmerged,sortedwk, on = 'time')"
   ]
  },
  {
   "cell_type": "code",
   "execution_count": 21,
   "metadata": {},
   "outputs": [
    {
     "data": {
      "text/html": [
       "<div>\n",
       "<style scoped>\n",
       "    .dataframe tbody tr th:only-of-type {\n",
       "        vertical-align: middle;\n",
       "    }\n",
       "\n",
       "    .dataframe tbody tr th {\n",
       "        vertical-align: top;\n",
       "    }\n",
       "\n",
       "    .dataframe thead th {\n",
       "        text-align: right;\n",
       "    }\n",
       "</style>\n",
       "<table border=\"1\" class=\"dataframe\">\n",
       "  <thead>\n",
       "    <tr style=\"text-align: right;\">\n",
       "      <th></th>\n",
       "      <th>duur</th>\n",
       "      <th>beweging</th>\n",
       "      <th>time</th>\n",
       "      <th>WR</th>\n",
       "      <th>Wk</th>\n",
       "    </tr>\n",
       "  </thead>\n",
       "  <tbody>\n",
       "    <tr>\n",
       "      <th>12799</th>\n",
       "      <td>50</td>\n",
       "      <td>False</td>\n",
       "      <td>2018-11-30 10:00:02.246</td>\n",
       "      <td>234.0</td>\n",
       "      <td>1.762514</td>\n",
       "    </tr>\n",
       "    <tr>\n",
       "      <th>12800</th>\n",
       "      <td>50</td>\n",
       "      <td>True</td>\n",
       "      <td>2018-11-30 10:01:31.146</td>\n",
       "      <td>209.0</td>\n",
       "      <td>1.762514</td>\n",
       "    </tr>\n",
       "    <tr>\n",
       "      <th>12801</th>\n",
       "      <td>50</td>\n",
       "      <td>False</td>\n",
       "      <td>2018-11-30 13:25:50.845</td>\n",
       "      <td>233.0</td>\n",
       "      <td>3.022642</td>\n",
       "    </tr>\n",
       "    <tr>\n",
       "      <th>12802</th>\n",
       "      <td>51</td>\n",
       "      <td>True</td>\n",
       "      <td>2018-11-30 13:29:14.947</td>\n",
       "      <td>231.0</td>\n",
       "      <td>1.890553</td>\n",
       "    </tr>\n",
       "    <tr>\n",
       "      <th>12803</th>\n",
       "      <td>50</td>\n",
       "      <td>False</td>\n",
       "      <td>2018-11-30 13:56:10.835</td>\n",
       "      <td>231.0</td>\n",
       "      <td>1.952763</td>\n",
       "    </tr>\n",
       "    <tr>\n",
       "      <th>12804</th>\n",
       "      <td>51</td>\n",
       "      <td>True</td>\n",
       "      <td>2018-11-30 13:59:27.931</td>\n",
       "      <td>181.0</td>\n",
       "      <td>1.952763</td>\n",
       "    </tr>\n",
       "    <tr>\n",
       "      <th>12805</th>\n",
       "      <td>50</td>\n",
       "      <td>False</td>\n",
       "      <td>2018-11-30 20:19:39.045</td>\n",
       "      <td>218.0</td>\n",
       "      <td>3.440032</td>\n",
       "    </tr>\n",
       "    <tr>\n",
       "      <th>12806</th>\n",
       "      <td>51</td>\n",
       "      <td>True</td>\n",
       "      <td>2018-11-30 20:22:22.750</td>\n",
       "      <td>204.0</td>\n",
       "      <td>2.435981</td>\n",
       "    </tr>\n",
       "    <tr>\n",
       "      <th>12807</th>\n",
       "      <td>50</td>\n",
       "      <td>False</td>\n",
       "      <td>2018-12-01 12:54:19.549</td>\n",
       "      <td>165.0</td>\n",
       "      <td>1.737919</td>\n",
       "    </tr>\n",
       "    <tr>\n",
       "      <th>12808</th>\n",
       "      <td>51</td>\n",
       "      <td>True</td>\n",
       "      <td>2018-12-01 12:55:34.547</td>\n",
       "      <td>154.0</td>\n",
       "      <td>2.789714</td>\n",
       "    </tr>\n",
       "  </tbody>\n",
       "</table>\n",
       "</div>"
      ],
      "text/plain": [
       "       duur  beweging                    time     WR        Wk\n",
       "12799    50     False 2018-11-30 10:00:02.246  234.0  1.762514\n",
       "12800    50      True 2018-11-30 10:01:31.146  209.0  1.762514\n",
       "12801    50     False 2018-11-30 13:25:50.845  233.0  3.022642\n",
       "12802    51      True 2018-11-30 13:29:14.947  231.0  1.890553\n",
       "12803    50     False 2018-11-30 13:56:10.835  231.0  1.952763\n",
       "12804    51      True 2018-11-30 13:59:27.931  181.0  1.952763\n",
       "12805    50     False 2018-11-30 20:19:39.045  218.0  3.440032\n",
       "12806    51      True 2018-11-30 20:22:22.750  204.0  2.435981\n",
       "12807    50     False 2018-12-01 12:54:19.549  165.0  1.737919\n",
       "12808    51      True 2018-12-01 12:55:34.547  154.0  2.789714"
      ]
     },
     "execution_count": 21,
     "metadata": {},
     "output_type": "execute_result"
    }
   ],
   "source": [
    "duurWrWk.tail(10)"
   ]
  },
  {
   "cell_type": "markdown",
   "metadata": {},
   "source": [
    "## check voor outliers"
   ]
  },
  {
   "cell_type": "code",
   "execution_count": 22,
   "metadata": {},
   "outputs": [
    {
     "data": {
      "text/plain": [
       "<matplotlib.axes._subplots.AxesSubplot at 0x2083882ab38>"
      ]
     },
     "execution_count": 22,
     "metadata": {},
     "output_type": "execute_result"
    },
    {
     "data": {
      "image/png": "[encoded data removed]",
      "text/plain": [
       "<Figure size 432x288 with 1 Axes>"
      ]
     },
     "metadata": {
      "needs_background": "light"
     },
     "output_type": "display_data"
    }
   ],
   "source": [
    "duurWrWk.boxplot('duur')"
   ]
  },
  {
   "cell_type": "markdown",
   "metadata": {},
   "source": [
    "## Grafieken sluiten brug"
   ]
  },
  {
   "cell_type": "code",
   "execution_count": 23,
   "metadata": {},
   "outputs": [
    {
     "data": {
      "text/plain": [
       "<matplotlib.axes._subplots.AxesSubplot at 0x2072df70cf8>"
      ]
     },
     "execution_count": 23,
     "metadata": {},
     "output_type": "execute_result"
    },
    {
     "data": {
      "image/png": "[encoded data removed]",
      "text/plain": [
       "<Figure size 432x288 with 1 Axes>"
      ]
     },
     "metadata": {
      "needs_background": "light"
     },
     "output_type": "display_data"
    }
   ],
   "source": [
    "# Duur tegenover tijd\n",
    "openen = duurWrWk[duurWrWk.beweging == False]\n",
    "openen.plot(x = \"time\", y = 'duur', style = '.')"
   ]
  },
  {
   "cell_type": "code",
   "execution_count": 24,
   "metadata": {},
   "outputs": [
    {
     "data": {
      "text/plain": [
       "<matplotlib.axes._subplots.AxesSubplot at 0x20734514b70>"
      ]
     },
     "execution_count": 24,
     "metadata": {},
     "output_type": "execute_result"
    },
    {
     "data": {
      "image/png": "[encoded data removed]",
      "text/plain": [
       "<Figure size 432x288 with 1 Axes>"
      ]
     },
     "metadata": {
      "needs_background": "light"
     },
     "output_type": "display_data"
    }
   ],
   "source": [
    "# duur tegenover tijd\n",
    "sluit = duurWrWk[duurWrWk.beweging == True]\n",
    "sluit.plot(x = \"time\", y = 'duur', style = '.')"
   ]
  },
  {
   "cell_type": "code",
   "execution_count": 75,
   "metadata": {},
   "outputs": [
    {
     "data": {
      "text/plain": [
       "count      6398.000000\n",
       "mean       2374.988746\n",
       "std       20459.396339\n",
       "min      -47501.000000\n",
       "25%          49.000000\n",
       "50%          50.000000\n",
       "75%          51.000000\n",
       "max      293271.000000\n",
       "Name: duur, dtype: float64"
      ]
     },
     "execution_count": 75,
     "metadata": {},
     "output_type": "execute_result"
    }
   ],
   "source": [
    "openen.duur.describe()"
   ]
  },
  {
   "cell_type": "code",
   "execution_count": 125,
   "metadata": {},
   "outputs": [],
   "source": [
    "sluitin = sluit[(sluit.duur>0) & (sluit.duur > 40)]\n",
    "sluitout = sluit[sluit.duur < 0]"
   ]
  },
  {
   "cell_type": "code",
   "execution_count": 126,
   "metadata": {},
   "outputs": [
    {
     "data": {
      "text/plain": [
       "(5266, 5)"
      ]
     },
     "execution_count": 126,
     "metadata": {},
     "output_type": "execute_result"
    }
   ],
   "source": [
    "sluitin.shape"
   ]
  },
  {
   "cell_type": "code",
   "execution_count": 127,
   "metadata": {},
   "outputs": [
    {
     "data": {
      "text/plain": [
       "(1100, 5)"
      ]
     },
     "execution_count": 127,
     "metadata": {},
     "output_type": "execute_result"
    }
   ],
   "source": [
    "sluitout.shape"
   ]
  },
  {
   "cell_type": "code",
   "execution_count": 128,
   "metadata": {},
   "outputs": [
    {
     "data": {
      "text/plain": [
       "2.2504724274179693"
      ]
     },
     "execution_count": 128,
     "metadata": {},
     "output_type": "execute_result"
    }
   ],
   "source": [
    "sluitPerOut = ((131/5821)*100)\n",
    "sluitPerOut"
   ]
  },
  {
   "cell_type": "code",
   "execution_count": 129,
   "metadata": {},
   "outputs": [],
   "source": [
    "openin = openen[(openen.duur >= 40) & (openen.duur <= 110)]\n",
    "openout = openen[(openen.duur < 40) | (openen.duur > 110)]"
   ]
  },
  {
   "cell_type": "code",
   "execution_count": 130,
   "metadata": {},
   "outputs": [
    {
     "data": {
      "text/plain": [
       "(5264, 7)"
      ]
     },
     "execution_count": 130,
     "metadata": {},
     "output_type": "execute_result"
    }
   ],
   "source": [
    "openin.shape"
   ]
  },
  {
   "cell_type": "code",
   "execution_count": 131,
   "metadata": {},
   "outputs": [
    {
     "data": {
      "text/plain": [
       "(1134, 7)"
      ]
     },
     "execution_count": 131,
     "metadata": {},
     "output_type": "execute_result"
    }
   ],
   "source": [
    "openout.shape"
   ]
  },
  {
   "cell_type": "code",
   "execution_count": 132,
   "metadata": {},
   "outputs": [
    {
     "data": {
      "text/plain": [
       "4.401979184439515"
      ]
     },
     "execution_count": 132,
     "metadata": {},
     "output_type": "execute_result"
    }
   ],
   "source": [
    "openPerOut = ((258/5861)*100)\n",
    "openPerOut"
   ]
  },
  {
   "cell_type": "code",
   "execution_count": 133,
   "metadata": {},
   "outputs": [
    {
     "data": {
      "text/plain": [
       "<matplotlib.axes._subplots.AxesSubplot at 0x207bf8d5d68>"
      ]
     },
     "execution_count": 133,
     "metadata": {},
     "output_type": "execute_result"
    },
    {
     "data": {
      "image/png": "[encoded data removed]",
      "text/plain": [
       "<Figure size 432x288 with 1 Axes>"
      ]
     },
     "metadata": {
      "needs_background": "light"
     },
     "output_type": "display_data"
    }
   ],
   "source": [
    "# duur tegenover windkracht\n",
    "sluit.plot(x = \"duur\", y = 'Wk', style = '.', color = 'red')"
   ]
  },
  {
   "cell_type": "code",
   "execution_count": 134,
   "metadata": {},
   "outputs": [
    {
     "data": {
      "text/plain": [
       "<matplotlib.axes._subplots.AxesSubplot at 0x207f866b2b0>"
      ]
     },
     "execution_count": 134,
     "metadata": {},
     "output_type": "execute_result"
    },
    {
     "data": {
      "image/png": "[encoded data removed]",
      "text/plain": [
       "<Figure size 432x288 with 1 Axes>"
      ]
     },
     "metadata": {
      "needs_background": "light"
     },
     "output_type": "display_data"
    }
   ],
   "source": [
    "# Duur tegenover windrichting\n",
    "sluit.plot(x = \"duur\", y = 'WR', style = '.', color = 'purple')"
   ]
  },
  {
   "cell_type": "markdown",
   "metadata": {},
   "source": [
    "## Grafieken openen"
   ]
  },
  {
   "cell_type": "code",
   "execution_count": 135,
   "metadata": {},
   "outputs": [
    {
     "data": {
      "text/plain": [
       "<matplotlib.axes._subplots.AxesSubplot at 0x20801449668>"
      ]
     },
     "execution_count": 135,
     "metadata": {},
     "output_type": "execute_result"
    },
    {
     "data": {
      "image/png": "[encoded data removed]",
      "text/plain": [
       "<Figure size 432x288 with 1 Axes>"
      ]
     },
     "metadata": {
      "needs_background": "light"
     },
     "output_type": "display_data"
    }
   ],
   "source": [
    "# Duur tegenover windkracht\n",
    "openen.plot(x = \"duur\", y = 'Wk', style = '.', color = 'red')"
   ]
  },
  {
   "cell_type": "code",
   "execution_count": 136,
   "metadata": {},
   "outputs": [
    {
     "data": {
      "text/plain": [
       "<matplotlib.axes._subplots.AxesSubplot at 0x208025749b0>"
      ]
     },
     "execution_count": 136,
     "metadata": {},
     "output_type": "execute_result"
    },
    {
     "data": {
      "image/png": "[encoded data removed]",
      "text/plain": [
       "<Figure size 432x288 with 1 Axes>"
      ]
     },
     "metadata": {
      "needs_background": "light"
     },
     "output_type": "display_data"
    }
   ],
   "source": [
    "# Duur tegenover Windrichting\n",
    "openen.plot(x = \"duur\", y = 'WR', style = '.', color = 'purple')"
   ]
  },
  {
   "cell_type": "markdown",
   "metadata": {},
   "source": [
    "## Data Cleaning"
   ]
  },
  {
   "cell_type": "code",
   "execution_count": 173,
   "metadata": {},
   "outputs": [
    {
     "data": {
      "text/html": [
       "<div>\n",
       "<style scoped>\n",
       "    .dataframe tbody tr th:only-of-type {\n",
       "        vertical-align: middle;\n",
       "    }\n",
       "\n",
       "    .dataframe tbody tr th {\n",
       "        vertical-align: top;\n",
       "    }\n",
       "\n",
       "    .dataframe thead th {\n",
       "        text-align: right;\n",
       "    }\n",
       "</style>\n",
       "<table border=\"1\" class=\"dataframe\">\n",
       "  <thead>\n",
       "    <tr style=\"text-align: right;\">\n",
       "      <th></th>\n",
       "      <th>duur</th>\n",
       "      <th>WR</th>\n",
       "      <th>Wk</th>\n",
       "    </tr>\n",
       "  </thead>\n",
       "  <tbody>\n",
       "    <tr>\n",
       "      <th>count</th>\n",
       "      <td>10535.000000</td>\n",
       "      <td>10535.000000</td>\n",
       "      <td>10535.000000</td>\n",
       "    </tr>\n",
       "    <tr>\n",
       "      <th>mean</th>\n",
       "      <td>50.377314</td>\n",
       "      <td>191.955292</td>\n",
       "      <td>1.861058</td>\n",
       "    </tr>\n",
       "    <tr>\n",
       "      <th>std</th>\n",
       "      <td>0.940875</td>\n",
       "      <td>69.559979</td>\n",
       "      <td>1.098332</td>\n",
       "    </tr>\n",
       "    <tr>\n",
       "      <th>min</th>\n",
       "      <td>33.000000</td>\n",
       "      <td>3.000000</td>\n",
       "      <td>0.036169</td>\n",
       "    </tr>\n",
       "    <tr>\n",
       "      <th>25%</th>\n",
       "      <td>50.000000</td>\n",
       "      <td>140.000000</td>\n",
       "      <td>1.038411</td>\n",
       "    </tr>\n",
       "    <tr>\n",
       "      <th>50%</th>\n",
       "      <td>50.000000</td>\n",
       "      <td>213.000000</td>\n",
       "      <td>1.672815</td>\n",
       "    </tr>\n",
       "    <tr>\n",
       "      <th>75%</th>\n",
       "      <td>51.000000</td>\n",
       "      <td>236.000000</td>\n",
       "      <td>2.439417</td>\n",
       "    </tr>\n",
       "    <tr>\n",
       "      <th>max</th>\n",
       "      <td>85.000000</td>\n",
       "      <td>358.000000</td>\n",
       "      <td>12.109375</td>\n",
       "    </tr>\n",
       "  </tbody>\n",
       "</table>\n",
       "</div>"
      ],
      "text/plain": [
       "               duur            WR            Wk\n",
       "count  10535.000000  10535.000000  10535.000000\n",
       "mean      50.377314    191.955292      1.861058\n",
       "std        0.940875     69.559979      1.098332\n",
       "min       33.000000      3.000000      0.036169\n",
       "25%       50.000000    140.000000      1.038411\n",
       "50%       50.000000    213.000000      1.672815\n",
       "75%       51.000000    236.000000      2.439417\n",
       "max       85.000000    358.000000     12.109375"
      ]
     },
     "execution_count": 173,
     "metadata": {},
     "output_type": "execute_result"
    }
   ],
   "source": [
    "# haal de outliers uit de data\n",
    "cleanDuur = duurWrWk[duurWrWk.duur >  30]\n",
    "cleanDuur = cleanDuur[cleanDuur.duur < 110]\n",
    "cleanDuur.describe()"
   ]
  },
  {
   "cell_type": "code",
   "execution_count": 174,
   "metadata": {},
   "outputs": [
    {
     "data": {
      "text/plain": [
       "<matplotlib.axes._subplots.AxesSubplot at 0x207864dd828>"
      ]
     },
     "execution_count": 174,
     "metadata": {},
     "output_type": "execute_result"
    },
    {
     "data": {
      "image/png": "[encoded data removed]",
      "text/plain": [
       "<Figure size 432x288 with 1 Axes>"
      ]
     },
     "metadata": {
      "needs_background": "light"
     },
     "output_type": "display_data"
    }
   ],
   "source": [
    "cleanDuur.boxplot('duur')"
   ]
  },
  {
   "cell_type": "markdown",
   "metadata": {},
   "source": [
    "## Duur van openen bruggen over de tijd"
   ]
  },
  {
   "cell_type": "code",
   "execution_count": 175,
   "metadata": {},
   "outputs": [],
   "source": [
    "cleanOpen = cleanDuur[cleanDuur.beweging == False]"
   ]
  },
  {
   "cell_type": "code",
   "execution_count": 176,
   "metadata": {},
   "outputs": [
    {
     "data": {
      "text/plain": [
       "<matplotlib.axes._subplots.AxesSubplot at 0x20835f7b358>"
      ]
     },
     "execution_count": 176,
     "metadata": {},
     "output_type": "execute_result"
    },
    {
     "data": {
      "image/png": "[encoded data removed]",
      "text/plain": [
       "<Figure size 432x288 with 1 Axes>"
      ]
     },
     "metadata": {
      "needs_background": "light"
     },
     "output_type": "display_data"
    }
   ],
   "source": [
    "cleanOpen.plot(x = 'time', y ='duur', style = '.')"
   ]
  },
  {
   "cell_type": "markdown",
   "metadata": {},
   "source": [
    "## Duur van sluiten bruggen over de tijd"
   ]
  },
  {
   "cell_type": "code",
   "execution_count": 177,
   "metadata": {},
   "outputs": [],
   "source": [
    "cleanSluit = cleanDuur[cleanDuur.beweging == True]"
   ]
  },
  {
   "cell_type": "code",
   "execution_count": 178,
   "metadata": {},
   "outputs": [
    {
     "data": {
      "text/plain": [
       "<matplotlib.axes._subplots.AxesSubplot at 0x20837cb7978>"
      ]
     },
     "execution_count": 178,
     "metadata": {},
     "output_type": "execute_result"
    },
    {
     "data": {
      "image/png": "[encoded data removed]",
      "text/plain": [
       "<Figure size 432x288 with 1 Axes>"
      ]
     },
     "metadata": {
      "needs_background": "light"
     },
     "output_type": "display_data"
    }
   ],
   "source": [
    "cleanSluit.plot(x = \"time\", y = 'duur', style = '.')"
   ]
  },
  {
   "cell_type": "markdown",
   "metadata": {},
   "source": [
    "## data prep voor dagdeel"
   ]
  },
  {
   "cell_type": "code",
   "execution_count": 179,
   "metadata": {},
   "outputs": [
    {
     "name": "stderr",
     "output_type": "stream",
     "text": [
      "C:\\Users\\denni\\Anaconda3\\lib\\site-packages\\ipykernel_launcher.py:2: SettingWithCopyWarning: \n",
      "A value is trying to be set on a copy of a slice from a DataFrame.\n",
      "Try using .loc[row_indexer,col_indexer] = value instead\n",
      "\n",
      "See the caveats in the documentation: http://pandas.pydata.org/pandas-docs/stable/indexing.html#indexing-view-versus-copy\n",
      "  \n",
      "C:\\Users\\denni\\Anaconda3\\lib\\site-packages\\ipykernel_launcher.py:3: SettingWithCopyWarning: \n",
      "A value is trying to be set on a copy of a slice from a DataFrame.\n",
      "Try using .loc[row_indexer,col_indexer] = value instead\n",
      "\n",
      "See the caveats in the documentation: http://pandas.pydata.org/pandas-docs/stable/indexing.html#indexing-view-versus-copy\n",
      "  This is separate from the ipykernel package so we can avoid doing imports until\n"
     ]
    }
   ],
   "source": [
    "# Uur kolom maken om dagdeel te bepalen.\n",
    "cleanOpen['uur'] = cleanOpen.time.dt.hour\n",
    "cleanSluit['uur'] = cleanSluit.time.dt.hour\n",
    "cleanDuur['uur'] = cleanDuur.time.dt.hour"
   ]
  },
  {
   "cell_type": "markdown",
   "metadata": {},
   "source": [
    "# Boxplots\n",
    "## Boxplots per dagdeel"
   ]
  },
  {
   "cell_type": "code",
   "execution_count": 180,
   "metadata": {},
   "outputs": [
    {
     "data": {
      "text/plain": [
       "([<matplotlib.axis.XTick at 0x2082f76e940>,\n",
       "  <matplotlib.axis.XTick at 0x2083905c160>,\n",
       "  <matplotlib.axis.XTick at 0x20837cb74a8>,\n",
       "  <matplotlib.axis.XTick at 0x20833fd1278>],\n",
       " <a list of 4 Text xticklabel objects>)"
      ]
     },
     "execution_count": 180,
     "metadata": {},
     "output_type": "execute_result"
    },
    {
     "data": {
      "image/png": "[encoded data removed]",
      "text/plain": [
       "<Figure size 432x288 with 1 Axes>"
      ]
     },
     "metadata": {
      "needs_background": "light"
     },
     "output_type": "display_data"
    }
   ],
   "source": [
    "ochtendDuur = cleanDuur[((cleanDuur.uur >= 6)  & (cleanDuur.uur <= 12))]\n",
    "middagDuur = cleanDuur[((cleanDuur.uur >= 13)  & (cleanDuur.uur <= 18))]\n",
    "avondDuur = cleanDuur[((cleanDuur.uur >= 19)  & (cleanDuur.uur <= 24))]\n",
    "nachtDuur = cleanDuur[((cleanDuur.uur >= 0)  & (cleanDuur.uur <= 5))]\n",
    "data  = [cleanDuur.duur, ochtendDuur.duur, middagDuur.duur, avondDuur.duur, nachtDuur.duur]\n",
    "plt.boxplot(data)\n",
    "plt.xticks([1, 2, 3, 4], ('alles','ochtend', 'middag','avond', 'nacht'))"
   ]
  },
  {
   "cell_type": "markdown",
   "metadata": {},
   "source": [
    "## Boxplot openen dagdeel"
   ]
  },
  {
   "cell_type": "code",
   "execution_count": 181,
   "metadata": {},
   "outputs": [
    {
     "data": {
      "text/plain": [
       "Text(0, 0.5, 'Duur (s)')"
      ]
     },
     "execution_count": 181,
     "metadata": {},
     "output_type": "execute_result"
    },
    {
     "data": {
      "image/png": "[encoded data removed]",
      "text/plain": [
       "<Figure size 1152x648 with 1 Axes>"
      ]
     },
     "metadata": {
      "needs_background": "light"
     },
     "output_type": "display_data"
    }
   ],
   "source": [
    "# maak nieuwe dataframes met daarin alle ochtend, middag en avond openingen.\n",
    "# Deze brug opent in deze periode niet s'nachts\n",
    "\n",
    "ochtendDuurOpen = cleanOpen[((cleanOpen.uur >= 6)  & (cleanOpen.uur <= 12))]\n",
    "middagDuurOpen= cleanOpen[((cleanOpen.uur >= 13)  & (cleanOpen.uur <= 18))]\n",
    "avondDuurOpen = cleanOpen[((cleanOpen.uur >= 19)  & (cleanOpen.uur <= 24))]\n",
    "\n",
    "# selecteer de data om in de boxplot te zetten\n",
    "dataOpen  = [cleanOpen.duur, ochtendDuurOpen.duur, middagDuurOpen.duur, avondDuurOpen.duur]\n",
    "\n",
    "# Boxplot\n",
    "plt.figure(figsize=(16,9))\n",
    "plt.boxplot(dataOpen)\n",
    "plt.xticks([1, 2, 3, 4], ('Totaal','ochtend', 'middag','avond'))\n",
    "plt.title('Duur van openen van brug WT per dagdeel van 1-1-2016 tot 4-11-2016')\n",
    "plt.ylabel('Duur (s)')"
   ]
  },
  {
   "cell_type": "markdown",
   "metadata": {},
   "source": [
    "## Boxplot sluiten per dagdeel"
   ]
  },
  {
   "cell_type": "code",
   "execution_count": 182,
   "metadata": {},
   "outputs": [
    {
     "data": {
      "text/plain": [
       "Text(0, 0.5, 'Duur (s)')"
      ]
     },
     "execution_count": 182,
     "metadata": {},
     "output_type": "execute_result"
    },
    {
     "data": {
      "image/png": "[encoded data removed]",
      "text/plain": [
       "<Figure size 1152x648 with 1 Axes>"
      ]
     },
     "metadata": {
      "needs_background": "light"
     },
     "output_type": "display_data"
    }
   ],
   "source": [
    "ochtendDuurSluit = cleanSluit[((cleanSluit.uur >= 6)  & (cleanSluit.uur <= 12))]\n",
    "middagDuurSluit= cleanSluit[((cleanSluit.uur >= 13)  & (cleanSluit.uur <= 18))]\n",
    "avondDuurSluit = cleanSluit[((cleanSluit.uur >= 19)  & (cleanSluit.uur <= 24))]\n",
    "dataSluit  = [cleanSluit.duur, ochtendDuurSluit.duur, middagDuurSluit.duur, avondDuurSluit.duur]\n",
    "plt.figure(figsize=(16,9))\n",
    "plt.boxplot(dataSluit)\n",
    "plt.xticks([1, 2, 3, 4], ('Totaal','ochtend', 'middag','avond'))\n",
    "plt.title('Duur van sluiten van brug WT per dagdeel van 1-1-2016 tot 4-11-2016')\n",
    "plt.ylabel('Duur (s)')"
   ]
  },
  {
   "cell_type": "markdown",
   "metadata": {},
   "source": [
    "## Boxplots per windrichting"
   ]
  },
  {
   "cell_type": "code",
   "execution_count": 183,
   "metadata": {},
   "outputs": [
    {
     "data": {
      "text/plain": [
       "([<matplotlib.axis.XTick at 0x20759abb198>,\n",
       "  <matplotlib.axis.XTick at 0x20759adda90>,\n",
       "  <matplotlib.axis.XTick at 0x20759add7b8>,\n",
       "  <matplotlib.axis.XTick at 0x20759f95588>,\n",
       "  <matplotlib.axis.XTick at 0x20759f95a20>,\n",
       "  <matplotlib.axis.XTick at 0x20759f95ef0>,\n",
       "  <matplotlib.axis.XTick at 0x20759faf400>,\n",
       "  <matplotlib.axis.XTick at 0x20759faf8d0>,\n",
       "  <matplotlib.axis.XTick at 0x20759fafda0>],\n",
       " <a list of 9 Text xticklabel objects>)"
      ]
     },
     "execution_count": 183,
     "metadata": {},
     "output_type": "execute_result"
    },
    {
     "data": {
      "image/png": "[encoded data removed]",
      "text/plain": [
       "<Figure size 432x288 with 1 Axes>"
      ]
     },
     "metadata": {
      "needs_background": "light"
     },
     "output_type": "display_data"
    }
   ],
   "source": [
    "cleanDuur['N'] = ((cleanDuur.WR >= 0) & (cleanDuur.WR <= 22.5) | (cleanDuur.WR >= 337.6) & (cleanDuur.WR <= 360)).astype('int')\n",
    "cleanDuur['NO'] = ((cleanDuur.WR >=22.6) & (cleanDuur.WR <= 67.5)).astype('int')\n",
    "cleanDuur['O'] = ((cleanDuur.WR >=67.6) & (cleanDuur.WR <= 112.5)).astype('int')\n",
    "cleanDuur['ZO'] = ((cleanDuur.WR >=112.6) & (cleanDuur.WR <= 157.5)).astype('int')\n",
    "cleanDuur['Z'] = ((cleanDuur.WR >=157.6) & (cleanDuur.WR <= 202.5)).astype('int')\n",
    "cleanDuur['ZW'] = ((cleanDuur.WR >=202.6) & (cleanDuur.WR <= 247.2)).astype('int')\n",
    "cleanDuur['W'] = ((cleanDuur.WR>=247.6) & (cleanDuur.WR <= 292.5)).astype('int')\n",
    "cleanDuur['NW'] = ((cleanDuur.WR >=292.6) & (cleanDuur.WR <= 337.5)).astype('int')\n",
    "\n",
    "N = cleanDuur[cleanDuur.N == 1]\n",
    "NO = cleanDuur[cleanDuur.NO == 1]\n",
    "O = cleanDuur[cleanDuur.O == 1]\n",
    "ZO = cleanDuur[cleanDuur.ZO == 1]\n",
    "Z = cleanDuur[cleanDuur.Z == 1]\n",
    "ZW = cleanDuur[cleanDuur.ZW == 1]\n",
    "W = cleanDuur[cleanDuur.W == 1]\n",
    "NW = cleanDuur[cleanDuur.NW == 1]\n",
    "\n",
    "data = [cleanDuur.duur, N.duur,NO.duur,O.duur,ZO.duur,Z.duur, ZW.duur, W.duur, NW.duur]\n",
    "plt.boxplot(data)\n",
    "plt.xticks([1, 2, 3, 4, 5, 6, 7, 8, 9], ('Totaal','N','NO','O','ZO' ,'Z' ,'ZW','W','NW'))"
   ]
  },
  {
   "cell_type": "markdown",
   "metadata": {},
   "source": [
    "## Boxplot duur openen per windrichting"
   ]
  },
  {
   "cell_type": "code",
   "execution_count": 184,
   "metadata": {},
   "outputs": [
    {
     "data": {
      "text/plain": [
       "Text(0, 0.5, 'Duur (s)')"
      ]
     },
     "execution_count": 184,
     "metadata": {},
     "output_type": "execute_result"
    },
    {
     "data": {
      "image/png": "[encoded data removed]",
      "text/plain": [
       "<Figure size 1152x648 with 1 Axes>"
      ]
     },
     "metadata": {
      "needs_background": "light"
     },
     "output_type": "display_data"
    }
   ],
   "source": [
    "# dataframes aanmaken met alleen de data per windrichting, dus dataframe voor Noord, Oost, etc.\n",
    "openN = cleanOpen[((cleanOpen.WR >= 0) & (cleanOpen.WR <= 22.5) | (cleanOpen.WR >= 337.6) & (cleanOpen.WR <= 360))]\n",
    "openNO = cleanOpen[((cleanOpen.WR >=22.6) & (cleanOpen.WR <= 67.5))]\n",
    "openO = cleanOpen[((cleanOpen.WR >=67.6) & (cleanOpen.WR <= 112.5))]\n",
    "openZO = cleanOpen[((cleanOpen.WR >=112.6) & (cleanOpen.WR <= 157.5))]\n",
    "openZ = cleanOpen[((cleanOpen.WR >=157.6) & (cleanOpen.WR <= 202.5))]\n",
    "openZW = cleanOpen[((cleanOpen.WR >=202.6) & (cleanOpen.WR <= 247.2))]\n",
    "openW = cleanOpen[((cleanOpen.WR>=247.6) & (cleanOpen.WR <= 292.5))]\n",
    "openNW = cleanOpen[((cleanOpen.WR >=292.6) & (cleanOpen.WR <= 337.5))]\n",
    "\n",
    "# selecteer data voor plot\n",
    "data = [cleanOpen.duur, openN.duur,openNO.duur,openO.duur,openZO.duur,openZ.duur, openZW.duur, openW.duur, openNW.duur]\n",
    "\n",
    "# Boxplot\n",
    "plt.figure(figsize=(16,9))\n",
    "plt.boxplot(data)\n",
    "plt.xticks([1, 2, 3, 4, 5, 6, 7, 8, 9], ('Totaal','N','NO','O','ZO' ,'Z' ,'ZW','W','NW'))\n",
    "plt.title('Duur van opening brug WT per windrichting van 1-1-2016 tot 4-11-2016')\n",
    "plt.ylabel('Duur (s)')"
   ]
  },
  {
   "cell_type": "markdown",
   "metadata": {},
   "source": [
    "## Boxplot duur sluiten per windrichting"
   ]
  },
  {
   "cell_type": "code",
   "execution_count": 185,
   "metadata": {},
   "outputs": [
    {
     "data": {
      "text/plain": [
       "Text(0, 0.5, 'Duur (s)')"
      ]
     },
     "execution_count": 185,
     "metadata": {},
     "output_type": "execute_result"
    },
    {
     "data": {
      "image/png": "[encoded data removed]",
      "text/plain": [
       "<Figure size 1152x648 with 1 Axes>"
      ]
     },
     "metadata": {
      "needs_background": "light"
     },
     "output_type": "display_data"
    }
   ],
   "source": [
    "sluitN = cleanSluit[((cleanSluit.WR >= 0) & (cleanSluit.WR <= 22.5) | (cleanSluit.WR >= 337.6) & (cleanSluit.WR <= 360))]\n",
    "sluitNO = cleanSluit[((cleanSluit.WR >=22.6) & (cleanSluit.WR <= 67.5))]\n",
    "sluitO = cleanSluit[((cleanSluit.WR >=67.6) & (cleanSluit.WR <= 112.5))]\n",
    "sluitZO = cleanSluit[((cleanSluit.WR >=112.6) & (cleanSluit.WR <= 157.5))]\n",
    "sluitZ = cleanSluit[((cleanSluit.WR >=157.6) & (cleanSluit.WR <= 202.5))]\n",
    "sluitZW = cleanSluit[((cleanSluit.WR >=202.6) & (cleanSluit.WR <= 247.2))]\n",
    "sluitW = cleanSluit[((cleanSluit.WR>=247.6) & (cleanSluit.WR <= 292.5))]\n",
    "sluitNW = cleanSluit[((cleanSluit.WR >=292.6) & (cleanSluit.WR <= 337.5))]\n",
    "\n",
    "data = [cleanSluit.duur, sluitN.duur,sluitNO.duur,sluitO.duur,sluitZO.duur,sluitZ.duur, sluitZW.duur, sluitW.duur, sluitNW.duur]\n",
    "\n",
    "plt.figure(figsize=(16,9))\n",
    "plt.boxplot(data)\n",
    "plt.xticks([1, 2, 3, 4, 5, 6, 7, 8, 9], ('Totaal','N','NO','O','ZO' ,'Z' ,'ZW','W','NW'))\n",
    "plt.title('Duur van sluiting brug WT per windrichting van 1-1-2016 tot 4-11-2016')\n",
    "plt.ylabel('Duur (s)')"
   ]
  },
  {
   "cell_type": "markdown",
   "metadata": {},
   "source": [
    "# Scatter duur openen"
   ]
  },
  {
   "cell_type": "code",
   "execution_count": 186,
   "metadata": {},
   "outputs": [
    {
     "name": "stderr",
     "output_type": "stream",
     "text": [
      "C:\\Users\\denni\\Anaconda3\\lib\\site-packages\\ipykernel_launcher.py:21: SettingWithCopyWarning: \n",
      "A value is trying to be set on a copy of a slice from a DataFrame.\n",
      "Try using .loc[row_indexer,col_indexer] = value instead\n",
      "\n",
      "See the caveats in the documentation: http://pandas.pydata.org/pandas-docs/stable/indexing.html#indexing-view-versus-copy\n"
     ]
    },
    {
     "data": {
      "text/html": [
       "<div>\n",
       "<style scoped>\n",
       "    .dataframe tbody tr th:only-of-type {\n",
       "        vertical-align: middle;\n",
       "    }\n",
       "\n",
       "    .dataframe tbody tr th {\n",
       "        vertical-align: top;\n",
       "    }\n",
       "\n",
       "    .dataframe thead th {\n",
       "        text-align: right;\n",
       "    }\n",
       "</style>\n",
       "<table border=\"1\" class=\"dataframe\">\n",
       "  <thead>\n",
       "    <tr style=\"text-align: right;\">\n",
       "      <th></th>\n",
       "      <th>duur</th>\n",
       "      <th>beweging</th>\n",
       "      <th>time</th>\n",
       "      <th>WR</th>\n",
       "      <th>Wk</th>\n",
       "      <th>uur</th>\n",
       "      <th>WRbin</th>\n",
       "    </tr>\n",
       "  </thead>\n",
       "  <tbody>\n",
       "    <tr>\n",
       "      <th>0</th>\n",
       "      <td>51</td>\n",
       "      <td>False</td>\n",
       "      <td>2015-12-02 10:33:47.383</td>\n",
       "      <td>340.0</td>\n",
       "      <td>0.238715</td>\n",
       "      <td>10</td>\n",
       "      <td>0</td>\n",
       "    </tr>\n",
       "    <tr>\n",
       "      <th>2</th>\n",
       "      <td>51</td>\n",
       "      <td>False</td>\n",
       "      <td>2015-12-02 12:56:44.680</td>\n",
       "      <td>118.0</td>\n",
       "      <td>0.607639</td>\n",
       "      <td>12</td>\n",
       "      <td>3</td>\n",
       "    </tr>\n",
       "    <tr>\n",
       "      <th>4</th>\n",
       "      <td>51</td>\n",
       "      <td>False</td>\n",
       "      <td>2015-12-02 13:59:34.863</td>\n",
       "      <td>221.0</td>\n",
       "      <td>1.844618</td>\n",
       "      <td>13</td>\n",
       "      <td>5</td>\n",
       "    </tr>\n",
       "    <tr>\n",
       "      <th>6</th>\n",
       "      <td>51</td>\n",
       "      <td>False</td>\n",
       "      <td>2015-12-02 14:12:17.657</td>\n",
       "      <td>150.0</td>\n",
       "      <td>3.363715</td>\n",
       "      <td>14</td>\n",
       "      <td>3</td>\n",
       "    </tr>\n",
       "    <tr>\n",
       "      <th>8</th>\n",
       "      <td>51</td>\n",
       "      <td>False</td>\n",
       "      <td>2015-12-02 15:27:41.079</td>\n",
       "      <td>217.0</td>\n",
       "      <td>3.754340</td>\n",
       "      <td>15</td>\n",
       "      <td>5</td>\n",
       "    </tr>\n",
       "  </tbody>\n",
       "</table>\n",
       "</div>"
      ],
      "text/plain": [
       "   duur  beweging                    time     WR        Wk  uur  WRbin\n",
       "0    51     False 2015-12-02 10:33:47.383  340.0  0.238715   10      0\n",
       "2    51     False 2015-12-02 12:56:44.680  118.0  0.607639   12      3\n",
       "4    51     False 2015-12-02 13:59:34.863  221.0  1.844618   13      5\n",
       "6    51     False 2015-12-02 14:12:17.657  150.0  3.363715   14      3\n",
       "8    51     False 2015-12-02 15:27:41.079  217.0  3.754340   15      5"
      ]
     },
     "execution_count": 186,
     "metadata": {},
     "output_type": "execute_result"
    }
   ],
   "source": [
    "wrbin = list()\n",
    "for index, row in cleanOpen.iterrows():\n",
    "    wr = row[3]\n",
    "    wk = row[4]\n",
    "    if(((wr >= 0) & (wr<=22.5))| ((wr >= 337.6) & (wr<=360))):\n",
    "        wrbin.append(0)      \n",
    "    elif((wr >= 22.6) & (wr<=67.5)):\n",
    "        wrbin.append(1)\n",
    "    elif((wr >= 67.6) & (wr<=112.5)):\n",
    "        wrbin.append(2)\n",
    "    elif((wr >= 112.6) & (wr<=157.5)):\n",
    "        wrbin.append(3)\n",
    "    elif((wr >= 157.6) & (wr<=202.5)):\n",
    "        wrbin.append(4)\n",
    "    elif((wr >= 202.6) & (wr<=247.5)):\n",
    "        wrbin.append(5)\n",
    "    elif((wr >= 247.6) & (wr<=292.5)):\n",
    "        wrbin.append(6)\n",
    "    elif((wr >= 292.6) & (wr<=337.5)):\n",
    "        wrbin.append(7)\n",
    "cleanOpen['WRbin'] = wrbin\n",
    "cleanOpen.head()"
   ]
  },
  {
   "cell_type": "code",
   "execution_count": 187,
   "metadata": {},
   "outputs": [
    {
     "data": {
      "text/plain": [
       "count    5266.000000\n",
       "mean        1.866181\n",
       "std         1.112538\n",
       "min         0.036169\n",
       "25%         1.031630\n",
       "50%         1.683666\n",
       "75%         2.465007\n",
       "max        12.109375\n",
       "Name: Wk, dtype: float64"
      ]
     },
     "execution_count": 187,
     "metadata": {},
     "output_type": "execute_result"
    }
   ],
   "source": [
    "cleanOpen.Wk.describe()"
   ]
  },
  {
   "cell_type": "code",
   "execution_count": 188,
   "metadata": {},
   "outputs": [
    {
     "name": "stderr",
     "output_type": "stream",
     "text": [
      "C:\\Users\\denni\\Anaconda3\\lib\\site-packages\\ipykernel_launcher.py:26: SettingWithCopyWarning: \n",
      "A value is trying to be set on a copy of a slice from a DataFrame.\n",
      "Try using .loc[row_indexer,col_indexer] = value instead\n",
      "\n",
      "See the caveats in the documentation: http://pandas.pydata.org/pandas-docs/stable/indexing.html#indexing-view-versus-copy\n"
     ]
    },
    {
     "data": {
      "text/html": [
       "<div>\n",
       "<style scoped>\n",
       "    .dataframe tbody tr th:only-of-type {\n",
       "        vertical-align: middle;\n",
       "    }\n",
       "\n",
       "    .dataframe tbody tr th {\n",
       "        vertical-align: top;\n",
       "    }\n",
       "\n",
       "    .dataframe thead th {\n",
       "        text-align: right;\n",
       "    }\n",
       "</style>\n",
       "<table border=\"1\" class=\"dataframe\">\n",
       "  <thead>\n",
       "    <tr style=\"text-align: right;\">\n",
       "      <th></th>\n",
       "      <th>duur</th>\n",
       "      <th>beweging</th>\n",
       "      <th>time</th>\n",
       "      <th>WR</th>\n",
       "      <th>Wk</th>\n",
       "      <th>uur</th>\n",
       "      <th>WRbin</th>\n",
       "      <th>WKbin</th>\n",
       "    </tr>\n",
       "  </thead>\n",
       "  <tbody>\n",
       "    <tr>\n",
       "      <th>0</th>\n",
       "      <td>51</td>\n",
       "      <td>False</td>\n",
       "      <td>2015-12-02 10:33:47.383</td>\n",
       "      <td>340.0</td>\n",
       "      <td>0.238715</td>\n",
       "      <td>10</td>\n",
       "      <td>0</td>\n",
       "      <td>1</td>\n",
       "    </tr>\n",
       "    <tr>\n",
       "      <th>2</th>\n",
       "      <td>51</td>\n",
       "      <td>False</td>\n",
       "      <td>2015-12-02 12:56:44.680</td>\n",
       "      <td>118.0</td>\n",
       "      <td>0.607639</td>\n",
       "      <td>12</td>\n",
       "      <td>3</td>\n",
       "      <td>1</td>\n",
       "    </tr>\n",
       "    <tr>\n",
       "      <th>4</th>\n",
       "      <td>51</td>\n",
       "      <td>False</td>\n",
       "      <td>2015-12-02 13:59:34.863</td>\n",
       "      <td>221.0</td>\n",
       "      <td>1.844618</td>\n",
       "      <td>13</td>\n",
       "      <td>5</td>\n",
       "      <td>2</td>\n",
       "    </tr>\n",
       "    <tr>\n",
       "      <th>6</th>\n",
       "      <td>51</td>\n",
       "      <td>False</td>\n",
       "      <td>2015-12-02 14:12:17.657</td>\n",
       "      <td>150.0</td>\n",
       "      <td>3.363715</td>\n",
       "      <td>14</td>\n",
       "      <td>3</td>\n",
       "      <td>3</td>\n",
       "    </tr>\n",
       "    <tr>\n",
       "      <th>8</th>\n",
       "      <td>51</td>\n",
       "      <td>False</td>\n",
       "      <td>2015-12-02 15:27:41.079</td>\n",
       "      <td>217.0</td>\n",
       "      <td>3.754340</td>\n",
       "      <td>15</td>\n",
       "      <td>5</td>\n",
       "      <td>3</td>\n",
       "    </tr>\n",
       "  </tbody>\n",
       "</table>\n",
       "</div>"
      ],
      "text/plain": [
       "   duur  beweging                    time     WR        Wk  uur  WRbin  WKbin\n",
       "0    51     False 2015-12-02 10:33:47.383  340.0  0.238715   10      0      1\n",
       "2    51     False 2015-12-02 12:56:44.680  118.0  0.607639   12      3      1\n",
       "4    51     False 2015-12-02 13:59:34.863  221.0  1.844618   13      5      2\n",
       "6    51     False 2015-12-02 14:12:17.657  150.0  3.363715   14      3      3\n",
       "8    51     False 2015-12-02 15:27:41.079  217.0  3.754340   15      5      3"
      ]
     },
     "execution_count": 188,
     "metadata": {},
     "output_type": "execute_result"
    }
   ],
   "source": [
    "wkbin = list()\n",
    "for index, row in cleanOpen.iterrows():\n",
    "    wk = row[4]\n",
    "    if((wk >= 0) & (wk<=0.2)):\n",
    "        wkbin.append(0)      \n",
    "    elif((wk > 0.2) & (wk<=1.5)):\n",
    "        wkbin.append(1)\n",
    "    elif((wk > 1.5) & (wk<=3.3)):\n",
    "        wkbin.append(2)\n",
    "    elif((wk > 3.3) & (wk<=5.4)):\n",
    "        wkbin.append(3)\n",
    "    elif((wk > 5.4) & (wk<=7.9)):\n",
    "        wkbin.append(4)\n",
    "    elif((wk > 7.9) & (wk<=10.7)):\n",
    "        wkbin.append(5)\n",
    "    elif((wk > 10.7) & (wk<=13.8)):\n",
    "        wkbin.append(6)\n",
    "    elif((wk > 13.8) & (wk<=17.1)):\n",
    "        wkbin.append(7)\n",
    "    elif((wk > 17.1) & (wk<=20.7)):\n",
    "        wkbin.append(8)   \n",
    "    elif((wk > 20.7) & (wk<=24.4)):\n",
    "        wkbin.append(9)\n",
    "    elif((wk > 24.4) & (wk<=28.4)):\n",
    "        wkbin.append(10)\n",
    "cleanOpen['WKbin'] = wkbin\n",
    "cleanOpen.head()\n"
   ]
  },
  {
   "cell_type": "code",
   "execution_count": 189,
   "metadata": {},
   "outputs": [
    {
     "data": {
      "text/plain": [
       "Text(0.5, 1.0, 'Duur per windrichting')"
      ]
     },
     "execution_count": 189,
     "metadata": {},
     "output_type": "execute_result"
    },
    {
     "data": {
      "image/png": "[encoded data removed]",
      "text/plain": [
       "<Figure size 432x288 with 1 Axes>"
      ]
     },
     "metadata": {
      "needs_background": "light"
     },
     "output_type": "display_data"
    }
   ],
   "source": [
    "fig, ax = plt.subplots()\n",
    "scatter = ax.scatter(cleanOpen.WR, cleanOpen.duur, c = cleanOpen.WRbin,  s=50, cmap='gnuplot')\n",
    "ax.set_title(\"Duur per windrichting\")"
   ]
  },
  {
   "cell_type": "code",
   "execution_count": 190,
   "metadata": {},
   "outputs": [
    {
     "data": {
      "text/plain": [
       "Text(0.5, 1.0, 'Duur per windrichting')"
      ]
     },
     "execution_count": 190,
     "metadata": {},
     "output_type": "execute_result"
    },
    {
     "data": {
      "image/png": "[encoded data removed]",
      "text/plain": [
       "<Figure size 432x288 with 1 Axes>"
      ]
     },
     "metadata": {
      "needs_background": "light"
     },
     "output_type": "display_data"
    }
   ],
   "source": [
    "fig, ax = plt.subplots()\n",
    "scatter = ax.scatter(cleanOpen.WR, cleanOpen.duur, c = cleanOpen.WKbin,  s=50, cmap='gnuplot')\n",
    "ax.set_title(\"Duur per windrichting\")"
   ]
  },
  {
   "cell_type": "code",
   "execution_count": 191,
   "metadata": {},
   "outputs": [
    {
     "data": {
      "text/plain": [
       "Text(0.5, 1.0, 'Duur per windkracht')"
      ]
     },
     "execution_count": 191,
     "metadata": {},
     "output_type": "execute_result"
    },
    {
     "data": {
      "image/png": "[encoded data removed]",
      "text/plain": [
       "<Figure size 432x288 with 1 Axes>"
      ]
     },
     "metadata": {
      "needs_background": "light"
     },
     "output_type": "display_data"
    }
   ],
   "source": [
    "fig, ax = plt.subplots()\n",
    "scatter = ax.scatter(cleanOpen.Wk, cleanOpen.duur, c = cleanOpen.WKbin,  s=50, cmap='gnuplot')\n",
    "ax.set_title(\"Duur per windkracht\")"
   ]
  },
  {
   "cell_type": "code",
   "execution_count": 192,
   "metadata": {},
   "outputs": [
    {
     "data": {
      "text/plain": [
       "Text(0.5, 1.0, 'Duur per windkracht')"
      ]
     },
     "execution_count": 192,
     "metadata": {},
     "output_type": "execute_result"
    },
    {
     "data": {
      "image/png": "[encoded data removed]",
      "text/plain": [
       "<Figure size 432x288 with 1 Axes>"
      ]
     },
     "metadata": {
      "needs_background": "light"
     },
     "output_type": "display_data"
    }
   ],
   "source": [
    "fig, ax = plt.subplots()\n",
    "scatter = ax.scatter(cleanOpen.Wk, cleanOpen.duur, c = cleanOpen.WRbin,  s=50, cmap='gnuplot')\n",
    "ax.set_title(\"Duur per windkracht\")"
   ]
  },
  {
   "cell_type": "markdown",
   "metadata": {},
   "source": [
    "# Scatter duur sluiten"
   ]
  },
  {
   "cell_type": "code",
   "execution_count": 193,
   "metadata": {},
   "outputs": [
    {
     "name": "stderr",
     "output_type": "stream",
     "text": [
      "C:\\Users\\denni\\Anaconda3\\lib\\site-packages\\ipykernel_launcher.py:21: SettingWithCopyWarning: \n",
      "A value is trying to be set on a copy of a slice from a DataFrame.\n",
      "Try using .loc[row_indexer,col_indexer] = value instead\n",
      "\n",
      "See the caveats in the documentation: http://pandas.pydata.org/pandas-docs/stable/indexing.html#indexing-view-versus-copy\n"
     ]
    },
    {
     "data": {
      "text/html": [
       "<div>\n",
       "<style scoped>\n",
       "    .dataframe tbody tr th:only-of-type {\n",
       "        vertical-align: middle;\n",
       "    }\n",
       "\n",
       "    .dataframe tbody tr th {\n",
       "        vertical-align: top;\n",
       "    }\n",
       "\n",
       "    .dataframe thead th {\n",
       "        text-align: right;\n",
       "    }\n",
       "</style>\n",
       "<table border=\"1\" class=\"dataframe\">\n",
       "  <thead>\n",
       "    <tr style=\"text-align: right;\">\n",
       "      <th></th>\n",
       "      <th>duur</th>\n",
       "      <th>beweging</th>\n",
       "      <th>time</th>\n",
       "      <th>WR</th>\n",
       "      <th>Wk</th>\n",
       "      <th>uur</th>\n",
       "      <th>WRbin</th>\n",
       "    </tr>\n",
       "  </thead>\n",
       "  <tbody>\n",
       "    <tr>\n",
       "      <th>1</th>\n",
       "      <td>51</td>\n",
       "      <td>True</td>\n",
       "      <td>2015-12-02 10:36:31.285</td>\n",
       "      <td>267.0</td>\n",
       "      <td>1.258680</td>\n",
       "      <td>10</td>\n",
       "      <td>6</td>\n",
       "    </tr>\n",
       "    <tr>\n",
       "      <th>3</th>\n",
       "      <td>51</td>\n",
       "      <td>True</td>\n",
       "      <td>2015-12-02 13:01:22.467</td>\n",
       "      <td>225.0</td>\n",
       "      <td>1.432292</td>\n",
       "      <td>13</td>\n",
       "      <td>5</td>\n",
       "    </tr>\n",
       "    <tr>\n",
       "      <th>5</th>\n",
       "      <td>51</td>\n",
       "      <td>True</td>\n",
       "      <td>2015-12-02 14:02:17.685</td>\n",
       "      <td>235.0</td>\n",
       "      <td>1.974826</td>\n",
       "      <td>14</td>\n",
       "      <td>5</td>\n",
       "    </tr>\n",
       "    <tr>\n",
       "      <th>7</th>\n",
       "      <td>51</td>\n",
       "      <td>True</td>\n",
       "      <td>2015-12-02 14:17:20.077</td>\n",
       "      <td>215.0</td>\n",
       "      <td>2.039931</td>\n",
       "      <td>14</td>\n",
       "      <td>5</td>\n",
       "    </tr>\n",
       "    <tr>\n",
       "      <th>9</th>\n",
       "      <td>51</td>\n",
       "      <td>True</td>\n",
       "      <td>2015-12-02 15:29:43.281</td>\n",
       "      <td>238.0</td>\n",
       "      <td>2.148438</td>\n",
       "      <td>15</td>\n",
       "      <td>5</td>\n",
       "    </tr>\n",
       "  </tbody>\n",
       "</table>\n",
       "</div>"
      ],
      "text/plain": [
       "   duur  beweging                    time     WR        Wk  uur  WRbin\n",
       "1    51      True 2015-12-02 10:36:31.285  267.0  1.258680   10      6\n",
       "3    51      True 2015-12-02 13:01:22.467  225.0  1.432292   13      5\n",
       "5    51      True 2015-12-02 14:02:17.685  235.0  1.974826   14      5\n",
       "7    51      True 2015-12-02 14:17:20.077  215.0  2.039931   14      5\n",
       "9    51      True 2015-12-02 15:29:43.281  238.0  2.148438   15      5"
      ]
     },
     "execution_count": 193,
     "metadata": {},
     "output_type": "execute_result"
    }
   ],
   "source": [
    "wrbin = list()\n",
    "for index, row in cleanSluit.iterrows():\n",
    "    wr = row[3]\n",
    "    wk = row[4]\n",
    "    if(((wr >= 0) & (wr<=22.5))| ((wr >= 337.6) & (wr<=360))):\n",
    "        wrbin.append(0)      \n",
    "    elif((wr >= 22.6) & (wr<=67.5)):\n",
    "        wrbin.append(1)\n",
    "    elif((wr >= 67.6) & (wr<=112.5)):\n",
    "        wrbin.append(2)\n",
    "    elif((wr >= 112.6) & (wr<=157.5)):\n",
    "        wrbin.append(3)\n",
    "    elif((wr >= 157.6) & (wr<=202.5)):\n",
    "        wrbin.append(4)\n",
    "    elif((wr >= 202.6) & (wr<=247.5)):\n",
    "        wrbin.append(5)\n",
    "    elif((wr >= 247.6) & (wr<=292.5)):\n",
    "        wrbin.append(6)\n",
    "    elif((wr >= 292.6) & (wr<=337.5)):\n",
    "        wrbin.append(7)\n",
    "cleanSluit['WRbin'] = wrbin\n",
    "cleanSluit.head()"
   ]
  },
  {
   "cell_type": "code",
   "execution_count": 194,
   "metadata": {},
   "outputs": [
    {
     "name": "stderr",
     "output_type": "stream",
     "text": [
      "C:\\Users\\denni\\Anaconda3\\lib\\site-packages\\ipykernel_launcher.py:26: SettingWithCopyWarning: \n",
      "A value is trying to be set on a copy of a slice from a DataFrame.\n",
      "Try using .loc[row_indexer,col_indexer] = value instead\n",
      "\n",
      "See the caveats in the documentation: http://pandas.pydata.org/pandas-docs/stable/indexing.html#indexing-view-versus-copy\n"
     ]
    },
    {
     "data": {
      "text/html": [
       "<div>\n",
       "<style scoped>\n",
       "    .dataframe tbody tr th:only-of-type {\n",
       "        vertical-align: middle;\n",
       "    }\n",
       "\n",
       "    .dataframe tbody tr th {\n",
       "        vertical-align: top;\n",
       "    }\n",
       "\n",
       "    .dataframe thead th {\n",
       "        text-align: right;\n",
       "    }\n",
       "</style>\n",
       "<table border=\"1\" class=\"dataframe\">\n",
       "  <thead>\n",
       "    <tr style=\"text-align: right;\">\n",
       "      <th></th>\n",
       "      <th>duur</th>\n",
       "      <th>beweging</th>\n",
       "      <th>time</th>\n",
       "      <th>WR</th>\n",
       "      <th>Wk</th>\n",
       "      <th>uur</th>\n",
       "      <th>WRbin</th>\n",
       "      <th>WKbin</th>\n",
       "    </tr>\n",
       "  </thead>\n",
       "  <tbody>\n",
       "    <tr>\n",
       "      <th>1</th>\n",
       "      <td>51</td>\n",
       "      <td>True</td>\n",
       "      <td>2015-12-02 10:36:31.285</td>\n",
       "      <td>267.0</td>\n",
       "      <td>1.258680</td>\n",
       "      <td>10</td>\n",
       "      <td>6</td>\n",
       "      <td>1</td>\n",
       "    </tr>\n",
       "    <tr>\n",
       "      <th>3</th>\n",
       "      <td>51</td>\n",
       "      <td>True</td>\n",
       "      <td>2015-12-02 13:01:22.467</td>\n",
       "      <td>225.0</td>\n",
       "      <td>1.432292</td>\n",
       "      <td>13</td>\n",
       "      <td>5</td>\n",
       "      <td>1</td>\n",
       "    </tr>\n",
       "    <tr>\n",
       "      <th>5</th>\n",
       "      <td>51</td>\n",
       "      <td>True</td>\n",
       "      <td>2015-12-02 14:02:17.685</td>\n",
       "      <td>235.0</td>\n",
       "      <td>1.974826</td>\n",
       "      <td>14</td>\n",
       "      <td>5</td>\n",
       "      <td>2</td>\n",
       "    </tr>\n",
       "    <tr>\n",
       "      <th>7</th>\n",
       "      <td>51</td>\n",
       "      <td>True</td>\n",
       "      <td>2015-12-02 14:17:20.077</td>\n",
       "      <td>215.0</td>\n",
       "      <td>2.039931</td>\n",
       "      <td>14</td>\n",
       "      <td>5</td>\n",
       "      <td>2</td>\n",
       "    </tr>\n",
       "    <tr>\n",
       "      <th>9</th>\n",
       "      <td>51</td>\n",
       "      <td>True</td>\n",
       "      <td>2015-12-02 15:29:43.281</td>\n",
       "      <td>238.0</td>\n",
       "      <td>2.148438</td>\n",
       "      <td>15</td>\n",
       "      <td>5</td>\n",
       "      <td>2</td>\n",
       "    </tr>\n",
       "  </tbody>\n",
       "</table>\n",
       "</div>"
      ],
      "text/plain": [
       "   duur  beweging                    time     WR        Wk  uur  WRbin  WKbin\n",
       "1    51      True 2015-12-02 10:36:31.285  267.0  1.258680   10      6      1\n",
       "3    51      True 2015-12-02 13:01:22.467  225.0  1.432292   13      5      1\n",
       "5    51      True 2015-12-02 14:02:17.685  235.0  1.974826   14      5      2\n",
       "7    51      True 2015-12-02 14:17:20.077  215.0  2.039931   14      5      2\n",
       "9    51      True 2015-12-02 15:29:43.281  238.0  2.148438   15      5      2"
      ]
     },
     "execution_count": 194,
     "metadata": {},
     "output_type": "execute_result"
    }
   ],
   "source": [
    "wkbin = list()\n",
    "for index, row in cleanSluit.iterrows():\n",
    "    wk = row[4]\n",
    "    if((wk >= 0) & (wk<=0.2)):\n",
    "        wkbin.append(0)      \n",
    "    elif((wk > 0.2) & (wk<=1.5)):\n",
    "        wkbin.append(1)\n",
    "    elif((wk > 1.5) & (wk<=3.3)):\n",
    "        wkbin.append(2)\n",
    "    elif((wk > 3.3) & (wk<=5.4)):\n",
    "        wkbin.append(3)\n",
    "    elif((wk > 5.4) & (wk<=7.9)):\n",
    "        wkbin.append(4)\n",
    "    elif((wk > 7.9) & (wk<=10.7)):\n",
    "        wkbin.append(5)\n",
    "    elif((wk > 10.7) & (wk<=13.8)):\n",
    "        wkbin.append(6)\n",
    "    elif((wk > 13.8) & (wk<=17.1)):\n",
    "        wkbin.append(7)\n",
    "    elif((wk > 17.1) & (wk<=20.7)):\n",
    "        wkbin.append(8)   \n",
    "    elif((wk > 20.7) & (wk<=24.4)):\n",
    "        wkbin.append(9)\n",
    "    elif((wk > 24.4) & (wk<=28.4)):\n",
    "        wkbin.append(10)\n",
    "cleanSluit['WKbin'] = wkbin\n",
    "cleanSluit.head()"
   ]
  },
  {
   "cell_type": "code",
   "execution_count": 195,
   "metadata": {},
   "outputs": [
    {
     "data": {
      "text/plain": [
       "Text(0.5, 1.0, 'Duur per windrichting')"
      ]
     },
     "execution_count": 195,
     "metadata": {},
     "output_type": "execute_result"
    },
    {
     "data": {
      "image/png": "[encoded data removed]",
      "text/plain": [
       "<Figure size 432x288 with 1 Axes>"
      ]
     },
     "metadata": {
      "needs_background": "light"
     },
     "output_type": "display_data"
    }
   ],
   "source": [
    "fig, ax = plt.subplots()\n",
    "scatter = ax.scatter(cleanSluit.WR, cleanSluit.duur, c = cleanSluit.WRbin,  s=50, cmap='gnuplot')\n",
    "ax.set_title(\"Duur per windrichting\")"
   ]
  },
  {
   "cell_type": "code",
   "execution_count": 196,
   "metadata": {},
   "outputs": [
    {
     "data": {
      "text/plain": [
       "Text(0.5, 1.0, 'Duur per windrichting')"
      ]
     },
     "execution_count": 196,
     "metadata": {},
     "output_type": "execute_result"
    },
    {
     "data": {
      "image/png": "[encoded data removed]",
      "text/plain": [
       "<Figure size 432x288 with 1 Axes>"
      ]
     },
     "metadata": {
      "needs_background": "light"
     },
     "output_type": "display_data"
    }
   ],
   "source": [
    "fig, ax = plt.subplots()\n",
    "scatter = ax.scatter(cleanSluit.duur, cleanSluit.WR,  c = cleanSluit.WKbin,  s=50, cmap='gnuplot')\n",
    "ax.set_title(\"Duur per windrichting\")"
   ]
  },
  {
   "cell_type": "code",
   "execution_count": 197,
   "metadata": {},
   "outputs": [
    {
     "data": {
      "text/plain": [
       "Text(0.5, 1.0, 'Duur per windrichting')"
      ]
     },
     "execution_count": 197,
     "metadata": {},
     "output_type": "execute_result"
    },
    {
     "data": {
      "image/png": "[encoded data removed]",
      "text/plain": [
       "<Figure size 432x288 with 1 Axes>"
      ]
     },
     "metadata": {
      "needs_background": "light"
     },
     "output_type": "display_data"
    }
   ],
   "source": [
    "fig, ax = plt.subplots()\n",
    "scatter = ax.scatter(cleanSluit.WR, cleanSluit.duur, c = cleanSluit.WKbin,  s=50, cmap='gnuplot')\n",
    "ax.set_title(\"Duur per windrichting\")"
   ]
  },
  {
   "cell_type": "code",
   "execution_count": 198,
   "metadata": {},
   "outputs": [
    {
     "data": {
      "text/plain": [
       "Text(0.5, 1.0, 'Duur per windkracht')"
      ]
     },
     "execution_count": 198,
     "metadata": {},
     "output_type": "execute_result"
    },
    {
     "data": {
      "image/png": "[encoded data removed]",
      "text/plain": [
       "<Figure size 432x288 with 1 Axes>"
      ]
     },
     "metadata": {
      "needs_background": "light"
     },
     "output_type": "display_data"
    }
   ],
   "source": [
    "fig, ax = plt.subplots()\n",
    "scatter = ax.scatter(cleanSluit.Wk, cleanSluit.duur, c = cleanSluit.WKbin,  s=50, cmap='gnuplot')\n",
    "ax.set_title(\"Duur per windkracht\")"
   ]
  },
  {
   "cell_type": "code",
   "execution_count": 199,
   "metadata": {},
   "outputs": [
    {
     "data": {
      "text/plain": [
       "Text(0.5, 1.0, 'Duur per windkracht')"
      ]
     },
     "execution_count": 199,
     "metadata": {},
     "output_type": "execute_result"
    },
    {
     "data": {
      "image/png": "[encoded data removed]",
      "text/plain": [
       "<Figure size 432x288 with 1 Axes>"
      ]
     },
     "metadata": {
      "needs_background": "light"
     },
     "output_type": "display_data"
    }
   ],
   "source": [
    "fig, ax = plt.subplots()\n",
    "scatter = ax.scatter(cleanSluit.Wk, cleanSluit.duur, c = cleanSluit.WRbin,  s=50, cmap='gnuplot')\n",
    "ax.set_title(\"Duur per windkracht\")"
   ]
  },
  {
   "cell_type": "code",
   "execution_count": 200,
   "metadata": {},
   "outputs": [
    {
     "name": "stderr",
     "output_type": "stream",
     "text": [
      "C:\\Users\\denni\\Anaconda3\\lib\\site-packages\\ipykernel_launcher.py:21: SettingWithCopyWarning: \n",
      "A value is trying to be set on a copy of a slice from a DataFrame.\n",
      "Try using .loc[row_indexer,col_indexer] = value instead\n",
      "\n",
      "See the caveats in the documentation: http://pandas.pydata.org/pandas-docs/stable/indexing.html#indexing-view-versus-copy\n"
     ]
    },
    {
     "data": {
      "text/html": [
       "<div>\n",
       "<style scoped>\n",
       "    .dataframe tbody tr th:only-of-type {\n",
       "        vertical-align: middle;\n",
       "    }\n",
       "\n",
       "    .dataframe tbody tr th {\n",
       "        vertical-align: top;\n",
       "    }\n",
       "\n",
       "    .dataframe thead th {\n",
       "        text-align: right;\n",
       "    }\n",
       "</style>\n",
       "<table border=\"1\" class=\"dataframe\">\n",
       "  <thead>\n",
       "    <tr style=\"text-align: right;\">\n",
       "      <th></th>\n",
       "      <th>duur</th>\n",
       "      <th>beweging</th>\n",
       "      <th>time</th>\n",
       "      <th>WR</th>\n",
       "      <th>Wk</th>\n",
       "      <th>WRbin</th>\n",
       "      <th>WKbin</th>\n",
       "    </tr>\n",
       "  </thead>\n",
       "  <tbody>\n",
       "    <tr>\n",
       "      <th>0</th>\n",
       "      <td>51</td>\n",
       "      <td>False</td>\n",
       "      <td>2015-12-02 10:33:47.383</td>\n",
       "      <td>340.0</td>\n",
       "      <td>0.238715</td>\n",
       "      <td>0</td>\n",
       "      <td>1</td>\n",
       "    </tr>\n",
       "    <tr>\n",
       "      <th>2</th>\n",
       "      <td>51</td>\n",
       "      <td>False</td>\n",
       "      <td>2015-12-02 12:56:44.680</td>\n",
       "      <td>118.0</td>\n",
       "      <td>0.607639</td>\n",
       "      <td>3</td>\n",
       "      <td>1</td>\n",
       "    </tr>\n",
       "    <tr>\n",
       "      <th>4</th>\n",
       "      <td>51</td>\n",
       "      <td>False</td>\n",
       "      <td>2015-12-02 13:59:34.863</td>\n",
       "      <td>221.0</td>\n",
       "      <td>1.844618</td>\n",
       "      <td>5</td>\n",
       "      <td>2</td>\n",
       "    </tr>\n",
       "    <tr>\n",
       "      <th>6</th>\n",
       "      <td>51</td>\n",
       "      <td>False</td>\n",
       "      <td>2015-12-02 14:12:17.657</td>\n",
       "      <td>150.0</td>\n",
       "      <td>3.363715</td>\n",
       "      <td>3</td>\n",
       "      <td>3</td>\n",
       "    </tr>\n",
       "    <tr>\n",
       "      <th>8</th>\n",
       "      <td>51</td>\n",
       "      <td>False</td>\n",
       "      <td>2015-12-02 15:27:41.079</td>\n",
       "      <td>217.0</td>\n",
       "      <td>3.754340</td>\n",
       "      <td>5</td>\n",
       "      <td>3</td>\n",
       "    </tr>\n",
       "  </tbody>\n",
       "</table>\n",
       "</div>"
      ],
      "text/plain": [
       "   duur  beweging                    time     WR        Wk  WRbin  WKbin\n",
       "0    51     False 2015-12-02 10:33:47.383  340.0  0.238715      0      1\n",
       "2    51     False 2015-12-02 12:56:44.680  118.0  0.607639      3      1\n",
       "4    51     False 2015-12-02 13:59:34.863  221.0  1.844618      5      2\n",
       "6    51     False 2015-12-02 14:12:17.657  150.0  3.363715      3      3\n",
       "8    51     False 2015-12-02 15:27:41.079  217.0  3.754340      5      3"
      ]
     },
     "execution_count": 200,
     "metadata": {},
     "output_type": "execute_result"
    }
   ],
   "source": [
    "wrbin = list()\n",
    "for index, row in openen.iterrows():\n",
    "    wr = row[3]\n",
    "    wk = row[4]\n",
    "    if(((wr >= 0) & (wr<=22.5))| ((wr >= 337.6) & (wr<=360))):\n",
    "        wrbin.append(0)      \n",
    "    elif((wr >= 22.6) & (wr<=67.5)):\n",
    "        wrbin.append(1)\n",
    "    elif((wr >= 67.6) & (wr<=112.5)):\n",
    "        wrbin.append(2)\n",
    "    elif((wr >= 112.6) & (wr<=157.5)):\n",
    "        wrbin.append(3)\n",
    "    elif((wr >= 157.6) & (wr<=202.5)):\n",
    "        wrbin.append(4)\n",
    "    elif((wr >= 202.6) & (wr<=247.5)):\n",
    "        wrbin.append(5)\n",
    "    elif((wr >= 247.6) & (wr<=292.5)):\n",
    "        wrbin.append(6)\n",
    "    elif((wr >= 292.6) & (wr<=337.5)):\n",
    "        wrbin.append(7)\n",
    "openen['WRbin'] = wrbin\n",
    "openen.head()"
   ]
  },
  {
   "cell_type": "code",
   "execution_count": 201,
   "metadata": {},
   "outputs": [
    {
     "name": "stderr",
     "output_type": "stream",
     "text": [
      "C:\\Users\\denni\\Anaconda3\\lib\\site-packages\\ipykernel_launcher.py:26: SettingWithCopyWarning: \n",
      "A value is trying to be set on a copy of a slice from a DataFrame.\n",
      "Try using .loc[row_indexer,col_indexer] = value instead\n",
      "\n",
      "See the caveats in the documentation: http://pandas.pydata.org/pandas-docs/stable/indexing.html#indexing-view-versus-copy\n"
     ]
    },
    {
     "data": {
      "text/html": [
       "<div>\n",
       "<style scoped>\n",
       "    .dataframe tbody tr th:only-of-type {\n",
       "        vertical-align: middle;\n",
       "    }\n",
       "\n",
       "    .dataframe tbody tr th {\n",
       "        vertical-align: top;\n",
       "    }\n",
       "\n",
       "    .dataframe thead th {\n",
       "        text-align: right;\n",
       "    }\n",
       "</style>\n",
       "<table border=\"1\" class=\"dataframe\">\n",
       "  <thead>\n",
       "    <tr style=\"text-align: right;\">\n",
       "      <th></th>\n",
       "      <th>duur</th>\n",
       "      <th>beweging</th>\n",
       "      <th>time</th>\n",
       "      <th>WR</th>\n",
       "      <th>Wk</th>\n",
       "      <th>WRbin</th>\n",
       "      <th>WKbin</th>\n",
       "    </tr>\n",
       "  </thead>\n",
       "  <tbody>\n",
       "    <tr>\n",
       "      <th>0</th>\n",
       "      <td>51</td>\n",
       "      <td>False</td>\n",
       "      <td>2015-12-02 10:33:47.383</td>\n",
       "      <td>340.0</td>\n",
       "      <td>0.238715</td>\n",
       "      <td>0</td>\n",
       "      <td>1</td>\n",
       "    </tr>\n",
       "    <tr>\n",
       "      <th>2</th>\n",
       "      <td>51</td>\n",
       "      <td>False</td>\n",
       "      <td>2015-12-02 12:56:44.680</td>\n",
       "      <td>118.0</td>\n",
       "      <td>0.607639</td>\n",
       "      <td>3</td>\n",
       "      <td>1</td>\n",
       "    </tr>\n",
       "    <tr>\n",
       "      <th>4</th>\n",
       "      <td>51</td>\n",
       "      <td>False</td>\n",
       "      <td>2015-12-02 13:59:34.863</td>\n",
       "      <td>221.0</td>\n",
       "      <td>1.844618</td>\n",
       "      <td>5</td>\n",
       "      <td>2</td>\n",
       "    </tr>\n",
       "    <tr>\n",
       "      <th>6</th>\n",
       "      <td>51</td>\n",
       "      <td>False</td>\n",
       "      <td>2015-12-02 14:12:17.657</td>\n",
       "      <td>150.0</td>\n",
       "      <td>3.363715</td>\n",
       "      <td>3</td>\n",
       "      <td>3</td>\n",
       "    </tr>\n",
       "    <tr>\n",
       "      <th>8</th>\n",
       "      <td>51</td>\n",
       "      <td>False</td>\n",
       "      <td>2015-12-02 15:27:41.079</td>\n",
       "      <td>217.0</td>\n",
       "      <td>3.754340</td>\n",
       "      <td>5</td>\n",
       "      <td>3</td>\n",
       "    </tr>\n",
       "  </tbody>\n",
       "</table>\n",
       "</div>"
      ],
      "text/plain": [
       "   duur  beweging                    time     WR        Wk  WRbin  WKbin\n",
       "0    51     False 2015-12-02 10:33:47.383  340.0  0.238715      0      1\n",
       "2    51     False 2015-12-02 12:56:44.680  118.0  0.607639      3      1\n",
       "4    51     False 2015-12-02 13:59:34.863  221.0  1.844618      5      2\n",
       "6    51     False 2015-12-02 14:12:17.657  150.0  3.363715      3      3\n",
       "8    51     False 2015-12-02 15:27:41.079  217.0  3.754340      5      3"
      ]
     },
     "execution_count": 201,
     "metadata": {},
     "output_type": "execute_result"
    }
   ],
   "source": [
    "wkbin = list()\n",
    "for index, row in openen.iterrows():\n",
    "    wk = row[4]\n",
    "    if((wk >= 0) & (wk<=0.2)):\n",
    "        wkbin.append(0)      \n",
    "    elif((wk > 0.2) & (wk<=1.5)):\n",
    "        wkbin.append(1)\n",
    "    elif((wk > 1.5) & (wk<=3.3)):\n",
    "        wkbin.append(2)\n",
    "    elif((wk > 3.3) & (wk<=5.4)):\n",
    "        wkbin.append(3)\n",
    "    elif((wk > 5.4) & (wk<=7.9)):\n",
    "        wkbin.append(4)\n",
    "    elif((wk > 7.9) & (wk<=10.7)):\n",
    "        wkbin.append(5)\n",
    "    elif((wk > 10.7) & (wk<=13.8)):\n",
    "        wkbin.append(6)\n",
    "    elif((wk > 13.8) & (wk<=17.1)):\n",
    "        wkbin.append(7)\n",
    "    elif((wk > 17.1) & (wk<=20.7)):\n",
    "        wkbin.append(8)   \n",
    "    elif((wk > 20.7) & (wk<=24.4)):\n",
    "        wkbin.append(9)\n",
    "    elif((wk > 24.4) & (wk<=28.4)):\n",
    "        wkbin.append(10)\n",
    "openen['WKbin'] = wkbin\n",
    "openen.head()"
   ]
  },
  {
   "cell_type": "markdown",
   "metadata": {},
   "source": [
    "# Dataframe omzetten naar CSV\n"
   ]
  },
  {
   "cell_type": "code",
   "execution_count": 202,
   "metadata": {},
   "outputs": [],
   "source": [
    "cleanOpen.to_csv('DuurOpening.csv')\n",
    "cleanSluit.to_csv('DuurSluiten.csv')\n",
    "cleanDuur.to_csv('CleanedDuur.csv')\n",
    "openen.to_csv('Open.csv')\n",
    "sluit.to_csv('Sluiten.csv')"
   ]
  },
  {
   "cell_type": "markdown",
   "metadata": {},
   "source": [
    "# Test en Train set openen"
   ]
  },
  {
   "cell_type": "code",
   "execution_count": 203,
   "metadata": {},
   "outputs": [],
   "source": [
    "train = cleanOpen[cleanOpen.time.dt.date < np.datetime64('2018-06-01')]\n",
    "test = cleanOpen[cleanOpen.time.dt.date > np.datetime64('2018-06-01')]"
   ]
  },
  {
   "cell_type": "markdown",
   "metadata": {},
   "source": [
    "## fit op train set"
   ]
  },
  {
   "cell_type": "code",
   "execution_count": 204,
   "metadata": {},
   "outputs": [
    {
     "name": "stderr",
     "output_type": "stream",
     "text": [
      "C:\\Users\\denni\\Anaconda3\\lib\\site-packages\\ipykernel_launcher.py:5: SettingWithCopyWarning: \n",
      "A value is trying to be set on a copy of a slice from a DataFrame.\n",
      "Try using .loc[row_indexer,col_indexer] = value instead\n",
      "\n",
      "See the caveats in the documentation: http://pandas.pydata.org/pandas-docs/stable/indexing.html#indexing-view-versus-copy\n",
      "  \"\"\"\n",
      "C:\\Users\\denni\\Anaconda3\\lib\\site-packages\\ipykernel_launcher.py:10: SettingWithCopyWarning: \n",
      "A value is trying to be set on a copy of a slice from a DataFrame.\n",
      "Try using .loc[row_indexer,col_indexer] = value instead\n",
      "\n",
      "See the caveats in the documentation: http://pandas.pydata.org/pandas-docs/stable/indexing.html#indexing-view-versus-copy\n",
      "  # Remove the CWD from sys.path while we load stuff.\n"
     ]
    },
    {
     "data": {
      "image/png": "[encoded data removed]",
      "text/plain": [
       "<Figure size 432x288 with 1 Axes>"
      ]
     },
     "metadata": {
      "needs_background": "light"
     },
     "output_type": "display_data"
    }
   ],
   "source": [
    "RFOpen = RandomForestRegressor(n_estimators = 100)\n",
    "\n",
    "RFOpen.fit(train[['WR', 'Wk']], train['duur'])\n",
    "\n",
    "train['RFtest'] = RFOpen.predict(train[['WR', 'Wk']])\n",
    "\n",
    "plt.scatter(train.WR,train.duur,color = 'black')\n",
    "plt.scatter(train.WR, train.RFtest, color = 'red')\n",
    "\n",
    "train['RFTestError'] = (train.duur -  train.RFtest).abs()"
   ]
  },
  {
   "cell_type": "code",
   "execution_count": 205,
   "metadata": {},
   "outputs": [
    {
     "data": {
      "text/html": [
       "<div>\n",
       "<style scoped>\n",
       "    .dataframe tbody tr th:only-of-type {\n",
       "        vertical-align: middle;\n",
       "    }\n",
       "\n",
       "    .dataframe tbody tr th {\n",
       "        vertical-align: top;\n",
       "    }\n",
       "\n",
       "    .dataframe thead th {\n",
       "        text-align: right;\n",
       "    }\n",
       "</style>\n",
       "<table border=\"1\" class=\"dataframe\">\n",
       "  <thead>\n",
       "    <tr style=\"text-align: right;\">\n",
       "      <th></th>\n",
       "      <th>duur</th>\n",
       "      <th>beweging</th>\n",
       "      <th>time</th>\n",
       "      <th>WR</th>\n",
       "      <th>Wk</th>\n",
       "      <th>uur</th>\n",
       "      <th>WRbin</th>\n",
       "      <th>WKbin</th>\n",
       "      <th>RFtest</th>\n",
       "      <th>RFTestError</th>\n",
       "    </tr>\n",
       "  </thead>\n",
       "  <tbody>\n",
       "    <tr>\n",
       "      <th>0</th>\n",
       "      <td>51</td>\n",
       "      <td>False</td>\n",
       "      <td>2015-12-02 10:33:47.383</td>\n",
       "      <td>340.0</td>\n",
       "      <td>0.238715</td>\n",
       "      <td>10</td>\n",
       "      <td>0</td>\n",
       "      <td>1</td>\n",
       "      <td>50.82</td>\n",
       "      <td>0.18</td>\n",
       "    </tr>\n",
       "    <tr>\n",
       "      <th>2</th>\n",
       "      <td>51</td>\n",
       "      <td>False</td>\n",
       "      <td>2015-12-02 12:56:44.680</td>\n",
       "      <td>118.0</td>\n",
       "      <td>0.607639</td>\n",
       "      <td>12</td>\n",
       "      <td>3</td>\n",
       "      <td>1</td>\n",
       "      <td>50.74</td>\n",
       "      <td>0.26</td>\n",
       "    </tr>\n",
       "    <tr>\n",
       "      <th>4</th>\n",
       "      <td>51</td>\n",
       "      <td>False</td>\n",
       "      <td>2015-12-02 13:59:34.863</td>\n",
       "      <td>221.0</td>\n",
       "      <td>1.844618</td>\n",
       "      <td>13</td>\n",
       "      <td>5</td>\n",
       "      <td>2</td>\n",
       "      <td>50.60</td>\n",
       "      <td>0.40</td>\n",
       "    </tr>\n",
       "    <tr>\n",
       "      <th>6</th>\n",
       "      <td>51</td>\n",
       "      <td>False</td>\n",
       "      <td>2015-12-02 14:12:17.657</td>\n",
       "      <td>150.0</td>\n",
       "      <td>3.363715</td>\n",
       "      <td>14</td>\n",
       "      <td>3</td>\n",
       "      <td>3</td>\n",
       "      <td>50.50</td>\n",
       "      <td>0.50</td>\n",
       "    </tr>\n",
       "    <tr>\n",
       "      <th>8</th>\n",
       "      <td>51</td>\n",
       "      <td>False</td>\n",
       "      <td>2015-12-02 15:27:41.079</td>\n",
       "      <td>217.0</td>\n",
       "      <td>3.754340</td>\n",
       "      <td>15</td>\n",
       "      <td>5</td>\n",
       "      <td>3</td>\n",
       "      <td>50.51</td>\n",
       "      <td>0.49</td>\n",
       "    </tr>\n",
       "  </tbody>\n",
       "</table>\n",
       "</div>"
      ],
      "text/plain": [
       "   duur  beweging                    time     WR        Wk  uur  WRbin  WKbin  \\\n",
       "0    51     False 2015-12-02 10:33:47.383  340.0  0.238715   10      0      1   \n",
       "2    51     False 2015-12-02 12:56:44.680  118.0  0.607639   12      3      1   \n",
       "4    51     False 2015-12-02 13:59:34.863  221.0  1.844618   13      5      2   \n",
       "6    51     False 2015-12-02 14:12:17.657  150.0  3.363715   14      3      3   \n",
       "8    51     False 2015-12-02 15:27:41.079  217.0  3.754340   15      5      3   \n",
       "\n",
       "   RFtest  RFTestError  \n",
       "0   50.82         0.18  \n",
       "2   50.74         0.26  \n",
       "4   50.60         0.40  \n",
       "6   50.50         0.50  \n",
       "8   50.51         0.49  "
      ]
     },
     "execution_count": 205,
     "metadata": {},
     "output_type": "execute_result"
    }
   ],
   "source": [
    "train.head()"
   ]
  },
  {
   "cell_type": "markdown",
   "metadata": {},
   "source": [
    "## Training metrics"
   ]
  },
  {
   "cell_type": "code",
   "execution_count": 206,
   "metadata": {},
   "outputs": [],
   "source": [
    "errors = pd.DataFrame()\n",
    "estimators = 100\n",
    "MSE = mean_squared_error(train.duur, train.RFtest)\n",
    "R2 = r2_score(train.duur,train.RFtest)\n",
    "metrics = [(estimators, MSE,R2)]\n",
    "train_errors = pd.DataFrame.from_records(metrics, columns=['est','MSE','R2'])"
   ]
  },
  {
   "cell_type": "code",
   "execution_count": 207,
   "metadata": {},
   "outputs": [
    {
     "data": {
      "text/html": [
       "<div>\n",
       "<style scoped>\n",
       "    .dataframe tbody tr th:only-of-type {\n",
       "        vertical-align: middle;\n",
       "    }\n",
       "\n",
       "    .dataframe tbody tr th {\n",
       "        vertical-align: top;\n",
       "    }\n",
       "\n",
       "    .dataframe thead th {\n",
       "        text-align: right;\n",
       "    }\n",
       "</style>\n",
       "<table border=\"1\" class=\"dataframe\">\n",
       "  <thead>\n",
       "    <tr style=\"text-align: right;\">\n",
       "      <th></th>\n",
       "      <th>est</th>\n",
       "      <th>MSE</th>\n",
       "      <th>R2</th>\n",
       "    </tr>\n",
       "  </thead>\n",
       "  <tbody>\n",
       "    <tr>\n",
       "      <th>0</th>\n",
       "      <td>100</td>\n",
       "      <td>0.15427</td>\n",
       "      <td>0.840325</td>\n",
       "    </tr>\n",
       "  </tbody>\n",
       "</table>\n",
       "</div>"
      ],
      "text/plain": [
       "   est      MSE        R2\n",
       "0  100  0.15427  0.840325"
      ]
     },
     "execution_count": 207,
     "metadata": {},
     "output_type": "execute_result"
    }
   ],
   "source": [
    "train_errors.head()"
   ]
  },
  {
   "cell_type": "markdown",
   "metadata": {},
   "source": [
    "## predict testset"
   ]
  },
  {
   "cell_type": "code",
   "execution_count": 208,
   "metadata": {},
   "outputs": [
    {
     "name": "stderr",
     "output_type": "stream",
     "text": [
      "C:\\Users\\denni\\Anaconda3\\lib\\site-packages\\ipykernel_launcher.py:1: SettingWithCopyWarning: \n",
      "A value is trying to be set on a copy of a slice from a DataFrame.\n",
      "Try using .loc[row_indexer,col_indexer] = value instead\n",
      "\n",
      "See the caveats in the documentation: http://pandas.pydata.org/pandas-docs/stable/indexing.html#indexing-view-versus-copy\n",
      "  \"\"\"Entry point for launching an IPython kernel.\n"
     ]
    },
    {
     "data": {
      "text/plain": [
       "<matplotlib.collections.PathCollection at 0x2075ece9128>"
      ]
     },
     "execution_count": 208,
     "metadata": {},
     "output_type": "execute_result"
    },
    {
     "data": {
      "image/png": "[encoded data removed]",
      "text/plain": [
       "<Figure size 432x288 with 1 Axes>"
      ]
     },
     "metadata": {
      "needs_background": "light"
     },
     "output_type": "display_data"
    }
   ],
   "source": [
    "test['RFpred'] = RFOpen.predict(test[['WR', 'Wk']])\n",
    "test.head()\n",
    "\n",
    "plt.scatter(test.WR, test.duur,  color = \"black\")\n",
    "plt.scatter(test.WR, test.RFpred, color = 'red')"
   ]
  },
  {
   "cell_type": "markdown",
   "metadata": {},
   "source": [
    "## Metrics testset"
   ]
  },
  {
   "cell_type": "code",
   "execution_count": 209,
   "metadata": {},
   "outputs": [
    {
     "data": {
      "text/html": [
       "<div>\n",
       "<style scoped>\n",
       "    .dataframe tbody tr th:only-of-type {\n",
       "        vertical-align: middle;\n",
       "    }\n",
       "\n",
       "    .dataframe tbody tr th {\n",
       "        vertical-align: top;\n",
       "    }\n",
       "\n",
       "    .dataframe thead th {\n",
       "        text-align: right;\n",
       "    }\n",
       "</style>\n",
       "<table border=\"1\" class=\"dataframe\">\n",
       "  <thead>\n",
       "    <tr style=\"text-align: right;\">\n",
       "      <th></th>\n",
       "      <th>est</th>\n",
       "      <th>MSE</th>\n",
       "      <th>R2</th>\n",
       "    </tr>\n",
       "  </thead>\n",
       "  <tbody>\n",
       "    <tr>\n",
       "      <th>0</th>\n",
       "      <td>100</td>\n",
       "      <td>1.000505</td>\n",
       "      <td>-1.080155</td>\n",
       "    </tr>\n",
       "  </tbody>\n",
       "</table>\n",
       "</div>"
      ],
      "text/plain": [
       "   est       MSE        R2\n",
       "0  100  1.000505 -1.080155"
      ]
     },
     "execution_count": 209,
     "metadata": {},
     "output_type": "execute_result"
    }
   ],
   "source": [
    "estimators = 100\n",
    "MSE = mean_squared_error(test.duur, test.RFpred)\n",
    "R2 = r2_score(test.duur,test.RFpred)\n",
    "metrics = [(estimators, MSE,R2)]\n",
    "test_errors = pd.DataFrame.from_records(metrics, columns=['est','MSE','R2'])\n",
    "test_errors"
   ]
  },
  {
   "cell_type": "code",
   "execution_count": 210,
   "metadata": {},
   "outputs": [
    {
     "data": {
      "text/plain": [
       "1.0005054741241792"
      ]
     },
     "execution_count": 210,
     "metadata": {},
     "output_type": "execute_result"
    }
   ],
   "source": [
    "mean_squared_error(test.duur, test.RFpred)"
   ]
  },
  {
   "cell_type": "code",
   "execution_count": 211,
   "metadata": {},
   "outputs": [
    {
     "data": {
      "text/plain": [
       "-1.080154613827541"
      ]
     },
     "execution_count": 211,
     "metadata": {},
     "output_type": "execute_result"
    }
   ],
   "source": [
    "r2_score(test.duur,test.RFpred)"
   ]
  },
  {
   "cell_type": "code",
   "execution_count": 212,
   "metadata": {},
   "outputs": [
    {
     "data": {
      "text/plain": [
       "array([0.28379007, 0.71620993])"
      ]
     },
     "execution_count": 212,
     "metadata": {},
     "output_type": "execute_result"
    }
   ],
   "source": [
    "RFOpen.feature_importances_"
   ]
  },
  {
   "cell_type": "markdown",
   "metadata": {},
   "source": [
    "#  RF parameters training"
   ]
  },
  {
   "cell_type": "code",
   "execution_count": 213,
   "metadata": {},
   "outputs": [
    {
     "name": "stderr",
     "output_type": "stream",
     "text": [
      "C:\\Users\\denni\\Anaconda3\\lib\\site-packages\\ipykernel_launcher.py:4: SettingWithCopyWarning: \n",
      "A value is trying to be set on a copy of a slice from a DataFrame.\n",
      "Try using .loc[row_indexer,col_indexer] = value instead\n",
      "\n",
      "See the caveats in the documentation: http://pandas.pydata.org/pandas-docs/stable/indexing.html#indexing-view-versus-copy\n",
      "  after removing the cwd from sys.path.\n"
     ]
    },
    {
     "data": {
      "text/plain": [
       "<matplotlib.collections.PathCollection at 0x2075f4a23c8>"
      ]
     },
     "execution_count": 213,
     "metadata": {},
     "output_type": "execute_result"
    },
    {
     "data": {
      "image/png": "[encoded data removed]",
      "text/plain": [
       "<Figure size 432x288 with 1 Axes>"
      ]
     },
     "metadata": {
      "needs_background": "light"
     },
     "output_type": "display_data"
    }
   ],
   "source": [
    "RFOpen2000 = RandomForestRegressor(n_estimators = 2000)\n",
    "\n",
    "RFOpen2000.fit(train[['WR', 'Wk','WRbin','WKbin', 'uur']], train['duur'])\n",
    "test['RFpred2000'] = RFOpen2000.predict(test[['WR', 'Wk','WRbin','WKbin', 'uur']])\n",
    "plt.scatter(test.WR, test.duur,  color = \"black\")\n",
    "plt.scatter(test.WR, test.RFpred2000, color = 'red')"
   ]
  },
  {
   "cell_type": "code",
   "execution_count": 214,
   "metadata": {},
   "outputs": [],
   "source": [
    "estimators = 2000\n",
    "MSE = mean_squared_error(test.duur, test.RFpred2000)\n",
    "R2 = r2_score(test.duur,test.RFpred2000)\n",
    "metrics = [{'est':estimators, \"MSE\": MSE, 'R2':R2}]\n",
    "test_errors = test_errors.append(metrics)"
   ]
  },
  {
   "cell_type": "code",
   "execution_count": 215,
   "metadata": {},
   "outputs": [
    {
     "data": {
      "text/html": [
       "<div>\n",
       "<style scoped>\n",
       "    .dataframe tbody tr th:only-of-type {\n",
       "        vertical-align: middle;\n",
       "    }\n",
       "\n",
       "    .dataframe tbody tr th {\n",
       "        vertical-align: top;\n",
       "    }\n",
       "\n",
       "    .dataframe thead th {\n",
       "        text-align: right;\n",
       "    }\n",
       "</style>\n",
       "<table border=\"1\" class=\"dataframe\">\n",
       "  <thead>\n",
       "    <tr style=\"text-align: right;\">\n",
       "      <th></th>\n",
       "      <th>est</th>\n",
       "      <th>MSE</th>\n",
       "      <th>R2</th>\n",
       "    </tr>\n",
       "  </thead>\n",
       "  <tbody>\n",
       "    <tr>\n",
       "      <th>0</th>\n",
       "      <td>100</td>\n",
       "      <td>1.000505</td>\n",
       "      <td>-1.080155</td>\n",
       "    </tr>\n",
       "    <tr>\n",
       "      <th>0</th>\n",
       "      <td>2000</td>\n",
       "      <td>0.967359</td>\n",
       "      <td>-1.011240</td>\n",
       "    </tr>\n",
       "  </tbody>\n",
       "</table>\n",
       "</div>"
      ],
      "text/plain": [
       "    est       MSE        R2\n",
       "0   100  1.000505 -1.080155\n",
       "0  2000  0.967359 -1.011240"
      ]
     },
     "execution_count": 215,
     "metadata": {},
     "output_type": "execute_result"
    }
   ],
   "source": [
    "test_errors.head()"
   ]
  },
  {
   "cell_type": "markdown",
   "metadata": {},
   "source": [
    "# Meer variabelen"
   ]
  },
  {
   "cell_type": "code",
   "execution_count": 216,
   "metadata": {},
   "outputs": [
    {
     "name": "stderr",
     "output_type": "stream",
     "text": [
      "C:\\Users\\denni\\Anaconda3\\lib\\site-packages\\ipykernel_launcher.py:6: SettingWithCopyWarning: \n",
      "A value is trying to be set on a copy of a slice from a DataFrame.\n",
      "Try using .loc[row_indexer,col_indexer] = value instead\n",
      "\n",
      "See the caveats in the documentation: http://pandas.pydata.org/pandas-docs/stable/indexing.html#indexing-view-versus-copy\n",
      "  \n",
      "C:\\Users\\denni\\Anaconda3\\lib\\site-packages\\ipykernel_launcher.py:6: SettingWithCopyWarning: \n",
      "A value is trying to be set on a copy of a slice from a DataFrame.\n",
      "Try using .loc[row_indexer,col_indexer] = value instead\n",
      "\n",
      "See the caveats in the documentation: http://pandas.pydata.org/pandas-docs/stable/indexing.html#indexing-view-versus-copy\n",
      "  \n",
      "C:\\Users\\denni\\Anaconda3\\lib\\site-packages\\ipykernel_launcher.py:6: SettingWithCopyWarning: \n",
      "A value is trying to be set on a copy of a slice from a DataFrame.\n",
      "Try using .loc[row_indexer,col_indexer] = value instead\n",
      "\n",
      "See the caveats in the documentation: http://pandas.pydata.org/pandas-docs/stable/indexing.html#indexing-view-versus-copy\n",
      "  \n",
      "C:\\Users\\denni\\Anaconda3\\lib\\site-packages\\ipykernel_launcher.py:6: SettingWithCopyWarning: \n",
      "A value is trying to be set on a copy of a slice from a DataFrame.\n",
      "Try using .loc[row_indexer,col_indexer] = value instead\n",
      "\n",
      "See the caveats in the documentation: http://pandas.pydata.org/pandas-docs/stable/indexing.html#indexing-view-versus-copy\n",
      "  \n",
      "C:\\Users\\denni\\Anaconda3\\lib\\site-packages\\ipykernel_launcher.py:6: SettingWithCopyWarning: \n",
      "A value is trying to be set on a copy of a slice from a DataFrame.\n",
      "Try using .loc[row_indexer,col_indexer] = value instead\n",
      "\n",
      "See the caveats in the documentation: http://pandas.pydata.org/pandas-docs/stable/indexing.html#indexing-view-versus-copy\n",
      "  \n"
     ]
    },
    {
     "data": {
      "text/html": [
       "<div>\n",
       "<style scoped>\n",
       "    .dataframe tbody tr th:only-of-type {\n",
       "        vertical-align: middle;\n",
       "    }\n",
       "\n",
       "    .dataframe tbody tr th {\n",
       "        vertical-align: top;\n",
       "    }\n",
       "\n",
       "    .dataframe thead th {\n",
       "        text-align: right;\n",
       "    }\n",
       "</style>\n",
       "<table border=\"1\" class=\"dataframe\">\n",
       "  <thead>\n",
       "    <tr style=\"text-align: right;\">\n",
       "      <th></th>\n",
       "      <th>est</th>\n",
       "      <th>MSE</th>\n",
       "      <th>R2</th>\n",
       "    </tr>\n",
       "  </thead>\n",
       "  <tbody>\n",
       "    <tr>\n",
       "      <th>0</th>\n",
       "      <td>100</td>\n",
       "      <td>0.154270</td>\n",
       "      <td>0.840325</td>\n",
       "    </tr>\n",
       "    <tr>\n",
       "      <th>0</th>\n",
       "      <td>100</td>\n",
       "      <td>0.177375</td>\n",
       "      <td>0.816410</td>\n",
       "    </tr>\n",
       "    <tr>\n",
       "      <th>0</th>\n",
       "      <td>500</td>\n",
       "      <td>0.153346</td>\n",
       "      <td>0.841281</td>\n",
       "    </tr>\n",
       "    <tr>\n",
       "      <th>0</th>\n",
       "      <td>1000</td>\n",
       "      <td>0.155217</td>\n",
       "      <td>0.839345</td>\n",
       "    </tr>\n",
       "    <tr>\n",
       "      <th>0</th>\n",
       "      <td>2000</td>\n",
       "      <td>0.159765</td>\n",
       "      <td>0.834637</td>\n",
       "    </tr>\n",
       "    <tr>\n",
       "      <th>0</th>\n",
       "      <td>5000</td>\n",
       "      <td>0.156324</td>\n",
       "      <td>0.838199</td>\n",
       "    </tr>\n",
       "  </tbody>\n",
       "</table>\n",
       "</div>"
      ],
      "text/plain": [
       "    est       MSE        R2\n",
       "0   100  0.154270  0.840325\n",
       "0   100  0.177375  0.816410\n",
       "0   500  0.153346  0.841281\n",
       "0  1000  0.155217  0.839345\n",
       "0  2000  0.159765  0.834637\n",
       "0  5000  0.156324  0.838199"
      ]
     },
     "execution_count": 216,
     "metadata": {},
     "output_type": "execute_result"
    }
   ],
   "source": [
    "estimator = [100,500,1000,2000,5000]\n",
    "\n",
    "for row in estimator:\n",
    "    RFAlles = RandomForestRegressor(n_estimators = row)\n",
    "    RFAlles.fit(train[['WR', 'Wk','WRbin','WKbin', 'uur']], train['duur'])\n",
    "    train['RFAllesPred'] = RFAlles.predict(train[['WR', 'Wk','WRbin','WKbin', 'uur']])\n",
    "    estimators = row\n",
    "    MSE = mean_squared_error(train.duur, train.RFAllesPred)\n",
    "    R2 = r2_score(train.duur,train.RFAllesPred)\n",
    "    metrics = [{'est':estimators, \"MSE\": MSE, 'R2':R2}]\n",
    "    train_errors = train_errors.append(metrics)\n",
    "train_errors"
   ]
  },
  {
   "cell_type": "markdown",
   "metadata": {},
   "source": [
    "# testing"
   ]
  },
  {
   "cell_type": "code",
   "execution_count": 217,
   "metadata": {},
   "outputs": [
    {
     "data": {
      "text/plain": [
       "'\\nfor row in Duur:\\nprint(row)\\n    \\n    if (row.Omschrijving == \\'Brug Bewegen Actief\\'):\\n        if (row.Waarde == \"TRUE\"):\\n            begin = row.seconden\\n    if (row.Omschrijving == \\'Brug Bewegen Actief\\'):\\n        if (row.Waarde == \"False\"):\\n            eind = row.seconden\\n    openDuur = openDuur[\\'Duur\\'].append(eind - begin)\\n    '"
      ]
     },
     "execution_count": 217,
     "metadata": {},
     "output_type": "execute_result"
    }
   ],
   "source": [
    "'''\n",
    "for row in Duur:\n",
    "print(row)\n",
    "    \n",
    "    if (row.Omschrijving == 'Brug Bewegen Actief'):\n",
    "        if (row.Waarde == \"TRUE\"):\n",
    "            begin = row.seconden\n",
    "    if (row.Omschrijving == 'Brug Bewegen Actief'):\n",
    "        if (row.Waarde == \"False\"):\n",
    "            eind = row.seconden\n",
    "    openDuur = openDuur['Duur'].append(eind - begin)\n",
    "    '''"
   ]
  },
  {
   "cell_type": "code",
   "execution_count": 218,
   "metadata": {},
   "outputs": [],
   "source": [
    "Duur = Duur.drop(['Tijd went'], axis = 1)"
   ]
  },
  {
   "cell_type": "code",
   "execution_count": 219,
   "metadata": {},
   "outputs": [],
   "source": [
    "Duur = Duur.drop(['Type', 'Klasse', \"ID\", \"Status\", 'Prioriteit', 'Tijd came', 'Tijd ack', 'Gebr.ID', 'DPE'], axis = 1)"
   ]
  },
  {
   "cell_type": "code",
   "execution_count": 220,
   "metadata": {},
   "outputs": [
    {
     "ename": "NameError",
     "evalue": "name 'Beweging' is not defined",
     "output_type": "error",
     "traceback": [
      "\u001b[1;31m---------------------------------------------------------------------------\u001b[0m",
      "\u001b[1;31mNameError\u001b[0m                                 Traceback (most recent call last)",
      "\u001b[1;32m<ipython-input-220-dd6e85122772>\u001b[0m in \u001b[0;36m<module>\u001b[1;34m\u001b[0m\n\u001b[1;32m----> 1\u001b[1;33m \u001b[0mBeweging\u001b[0m\u001b[1;33m.\u001b[0m\u001b[0mOmschrijving\u001b[0m\u001b[1;33m.\u001b[0m\u001b[0mvalue_counts\u001b[0m\u001b[1;33m(\u001b[0m\u001b[1;33m)\u001b[0m\u001b[1;33m\u001b[0m\u001b[1;33m\u001b[0m\u001b[0m\n\u001b[0m",
      "\u001b[1;31mNameError\u001b[0m: name 'Beweging' is not defined"
     ]
    }
   ],
   "source": [
    "Beweging.Omschrijving.value_counts()"
   ]
  },
  {
   "cell_type": "code",
   "execution_count": null,
   "metadata": {},
   "outputs": [],
   "source": [
    "estimators = 'alles 2000'\n",
    "MSE = mean_squared_error(train.duur, train.RFAllesPred)\n",
    "R2 = r2_score(train.duur,train.RFAllesPred)\n",
    "metrics = [{'est':estimators, \"MSE\": MSE, 'R2':R2}]\n",
    "train_errors = train_errors.append(metrics)"
   ]
  },
  {
   "cell_type": "code",
   "execution_count": null,
   "metadata": {},
   "outputs": [],
   "source": [
    "train_errors.head()"
   ]
  },
  {
   "cell_type": "code",
   "execution_count": null,
   "metadata": {},
   "outputs": [],
   "source": [
    "Openen = df[df.Omschrijving == \"Algemeen Commando Brug Openen\"]\n",
    "Openen"
   ]
  },
  {
   "cell_type": "code",
   "execution_count": null,
   "metadata": {},
   "outputs": [],
   "source": [
    "Sluiten = df[df.Omschrijving == \"Algemeen Commando Brug Sluiten\"]\n",
    "Sluiten"
   ]
  },
  {
   "cell_type": "code",
   "execution_count": null,
   "metadata": {},
   "outputs": [],
   "source": [
    "boxplotdf = pd.DataFrame(N.duur).rename({'duur': 'N'}, axis=1)\n",
    "\n",
    "boxplotdf['NO']  = NO.duur\n",
    "boxplotdf['O']  = O.duur\n",
    "boxplotdf['ZO']  = ZO.duur\n",
    "boxplotdf['Z']  = Z.duur\n",
    "boxplotdf['ZW']  = ZW.duur\n",
    "boxplotdf['W']  = W.duur\n",
    "boxplotdf['NW']  = NW.duur\n",
    "\n",
    "\n",
    "boxplotdf.head()"
   ]
  }
 ],
 "metadata": {
  "kernelspec": {
   "display_name": "Python 3",
   "language": "python",
   "name": "python3"
  },
  "language_info": {
   "codemirror_mode": {
    "name": "ipython",
    "version": 3
   },
   "file_extension": ".py",
   "mimetype": "text/x-python",
   "name": "python",
   "nbconvert_exporter": "python",
   "pygments_lexer": "ipython3",
   "version": "3.7.1"
  }
 },
 "nbformat": 4,
 "nbformat_minor": 2
}
