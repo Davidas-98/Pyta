{
 "cells": [
  {
   "cell_type": "code",
   "execution_count": null,
   "metadata": {},
   "outputs": [
    {
     "name": "stdout",
     "output_type": "stream",
     "text": [
      "Processed brug = /NO_W5_*.csv, Rowcount = 6883542, Totalrowcount = 6883542\n",
      "Processed brug = /NO_WA_*.csv, Rowcount = 5254305, Totalrowcount = 12137847\n",
      "Processed brug = /NO_WB_*.csv, Rowcount = 8681662, Totalrowcount = 20819509\n",
      "Processed brug = /NO_WBH_*.csv, Rowcount = 6561536, Totalrowcount = 27381045\n",
      "Processed brug = /NO_WD_*.csv, Rowcount = 4108308, Totalrowcount = 31489353\n",
      "Processed brug = /NO_WE_*.csv, Rowcount = 6543446, Totalrowcount = 38032799\n",
      "Processed brug = /NO_WG_*.csv, Rowcount = 5513807, Totalrowcount = 43546606\n",
      "Processed brug = /NO_WGR_*.csv, Rowcount = 6243031, Totalrowcount = 49789637\n",
      "Processed brug = /NO_WH_*.csv, Rowcount = 6948840, Totalrowcount = 56738477\n",
      "Processed brug = /NO_WHE_*.csv, Rowcount = 6487296, Totalrowcount = 63225773\n"
     ]
    }
   ],
   "source": [
    "import glob\n",
    "import pandas as pd\n",
    "\n",
    "brug_ = [\"/NO_W5_*.csv\", \"/NO_WA_*.csv\", \"/NO_WB_*.csv\",\"/NO_WBH_*.csv\",\"/NO_WD_*.csv\",\"/NO_WE_*.csv\"\n",
    "         ,\"/NO_WG_*.csv\",\"/NO_WGR_*.csv\",\"/NO_WH_*.csv\",\"/NO_WHE_*.csv\",\"/NO_WHO_*.csv\",\"/NO_WHT_*.csv\"\n",
    "        ,\"/NO_WHY_*.csv\",\"/NO_WL_*.csv\",\"/NO_WO_*.csv\",\"/NO_WOB_*.csv\",\"/NO_WS_*.csv\",\"/NO_WT_*.csv\"\n",
    "        ,\"/NO_WW_*.csv\",\"/NO_ZBS_*.csv\",\"/NO_ZST_*.csv\"]\n",
    "\n",
    "\n",
    "row_count_total = 0\n",
    "\n",
    "for brug in brug_:\n",
    "    path =r'D:\\UserData\\Desktop\\NO_XXX_EVENT_EXPORT\\NO_XXX_EVENT_EXPORT' # use your path\n",
    "    allFiles = glob.glob(path + brug)\n",
    "\n",
    "    list_ = []\n",
    "    \n",
    "    for file_ in allFiles:\n",
    "        try:\n",
    "            df = pd.read_csv(file_, index_col=-1, header=18 ,sep=';',  encoding=\"ansi\", low_memory=False)\n",
    "            list_.append(df)\n",
    "        except:\n",
    "            print(\"Skipped Error at : \" + file_)\n",
    "            \n",
    "    dataframe = pd.concat(list_, axis = 0, ignore_index = True)\n",
    "    row_count_file = dataframe['Tijd'].count()\n",
    "    row_count_total += row_count_file\n",
    "        \n",
    "    print(\"Processed brug = \" + brug + \", Rowcount = \" + str(row_count_file) + \", Totalrowcount = \" + str(row_count_total))\n",
    "    dataframe = None\n",
    "    \n",
    "print(row_count_total)"
   ]
  },
  {
   "cell_type": "code",
   "execution_count": 1,
   "metadata": {},
   "outputs": [
    {
     "ename": "NameError",
     "evalue": "name 'row_count_total' is not defined",
     "output_type": "error",
     "traceback": [
      "\u001b[1;31m---------------------------------------------------------------------------\u001b[0m",
      "\u001b[1;31mNameError\u001b[0m                                 Traceback (most recent call last)",
      "\u001b[1;32m<ipython-input-1-8abcb2b0e1a8>\u001b[0m in \u001b[0;36m<module>\u001b[1;34m\u001b[0m\n\u001b[1;32m----> 1\u001b[1;33m \u001b[0mprint\u001b[0m\u001b[1;33m(\u001b[0m\u001b[0mrow_count_total\u001b[0m\u001b[1;33m)\u001b[0m\u001b[1;33m\u001b[0m\u001b[1;33m\u001b[0m\u001b[0m\n\u001b[0m",
      "\u001b[1;31mNameError\u001b[0m: name 'row_count_total' is not defined"
     ]
    }
   ],
   "source": [
    "print(row_count_total)\n"
   ]
  },
  {
   "cell_type": "code",
   "execution_count": null,
   "metadata": {},
   "outputs": [],
   "source": []
  }
 ],
 "metadata": {
  "kernelspec": {
   "display_name": "Python 3",
   "language": "python",
   "name": "python3"
  },
  "language_info": {
   "codemirror_mode": {
    "name": "ipython",
    "version": 3
   },
   "file_extension": ".py",
   "mimetype": "text/x-python",
   "name": "python",
   "nbconvert_exporter": "python",
   "pygments_lexer": "ipython3",
   "version": "3.7.3"
  }
 },
 "nbformat": 4,
 "nbformat_minor": 2
}
