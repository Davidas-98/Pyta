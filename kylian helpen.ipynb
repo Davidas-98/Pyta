{
 "cells": [
  {
   "cell_type": "code",
   "execution_count": null,
   "metadata": {},
   "outputs": [],
   "source": [
    "con = sqlite3.connect(r\"D:\\Code\\Notebooks\\SCADA_Bruggen\") # zet hier het path naar je eigen database\n",
    "cur = con.cursor()\n",
    "df = pd.read_sql(\"SELECT * FROM WL LIMIT 1000000\", con)\n",
    "con.close()"
   ]
  },
  {
   "cell_type": "code",
   "execution_count": null,
   "metadata": {},
   "outputs": [],
   "source": [
    "df['Tijd'] = pd.to_datetime(df['Tijd'])"
   ]
  },
  {
   "cell_type": "code",
   "execution_count": null,
   "metadata": {},
   "outputs": [],
   "source": [
    "dfday = df[df['Tijd'].dt.date == (np.datetime64('2015-12-12'))]"
   ]
  },
  {
   "cell_type": "code",
   "execution_count": null,
   "metadata": {},
   "outputs": [],
   "source": []
  },
  {
   "cell_type": "code",
   "execution_count": null,
   "metadata": {},
   "outputs": [],
   "source": [
    "uurwindr = dfday[dfday.Omschrijving == \"Meteo Actuele Windrichting\"]\n",
    "uurwindr.Waarde = uurwindr.Waarde.astype(\"float\")\n",
    "dfhourly[\"WR\"] = uurwindr.groupby(uurwindr.Tijd.dt.hour)['Waarde'].mean()"
   ]
  },
  {
   "cell_type": "code",
   "execution_count": null,
   "metadata": {},
   "outputs": [],
   "source": [
    "uurwindk = dfday[dfday.Omschrijving == \"Meteo Actuele Windkracht\"]\n",
    "uurwindk.Waarde = uurwindk.Waarde.astype(\"float\")\n",
    "dfhourly[\"WK\"] = uurwindk.groupby(uurwindk.Tijd.dt.hour)['Waarde'].mean()"
   ]
  },
  {
   "cell_type": "code",
   "execution_count": null,
   "metadata": {},
   "outputs": [],
   "source": [
    "msuur = MeanShift()\n",
    "scal = StandardScaler()\n",
    "## Het model trainen om foutmeldingen te voorspellen met windrichting\n",
    "\n",
    "features = scal.fit_transform(dfhourly[['WK', 'WR']].astype(np.float64))\n",
    "msmodel.fit(features)\n",
    "\n",
    "plt.scatter(dfhourly['WR'],  dfhourly['WK'], c= msmodel.labels_, s=50, cmap='viridis')"
   ]
  }
 ],
 "metadata": {
  "kernelspec": {
   "display_name": "Python 3",
   "language": "python",
   "name": "python3"
  },
  "language_info": {
   "codemirror_mode": {
    "name": "ipython",
    "version": 3
   },
   "file_extension": ".py",
   "mimetype": "text/x-python",
   "name": "python",
   "nbconvert_exporter": "python",
   "pygments_lexer": "ipython3",
   "version": "3.7.1"
  }
 },
 "nbformat": 4,
 "nbformat_minor": 2
}
