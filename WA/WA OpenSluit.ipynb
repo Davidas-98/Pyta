{
 "cells": [
  {
   "cell_type": "code",
   "execution_count": 1,
   "metadata": {},
   "outputs": [],
   "source": [
    "import sqlite3\n",
    "import numpy as np\n",
    "import pandas as pd\n",
    "import glob\n",
    "import datetime\n",
    "# modellen importeren\n",
    "from sklearn.cluster import AgglomerativeClustering\n",
    "from sklearn.ensemble import RandomForestRegressor\n",
    "from sklearn.preprocessing import StandardScaler\n",
    "from sklearn.metrics import r2_score\n",
    "from sklearn.metrics import mean_squared_error\n",
    "\n",
    "import matplotlib.pyplot as plt\n",
    "%matplotlib inline"
   ]
  },
  {
   "cell_type": "code",
   "execution_count": 2,
   "metadata": {},
   "outputs": [],
   "source": [
    "# Maak verbinding met de database\n",
    "con = sqlite3.connect(r\"D:\\Code\\Notebooks\\SCADA_Bruggen\") # zet hier het path naar je eigen database\n",
    "cur = con.cursor()\n",
    "\n",
    "'''\n",
    "Laad de data van een brug uit de database\n",
    "WHERE = data inladen vanaf 2016, als je dit niet begrijpt hoe het werkt is het geen probleem\n",
    "De limit geeft aan dat je maar een bepaald aantal lines wil laden\n",
    "'''\n",
    "\n",
    "df = pd.read_sql(\"SELECT * FROM WA\", con)\n",
    "con.close()"
   ]
  },
  {
   "cell_type": "code",
   "execution_count": 3,
   "metadata": {},
   "outputs": [
    {
     "data": {
      "text/html": [
       "<div>\n",
       "<style scoped>\n",
       "    .dataframe tbody tr th:only-of-type {\n",
       "        vertical-align: middle;\n",
       "    }\n",
       "\n",
       "    .dataframe tbody tr th {\n",
       "        vertical-align: top;\n",
       "    }\n",
       "\n",
       "    .dataframe thead th {\n",
       "        text-align: right;\n",
       "    }\n",
       "</style>\n",
       "<table border=\"1\" class=\"dataframe\">\n",
       "  <thead>\n",
       "    <tr style=\"text-align: right;\">\n",
       "      <th></th>\n",
       "      <th>index</th>\n",
       "      <th>Tijd</th>\n",
       "      <th>Type</th>\n",
       "      <th>Klasse</th>\n",
       "      <th>Waarde</th>\n",
       "      <th>ID</th>\n",
       "      <th>Omschrijving</th>\n",
       "      <th>Status</th>\n",
       "      <th>Prioriteit</th>\n",
       "      <th>Tijd came</th>\n",
       "      <th>Tijd went</th>\n",
       "      <th>Tijd ack</th>\n",
       "      <th>Gebr.ID</th>\n",
       "      <th>DPE</th>\n",
       "    </tr>\n",
       "  </thead>\n",
       "  <tbody>\n",
       "    <tr>\n",
       "      <th>5254300</th>\n",
       "      <td>5254300</td>\n",
       "      <td>01-12-2018 00:00:09.171</td>\n",
       "      <td>PROCES</td>\n",
       "      <td>NaN</td>\n",
       "      <td>4.0147566795349</td>\n",
       "      <td>NaN</td>\n",
       "      <td>Meteo Actuele Windkracht</td>\n",
       "      <td>None</td>\n",
       "      <td>None</td>\n",
       "      <td>None</td>\n",
       "      <td>None</td>\n",
       "      <td>None</td>\n",
       "      <td>0.0</td>\n",
       "      <td>DB_H61-Meteo-S.Meteodata.Windkracht.Actueel</td>\n",
       "    </tr>\n",
       "    <tr>\n",
       "      <th>5254301</th>\n",
       "      <td>5254301</td>\n",
       "      <td>01-12-2018 00:00:05.367</td>\n",
       "      <td>PROCES</td>\n",
       "      <td>NaN</td>\n",
       "      <td>2.973090171814</td>\n",
       "      <td>NaN</td>\n",
       "      <td>Meteo Actuele Windkracht</td>\n",
       "      <td>None</td>\n",
       "      <td>None</td>\n",
       "      <td>None</td>\n",
       "      <td>None</td>\n",
       "      <td>None</td>\n",
       "      <td>0.0</td>\n",
       "      <td>DB_H61-Meteo-S.Meteodata.Windkracht.Actueel</td>\n",
       "    </tr>\n",
       "    <tr>\n",
       "      <th>5254302</th>\n",
       "      <td>5254302</td>\n",
       "      <td>01-12-2018 00:00:05.367</td>\n",
       "      <td>PROCES</td>\n",
       "      <td>NaN</td>\n",
       "      <td>206.71337890625</td>\n",
       "      <td>NaN</td>\n",
       "      <td>Meteo Actuele Windrichting</td>\n",
       "      <td>None</td>\n",
       "      <td>None</td>\n",
       "      <td>None</td>\n",
       "      <td>None</td>\n",
       "      <td>None</td>\n",
       "      <td>0.0</td>\n",
       "      <td>DB_H61-Meteo-S.Meteodata.Windrichting.Actueel</td>\n",
       "    </tr>\n",
       "    <tr>\n",
       "      <th>5254303</th>\n",
       "      <td>5254303</td>\n",
       "      <td>01-12-2018 00:00:02.460</td>\n",
       "      <td>PROCES</td>\n",
       "      <td>NaN</td>\n",
       "      <td>195.46650695801</td>\n",
       "      <td>NaN</td>\n",
       "      <td>Meteo Actuele Windrichting</td>\n",
       "      <td>None</td>\n",
       "      <td>None</td>\n",
       "      <td>None</td>\n",
       "      <td>None</td>\n",
       "      <td>None</td>\n",
       "      <td>0.0</td>\n",
       "      <td>DB_H61-Meteo-S.Meteodata.Windrichting.Actueel</td>\n",
       "    </tr>\n",
       "    <tr>\n",
       "      <th>5254304</th>\n",
       "      <td>5254304</td>\n",
       "      <td>01-12-2018 00:00:01.467</td>\n",
       "      <td>PROCES</td>\n",
       "      <td>NaN</td>\n",
       "      <td>208.37959289551</td>\n",
       "      <td>NaN</td>\n",
       "      <td>Meteo Actuele Windrichting</td>\n",
       "      <td>None</td>\n",
       "      <td>None</td>\n",
       "      <td>None</td>\n",
       "      <td>None</td>\n",
       "      <td>None</td>\n",
       "      <td>0.0</td>\n",
       "      <td>DB_H61-Meteo-S.Meteodata.Windrichting.Actueel</td>\n",
       "    </tr>\n",
       "  </tbody>\n",
       "</table>\n",
       "</div>"
      ],
      "text/plain": [
       "           index                     Tijd    Type  Klasse           Waarde  \\\n",
       "5254300  5254300  01-12-2018 00:00:09.171  PROCES     NaN  4.0147566795349   \n",
       "5254301  5254301  01-12-2018 00:00:05.367  PROCES     NaN   2.973090171814   \n",
       "5254302  5254302  01-12-2018 00:00:05.367  PROCES     NaN  206.71337890625   \n",
       "5254303  5254303  01-12-2018 00:00:02.460  PROCES     NaN  195.46650695801   \n",
       "5254304  5254304  01-12-2018 00:00:01.467  PROCES     NaN  208.37959289551   \n",
       "\n",
       "         ID                Omschrijving Status Prioriteit Tijd came Tijd went  \\\n",
       "5254300 NaN    Meteo Actuele Windkracht   None       None      None      None   \n",
       "5254301 NaN    Meteo Actuele Windkracht   None       None      None      None   \n",
       "5254302 NaN  Meteo Actuele Windrichting   None       None      None      None   \n",
       "5254303 NaN  Meteo Actuele Windrichting   None       None      None      None   \n",
       "5254304 NaN  Meteo Actuele Windrichting   None       None      None      None   \n",
       "\n",
       "        Tijd ack  Gebr.ID                                            DPE  \n",
       "5254300     None      0.0    DB_H61-Meteo-S.Meteodata.Windkracht.Actueel  \n",
       "5254301     None      0.0    DB_H61-Meteo-S.Meteodata.Windkracht.Actueel  \n",
       "5254302     None      0.0  DB_H61-Meteo-S.Meteodata.Windrichting.Actueel  \n",
       "5254303     None      0.0  DB_H61-Meteo-S.Meteodata.Windrichting.Actueel  \n",
       "5254304     None      0.0  DB_H61-Meteo-S.Meteodata.Windrichting.Actueel  "
      ]
     },
     "execution_count": 3,
     "metadata": {},
     "output_type": "execute_result"
    }
   ],
   "source": [
    "df.tail()"
   ]
  },
  {
   "cell_type": "markdown",
   "metadata": {},
   "source": [
    "## Windkracht dataframe"
   ]
  },
  {
   "cell_type": "code",
   "execution_count": 4,
   "metadata": {},
   "outputs": [
    {
     "data": {
      "text/html": [
       "<div>\n",
       "<style scoped>\n",
       "    .dataframe tbody tr th:only-of-type {\n",
       "        vertical-align: middle;\n",
       "    }\n",
       "\n",
       "    .dataframe tbody tr th {\n",
       "        vertical-align: top;\n",
       "    }\n",
       "\n",
       "    .dataframe thead th {\n",
       "        text-align: right;\n",
       "    }\n",
       "</style>\n",
       "<table border=\"1\" class=\"dataframe\">\n",
       "  <thead>\n",
       "    <tr style=\"text-align: right;\">\n",
       "      <th></th>\n",
       "      <th>Wk</th>\n",
       "    </tr>\n",
       "  </thead>\n",
       "  <tbody>\n",
       "    <tr>\n",
       "      <th>count</th>\n",
       "      <td>609771.000000</td>\n",
       "    </tr>\n",
       "    <tr>\n",
       "      <th>mean</th>\n",
       "      <td>4.123876</td>\n",
       "    </tr>\n",
       "    <tr>\n",
       "      <th>std</th>\n",
       "      <td>8.185533</td>\n",
       "    </tr>\n",
       "    <tr>\n",
       "      <th>min</th>\n",
       "      <td>0.021701</td>\n",
       "    </tr>\n",
       "    <tr>\n",
       "      <th>25%</th>\n",
       "      <td>1.714410</td>\n",
       "    </tr>\n",
       "    <tr>\n",
       "      <th>50%</th>\n",
       "      <td>2.842882</td>\n",
       "    </tr>\n",
       "    <tr>\n",
       "      <th>75%</th>\n",
       "      <td>4.361979</td>\n",
       "    </tr>\n",
       "    <tr>\n",
       "      <th>max</th>\n",
       "      <td>88.191727</td>\n",
       "    </tr>\n",
       "  </tbody>\n",
       "</table>\n",
       "</div>"
      ],
      "text/plain": [
       "                  Wk\n",
       "count  609771.000000\n",
       "mean        4.123876\n",
       "std         8.185533\n",
       "min         0.021701\n",
       "25%         1.714410\n",
       "50%         2.842882\n",
       "75%         4.361979\n",
       "max        88.191727"
      ]
     },
     "execution_count": 4,
     "metadata": {},
     "output_type": "execute_result"
    }
   ],
   "source": [
    "wkdf = df[df.Omschrijving == 'Meteo Actuele Windkracht']\n",
    "\n",
    "wkdf = wkdf[['Tijd', 'Waarde']].copy()\n",
    "wkdf['Tijd'] = pd.to_datetime(wkdf.Tijd, dayfirst = True)\n",
    "wkdf['Waarde'] = wkdf.Waarde.astype('float')\n",
    "\n",
    "# negatieve windkracht heb ik nog nooit gezien, dus die nemen we niet mee\n",
    "wkdf = wkdf[wkdf.Waarde > 0]\n",
    "wkdf.columns = ['time','Wk']\n",
    "\n",
    "# check of alles gelukt is\n",
    "wkdf.describe()"
   ]
  },
  {
   "cell_type": "code",
   "execution_count": 5,
   "metadata": {},
   "outputs": [
    {
     "data": {
      "text/html": [
       "<div>\n",
       "<style scoped>\n",
       "    .dataframe tbody tr th:only-of-type {\n",
       "        vertical-align: middle;\n",
       "    }\n",
       "\n",
       "    .dataframe tbody tr th {\n",
       "        vertical-align: top;\n",
       "    }\n",
       "\n",
       "    .dataframe thead th {\n",
       "        text-align: right;\n",
       "    }\n",
       "</style>\n",
       "<table border=\"1\" class=\"dataframe\">\n",
       "  <thead>\n",
       "    <tr style=\"text-align: right;\">\n",
       "      <th></th>\n",
       "      <th>time</th>\n",
       "      <th>Wk</th>\n",
       "    </tr>\n",
       "  </thead>\n",
       "  <tbody>\n",
       "    <tr>\n",
       "      <th>5254288</th>\n",
       "      <td>2018-12-01 00:00:29.260</td>\n",
       "      <td>4.817708</td>\n",
       "    </tr>\n",
       "    <tr>\n",
       "      <th>5254289</th>\n",
       "      <td>2018-12-01 00:00:27.374</td>\n",
       "      <td>3.776042</td>\n",
       "    </tr>\n",
       "    <tr>\n",
       "      <th>5254298</th>\n",
       "      <td>2018-12-01 00:00:13.066</td>\n",
       "      <td>2.560764</td>\n",
       "    </tr>\n",
       "    <tr>\n",
       "      <th>5254300</th>\n",
       "      <td>2018-12-01 00:00:09.171</td>\n",
       "      <td>4.014757</td>\n",
       "    </tr>\n",
       "    <tr>\n",
       "      <th>5254301</th>\n",
       "      <td>2018-12-01 00:00:05.367</td>\n",
       "      <td>2.973090</td>\n",
       "    </tr>\n",
       "  </tbody>\n",
       "</table>\n",
       "</div>"
      ],
      "text/plain": [
       "                           time        Wk\n",
       "5254288 2018-12-01 00:00:29.260  4.817708\n",
       "5254289 2018-12-01 00:00:27.374  3.776042\n",
       "5254298 2018-12-01 00:00:13.066  2.560764\n",
       "5254300 2018-12-01 00:00:09.171  4.014757\n",
       "5254301 2018-12-01 00:00:05.367  2.973090"
      ]
     },
     "execution_count": 5,
     "metadata": {},
     "output_type": "execute_result"
    }
   ],
   "source": [
    "wkdf.tail()"
   ]
  },
  {
   "cell_type": "markdown",
   "metadata": {},
   "source": [
    "## Windrichting"
   ]
  },
  {
   "cell_type": "code",
   "execution_count": 6,
   "metadata": {},
   "outputs": [
    {
     "name": "stderr",
     "output_type": "stream",
     "text": [
      "C:\\Users\\denni\\Anaconda3\\lib\\site-packages\\ipykernel_launcher.py:5: SettingWithCopyWarning: \n",
      "A value is trying to be set on a copy of a slice from a DataFrame.\n",
      "Try using .loc[row_indexer,col_indexer] = value instead\n",
      "\n",
      "See the caveats in the documentation: http://pandas.pydata.org/pandas-docs/stable/indexing.html#indexing-view-versus-copy\n",
      "  \"\"\"\n",
      "C:\\Users\\denni\\Anaconda3\\lib\\site-packages\\ipykernel_launcher.py:6: SettingWithCopyWarning: \n",
      "A value is trying to be set on a copy of a slice from a DataFrame.\n",
      "Try using .loc[row_indexer,col_indexer] = value instead\n",
      "\n",
      "See the caveats in the documentation: http://pandas.pydata.org/pandas-docs/stable/indexing.html#indexing-view-versus-copy\n",
      "  \n"
     ]
    },
    {
     "name": "stdout",
     "output_type": "stream",
     "text": [
      "<class 'pandas.core.frame.DataFrame'>\n",
      "Int64Index: 744928 entries, 46335 to 5254304\n",
      "Data columns (total 2 columns):\n",
      "time    744928 non-null datetime64[ns]\n",
      "WR      744928 non-null float64\n",
      "dtypes: datetime64[ns](1), float64(1)\n",
      "memory usage: 17.1 MB\n"
     ]
    }
   ],
   "source": [
    "# Haal windrichting data uit standaard df \n",
    "wrdf = df[df.Omschrijving == 'Meteo Actuele Windrichting']\n",
    "\n",
    "# zet de types om naar werkbare types\n",
    "wrdf['Tijd'] = pd.to_datetime(wrdf.Tijd, dayfirst = True)\n",
    "wrdf['Waarde'] = wrdf.Waarde.astype('float')\n",
    "\n",
    "# negatieve windrichtingen bestaan niet\n",
    "wrdf = wrdf[wrdf.Waarde > 0]\n",
    "\n",
    "# Maak df met allen tijd en waarde kolom\n",
    "wrdf = wrdf[['Tijd', 'Waarde']].copy()\n",
    "\n",
    "# Pas kolom namen aan zodat het later gemerged kan worden en duidelijk blijft\n",
    "wrdf.columns = ['time','WR']\n",
    "wrdf.head()\n",
    "\n",
    "#check of alles gelukt is\n",
    "wrdf.info()"
   ]
  },
  {
   "cell_type": "markdown",
   "metadata": {},
   "source": [
    "## Brug Beweging DataFrame"
   ]
  },
  {
   "cell_type": "code",
   "execution_count": 7,
   "metadata": {},
   "outputs": [],
   "source": [
    "# Maak een df met daarin alle meldingen die te maken hebben met het openen en sluiten van de brug\n",
    "\n",
    "OpenSluit = df[df.Omschrijving == 'Brug Beweging Actief']\n",
    "SluitOpen = OpenSluit.append(df[df.Omschrijving == 'Algemeen Commando Brug Openen'])\n",
    "OpenSluitBeweging = SluitOpen.append(df[df.Omschrijving == 'Algemeen Commando Brug Sluiten']) \n",
    "OpenSluitBeweging.Tijd = pd.to_datetime(OpenSluitBeweging.Tijd, dayfirst = True)"
   ]
  },
  {
   "cell_type": "code",
   "execution_count": 8,
   "metadata": {},
   "outputs": [
    {
     "data": {
      "text/html": [
       "<div>\n",
       "<style scoped>\n",
       "    .dataframe tbody tr th:only-of-type {\n",
       "        vertical-align: middle;\n",
       "    }\n",
       "\n",
       "    .dataframe tbody tr th {\n",
       "        vertical-align: top;\n",
       "    }\n",
       "\n",
       "    .dataframe thead th {\n",
       "        text-align: right;\n",
       "    }\n",
       "</style>\n",
       "<table border=\"1\" class=\"dataframe\">\n",
       "  <thead>\n",
       "    <tr style=\"text-align: right;\">\n",
       "      <th></th>\n",
       "      <th>index</th>\n",
       "      <th>Tijd</th>\n",
       "      <th>Type</th>\n",
       "      <th>Klasse</th>\n",
       "      <th>Waarde</th>\n",
       "      <th>ID</th>\n",
       "      <th>Omschrijving</th>\n",
       "      <th>Status</th>\n",
       "      <th>Prioriteit</th>\n",
       "      <th>Tijd came</th>\n",
       "      <th>Tijd went</th>\n",
       "      <th>Tijd ack</th>\n",
       "      <th>Gebr.ID</th>\n",
       "      <th>DPE</th>\n",
       "    </tr>\n",
       "  </thead>\n",
       "  <tbody>\n",
       "    <tr>\n",
       "      <th>1908</th>\n",
       "      <td>1908</td>\n",
       "      <td>2015-12-06 07:24:09.553</td>\n",
       "      <td>PROCES</td>\n",
       "      <td>NaN</td>\n",
       "      <td>FALSE</td>\n",
       "      <td>NaN</td>\n",
       "      <td>Brug Beweging Actief</td>\n",
       "      <td>None</td>\n",
       "      <td>None</td>\n",
       "      <td>None</td>\n",
       "      <td>None</td>\n",
       "      <td>None</td>\n",
       "      <td>0.0</td>\n",
       "      <td>DB_A11-Brug-S.Status.BewR</td>\n",
       "    </tr>\n",
       "    <tr>\n",
       "      <th>1963</th>\n",
       "      <td>1963</td>\n",
       "      <td>2015-12-06 07:22:27.855</td>\n",
       "      <td>PROCES</td>\n",
       "      <td>NaN</td>\n",
       "      <td>TRUE</td>\n",
       "      <td>NaN</td>\n",
       "      <td>Brug Beweging Actief</td>\n",
       "      <td>None</td>\n",
       "      <td>None</td>\n",
       "      <td>None</td>\n",
       "      <td>None</td>\n",
       "      <td>None</td>\n",
       "      <td>0.0</td>\n",
       "      <td>DB_A11-Brug-S.Status.BewR</td>\n",
       "    </tr>\n",
       "    <tr>\n",
       "      <th>2106</th>\n",
       "      <td>2106</td>\n",
       "      <td>2015-12-06 07:20:45.861</td>\n",
       "      <td>PROCES</td>\n",
       "      <td>NaN</td>\n",
       "      <td>FALSE</td>\n",
       "      <td>NaN</td>\n",
       "      <td>Brug Beweging Actief</td>\n",
       "      <td>None</td>\n",
       "      <td>None</td>\n",
       "      <td>None</td>\n",
       "      <td>None</td>\n",
       "      <td>None</td>\n",
       "      <td>0.0</td>\n",
       "      <td>DB_A11-Brug-S.Status.BewR</td>\n",
       "    </tr>\n",
       "    <tr>\n",
       "      <th>2167</th>\n",
       "      <td>2167</td>\n",
       "      <td>2015-12-06 07:19:16.855</td>\n",
       "      <td>PROCES</td>\n",
       "      <td>NaN</td>\n",
       "      <td>TRUE</td>\n",
       "      <td>NaN</td>\n",
       "      <td>Brug Beweging Actief</td>\n",
       "      <td>None</td>\n",
       "      <td>None</td>\n",
       "      <td>None</td>\n",
       "      <td>None</td>\n",
       "      <td>None</td>\n",
       "      <td>0.0</td>\n",
       "      <td>DB_A11-Brug-S.Status.BewR</td>\n",
       "    </tr>\n",
       "    <tr>\n",
       "      <th>4032</th>\n",
       "      <td>4032</td>\n",
       "      <td>2015-12-07 17:17:26.470</td>\n",
       "      <td>PROCES</td>\n",
       "      <td>NaN</td>\n",
       "      <td>FALSE</td>\n",
       "      <td>NaN</td>\n",
       "      <td>Brug Beweging Actief</td>\n",
       "      <td>None</td>\n",
       "      <td>None</td>\n",
       "      <td>None</td>\n",
       "      <td>None</td>\n",
       "      <td>None</td>\n",
       "      <td>0.0</td>\n",
       "      <td>DB_A11-Brug-S.Status.BewR</td>\n",
       "    </tr>\n",
       "  </tbody>\n",
       "</table>\n",
       "</div>"
      ],
      "text/plain": [
       "      index                    Tijd    Type  Klasse Waarde  ID  \\\n",
       "1908   1908 2015-12-06 07:24:09.553  PROCES     NaN  FALSE NaN   \n",
       "1963   1963 2015-12-06 07:22:27.855  PROCES     NaN   TRUE NaN   \n",
       "2106   2106 2015-12-06 07:20:45.861  PROCES     NaN  FALSE NaN   \n",
       "2167   2167 2015-12-06 07:19:16.855  PROCES     NaN   TRUE NaN   \n",
       "4032   4032 2015-12-07 17:17:26.470  PROCES     NaN  FALSE NaN   \n",
       "\n",
       "              Omschrijving Status Prioriteit Tijd came Tijd went Tijd ack  \\\n",
       "1908  Brug Beweging Actief   None       None      None      None     None   \n",
       "1963  Brug Beweging Actief   None       None      None      None     None   \n",
       "2106  Brug Beweging Actief   None       None      None      None     None   \n",
       "2167  Brug Beweging Actief   None       None      None      None     None   \n",
       "4032  Brug Beweging Actief   None       None      None      None     None   \n",
       "\n",
       "      Gebr.ID                        DPE  \n",
       "1908      0.0  DB_A11-Brug-S.Status.BewR  \n",
       "1963      0.0  DB_A11-Brug-S.Status.BewR  \n",
       "2106      0.0  DB_A11-Brug-S.Status.BewR  \n",
       "2167      0.0  DB_A11-Brug-S.Status.BewR  \n",
       "4032      0.0  DB_A11-Brug-S.Status.BewR  "
      ]
     },
     "execution_count": 8,
     "metadata": {},
     "output_type": "execute_result"
    }
   ],
   "source": [
    "OpenSluitBeweging.head()"
   ]
  },
  {
   "cell_type": "code",
   "execution_count": 9,
   "metadata": {},
   "outputs": [
    {
     "name": "stdout",
     "output_type": "stream",
     "text": [
      "<class 'pandas.core.frame.DataFrame'>\n",
      "Int64Index: 18090 entries, 1908 to 5246313\n",
      "Data columns (total 14 columns):\n",
      "index           18090 non-null int64\n",
      "Tijd            18090 non-null datetime64[ns]\n",
      "Type            18090 non-null object\n",
      "Klasse          0 non-null float64\n",
      "Waarde          18090 non-null object\n",
      "ID              0 non-null float64\n",
      "Omschrijving    18090 non-null object\n",
      "Status          0 non-null object\n",
      "Prioriteit      0 non-null object\n",
      "Tijd came       0 non-null object\n",
      "Tijd went       0 non-null object\n",
      "Tijd ack        0 non-null object\n",
      "Gebr.ID         18090 non-null float64\n",
      "DPE             18090 non-null object\n",
      "dtypes: datetime64[ns](1), float64(3), int64(1), object(9)\n",
      "memory usage: 2.1+ MB\n"
     ]
    }
   ],
   "source": [
    "OpenSluitBeweging.info()"
   ]
  },
  {
   "cell_type": "code",
   "execution_count": 10,
   "metadata": {},
   "outputs": [],
   "source": [
    "# Sorteer het df op datum. (je sorteert op index omdat Tijd kolom niet mee wilden werken)\n",
    "Duur = OpenSluitBeweging.sort_index()"
   ]
  },
  {
   "cell_type": "code",
   "execution_count": 11,
   "metadata": {},
   "outputs": [
    {
     "data": {
      "text/html": [
       "<div>\n",
       "<style scoped>\n",
       "    .dataframe tbody tr th:only-of-type {\n",
       "        vertical-align: middle;\n",
       "    }\n",
       "\n",
       "    .dataframe tbody tr th {\n",
       "        vertical-align: top;\n",
       "    }\n",
       "\n",
       "    .dataframe thead th {\n",
       "        text-align: right;\n",
       "    }\n",
       "</style>\n",
       "<table border=\"1\" class=\"dataframe\">\n",
       "  <thead>\n",
       "    <tr style=\"text-align: right;\">\n",
       "      <th></th>\n",
       "      <th>index</th>\n",
       "      <th>Tijd</th>\n",
       "      <th>Type</th>\n",
       "      <th>Klasse</th>\n",
       "      <th>Waarde</th>\n",
       "      <th>ID</th>\n",
       "      <th>Omschrijving</th>\n",
       "      <th>Status</th>\n",
       "      <th>Prioriteit</th>\n",
       "      <th>Tijd came</th>\n",
       "      <th>Tijd went</th>\n",
       "      <th>Tijd ack</th>\n",
       "      <th>Gebr.ID</th>\n",
       "      <th>DPE</th>\n",
       "    </tr>\n",
       "  </thead>\n",
       "  <tbody>\n",
       "    <tr>\n",
       "      <th>1908</th>\n",
       "      <td>1908</td>\n",
       "      <td>2015-12-06 07:24:09.553</td>\n",
       "      <td>PROCES</td>\n",
       "      <td>NaN</td>\n",
       "      <td>FALSE</td>\n",
       "      <td>NaN</td>\n",
       "      <td>Brug Beweging Actief</td>\n",
       "      <td>None</td>\n",
       "      <td>None</td>\n",
       "      <td>None</td>\n",
       "      <td>None</td>\n",
       "      <td>None</td>\n",
       "      <td>0.0</td>\n",
       "      <td>DB_A11-Brug-S.Status.BewR</td>\n",
       "    </tr>\n",
       "    <tr>\n",
       "      <th>1963</th>\n",
       "      <td>1963</td>\n",
       "      <td>2015-12-06 07:22:27.855</td>\n",
       "      <td>PROCES</td>\n",
       "      <td>NaN</td>\n",
       "      <td>TRUE</td>\n",
       "      <td>NaN</td>\n",
       "      <td>Brug Beweging Actief</td>\n",
       "      <td>None</td>\n",
       "      <td>None</td>\n",
       "      <td>None</td>\n",
       "      <td>None</td>\n",
       "      <td>None</td>\n",
       "      <td>0.0</td>\n",
       "      <td>DB_A11-Brug-S.Status.BewR</td>\n",
       "    </tr>\n",
       "    <tr>\n",
       "      <th>1970</th>\n",
       "      <td>1970</td>\n",
       "      <td>2015-12-06 07:22:26.839</td>\n",
       "      <td>PROCES</td>\n",
       "      <td>NaN</td>\n",
       "      <td>FALSE</td>\n",
       "      <td>NaN</td>\n",
       "      <td>Algemeen Commando Brug Sluiten</td>\n",
       "      <td>None</td>\n",
       "      <td>None</td>\n",
       "      <td>None</td>\n",
       "      <td>None</td>\n",
       "      <td>None</td>\n",
       "      <td>0.0</td>\n",
       "      <td>DB_D00-Algemeen-S.CMD.BrugSl.Cmd</td>\n",
       "    </tr>\n",
       "    <tr>\n",
       "      <th>1985</th>\n",
       "      <td>1985</td>\n",
       "      <td>2015-12-06 07:22:24.668</td>\n",
       "      <td>PROCES</td>\n",
       "      <td>NaN</td>\n",
       "      <td>TRUE</td>\n",
       "      <td>NaN</td>\n",
       "      <td>Algemeen Commando Brug Sluiten</td>\n",
       "      <td>None</td>\n",
       "      <td>None</td>\n",
       "      <td>None</td>\n",
       "      <td>None</td>\n",
       "      <td>None</td>\n",
       "      <td>12.0</td>\n",
       "      <td>DB_D00-Algemeen-S.CMD.BrugSl.Cmd</td>\n",
       "    </tr>\n",
       "    <tr>\n",
       "      <th>2106</th>\n",
       "      <td>2106</td>\n",
       "      <td>2015-12-06 07:20:45.861</td>\n",
       "      <td>PROCES</td>\n",
       "      <td>NaN</td>\n",
       "      <td>FALSE</td>\n",
       "      <td>NaN</td>\n",
       "      <td>Brug Beweging Actief</td>\n",
       "      <td>None</td>\n",
       "      <td>None</td>\n",
       "      <td>None</td>\n",
       "      <td>None</td>\n",
       "      <td>None</td>\n",
       "      <td>0.0</td>\n",
       "      <td>DB_A11-Brug-S.Status.BewR</td>\n",
       "    </tr>\n",
       "  </tbody>\n",
       "</table>\n",
       "</div>"
      ],
      "text/plain": [
       "      index                    Tijd    Type  Klasse Waarde  ID  \\\n",
       "1908   1908 2015-12-06 07:24:09.553  PROCES     NaN  FALSE NaN   \n",
       "1963   1963 2015-12-06 07:22:27.855  PROCES     NaN   TRUE NaN   \n",
       "1970   1970 2015-12-06 07:22:26.839  PROCES     NaN  FALSE NaN   \n",
       "1985   1985 2015-12-06 07:22:24.668  PROCES     NaN   TRUE NaN   \n",
       "2106   2106 2015-12-06 07:20:45.861  PROCES     NaN  FALSE NaN   \n",
       "\n",
       "                        Omschrijving Status Prioriteit Tijd came Tijd went  \\\n",
       "1908            Brug Beweging Actief   None       None      None      None   \n",
       "1963            Brug Beweging Actief   None       None      None      None   \n",
       "1970  Algemeen Commando Brug Sluiten   None       None      None      None   \n",
       "1985  Algemeen Commando Brug Sluiten   None       None      None      None   \n",
       "2106            Brug Beweging Actief   None       None      None      None   \n",
       "\n",
       "     Tijd ack  Gebr.ID                               DPE  \n",
       "1908     None      0.0         DB_A11-Brug-S.Status.BewR  \n",
       "1963     None      0.0         DB_A11-Brug-S.Status.BewR  \n",
       "1970     None      0.0  DB_D00-Algemeen-S.CMD.BrugSl.Cmd  \n",
       "1985     None     12.0  DB_D00-Algemeen-S.CMD.BrugSl.Cmd  \n",
       "2106     None      0.0         DB_A11-Brug-S.Status.BewR  "
      ]
     },
     "execution_count": 11,
     "metadata": {},
     "output_type": "execute_result"
    }
   ],
   "source": [
    "Duur.head()"
   ]
  },
  {
   "cell_type": "code",
   "execution_count": 12,
   "metadata": {},
   "outputs": [],
   "source": [
    "# Maak een kolom in df met daarin de tijd omgezet naar seconden, zodat het makkelijker rekenen wordt\n",
    "Duur['seconden'] = (Duur.Tijd.astype(np.int64) // 10**9)"
   ]
  },
  {
   "cell_type": "code",
   "execution_count": 13,
   "metadata": {},
   "outputs": [],
   "source": [
    "Duur.to_csv('beweging.csv')"
   ]
  },
  {
   "cell_type": "code",
   "execution_count": 14,
   "metadata": {},
   "outputs": [],
   "source": [
    "begin = 0\n",
    "eind = 0\n",
    "x = 0\n",
    "tst = None\n",
    "sluit = True\n",
    "duur = list()\n",
    "oslist = list()\n",
    "timestamp = list()\n",
    "\n",
    "for index, row in Duur.iterrows():\n",
    "    waarde = row[4]\n",
    "    oms = row[6]\n",
    "    sec = row[14]\n",
    "    ts = row[1]\n",
    "    if ((oms == 'Brug Beweging Actief') & (waarde == \"TRUE\")):\n",
    "        begin = sec\n",
    "        tst = ts       \n",
    "    elif ((oms == 'Brug Beweging Actief') & (waarde == \"FALSE\")):\n",
    "        eind = sec\n",
    "    if (oms == 'Algemeen Commando Brug Openen'):\n",
    "        sluit = False\n",
    "    elif (oms == 'Algemeen Commando Brug Sluiten'):\n",
    "        sluit = True\n",
    "    if ((eind!=0) & (begin!=0)):\n",
    "        duur.append(eind-begin)\n",
    "        timestamp.append(ts)\n",
    "        oslist.append(sluit)\n",
    "        eind = 0\n",
    "        begin = 0\n",
    "    "
   ]
  },
  {
   "cell_type": "code",
   "execution_count": 15,
   "metadata": {},
   "outputs": [],
   "source": [
    "# maak het nieuwe df aan\n",
    "duurdf  = pd.DataFrame(duur)\n",
    "duurdf['beweging'] = oslist\n",
    "duurdf['time'] = timestamp"
   ]
  },
  {
   "cell_type": "code",
   "execution_count": 16,
   "metadata": {},
   "outputs": [
    {
     "data": {
      "text/html": [
       "<div>\n",
       "<style scoped>\n",
       "    .dataframe tbody tr th:only-of-type {\n",
       "        vertical-align: middle;\n",
       "    }\n",
       "\n",
       "    .dataframe tbody tr th {\n",
       "        vertical-align: top;\n",
       "    }\n",
       "\n",
       "    .dataframe thead th {\n",
       "        text-align: right;\n",
       "    }\n",
       "</style>\n",
       "<table border=\"1\" class=\"dataframe\">\n",
       "  <thead>\n",
       "    <tr style=\"text-align: right;\">\n",
       "      <th></th>\n",
       "      <th>0</th>\n",
       "      <th>beweging</th>\n",
       "      <th>time</th>\n",
       "    </tr>\n",
       "  </thead>\n",
       "  <tbody>\n",
       "    <tr>\n",
       "      <th>0</th>\n",
       "      <td>102</td>\n",
       "      <td>True</td>\n",
       "      <td>2015-12-06 07:22:27.855</td>\n",
       "    </tr>\n",
       "    <tr>\n",
       "      <th>1</th>\n",
       "      <td>89</td>\n",
       "      <td>True</td>\n",
       "      <td>2015-12-06 07:19:16.855</td>\n",
       "    </tr>\n",
       "    <tr>\n",
       "      <th>2</th>\n",
       "      <td>101</td>\n",
       "      <td>False</td>\n",
       "      <td>2015-12-07 17:15:45.775</td>\n",
       "    </tr>\n",
       "    <tr>\n",
       "      <th>3</th>\n",
       "      <td>89</td>\n",
       "      <td>True</td>\n",
       "      <td>2015-12-07 17:12:11.570</td>\n",
       "    </tr>\n",
       "    <tr>\n",
       "      <th>4</th>\n",
       "      <td>102</td>\n",
       "      <td>False</td>\n",
       "      <td>2015-12-07 16:26:01.963</td>\n",
       "    </tr>\n",
       "  </tbody>\n",
       "</table>\n",
       "</div>"
      ],
      "text/plain": [
       "     0  beweging                    time\n",
       "0  102      True 2015-12-06 07:22:27.855\n",
       "1   89      True 2015-12-06 07:19:16.855\n",
       "2  101     False 2015-12-07 17:15:45.775\n",
       "3   89      True 2015-12-07 17:12:11.570\n",
       "4  102     False 2015-12-07 16:26:01.963"
      ]
     },
     "execution_count": 16,
     "metadata": {},
     "output_type": "execute_result"
    }
   ],
   "source": [
    "# 0 == sluit\n",
    "# oneven == open\n",
    "\n",
    "duurdf.head()"
   ]
  },
  {
   "cell_type": "code",
   "execution_count": 17,
   "metadata": {},
   "outputs": [],
   "source": [
    "duurdf.columns = ['duur','beweging','time']"
   ]
  },
  {
   "cell_type": "code",
   "execution_count": 18,
   "metadata": {},
   "outputs": [
    {
     "name": "stdout",
     "output_type": "stream",
     "text": [
      "<class 'pandas.core.frame.DataFrame'>\n",
      "RangeIndex: 4519 entries, 0 to 4518\n",
      "Data columns (total 3 columns):\n",
      "duur        4519 non-null int64\n",
      "beweging    4519 non-null bool\n",
      "time        4519 non-null datetime64[ns]\n",
      "dtypes: bool(1), datetime64[ns](1), int64(1)\n",
      "memory usage: 75.1 KB\n"
     ]
    }
   ],
   "source": [
    "duurdf.info()"
   ]
  },
  {
   "cell_type": "markdown",
   "metadata": {},
   "source": [
    "# Mergen van verschillende dataframes"
   ]
  },
  {
   "cell_type": "markdown",
   "metadata": {},
   "source": [
    "## maak één dataframe met  daarin alle waarden die nodig  zijn"
   ]
  },
  {
   "cell_type": "code",
   "execution_count": 19,
   "metadata": {},
   "outputs": [],
   "source": [
    "# samenvoegen van duur data en windrichting\n",
    "# sorteer de dataframes op de time kolom, anders werkt de merge_asof niet\n",
    "sortedduur = duurdf.sort_values('time')\n",
    "sortedwr  =  wrdf.sort_values('time')\n",
    "\n",
    "# voeg de gesorteerde dataframes samen gelet op de time kolom, waarbij hij zoekt naar de eerstvoorgaande time waarde\n",
    "mergeddf = pd.merge_asof(sortedduur,sortedwr, on = 'time')"
   ]
  },
  {
   "cell_type": "code",
   "execution_count": 20,
   "metadata": {},
   "outputs": [],
   "source": [
    "# hetzelfde als hierboven maar dan met de windkracht\n",
    "sortedmerged = mergeddf.sort_values('time')\n",
    "sortedwk  =  wkdf.sort_values('time')\n",
    "duurWrWk = pd.merge_asof(sortedmerged,sortedwk, on = 'time')"
   ]
  },
  {
   "cell_type": "code",
   "execution_count": 21,
   "metadata": {},
   "outputs": [
    {
     "data": {
      "text/html": [
       "<div>\n",
       "<style scoped>\n",
       "    .dataframe tbody tr th:only-of-type {\n",
       "        vertical-align: middle;\n",
       "    }\n",
       "\n",
       "    .dataframe tbody tr th {\n",
       "        vertical-align: top;\n",
       "    }\n",
       "\n",
       "    .dataframe thead th {\n",
       "        text-align: right;\n",
       "    }\n",
       "</style>\n",
       "<table border=\"1\" class=\"dataframe\">\n",
       "  <thead>\n",
       "    <tr style=\"text-align: right;\">\n",
       "      <th></th>\n",
       "      <th>duur</th>\n",
       "      <th>beweging</th>\n",
       "      <th>time</th>\n",
       "      <th>WR</th>\n",
       "      <th>Wk</th>\n",
       "    </tr>\n",
       "  </thead>\n",
       "  <tbody>\n",
       "    <tr>\n",
       "      <th>4509</th>\n",
       "      <td>89</td>\n",
       "      <td>True</td>\n",
       "      <td>2018-11-30 15:19:38.269</td>\n",
       "      <td>206.505112</td>\n",
       "      <td>5.620659</td>\n",
       "    </tr>\n",
       "    <tr>\n",
       "      <th>4510</th>\n",
       "      <td>98</td>\n",
       "      <td>False</td>\n",
       "      <td>2018-11-30 15:22:41.161</td>\n",
       "      <td>217.439575</td>\n",
       "      <td>4.644097</td>\n",
       "    </tr>\n",
       "    <tr>\n",
       "      <th>4511</th>\n",
       "      <td>89</td>\n",
       "      <td>True</td>\n",
       "      <td>2018-11-30 18:24:19.863</td>\n",
       "      <td>148.916946</td>\n",
       "      <td>1.410590</td>\n",
       "    </tr>\n",
       "    <tr>\n",
       "      <th>4512</th>\n",
       "      <td>101</td>\n",
       "      <td>False</td>\n",
       "      <td>2018-11-30 18:28:16.961</td>\n",
       "      <td>149.750046</td>\n",
       "      <td>1.410590</td>\n",
       "    </tr>\n",
       "    <tr>\n",
       "      <th>4513</th>\n",
       "      <td>89</td>\n",
       "      <td>True</td>\n",
       "      <td>2018-12-01 03:47:56.742</td>\n",
       "      <td>160.059692</td>\n",
       "      <td>1.453993</td>\n",
       "    </tr>\n",
       "    <tr>\n",
       "      <th>4514</th>\n",
       "      <td>100</td>\n",
       "      <td>False</td>\n",
       "      <td>2018-12-01 03:51:12.347</td>\n",
       "      <td>154.019699</td>\n",
       "      <td>1.996528</td>\n",
       "    </tr>\n",
       "    <tr>\n",
       "      <th>4515</th>\n",
       "      <td>88</td>\n",
       "      <td>True</td>\n",
       "      <td>2018-12-01 09:09:20.067</td>\n",
       "      <td>157.143829</td>\n",
       "      <td>3.320312</td>\n",
       "    </tr>\n",
       "    <tr>\n",
       "      <th>4516</th>\n",
       "      <td>101</td>\n",
       "      <td>False</td>\n",
       "      <td>2018-12-01 09:12:13.868</td>\n",
       "      <td>154.019699</td>\n",
       "      <td>2.148438</td>\n",
       "    </tr>\n",
       "    <tr>\n",
       "      <th>4517</th>\n",
       "      <td>88</td>\n",
       "      <td>True</td>\n",
       "      <td>2018-12-01 13:05:37.472</td>\n",
       "      <td>123.403206</td>\n",
       "      <td>3.298611</td>\n",
       "    </tr>\n",
       "    <tr>\n",
       "      <th>4518</th>\n",
       "      <td>100</td>\n",
       "      <td>False</td>\n",
       "      <td>2018-12-01 13:08:21.061</td>\n",
       "      <td>164.954163</td>\n",
       "      <td>2.343750</td>\n",
       "    </tr>\n",
       "  </tbody>\n",
       "</table>\n",
       "</div>"
      ],
      "text/plain": [
       "      duur  beweging                    time          WR        Wk\n",
       "4509    89      True 2018-11-30 15:19:38.269  206.505112  5.620659\n",
       "4510    98     False 2018-11-30 15:22:41.161  217.439575  4.644097\n",
       "4511    89      True 2018-11-30 18:24:19.863  148.916946  1.410590\n",
       "4512   101     False 2018-11-30 18:28:16.961  149.750046  1.410590\n",
       "4513    89      True 2018-12-01 03:47:56.742  160.059692  1.453993\n",
       "4514   100     False 2018-12-01 03:51:12.347  154.019699  1.996528\n",
       "4515    88      True 2018-12-01 09:09:20.067  157.143829  3.320312\n",
       "4516   101     False 2018-12-01 09:12:13.868  154.019699  2.148438\n",
       "4517    88      True 2018-12-01 13:05:37.472  123.403206  3.298611\n",
       "4518   100     False 2018-12-01 13:08:21.061  164.954163  2.343750"
      ]
     },
     "execution_count": 21,
     "metadata": {},
     "output_type": "execute_result"
    }
   ],
   "source": [
    "duurWrWk.tail(10)"
   ]
  },
  {
   "cell_type": "markdown",
   "metadata": {},
   "source": [
    "## check voor outliers"
   ]
  },
  {
   "cell_type": "code",
   "execution_count": 22,
   "metadata": {},
   "outputs": [
    {
     "data": {
      "text/plain": [
       "<matplotlib.axes._subplots.AxesSubplot at 0x1d6386c6470>"
      ]
     },
     "execution_count": 22,
     "metadata": {},
     "output_type": "execute_result"
    },
    {
     "data": {
      "image/png": "[encoded data removed]",
      "text/plain": [
       "<Figure size 432x288 with 1 Axes>"
      ]
     },
     "metadata": {
      "needs_background": "light"
     },
     "output_type": "display_data"
    }
   ],
   "source": [
    "duurWrWk.boxplot('duur')"
   ]
  },
  {
   "cell_type": "markdown",
   "metadata": {},
   "source": [
    "## Grafieken sluiten brug"
   ]
  },
  {
   "cell_type": "code",
   "execution_count": 24,
   "metadata": {},
   "outputs": [
    {
     "data": {
      "text/plain": [
       "<matplotlib.axes._subplots.AxesSubplot at 0x1d656cb6d30>"
      ]
     },
     "execution_count": 24,
     "metadata": {},
     "output_type": "execute_result"
    },
    {
     "data": {
      "image/png": "[encoded data removed]",
      "text/plain": [
       "<Figure size 432x288 with 1 Axes>"
      ]
     },
     "metadata": {
      "needs_background": "light"
     },
     "output_type": "display_data"
    }
   ],
   "source": [
    "# duur tegenover tijd\n",
    "sluit = duurWrWk[duurWrWk.beweging == True]\n",
    "sluit.plot(x = \"time\", y = 'duur', style = '.')"
   ]
  },
  {
   "cell_type": "code",
   "execution_count": 25,
   "metadata": {},
   "outputs": [
    {
     "data": {
      "text/plain": [
       "<matplotlib.axes._subplots.AxesSubplot at 0x1d66fbbdc50>"
      ]
     },
     "execution_count": 25,
     "metadata": {},
     "output_type": "execute_result"
    },
    {
     "data": {
      "image/png": "[encoded data removed]",
      "text/plain": [
       "<Figure size 432x288 with 1 Axes>"
      ]
     },
     "metadata": {
      "needs_background": "light"
     },
     "output_type": "display_data"
    }
   ],
   "source": [
    "# Duur tegenover tijd\n",
    "openen = duurWrWk[duurWrWk.beweging == False]\n",
    "openen.plot(x = \"time\", y = 'duur', style = '.')"
   ]
  },
  {
   "cell_type": "code",
   "execution_count": 26,
   "metadata": {},
   "outputs": [],
   "source": [
    "sluitin = sluit[sluit.duur > 75]\n",
    "sluitout = sluit[sluit.duur < 75]"
   ]
  },
  {
   "cell_type": "code",
   "execution_count": 27,
   "metadata": {},
   "outputs": [
    {
     "data": {
      "text/plain": [
       "count      2252.000000\n",
       "mean        126.619005\n",
       "std        5530.577874\n",
       "min      -67915.000000\n",
       "25%         100.000000\n",
       "50%         100.000000\n",
       "75%         101.000000\n",
       "max      155209.000000\n",
       "Name: duur, dtype: float64"
      ]
     },
     "execution_count": 27,
     "metadata": {},
     "output_type": "execute_result"
    }
   ],
   "source": [
    "openen.duur.describe()"
   ]
  },
  {
   "cell_type": "code",
   "execution_count": 28,
   "metadata": {},
   "outputs": [
    {
     "data": {
      "text/plain": [
       "(2204, 5)"
      ]
     },
     "execution_count": 28,
     "metadata": {},
     "output_type": "execute_result"
    }
   ],
   "source": [
    "sluitin.shape"
   ]
  },
  {
   "cell_type": "code",
   "execution_count": 29,
   "metadata": {},
   "outputs": [
    {
     "data": {
      "text/plain": [
       "(63, 5)"
      ]
     },
     "execution_count": 29,
     "metadata": {},
     "output_type": "execute_result"
    }
   ],
   "source": [
    "sluitout.shape"
   ]
  },
  {
   "cell_type": "code",
   "execution_count": 30,
   "metadata": {},
   "outputs": [
    {
     "data": {
      "text/plain": [
       "2.2504724274179693"
      ]
     },
     "execution_count": 30,
     "metadata": {},
     "output_type": "execute_result"
    }
   ],
   "source": [
    "sluitPerOut = ((131/5821)*100)\n",
    "sluitPerOut"
   ]
  },
  {
   "cell_type": "code",
   "execution_count": 31,
   "metadata": {},
   "outputs": [],
   "source": [
    "openin = openen[(openen.duur >= 75) & (openen.duur <= 125)]\n",
    "openout = openen[(openen.duur < 75) | (openen.duur > 125)]"
   ]
  },
  {
   "cell_type": "code",
   "execution_count": 32,
   "metadata": {},
   "outputs": [
    {
     "data": {
      "text/plain": [
       "(2202, 5)"
      ]
     },
     "execution_count": 32,
     "metadata": {},
     "output_type": "execute_result"
    }
   ],
   "source": [
    "openin.shape"
   ]
  },
  {
   "cell_type": "code",
   "execution_count": 33,
   "metadata": {},
   "outputs": [
    {
     "data": {
      "text/plain": [
       "(50, 5)"
      ]
     },
     "execution_count": 33,
     "metadata": {},
     "output_type": "execute_result"
    }
   ],
   "source": [
    "openout.shape"
   ]
  },
  {
   "cell_type": "code",
   "execution_count": 34,
   "metadata": {},
   "outputs": [
    {
     "data": {
      "text/plain": [
       "4.401979184439515"
      ]
     },
     "execution_count": 34,
     "metadata": {},
     "output_type": "execute_result"
    }
   ],
   "source": [
    "openPerOut = ((258/5861)*100)\n",
    "openPerOut"
   ]
  },
  {
   "cell_type": "code",
   "execution_count": 35,
   "metadata": {},
   "outputs": [
    {
     "data": {
      "text/plain": [
       "<matplotlib.axes._subplots.AxesSubplot at 0x1d678ec7e48>"
      ]
     },
     "execution_count": 35,
     "metadata": {},
     "output_type": "execute_result"
    },
    {
     "data": {
      "image/png": "[encoded data removed]",
      "text/plain": [
       "<Figure size 432x288 with 1 Axes>"
      ]
     },
     "metadata": {
      "needs_background": "light"
     },
     "output_type": "display_data"
    }
   ],
   "source": [
    "# duur tegenover windkracht\n",
    "sluit.plot(x = \"duur\", y = 'Wk', style = '.', color = 'red')"
   ]
  },
  {
   "cell_type": "code",
   "execution_count": 36,
   "metadata": {},
   "outputs": [
    {
     "data": {
      "text/plain": [
       "<matplotlib.axes._subplots.AxesSubplot at 0x1d67b47eba8>"
      ]
     },
     "execution_count": 36,
     "metadata": {},
     "output_type": "execute_result"
    },
    {
     "data": {
      "image/png": "[encoded data removed]",
      "text/plain": [
       "<Figure size 432x288 with 1 Axes>"
      ]
     },
     "metadata": {
      "needs_background": "light"
     },
     "output_type": "display_data"
    }
   ],
   "source": [
    "# Duur tegenover windrichting\n",
    "sluit.plot(x = \"duur\", y = 'WR', style = '.', color = 'purple')"
   ]
  },
  {
   "cell_type": "markdown",
   "metadata": {},
   "source": [
    "## Grafieken openen"
   ]
  },
  {
   "cell_type": "code",
   "execution_count": 37,
   "metadata": {},
   "outputs": [
    {
     "data": {
      "text/plain": [
       "<matplotlib.axes._subplots.AxesSubplot at 0x1d67cd8c940>"
      ]
     },
     "execution_count": 37,
     "metadata": {},
     "output_type": "execute_result"
    },
    {
     "data": {
      "image/png": "[encoded data removed]",
      "text/plain": [
       "<Figure size 432x288 with 1 Axes>"
      ]
     },
     "metadata": {
      "needs_background": "light"
     },
     "output_type": "display_data"
    }
   ],
   "source": [
    "# Duur tegenover windkracht\n",
    "openen.plot(x = \"duur\", y = 'Wk', style = '.', color = 'red')"
   ]
  },
  {
   "cell_type": "code",
   "execution_count": 38,
   "metadata": {},
   "outputs": [
    {
     "data": {
      "text/plain": [
       "<matplotlib.axes._subplots.AxesSubplot at 0x1d67ebc3550>"
      ]
     },
     "execution_count": 38,
     "metadata": {},
     "output_type": "execute_result"
    },
    {
     "data": {
      "image/png": "[encoded data removed]",
      "text/plain": [
       "<Figure size 432x288 with 1 Axes>"
      ]
     },
     "metadata": {
      "needs_background": "light"
     },
     "output_type": "display_data"
    }
   ],
   "source": [
    "# Duur tegenover Windrichting\n",
    "openen.plot(x = \"duur\", y = 'WR', style = '.', color = 'purple')"
   ]
  },
  {
   "cell_type": "markdown",
   "metadata": {},
   "source": [
    "## Data Cleaning"
   ]
  },
  {
   "cell_type": "code",
   "execution_count": 54,
   "metadata": {},
   "outputs": [
    {
     "data": {
      "text/html": [
       "<div>\n",
       "<style scoped>\n",
       "    .dataframe tbody tr th:only-of-type {\n",
       "        vertical-align: middle;\n",
       "    }\n",
       "\n",
       "    .dataframe tbody tr th {\n",
       "        vertical-align: top;\n",
       "    }\n",
       "\n",
       "    .dataframe thead th {\n",
       "        text-align: right;\n",
       "    }\n",
       "</style>\n",
       "<table border=\"1\" class=\"dataframe\">\n",
       "  <thead>\n",
       "    <tr style=\"text-align: right;\">\n",
       "      <th></th>\n",
       "      <th>duur</th>\n",
       "      <th>WR</th>\n",
       "      <th>Wk</th>\n",
       "    </tr>\n",
       "  </thead>\n",
       "  <tbody>\n",
       "    <tr>\n",
       "      <th>count</th>\n",
       "      <td>4334.000000</td>\n",
       "      <td>4334.000000</td>\n",
       "      <td>4334.000000</td>\n",
       "    </tr>\n",
       "    <tr>\n",
       "      <th>mean</th>\n",
       "      <td>94.719428</td>\n",
       "      <td>186.838206</td>\n",
       "      <td>2.959480</td>\n",
       "    </tr>\n",
       "    <tr>\n",
       "      <th>std</th>\n",
       "      <td>6.041988</td>\n",
       "      <td>92.797280</td>\n",
       "      <td>2.003093</td>\n",
       "    </tr>\n",
       "    <tr>\n",
       "      <th>min</th>\n",
       "      <td>80.000000</td>\n",
       "      <td>0.104138</td>\n",
       "      <td>0.065104</td>\n",
       "    </tr>\n",
       "    <tr>\n",
       "      <th>25%</th>\n",
       "      <td>89.000000</td>\n",
       "      <td>123.429239</td>\n",
       "      <td>1.497396</td>\n",
       "    </tr>\n",
       "    <tr>\n",
       "      <th>50%</th>\n",
       "      <td>96.500000</td>\n",
       "      <td>207.526497</td>\n",
       "      <td>2.582465</td>\n",
       "    </tr>\n",
       "    <tr>\n",
       "      <th>75%</th>\n",
       "      <td>100.000000</td>\n",
       "      <td>249.305710</td>\n",
       "      <td>3.993055</td>\n",
       "    </tr>\n",
       "    <tr>\n",
       "      <th>max</th>\n",
       "      <td>124.000000</td>\n",
       "      <td>359.795837</td>\n",
       "      <td>16.080729</td>\n",
       "    </tr>\n",
       "  </tbody>\n",
       "</table>\n",
       "</div>"
      ],
      "text/plain": [
       "              duur           WR           Wk\n",
       "count  4334.000000  4334.000000  4334.000000\n",
       "mean     94.719428   186.838206     2.959480\n",
       "std       6.041988    92.797280     2.003093\n",
       "min      80.000000     0.104138     0.065104\n",
       "25%      89.000000   123.429239     1.497396\n",
       "50%      96.500000   207.526497     2.582465\n",
       "75%     100.000000   249.305710     3.993055\n",
       "max     124.000000   359.795837    16.080729"
      ]
     },
     "execution_count": 54,
     "metadata": {},
     "output_type": "execute_result"
    }
   ],
   "source": [
    "# haal de outliers uit de data\n",
    "cleanDuur = duurWrWk[duurWrWk.duur >  75]\n",
    "cleanDuur = cleanDuur[cleanDuur.duur < 125]\n",
    "cleanDuur = cleanDuur[(cleanDuur.WR >= 0) & (cleanDuur.WR<=360)]\n",
    "cleanDuur.describe()"
   ]
  },
  {
   "cell_type": "code",
   "execution_count": 55,
   "metadata": {},
   "outputs": [
    {
     "data": {
      "text/plain": [
       "<matplotlib.axes._subplots.AxesSubplot at 0x1d6c4beb748>"
      ]
     },
     "execution_count": 55,
     "metadata": {},
     "output_type": "execute_result"
    },
    {
     "data": {
      "image/png": "[encoded data removed]",
      "text/plain": [
       "<Figure size 432x288 with 1 Axes>"
      ]
     },
     "metadata": {
      "needs_background": "light"
     },
     "output_type": "display_data"
    }
   ],
   "source": [
    "cleanDuur.boxplot('duur')"
   ]
  },
  {
   "cell_type": "markdown",
   "metadata": {},
   "source": [
    "## Duur van openen bruggen over de tijd"
   ]
  },
  {
   "cell_type": "code",
   "execution_count": 56,
   "metadata": {},
   "outputs": [],
   "source": [
    "cleanOpen = cleanDuur[cleanDuur.beweging == False]"
   ]
  },
  {
   "cell_type": "code",
   "execution_count": 57,
   "metadata": {},
   "outputs": [
    {
     "data": {
      "text/plain": [
       "<matplotlib.axes._subplots.AxesSubplot at 0x1d635dfe6d8>"
      ]
     },
     "execution_count": 57,
     "metadata": {},
     "output_type": "execute_result"
    },
    {
     "data": {
      "image/png": "[encoded data removed]",
      "text/plain": [
       "<Figure size 432x288 with 1 Axes>"
      ]
     },
     "metadata": {
      "needs_background": "light"
     },
     "output_type": "display_data"
    }
   ],
   "source": [
    "cleanOpen.plot(x = 'time', y ='duur', style = '.')"
   ]
  },
  {
   "cell_type": "markdown",
   "metadata": {},
   "source": [
    "## Duur van sluiten bruggen over de tijd"
   ]
  },
  {
   "cell_type": "code",
   "execution_count": 58,
   "metadata": {},
   "outputs": [],
   "source": [
    "cleanSluit = cleanDuur[cleanDuur.beweging == True]"
   ]
  },
  {
   "cell_type": "code",
   "execution_count": 59,
   "metadata": {},
   "outputs": [
    {
     "data": {
      "text/plain": [
       "<matplotlib.axes._subplots.AxesSubplot at 0x1d63974eb70>"
      ]
     },
     "execution_count": 59,
     "metadata": {},
     "output_type": "execute_result"
    },
    {
     "data": {
      "image/png": "[encoded data removed]",
      "text/plain": [
       "<Figure size 432x288 with 1 Axes>"
      ]
     },
     "metadata": {
      "needs_background": "light"
     },
     "output_type": "display_data"
    }
   ],
   "source": [
    "cleanSluit.plot(x = \"time\", y = 'duur', style = '.')"
   ]
  },
  {
   "cell_type": "markdown",
   "metadata": {},
   "source": [
    "## data prep voor dagdeel"
   ]
  },
  {
   "cell_type": "code",
   "execution_count": 60,
   "metadata": {},
   "outputs": [
    {
     "name": "stderr",
     "output_type": "stream",
     "text": [
      "C:\\Users\\denni\\Anaconda3\\lib\\site-packages\\ipykernel_launcher.py:2: SettingWithCopyWarning: \n",
      "A value is trying to be set on a copy of a slice from a DataFrame.\n",
      "Try using .loc[row_indexer,col_indexer] = value instead\n",
      "\n",
      "See the caveats in the documentation: http://pandas.pydata.org/pandas-docs/stable/indexing.html#indexing-view-versus-copy\n",
      "  \n",
      "C:\\Users\\denni\\Anaconda3\\lib\\site-packages\\ipykernel_launcher.py:3: SettingWithCopyWarning: \n",
      "A value is trying to be set on a copy of a slice from a DataFrame.\n",
      "Try using .loc[row_indexer,col_indexer] = value instead\n",
      "\n",
      "See the caveats in the documentation: http://pandas.pydata.org/pandas-docs/stable/indexing.html#indexing-view-versus-copy\n",
      "  This is separate from the ipykernel package so we can avoid doing imports until\n"
     ]
    }
   ],
   "source": [
    "# Uur kolom maken om dagdeel te bepalen.\n",
    "cleanOpen['uur'] = cleanOpen.time.dt.hour\n",
    "cleanSluit['uur'] = cleanSluit.time.dt.hour\n",
    "cleanDuur['uur'] = cleanDuur.time.dt.hour"
   ]
  },
  {
   "cell_type": "markdown",
   "metadata": {},
   "source": [
    "# Boxplots\n",
    "## Boxplots per dagdeel"
   ]
  },
  {
   "cell_type": "code",
   "execution_count": 68,
   "metadata": {},
   "outputs": [
    {
     "data": {
      "text/plain": [
       "([<matplotlib.axis.XTick at 0x1d636381048>,\n",
       "  <matplotlib.axis.XTick at 0x1d637275978>,\n",
       "  <matplotlib.axis.XTick at 0x1d6372756a0>,\n",
       "  <matplotlib.axis.XTick at 0x1d63afdee10>,\n",
       "  <matplotlib.axis.XTick at 0x1d63bfe02e8>],\n",
       " <a list of 5 Text xticklabel objects>)"
      ]
     },
     "execution_count": 68,
     "metadata": {},
     "output_type": "execute_result"
    },
    {
     "data": {
      "image/png": "[encoded data removed]",
      "text/plain": [
       "<Figure size 432x288 with 1 Axes>"
      ]
     },
     "metadata": {
      "needs_background": "light"
     },
     "output_type": "display_data"
    }
   ],
   "source": [
    "ochtendDuur = cleanDuur[((cleanDuur.uur >= 6)  & (cleanDuur.uur <= 12))]\n",
    "middagDuur = cleanDuur[((cleanDuur.uur >= 13)  & (cleanDuur.uur <= 18))]\n",
    "avondDuur = cleanDuur[((cleanDuur.uur >= 19)  & (cleanDuur.uur <= 24))]\n",
    "nachtDuur = cleanDuur[((cleanDuur.uur >= 0)  & (cleanDuur.uur <= 5))]\n",
    "data  = [cleanDuur.duur, ochtendDuur.duur, middagDuur.duur, avondDuur.duur, nachtDuur.duur]\n",
    "plt.boxplot(data)\n",
    "plt.xticks([1, 2, 3, 4, 5], ('alles','ochtend', 'middag','avond', 'nacht'))"
   ]
  },
  {
   "cell_type": "markdown",
   "metadata": {},
   "source": [
    "## Boxplot openen dagdeel"
   ]
  },
  {
   "cell_type": "code",
   "execution_count": 70,
   "metadata": {},
   "outputs": [
    {
     "data": {
      "text/plain": [
       "Text(0, 0.5, 'Duur (s)')"
      ]
     },
     "execution_count": 70,
     "metadata": {},
     "output_type": "execute_result"
    },
    {
     "data": {
      "image/png": "[encoded data removed]",
      "text/plain": [
       "<Figure size 1152x648 with 1 Axes>"
      ]
     },
     "metadata": {
      "needs_background": "light"
     },
     "output_type": "display_data"
    }
   ],
   "source": [
    "# maak nieuwe dataframes met daarin alle ochtend, middag en avond openingen.\n",
    "# Deze brug opent in deze periode niet s'nachts\n",
    "\n",
    "ochtendDuurOpen = cleanOpen[((cleanOpen.uur >= 6)  & (cleanOpen.uur <= 12))]\n",
    "middagDuurOpen= cleanOpen[((cleanOpen.uur >= 13)  & (cleanOpen.uur <= 18))]\n",
    "avondDuurOpen = cleanOpen[((cleanOpen.uur >= 19)  & (cleanOpen.uur <= 24))]\n",
    "nachtDuurOpen = cleanOpen[((cleanOpen.uur >= 0)  & (cleanOpen.uur <= 5))]\n",
    "\n",
    "# selecteer de data om in de boxplot te zetten\n",
    "dataOpen  = [cleanOpen.duur, ochtendDuurOpen.duur, middagDuurOpen.duur, avondDuurOpen.duur,nachtDuurOpen.duur]\n",
    "\n",
    "# Boxplot\n",
    "plt.figure(figsize=(16,9))\n",
    "plt.boxplot(dataOpen)\n",
    "plt.xticks([1, 2, 3, 4,5], ('Totaal','ochtend', 'middag','avond','nacht'))\n",
    "plt.title('Duur van openen van brug WT per dagdeel van 1-1-2016 tot 4-11-2016')\n",
    "plt.ylabel('Duur (s)')"
   ]
  },
  {
   "cell_type": "markdown",
   "metadata": {},
   "source": [
    "## Boxplot sluiten per dagdeel"
   ]
  },
  {
   "cell_type": "code",
   "execution_count": 71,
   "metadata": {},
   "outputs": [
    {
     "data": {
      "text/plain": [
       "Text(0, 0.5, 'Duur (s)')"
      ]
     },
     "execution_count": 71,
     "metadata": {},
     "output_type": "execute_result"
    },
    {
     "data": {
      "image/png": "[encoded data removed]",
      "text/plain": [
       "<Figure size 1152x648 with 1 Axes>"
      ]
     },
     "metadata": {
      "needs_background": "light"
     },
     "output_type": "display_data"
    }
   ],
   "source": [
    "ochtendDuurSluit = cleanSluit[((cleanSluit.uur >= 6)  & (cleanSluit.uur <= 12))]\n",
    "middagDuurSluit= cleanSluit[((cleanSluit.uur >= 13)  & (cleanSluit.uur <= 18))]\n",
    "avondDuurSluit = cleanSluit[((cleanSluit.uur >= 19)  & (cleanSluit.uur <= 24))]\n",
    "nachtDuurSluit =cleanSluit[((cleanSluit.uur >= 0)  & (cleanSluit.uur <= 5))]\n",
    "dataSluit  = [cleanSluit.duur, ochtendDuurSluit.duur, middagDuurSluit.duur, avondDuurSluit.duur, nachtDuurSluit.duur]\n",
    "plt.figure(figsize=(16,9))\n",
    "plt.boxplot(dataSluit)\n",
    "plt.xticks([1, 2, 3, 4,  5], ('Totaal','ochtend', 'middag','avond', 'nacht'))\n",
    "plt.title('Duur van sluiten van brug WT per dagdeel van 1-1-2016 tot 4-11-2016')\n",
    "plt.ylabel('Duur (s)')"
   ]
  },
  {
   "cell_type": "markdown",
   "metadata": {},
   "source": [
    "## Boxplots per windrichting"
   ]
  },
  {
   "cell_type": "code",
   "execution_count": 64,
   "metadata": {},
   "outputs": [
    {
     "data": {
      "text/plain": [
       "([<matplotlib.axis.XTick at 0x1d637b50a90>,\n",
       "  <matplotlib.axis.XTick at 0x1d637b503c8>,\n",
       "  <matplotlib.axis.XTick at 0x1d637b50278>,\n",
       "  <matplotlib.axis.XTick at 0x1d639a0ce80>,\n",
       "  <matplotlib.axis.XTick at 0x1d639c48358>,\n",
       "  <matplotlib.axis.XTick at 0x1d639c48828>,\n",
       "  <matplotlib.axis.XTick at 0x1d639c48cf8>,\n",
       "  <matplotlib.axis.XTick at 0x1d639c69208>,\n",
       "  <matplotlib.axis.XTick at 0x1d639c696d8>],\n",
       " <a list of 9 Text xticklabel objects>)"
      ]
     },
     "execution_count": 64,
     "metadata": {},
     "output_type": "execute_result"
    },
    {
     "data": {
      "image/png": "[encoded data removed]",
      "text/plain": [
       "<Figure size 432x288 with 1 Axes>"
      ]
     },
     "metadata": {
      "needs_background": "light"
     },
     "output_type": "display_data"
    }
   ],
   "source": [
    "cleanDuur['N'] = ((cleanDuur.WR >= 0) & (cleanDuur.WR <= 22.5) | (cleanDuur.WR >= 337.6) & (cleanDuur.WR <= 360)).astype('int')\n",
    "cleanDuur['NO'] = ((cleanDuur.WR >=22.6) & (cleanDuur.WR <= 67.5)).astype('int')\n",
    "cleanDuur['O'] = ((cleanDuur.WR >=67.6) & (cleanDuur.WR <= 112.5)).astype('int')\n",
    "cleanDuur['ZO'] = ((cleanDuur.WR >=112.6) & (cleanDuur.WR <= 157.5)).astype('int')\n",
    "cleanDuur['Z'] = ((cleanDuur.WR >=157.6) & (cleanDuur.WR <= 202.5)).astype('int')\n",
    "cleanDuur['ZW'] = ((cleanDuur.WR >=202.6) & (cleanDuur.WR <= 247.2)).astype('int')\n",
    "cleanDuur['W'] = ((cleanDuur.WR>=247.6) & (cleanDuur.WR <= 292.5)).astype('int')\n",
    "cleanDuur['NW'] = ((cleanDuur.WR >=292.6) & (cleanDuur.WR <= 337.5)).astype('int')\n",
    "\n",
    "N = cleanDuur[cleanDuur.N == 1]\n",
    "NO = cleanDuur[cleanDuur.NO == 1]\n",
    "O = cleanDuur[cleanDuur.O == 1]\n",
    "ZO = cleanDuur[cleanDuur.ZO == 1]\n",
    "Z = cleanDuur[cleanDuur.Z == 1]\n",
    "ZW = cleanDuur[cleanDuur.ZW == 1]\n",
    "W = cleanDuur[cleanDuur.W == 1]\n",
    "NW = cleanDuur[cleanDuur.NW == 1]\n",
    "\n",
    "data = [cleanDuur.duur, N.duur,NO.duur,O.duur,ZO.duur,Z.duur, ZW.duur, W.duur, NW.duur]\n",
    "plt.boxplot(data)\n",
    "plt.xticks([1, 2, 3, 4, 5, 6, 7, 8, 9], ('Totaal','N','NO','O','ZO' ,'Z' ,'ZW','W','NW'))"
   ]
  },
  {
   "cell_type": "markdown",
   "metadata": {},
   "source": [
    "## Boxplot duur openen per windrichting"
   ]
  },
  {
   "cell_type": "code",
   "execution_count": 65,
   "metadata": {},
   "outputs": [
    {
     "data": {
      "text/plain": [
       "Text(0, 0.5, 'Duur (s)')"
      ]
     },
     "execution_count": 65,
     "metadata": {},
     "output_type": "execute_result"
    },
    {
     "data": {
      "image/png": "[encoded data removed]",
      "text/plain": [
       "<Figure size 1152x648 with 1 Axes>"
      ]
     },
     "metadata": {
      "needs_background": "light"
     },
     "output_type": "display_data"
    }
   ],
   "source": [
    "# dataframes aanmaken met alleen de data per windrichting, dus dataframe voor Noord, Oost, etc.\n",
    "openN = cleanOpen[((cleanOpen.WR >= 0) & (cleanOpen.WR <= 22.5) | (cleanOpen.WR >= 337.6) & (cleanOpen.WR <= 360))]\n",
    "openNO = cleanOpen[((cleanOpen.WR >=22.6) & (cleanOpen.WR <= 67.5))]\n",
    "openO = cleanOpen[((cleanOpen.WR >=67.6) & (cleanOpen.WR <= 112.5))]\n",
    "openZO = cleanOpen[((cleanOpen.WR >=112.6) & (cleanOpen.WR <= 157.5))]\n",
    "openZ = cleanOpen[((cleanOpen.WR >=157.6) & (cleanOpen.WR <= 202.5))]\n",
    "openZW = cleanOpen[((cleanOpen.WR >=202.6) & (cleanOpen.WR <= 247.2))]\n",
    "openW = cleanOpen[((cleanOpen.WR>=247.6) & (cleanOpen.WR <= 292.5))]\n",
    "openNW = cleanOpen[((cleanOpen.WR >=292.6) & (cleanOpen.WR <= 337.5))]\n",
    "\n",
    "# selecteer data voor plot\n",
    "data = [cleanOpen.duur, openN.duur,openNO.duur,openO.duur,openZO.duur,openZ.duur, openZW.duur, openW.duur, openNW.duur]\n",
    "\n",
    "# Boxplot\n",
    "plt.figure(figsize=(16,9))\n",
    "plt.boxplot(data)\n",
    "plt.xticks([1, 2, 3, 4, 5, 6, 7, 8, 9], ('Totaal','N','NO','O','ZO' ,'Z' ,'ZW','W','NW'))\n",
    "plt.title('Duur van opening brug WT per windrichting van 1-1-2016 tot 4-11-2016')\n",
    "plt.ylabel('Duur (s)')"
   ]
  },
  {
   "cell_type": "markdown",
   "metadata": {},
   "source": [
    "## Boxplot duur sluiten per windrichting"
   ]
  },
  {
   "cell_type": "code",
   "execution_count": 66,
   "metadata": {},
   "outputs": [
    {
     "data": {
      "text/plain": [
       "Text(0, 0.5, 'Duur (s)')"
      ]
     },
     "execution_count": 66,
     "metadata": {},
     "output_type": "execute_result"
    },
    {
     "data": {
      "image/png": "[encoded data removed]",
      "text/plain": [
       "<Figure size 1152x648 with 1 Axes>"
      ]
     },
     "metadata": {
      "needs_background": "light"
     },
     "output_type": "display_data"
    }
   ],
   "source": [
    "sluitN = cleanSluit[((cleanSluit.WR >= 0) & (cleanSluit.WR <= 22.5) | (cleanSluit.WR >= 337.6) & (cleanSluit.WR <= 360))]\n",
    "sluitNO = cleanSluit[((cleanSluit.WR >=22.6) & (cleanSluit.WR <= 67.5))]\n",
    "sluitO = cleanSluit[((cleanSluit.WR >=67.6) & (cleanSluit.WR <= 112.5))]\n",
    "sluitZO = cleanSluit[((cleanSluit.WR >=112.6) & (cleanSluit.WR <= 157.5))]\n",
    "sluitZ = cleanSluit[((cleanSluit.WR >=157.6) & (cleanSluit.WR <= 202.5))]\n",
    "sluitZW = cleanSluit[((cleanSluit.WR >=202.6) & (cleanSluit.WR <= 247.2))]\n",
    "sluitW = cleanSluit[((cleanSluit.WR>=247.6) & (cleanSluit.WR <= 292.5))]\n",
    "sluitNW = cleanSluit[((cleanSluit.WR >=292.6) & (cleanSluit.WR <= 337.5))]\n",
    "\n",
    "data = [cleanSluit.duur, sluitN.duur,sluitNO.duur,sluitO.duur,sluitZO.duur,sluitZ.duur, sluitZW.duur, sluitW.duur, sluitNW.duur]\n",
    "\n",
    "plt.figure(figsize=(16,9))\n",
    "plt.boxplot(data)\n",
    "plt.xticks([1, 2, 3, 4, 5, 6, 7, 8, 9], ('Totaal','N','NO','O','ZO' ,'Z' ,'ZW','W','NW'))\n",
    "plt.title('Duur van sluiting brug WT per windrichting van 1-1-2016 tot 4-11-2016')\n",
    "plt.ylabel('Duur (s)')"
   ]
  },
  {
   "cell_type": "markdown",
   "metadata": {},
   "source": [
    "# Scatter duur openen\n",
    "\n",
    "WR waarden zijn significanter dan WT"
   ]
  },
  {
   "cell_type": "code",
   "execution_count": 72,
   "metadata": {},
   "outputs": [
    {
     "name": "stderr",
     "output_type": "stream",
     "text": [
      "C:\\Users\\denni\\Anaconda3\\lib\\site-packages\\ipykernel_launcher.py:21: SettingWithCopyWarning: \n",
      "A value is trying to be set on a copy of a slice from a DataFrame.\n",
      "Try using .loc[row_indexer,col_indexer] = value instead\n",
      "\n",
      "See the caveats in the documentation: http://pandas.pydata.org/pandas-docs/stable/indexing.html#indexing-view-versus-copy\n"
     ]
    },
    {
     "data": {
      "text/html": [
       "<div>\n",
       "<style scoped>\n",
       "    .dataframe tbody tr th:only-of-type {\n",
       "        vertical-align: middle;\n",
       "    }\n",
       "\n",
       "    .dataframe tbody tr th {\n",
       "        vertical-align: top;\n",
       "    }\n",
       "\n",
       "    .dataframe thead th {\n",
       "        text-align: right;\n",
       "    }\n",
       "</style>\n",
       "<table border=\"1\" class=\"dataframe\">\n",
       "  <thead>\n",
       "    <tr style=\"text-align: right;\">\n",
       "      <th></th>\n",
       "      <th>duur</th>\n",
       "      <th>beweging</th>\n",
       "      <th>time</th>\n",
       "      <th>WR</th>\n",
       "      <th>Wk</th>\n",
       "      <th>uur</th>\n",
       "      <th>WRbin</th>\n",
       "    </tr>\n",
       "  </thead>\n",
       "  <tbody>\n",
       "    <tr>\n",
       "      <th>73</th>\n",
       "      <td>101</td>\n",
       "      <td>False</td>\n",
       "      <td>2015-12-21 14:22:04.075</td>\n",
       "      <td>224.729218</td>\n",
       "      <td>5.924479</td>\n",
       "      <td>14</td>\n",
       "      <td>5</td>\n",
       "    </tr>\n",
       "    <tr>\n",
       "      <th>75</th>\n",
       "      <td>102</td>\n",
       "      <td>False</td>\n",
       "      <td>2015-12-21 15:49:15.351</td>\n",
       "      <td>203.172699</td>\n",
       "      <td>6.119792</td>\n",
       "      <td>15</td>\n",
       "      <td>5</td>\n",
       "    </tr>\n",
       "    <tr>\n",
       "      <th>77</th>\n",
       "      <td>103</td>\n",
       "      <td>False</td>\n",
       "      <td>2015-12-21 16:50:10.871</td>\n",
       "      <td>158.289337</td>\n",
       "      <td>8.919271</td>\n",
       "      <td>16</td>\n",
       "      <td>4</td>\n",
       "    </tr>\n",
       "    <tr>\n",
       "      <th>79</th>\n",
       "      <td>102</td>\n",
       "      <td>False</td>\n",
       "      <td>2015-12-21 20:23:42.771</td>\n",
       "      <td>225.770584</td>\n",
       "      <td>6.575521</td>\n",
       "      <td>20</td>\n",
       "      <td>5</td>\n",
       "    </tr>\n",
       "    <tr>\n",
       "      <th>81</th>\n",
       "      <td>102</td>\n",
       "      <td>False</td>\n",
       "      <td>2015-12-21 23:35:07.567</td>\n",
       "      <td>218.667847</td>\n",
       "      <td>3.949653</td>\n",
       "      <td>23</td>\n",
       "      <td>5</td>\n",
       "    </tr>\n",
       "  </tbody>\n",
       "</table>\n",
       "</div>"
      ],
      "text/plain": [
       "    duur  beweging                    time          WR        Wk  uur  WRbin\n",
       "73   101     False 2015-12-21 14:22:04.075  224.729218  5.924479   14      5\n",
       "75   102     False 2015-12-21 15:49:15.351  203.172699  6.119792   15      5\n",
       "77   103     False 2015-12-21 16:50:10.871  158.289337  8.919271   16      4\n",
       "79   102     False 2015-12-21 20:23:42.771  225.770584  6.575521   20      5\n",
       "81   102     False 2015-12-21 23:35:07.567  218.667847  3.949653   23      5"
      ]
     },
     "execution_count": 72,
     "metadata": {},
     "output_type": "execute_result"
    }
   ],
   "source": [
    "wrbin = list()\n",
    "for index, row in cleanOpen.iterrows():\n",
    "    wr = row[3]\n",
    "    wk = row[4]\n",
    "    if(((wr >= 0) & (wr<=22.5))| ((wr > 337.5) & (wr<=360))):\n",
    "        wrbin.append(0)      \n",
    "    elif((wr > 22.5) & (wr<=67.5)):\n",
    "        wrbin.append(1)\n",
    "    elif((wr > 67.5) & (wr<=112.5)):\n",
    "        wrbin.append(2)\n",
    "    elif((wr > 112.5) & (wr<=157.5)):\n",
    "        wrbin.append(3)\n",
    "    elif((wr > 157.5) & (wr<=202.5)):\n",
    "        wrbin.append(4)\n",
    "    elif((wr > 202.5) & (wr<=247.5)):\n",
    "        wrbin.append(5)\n",
    "    elif((wr > 247.5) & (wr<=292.5)):\n",
    "        wrbin.append(6)\n",
    "    elif((wr > 292.5) & (wr<=337.5)):\n",
    "        wrbin.append(7)\n",
    "cleanOpen['WRbin'] = wrbin\n",
    "cleanOpen.head()"
   ]
  },
  {
   "cell_type": "code",
   "execution_count": 73,
   "metadata": {},
   "outputs": [
    {
     "data": {
      "text/plain": [
       "count    2167.000000\n",
       "mean        2.812538\n",
       "std         1.931785\n",
       "min         0.065104\n",
       "25%         1.345486\n",
       "50%         2.452257\n",
       "75%         3.841146\n",
       "max        12.651909\n",
       "Name: Wk, dtype: float64"
      ]
     },
     "execution_count": 73,
     "metadata": {},
     "output_type": "execute_result"
    }
   ],
   "source": [
    "cleanOpen.Wk.describe()"
   ]
  },
  {
   "cell_type": "code",
   "execution_count": 74,
   "metadata": {},
   "outputs": [
    {
     "name": "stderr",
     "output_type": "stream",
     "text": [
      "C:\\Users\\denni\\Anaconda3\\lib\\site-packages\\ipykernel_launcher.py:26: SettingWithCopyWarning: \n",
      "A value is trying to be set on a copy of a slice from a DataFrame.\n",
      "Try using .loc[row_indexer,col_indexer] = value instead\n",
      "\n",
      "See the caveats in the documentation: http://pandas.pydata.org/pandas-docs/stable/indexing.html#indexing-view-versus-copy\n"
     ]
    },
    {
     "data": {
      "text/html": [
       "<div>\n",
       "<style scoped>\n",
       "    .dataframe tbody tr th:only-of-type {\n",
       "        vertical-align: middle;\n",
       "    }\n",
       "\n",
       "    .dataframe tbody tr th {\n",
       "        vertical-align: top;\n",
       "    }\n",
       "\n",
       "    .dataframe thead th {\n",
       "        text-align: right;\n",
       "    }\n",
       "</style>\n",
       "<table border=\"1\" class=\"dataframe\">\n",
       "  <thead>\n",
       "    <tr style=\"text-align: right;\">\n",
       "      <th></th>\n",
       "      <th>duur</th>\n",
       "      <th>beweging</th>\n",
       "      <th>time</th>\n",
       "      <th>WR</th>\n",
       "      <th>Wk</th>\n",
       "      <th>uur</th>\n",
       "      <th>WRbin</th>\n",
       "      <th>WKbin</th>\n",
       "    </tr>\n",
       "  </thead>\n",
       "  <tbody>\n",
       "    <tr>\n",
       "      <th>73</th>\n",
       "      <td>101</td>\n",
       "      <td>False</td>\n",
       "      <td>2015-12-21 14:22:04.075</td>\n",
       "      <td>224.729218</td>\n",
       "      <td>5.924479</td>\n",
       "      <td>14</td>\n",
       "      <td>5</td>\n",
       "      <td>4</td>\n",
       "    </tr>\n",
       "    <tr>\n",
       "      <th>75</th>\n",
       "      <td>102</td>\n",
       "      <td>False</td>\n",
       "      <td>2015-12-21 15:49:15.351</td>\n",
       "      <td>203.172699</td>\n",
       "      <td>6.119792</td>\n",
       "      <td>15</td>\n",
       "      <td>5</td>\n",
       "      <td>4</td>\n",
       "    </tr>\n",
       "    <tr>\n",
       "      <th>77</th>\n",
       "      <td>103</td>\n",
       "      <td>False</td>\n",
       "      <td>2015-12-21 16:50:10.871</td>\n",
       "      <td>158.289337</td>\n",
       "      <td>8.919271</td>\n",
       "      <td>16</td>\n",
       "      <td>4</td>\n",
       "      <td>5</td>\n",
       "    </tr>\n",
       "    <tr>\n",
       "      <th>79</th>\n",
       "      <td>102</td>\n",
       "      <td>False</td>\n",
       "      <td>2015-12-21 20:23:42.771</td>\n",
       "      <td>225.770584</td>\n",
       "      <td>6.575521</td>\n",
       "      <td>20</td>\n",
       "      <td>5</td>\n",
       "      <td>4</td>\n",
       "    </tr>\n",
       "    <tr>\n",
       "      <th>81</th>\n",
       "      <td>102</td>\n",
       "      <td>False</td>\n",
       "      <td>2015-12-21 23:35:07.567</td>\n",
       "      <td>218.667847</td>\n",
       "      <td>3.949653</td>\n",
       "      <td>23</td>\n",
       "      <td>5</td>\n",
       "      <td>3</td>\n",
       "    </tr>\n",
       "  </tbody>\n",
       "</table>\n",
       "</div>"
      ],
      "text/plain": [
       "    duur  beweging                    time          WR        Wk  uur  WRbin  \\\n",
       "73   101     False 2015-12-21 14:22:04.075  224.729218  5.924479   14      5   \n",
       "75   102     False 2015-12-21 15:49:15.351  203.172699  6.119792   15      5   \n",
       "77   103     False 2015-12-21 16:50:10.871  158.289337  8.919271   16      4   \n",
       "79   102     False 2015-12-21 20:23:42.771  225.770584  6.575521   20      5   \n",
       "81   102     False 2015-12-21 23:35:07.567  218.667847  3.949653   23      5   \n",
       "\n",
       "    WKbin  \n",
       "73      4  \n",
       "75      4  \n",
       "77      5  \n",
       "79      4  \n",
       "81      3  "
      ]
     },
     "execution_count": 74,
     "metadata": {},
     "output_type": "execute_result"
    }
   ],
   "source": [
    "wkbin = list()\n",
    "for index, row in cleanOpen.iterrows():\n",
    "    wk = row[4]\n",
    "    if((wk >= 0) & (wk<=0.2)):\n",
    "        wkbin.append(0)      \n",
    "    elif((wk > 0.2) & (wk<=1.5)):\n",
    "        wkbin.append(1)\n",
    "    elif((wk > 1.5) & (wk<=3.3)):\n",
    "        wkbin.append(2)\n",
    "    elif((wk > 3.3) & (wk<=5.4)):\n",
    "        wkbin.append(3)\n",
    "    elif((wk > 5.4) & (wk<=7.9)):\n",
    "        wkbin.append(4)\n",
    "    elif((wk > 7.9) & (wk<=10.7)):\n",
    "        wkbin.append(5)\n",
    "    elif((wk > 10.7) & (wk<=13.8)):\n",
    "        wkbin.append(6)\n",
    "    elif((wk > 13.8) & (wk<=17.1)):\n",
    "        wkbin.append(7)\n",
    "    elif((wk > 17.1) & (wk<=20.7)):\n",
    "        wkbin.append(8)   \n",
    "    elif((wk > 20.7) & (wk<=24.4)):\n",
    "        wkbin.append(9)\n",
    "    elif((wk > 24.4) & (wk<=28.4)):\n",
    "        wkbin.append(10)\n",
    "cleanOpen['WKbin'] = wkbin\n",
    "cleanOpen.head()\n"
   ]
  },
  {
   "cell_type": "code",
   "execution_count": 75,
   "metadata": {},
   "outputs": [
    {
     "data": {
      "text/plain": [
       "Text(0.5, 1.0, 'Duur per windrichting')"
      ]
     },
     "execution_count": 75,
     "metadata": {},
     "output_type": "execute_result"
    },
    {
     "data": {
      "image/png": "[encoded data removed]",
      "text/plain": [
       "<Figure size 432x288 with 1 Axes>"
      ]
     },
     "metadata": {
      "needs_background": "light"
     },
     "output_type": "display_data"
    }
   ],
   "source": [
    "fig, ax = plt.subplots()\n",
    "scatter = ax.scatter(cleanOpen.WR, cleanOpen.duur, c = cleanOpen.WRbin,  s=50, cmap='gnuplot')\n",
    "ax.set_title(\"Duur per windrichting\")"
   ]
  },
  {
   "cell_type": "code",
   "execution_count": 76,
   "metadata": {},
   "outputs": [
    {
     "data": {
      "text/plain": [
       "Text(0.5, 1.0, 'Duur per windrichting')"
      ]
     },
     "execution_count": 76,
     "metadata": {},
     "output_type": "execute_result"
    },
    {
     "data": {
      "image/png": "[encoded data removed]",
      "text/plain": [
       "<Figure size 432x288 with 1 Axes>"
      ]
     },
     "metadata": {
      "needs_background": "light"
     },
     "output_type": "display_data"
    }
   ],
   "source": [
    "fig, ax = plt.subplots()\n",
    "scatter = ax.scatter(cleanOpen.WR, cleanOpen.duur, c = cleanOpen.WKbin,  s=50, cmap='gnuplot')\n",
    "ax.set_title(\"Duur per windrichting\")"
   ]
  },
  {
   "cell_type": "code",
   "execution_count": 77,
   "metadata": {},
   "outputs": [
    {
     "data": {
      "text/plain": [
       "Text(0.5, 1.0, 'Duur per windkracht')"
      ]
     },
     "execution_count": 77,
     "metadata": {},
     "output_type": "execute_result"
    },
    {
     "data": {
      "image/png": "[encoded data removed]",
      "text/plain": [
       "<Figure size 432x288 with 1 Axes>"
      ]
     },
     "metadata": {
      "needs_background": "light"
     },
     "output_type": "display_data"
    }
   ],
   "source": [
    "fig, ax = plt.subplots()\n",
    "scatter = ax.scatter(cleanOpen.Wk, cleanOpen.duur, c = cleanOpen.WKbin,  s=50, cmap='gnuplot')\n",
    "ax.set_title(\"Duur per windkracht\")"
   ]
  },
  {
   "cell_type": "code",
   "execution_count": 78,
   "metadata": {},
   "outputs": [
    {
     "data": {
      "text/plain": [
       "Text(0.5, 1.0, 'Duur per windkracht')"
      ]
     },
     "execution_count": 78,
     "metadata": {},
     "output_type": "execute_result"
    },
    {
     "data": {
      "image/png": "[encoded data removed]",
      "text/plain": [
       "<Figure size 432x288 with 1 Axes>"
      ]
     },
     "metadata": {
      "needs_background": "light"
     },
     "output_type": "display_data"
    }
   ],
   "source": [
    "fig, ax = plt.subplots()\n",
    "scatter = ax.scatter(cleanOpen.Wk, cleanOpen.duur, c = cleanOpen.WRbin,  s=50, cmap='gnuplot')\n",
    "ax.set_title(\"Duur per windkracht\")"
   ]
  },
  {
   "cell_type": "markdown",
   "metadata": {},
   "source": [
    "# Scatter duur sluiten"
   ]
  },
  {
   "cell_type": "code",
   "execution_count": 80,
   "metadata": {},
   "outputs": [
    {
     "name": "stderr",
     "output_type": "stream",
     "text": [
      "C:\\Users\\denni\\Anaconda3\\lib\\site-packages\\ipykernel_launcher.py:21: SettingWithCopyWarning: \n",
      "A value is trying to be set on a copy of a slice from a DataFrame.\n",
      "Try using .loc[row_indexer,col_indexer] = value instead\n",
      "\n",
      "See the caveats in the documentation: http://pandas.pydata.org/pandas-docs/stable/indexing.html#indexing-view-versus-copy\n"
     ]
    },
    {
     "data": {
      "text/html": [
       "<div>\n",
       "<style scoped>\n",
       "    .dataframe tbody tr th:only-of-type {\n",
       "        vertical-align: middle;\n",
       "    }\n",
       "\n",
       "    .dataframe tbody tr th {\n",
       "        vertical-align: top;\n",
       "    }\n",
       "\n",
       "    .dataframe thead th {\n",
       "        text-align: right;\n",
       "    }\n",
       "</style>\n",
       "<table border=\"1\" class=\"dataframe\">\n",
       "  <thead>\n",
       "    <tr style=\"text-align: right;\">\n",
       "      <th></th>\n",
       "      <th>duur</th>\n",
       "      <th>beweging</th>\n",
       "      <th>time</th>\n",
       "      <th>WR</th>\n",
       "      <th>Wk</th>\n",
       "      <th>uur</th>\n",
       "      <th>WRbin</th>\n",
       "    </tr>\n",
       "  </thead>\n",
       "  <tbody>\n",
       "    <tr>\n",
       "      <th>72</th>\n",
       "      <td>90</td>\n",
       "      <td>True</td>\n",
       "      <td>2015-12-21 14:15:03.671</td>\n",
       "      <td>247.535370</td>\n",
       "      <td>8.203125</td>\n",
       "      <td>14</td>\n",
       "      <td>6</td>\n",
       "    </tr>\n",
       "    <tr>\n",
       "      <th>74</th>\n",
       "      <td>89</td>\n",
       "      <td>True</td>\n",
       "      <td>2015-12-21 15:47:34.651</td>\n",
       "      <td>214.731995</td>\n",
       "      <td>4.622396</td>\n",
       "      <td>15</td>\n",
       "      <td>5</td>\n",
       "    </tr>\n",
       "    <tr>\n",
       "      <th>76</th>\n",
       "      <td>90</td>\n",
       "      <td>True</td>\n",
       "      <td>2015-12-21 16:45:21.579</td>\n",
       "      <td>195.362381</td>\n",
       "      <td>9.874131</td>\n",
       "      <td>16</td>\n",
       "      <td>4</td>\n",
       "    </tr>\n",
       "    <tr>\n",
       "      <th>78</th>\n",
       "      <td>90</td>\n",
       "      <td>True</td>\n",
       "      <td>2015-12-21 20:20:21.678</td>\n",
       "      <td>223.167145</td>\n",
       "      <td>8.398438</td>\n",
       "      <td>20</td>\n",
       "      <td>5</td>\n",
       "    </tr>\n",
       "    <tr>\n",
       "      <th>80</th>\n",
       "      <td>89</td>\n",
       "      <td>True</td>\n",
       "      <td>2015-12-21 23:31:48.467</td>\n",
       "      <td>229.831955</td>\n",
       "      <td>5.555555</td>\n",
       "      <td>23</td>\n",
       "      <td>5</td>\n",
       "    </tr>\n",
       "  </tbody>\n",
       "</table>\n",
       "</div>"
      ],
      "text/plain": [
       "    duur  beweging                    time          WR        Wk  uur  WRbin\n",
       "72    90      True 2015-12-21 14:15:03.671  247.535370  8.203125   14      6\n",
       "74    89      True 2015-12-21 15:47:34.651  214.731995  4.622396   15      5\n",
       "76    90      True 2015-12-21 16:45:21.579  195.362381  9.874131   16      4\n",
       "78    90      True 2015-12-21 20:20:21.678  223.167145  8.398438   20      5\n",
       "80    89      True 2015-12-21 23:31:48.467  229.831955  5.555555   23      5"
      ]
     },
     "execution_count": 80,
     "metadata": {},
     "output_type": "execute_result"
    }
   ],
   "source": [
    "wrbin = list()\n",
    "for index, row in cleanSluit.iterrows():\n",
    "    wr = row[3]\n",
    "    wk = row[4]\n",
    "    if(((wr >= 0) & (wr<=22.5))| ((wr > 337.5) & (wr<=360))):\n",
    "        wrbin.append(0)      \n",
    "    elif((wr > 22.5) & (wr<=67.5)):\n",
    "        wrbin.append(1)\n",
    "    elif((wr > 67.5) & (wr<=112.5)):\n",
    "        wrbin.append(2)\n",
    "    elif((wr > 112.5) & (wr<=157.5)):\n",
    "        wrbin.append(3)\n",
    "    elif((wr > 157.5) & (wr<=202.5)):\n",
    "        wrbin.append(4)\n",
    "    elif((wr > 202.5) & (wr<=247.5)):\n",
    "        wrbin.append(5)\n",
    "    elif((wr > 247.5) & (wr<=292.5)):\n",
    "        wrbin.append(6)\n",
    "    elif((wr > 292.5) & (wr<=337.5)):\n",
    "        wrbin.append(7)\n",
    "cleanSluit['WRbin'] = wrbin\n",
    "cleanSluit.head()"
   ]
  },
  {
   "cell_type": "code",
   "execution_count": 81,
   "metadata": {},
   "outputs": [
    {
     "name": "stderr",
     "output_type": "stream",
     "text": [
      "C:\\Users\\denni\\Anaconda3\\lib\\site-packages\\ipykernel_launcher.py:26: SettingWithCopyWarning: \n",
      "A value is trying to be set on a copy of a slice from a DataFrame.\n",
      "Try using .loc[row_indexer,col_indexer] = value instead\n",
      "\n",
      "See the caveats in the documentation: http://pandas.pydata.org/pandas-docs/stable/indexing.html#indexing-view-versus-copy\n"
     ]
    },
    {
     "data": {
      "text/html": [
       "<div>\n",
       "<style scoped>\n",
       "    .dataframe tbody tr th:only-of-type {\n",
       "        vertical-align: middle;\n",
       "    }\n",
       "\n",
       "    .dataframe tbody tr th {\n",
       "        vertical-align: top;\n",
       "    }\n",
       "\n",
       "    .dataframe thead th {\n",
       "        text-align: right;\n",
       "    }\n",
       "</style>\n",
       "<table border=\"1\" class=\"dataframe\">\n",
       "  <thead>\n",
       "    <tr style=\"text-align: right;\">\n",
       "      <th></th>\n",
       "      <th>duur</th>\n",
       "      <th>beweging</th>\n",
       "      <th>time</th>\n",
       "      <th>WR</th>\n",
       "      <th>Wk</th>\n",
       "      <th>uur</th>\n",
       "      <th>WRbin</th>\n",
       "      <th>WKbin</th>\n",
       "    </tr>\n",
       "  </thead>\n",
       "  <tbody>\n",
       "    <tr>\n",
       "      <th>72</th>\n",
       "      <td>90</td>\n",
       "      <td>True</td>\n",
       "      <td>2015-12-21 14:15:03.671</td>\n",
       "      <td>247.535370</td>\n",
       "      <td>8.203125</td>\n",
       "      <td>14</td>\n",
       "      <td>6</td>\n",
       "      <td>5</td>\n",
       "    </tr>\n",
       "    <tr>\n",
       "      <th>74</th>\n",
       "      <td>89</td>\n",
       "      <td>True</td>\n",
       "      <td>2015-12-21 15:47:34.651</td>\n",
       "      <td>214.731995</td>\n",
       "      <td>4.622396</td>\n",
       "      <td>15</td>\n",
       "      <td>5</td>\n",
       "      <td>3</td>\n",
       "    </tr>\n",
       "    <tr>\n",
       "      <th>76</th>\n",
       "      <td>90</td>\n",
       "      <td>True</td>\n",
       "      <td>2015-12-21 16:45:21.579</td>\n",
       "      <td>195.362381</td>\n",
       "      <td>9.874131</td>\n",
       "      <td>16</td>\n",
       "      <td>4</td>\n",
       "      <td>5</td>\n",
       "    </tr>\n",
       "    <tr>\n",
       "      <th>78</th>\n",
       "      <td>90</td>\n",
       "      <td>True</td>\n",
       "      <td>2015-12-21 20:20:21.678</td>\n",
       "      <td>223.167145</td>\n",
       "      <td>8.398438</td>\n",
       "      <td>20</td>\n",
       "      <td>5</td>\n",
       "      <td>5</td>\n",
       "    </tr>\n",
       "    <tr>\n",
       "      <th>80</th>\n",
       "      <td>89</td>\n",
       "      <td>True</td>\n",
       "      <td>2015-12-21 23:31:48.467</td>\n",
       "      <td>229.831955</td>\n",
       "      <td>5.555555</td>\n",
       "      <td>23</td>\n",
       "      <td>5</td>\n",
       "      <td>4</td>\n",
       "    </tr>\n",
       "  </tbody>\n",
       "</table>\n",
       "</div>"
      ],
      "text/plain": [
       "    duur  beweging                    time          WR        Wk  uur  WRbin  \\\n",
       "72    90      True 2015-12-21 14:15:03.671  247.535370  8.203125   14      6   \n",
       "74    89      True 2015-12-21 15:47:34.651  214.731995  4.622396   15      5   \n",
       "76    90      True 2015-12-21 16:45:21.579  195.362381  9.874131   16      4   \n",
       "78    90      True 2015-12-21 20:20:21.678  223.167145  8.398438   20      5   \n",
       "80    89      True 2015-12-21 23:31:48.467  229.831955  5.555555   23      5   \n",
       "\n",
       "    WKbin  \n",
       "72      5  \n",
       "74      3  \n",
       "76      5  \n",
       "78      5  \n",
       "80      4  "
      ]
     },
     "execution_count": 81,
     "metadata": {},
     "output_type": "execute_result"
    }
   ],
   "source": [
    "wkbin = list()\n",
    "for index, row in cleanSluit.iterrows():\n",
    "    wk = row[4]\n",
    "    if((wk >= 0) & (wk<=0.2)):\n",
    "        wkbin.append(0)      \n",
    "    elif((wk > 0.2) & (wk<=1.5)):\n",
    "        wkbin.append(1)\n",
    "    elif((wk > 1.5) & (wk<=3.3)):\n",
    "        wkbin.append(2)\n",
    "    elif((wk > 3.3) & (wk<=5.4)):\n",
    "        wkbin.append(3)\n",
    "    elif((wk > 5.4) & (wk<=7.9)):\n",
    "        wkbin.append(4)\n",
    "    elif((wk > 7.9) & (wk<=10.7)):\n",
    "        wkbin.append(5)\n",
    "    elif((wk > 10.7) & (wk<=13.8)):\n",
    "        wkbin.append(6)\n",
    "    elif((wk > 13.8) & (wk<=17.1)):\n",
    "        wkbin.append(7)\n",
    "    elif((wk > 17.1) & (wk<=20.7)):\n",
    "        wkbin.append(8)   \n",
    "    elif((wk > 20.7) & (wk<=24.4)):\n",
    "        wkbin.append(9)\n",
    "    elif((wk > 24.4) & (wk<=28.4)):\n",
    "        wkbin.append(10)\n",
    "cleanSluit['WKbin'] = wkbin\n",
    "cleanSluit.head()"
   ]
  },
  {
   "cell_type": "code",
   "execution_count": 82,
   "metadata": {},
   "outputs": [
    {
     "data": {
      "text/plain": [
       "Text(0.5, 1.0, 'Duur per windrichting')"
      ]
     },
     "execution_count": 82,
     "metadata": {},
     "output_type": "execute_result"
    },
    {
     "data": {
      "image/png": "[encoded data removed]",
      "text/plain": [
       "<Figure size 432x288 with 1 Axes>"
      ]
     },
     "metadata": {
      "needs_background": "light"
     },
     "output_type": "display_data"
    }
   ],
   "source": [
    "fig, ax = plt.subplots()\n",
    "scatter = ax.scatter(cleanSluit.WR, cleanSluit.duur, c = cleanSluit.WRbin,  s=50, cmap='gnuplot')\n",
    "ax.set_title(\"Duur per windrichting\")"
   ]
  },
  {
   "cell_type": "code",
   "execution_count": 83,
   "metadata": {},
   "outputs": [
    {
     "data": {
      "text/plain": [
       "Text(0.5, 1.0, 'Duur per windrichting')"
      ]
     },
     "execution_count": 83,
     "metadata": {},
     "output_type": "execute_result"
    },
    {
     "data": {
      "image/png": "[encoded data removed]",
      "text/plain": [
       "<Figure size 432x288 with 1 Axes>"
      ]
     },
     "metadata": {
      "needs_background": "light"
     },
     "output_type": "display_data"
    }
   ],
   "source": [
    "fig, ax = plt.subplots()\n",
    "scatter = ax.scatter(cleanSluit.duur, cleanSluit.WR,  c = cleanSluit.WKbin,  s=50, cmap='gnuplot')\n",
    "ax.set_title(\"Duur per windrichting\")"
   ]
  },
  {
   "cell_type": "code",
   "execution_count": 84,
   "metadata": {},
   "outputs": [
    {
     "data": {
      "text/plain": [
       "Text(0.5, 1.0, 'Duur per windrichting')"
      ]
     },
     "execution_count": 84,
     "metadata": {},
     "output_type": "execute_result"
    },
    {
     "data": {
      "image/png": "[encoded data removed]",
      "text/plain": [
       "<Figure size 432x288 with 1 Axes>"
      ]
     },
     "metadata": {
      "needs_background": "light"
     },
     "output_type": "display_data"
    }
   ],
   "source": [
    "fig, ax = plt.subplots()\n",
    "scatter = ax.scatter(cleanSluit.WR, cleanSluit.duur, c = cleanSluit.WKbin,  s=50, cmap='gnuplot')\n",
    "ax.set_title(\"Duur per windrichting\")"
   ]
  },
  {
   "cell_type": "code",
   "execution_count": 85,
   "metadata": {},
   "outputs": [
    {
     "data": {
      "text/plain": [
       "Text(0.5, 1.0, 'Duur per windkracht')"
      ]
     },
     "execution_count": 85,
     "metadata": {},
     "output_type": "execute_result"
    },
    {
     "data": {
      "image/png": "[encoded data removed]",
      "text/plain": [
       "<Figure size 432x288 with 1 Axes>"
      ]
     },
     "metadata": {
      "needs_background": "light"
     },
     "output_type": "display_data"
    }
   ],
   "source": [
    "fig, ax = plt.subplots()\n",
    "scatter = ax.scatter(cleanSluit.Wk, cleanSluit.duur, c = cleanSluit.WKbin,  s=50, cmap='gnuplot')\n",
    "ax.set_title(\"Duur per windkracht\")"
   ]
  },
  {
   "cell_type": "code",
   "execution_count": 86,
   "metadata": {},
   "outputs": [
    {
     "data": {
      "text/plain": [
       "Text(0.5, 1.0, 'Duur per windkracht')"
      ]
     },
     "execution_count": 86,
     "metadata": {},
     "output_type": "execute_result"
    },
    {
     "data": {
      "image/png": "[encoded data removed]",
      "text/plain": [
       "<Figure size 432x288 with 1 Axes>"
      ]
     },
     "metadata": {
      "needs_background": "light"
     },
     "output_type": "display_data"
    }
   ],
   "source": [
    "fig, ax = plt.subplots()\n",
    "scatter = ax.scatter(cleanSluit.Wk, cleanSluit.duur, c = cleanSluit.WRbin,  s=50, cmap='gnuplot')\n",
    "ax.set_title(\"Duur per windkracht\")"
   ]
  },
  {
   "cell_type": "code",
   "execution_count": 88,
   "metadata": {},
   "outputs": [
    {
     "ename": "ValueError",
     "evalue": "Length of values does not match length of index",
     "output_type": "error",
     "traceback": [
      "\u001b[1;31m---------------------------------------------------------------------------\u001b[0m",
      "\u001b[1;31mValueError\u001b[0m                                Traceback (most recent call last)",
      "\u001b[1;32m<ipython-input-88-6c71a1223398>\u001b[0m in \u001b[0;36m<module>\u001b[1;34m\u001b[0m\n\u001b[0;32m     19\u001b[0m     \u001b[1;32melif\u001b[0m\u001b[1;33m(\u001b[0m\u001b[1;33m(\u001b[0m\u001b[0mwr\u001b[0m \u001b[1;33m>\u001b[0m \u001b[1;36m292.5\u001b[0m\u001b[1;33m)\u001b[0m \u001b[1;33m&\u001b[0m \u001b[1;33m(\u001b[0m\u001b[0mwr\u001b[0m\u001b[1;33m<=\u001b[0m\u001b[1;36m337.5\u001b[0m\u001b[1;33m)\u001b[0m\u001b[1;33m)\u001b[0m\u001b[1;33m:\u001b[0m\u001b[1;33m\u001b[0m\u001b[1;33m\u001b[0m\u001b[0m\n\u001b[0;32m     20\u001b[0m         \u001b[0mwrbin\u001b[0m\u001b[1;33m.\u001b[0m\u001b[0mappend\u001b[0m\u001b[1;33m(\u001b[0m\u001b[1;36m7\u001b[0m\u001b[1;33m)\u001b[0m\u001b[1;33m\u001b[0m\u001b[1;33m\u001b[0m\u001b[0m\n\u001b[1;32m---> 21\u001b[1;33m \u001b[0mopenen\u001b[0m\u001b[1;33m[\u001b[0m\u001b[1;34m'WRbin'\u001b[0m\u001b[1;33m]\u001b[0m \u001b[1;33m=\u001b[0m \u001b[0mwrbin\u001b[0m\u001b[1;33m\u001b[0m\u001b[1;33m\u001b[0m\u001b[0m\n\u001b[0m\u001b[0;32m     22\u001b[0m \u001b[0mopenen\u001b[0m\u001b[1;33m.\u001b[0m\u001b[0mhead\u001b[0m\u001b[1;33m(\u001b[0m\u001b[1;33m)\u001b[0m\u001b[1;33m\u001b[0m\u001b[1;33m\u001b[0m\u001b[0m\n",
      "\u001b[1;32m~\\Anaconda3\\lib\\site-packages\\pandas\\core\\frame.py\u001b[0m in \u001b[0;36m__setitem__\u001b[1;34m(self, key, value)\u001b[0m\n\u001b[0;32m   3117\u001b[0m         \u001b[1;32melse\u001b[0m\u001b[1;33m:\u001b[0m\u001b[1;33m\u001b[0m\u001b[1;33m\u001b[0m\u001b[0m\n\u001b[0;32m   3118\u001b[0m             \u001b[1;31m# set column\u001b[0m\u001b[1;33m\u001b[0m\u001b[1;33m\u001b[0m\u001b[1;33m\u001b[0m\u001b[0m\n\u001b[1;32m-> 3119\u001b[1;33m             \u001b[0mself\u001b[0m\u001b[1;33m.\u001b[0m\u001b[0m_set_item\u001b[0m\u001b[1;33m(\u001b[0m\u001b[0mkey\u001b[0m\u001b[1;33m,\u001b[0m \u001b[0mvalue\u001b[0m\u001b[1;33m)\u001b[0m\u001b[1;33m\u001b[0m\u001b[1;33m\u001b[0m\u001b[0m\n\u001b[0m\u001b[0;32m   3120\u001b[0m \u001b[1;33m\u001b[0m\u001b[0m\n\u001b[0;32m   3121\u001b[0m     \u001b[1;32mdef\u001b[0m \u001b[0m_setitem_slice\u001b[0m\u001b[1;33m(\u001b[0m\u001b[0mself\u001b[0m\u001b[1;33m,\u001b[0m \u001b[0mkey\u001b[0m\u001b[1;33m,\u001b[0m \u001b[0mvalue\u001b[0m\u001b[1;33m)\u001b[0m\u001b[1;33m:\u001b[0m\u001b[1;33m\u001b[0m\u001b[1;33m\u001b[0m\u001b[0m\n",
      "\u001b[1;32m~\\Anaconda3\\lib\\site-packages\\pandas\\core\\frame.py\u001b[0m in \u001b[0;36m_set_item\u001b[1;34m(self, key, value)\u001b[0m\n\u001b[0;32m   3192\u001b[0m \u001b[1;33m\u001b[0m\u001b[0m\n\u001b[0;32m   3193\u001b[0m         \u001b[0mself\u001b[0m\u001b[1;33m.\u001b[0m\u001b[0m_ensure_valid_index\u001b[0m\u001b[1;33m(\u001b[0m\u001b[0mvalue\u001b[0m\u001b[1;33m)\u001b[0m\u001b[1;33m\u001b[0m\u001b[1;33m\u001b[0m\u001b[0m\n\u001b[1;32m-> 3194\u001b[1;33m         \u001b[0mvalue\u001b[0m \u001b[1;33m=\u001b[0m \u001b[0mself\u001b[0m\u001b[1;33m.\u001b[0m\u001b[0m_sanitize_column\u001b[0m\u001b[1;33m(\u001b[0m\u001b[0mkey\u001b[0m\u001b[1;33m,\u001b[0m \u001b[0mvalue\u001b[0m\u001b[1;33m)\u001b[0m\u001b[1;33m\u001b[0m\u001b[1;33m\u001b[0m\u001b[0m\n\u001b[0m\u001b[0;32m   3195\u001b[0m         \u001b[0mNDFrame\u001b[0m\u001b[1;33m.\u001b[0m\u001b[0m_set_item\u001b[0m\u001b[1;33m(\u001b[0m\u001b[0mself\u001b[0m\u001b[1;33m,\u001b[0m \u001b[0mkey\u001b[0m\u001b[1;33m,\u001b[0m \u001b[0mvalue\u001b[0m\u001b[1;33m)\u001b[0m\u001b[1;33m\u001b[0m\u001b[1;33m\u001b[0m\u001b[0m\n\u001b[0;32m   3196\u001b[0m \u001b[1;33m\u001b[0m\u001b[0m\n",
      "\u001b[1;32m~\\Anaconda3\\lib\\site-packages\\pandas\\core\\frame.py\u001b[0m in \u001b[0;36m_sanitize_column\u001b[1;34m(self, key, value, broadcast)\u001b[0m\n\u001b[0;32m   3389\u001b[0m \u001b[1;33m\u001b[0m\u001b[0m\n\u001b[0;32m   3390\u001b[0m             \u001b[1;31m# turn me into an ndarray\u001b[0m\u001b[1;33m\u001b[0m\u001b[1;33m\u001b[0m\u001b[1;33m\u001b[0m\u001b[0m\n\u001b[1;32m-> 3391\u001b[1;33m             \u001b[0mvalue\u001b[0m \u001b[1;33m=\u001b[0m \u001b[0m_sanitize_index\u001b[0m\u001b[1;33m(\u001b[0m\u001b[0mvalue\u001b[0m\u001b[1;33m,\u001b[0m \u001b[0mself\u001b[0m\u001b[1;33m.\u001b[0m\u001b[0mindex\u001b[0m\u001b[1;33m,\u001b[0m \u001b[0mcopy\u001b[0m\u001b[1;33m=\u001b[0m\u001b[1;32mFalse\u001b[0m\u001b[1;33m)\u001b[0m\u001b[1;33m\u001b[0m\u001b[1;33m\u001b[0m\u001b[0m\n\u001b[0m\u001b[0;32m   3392\u001b[0m             \u001b[1;32mif\u001b[0m \u001b[1;32mnot\u001b[0m \u001b[0misinstance\u001b[0m\u001b[1;33m(\u001b[0m\u001b[0mvalue\u001b[0m\u001b[1;33m,\u001b[0m \u001b[1;33m(\u001b[0m\u001b[0mnp\u001b[0m\u001b[1;33m.\u001b[0m\u001b[0mndarray\u001b[0m\u001b[1;33m,\u001b[0m \u001b[0mIndex\u001b[0m\u001b[1;33m)\u001b[0m\u001b[1;33m)\u001b[0m\u001b[1;33m:\u001b[0m\u001b[1;33m\u001b[0m\u001b[1;33m\u001b[0m\u001b[0m\n\u001b[0;32m   3393\u001b[0m                 \u001b[1;32mif\u001b[0m \u001b[0misinstance\u001b[0m\u001b[1;33m(\u001b[0m\u001b[0mvalue\u001b[0m\u001b[1;33m,\u001b[0m \u001b[0mlist\u001b[0m\u001b[1;33m)\u001b[0m \u001b[1;32mand\u001b[0m \u001b[0mlen\u001b[0m\u001b[1;33m(\u001b[0m\u001b[0mvalue\u001b[0m\u001b[1;33m)\u001b[0m \u001b[1;33m>\u001b[0m \u001b[1;36m0\u001b[0m\u001b[1;33m:\u001b[0m\u001b[1;33m\u001b[0m\u001b[1;33m\u001b[0m\u001b[0m\n",
      "\u001b[1;32m~\\Anaconda3\\lib\\site-packages\\pandas\\core\\series.py\u001b[0m in \u001b[0;36m_sanitize_index\u001b[1;34m(data, index, copy)\u001b[0m\n\u001b[0;32m   3999\u001b[0m \u001b[1;33m\u001b[0m\u001b[0m\n\u001b[0;32m   4000\u001b[0m     \u001b[1;32mif\u001b[0m \u001b[0mlen\u001b[0m\u001b[1;33m(\u001b[0m\u001b[0mdata\u001b[0m\u001b[1;33m)\u001b[0m \u001b[1;33m!=\u001b[0m \u001b[0mlen\u001b[0m\u001b[1;33m(\u001b[0m\u001b[0mindex\u001b[0m\u001b[1;33m)\u001b[0m\u001b[1;33m:\u001b[0m\u001b[1;33m\u001b[0m\u001b[1;33m\u001b[0m\u001b[0m\n\u001b[1;32m-> 4001\u001b[1;33m         \u001b[1;32mraise\u001b[0m \u001b[0mValueError\u001b[0m\u001b[1;33m(\u001b[0m\u001b[1;34m'Length of values does not match length of '\u001b[0m \u001b[1;34m'index'\u001b[0m\u001b[1;33m)\u001b[0m\u001b[1;33m\u001b[0m\u001b[1;33m\u001b[0m\u001b[0m\n\u001b[0m\u001b[0;32m   4002\u001b[0m \u001b[1;33m\u001b[0m\u001b[0m\n\u001b[0;32m   4003\u001b[0m     \u001b[1;32mif\u001b[0m \u001b[0misinstance\u001b[0m\u001b[1;33m(\u001b[0m\u001b[0mdata\u001b[0m\u001b[1;33m,\u001b[0m \u001b[0mABCIndexClass\u001b[0m\u001b[1;33m)\u001b[0m \u001b[1;32mand\u001b[0m \u001b[1;32mnot\u001b[0m \u001b[0mcopy\u001b[0m\u001b[1;33m:\u001b[0m\u001b[1;33m\u001b[0m\u001b[1;33m\u001b[0m\u001b[0m\n",
      "\u001b[1;31mValueError\u001b[0m: Length of values does not match length of index"
     ]
    }
   ],
   "source": [
    "wrbin = list()\n",
    "for index, row in openen.iterrows():\n",
    "    wr = row[3]\n",
    "    wk = row[4]\n",
    "    if(((wr >= 0) & (wr<=22.5))| ((wr > 337.5) & (wr<=360))):\n",
    "        wrbin.append(0)      \n",
    "    elif((wr > 22.5) & (wr<=67.5)):\n",
    "        wrbin.append(1)\n",
    "    elif((wr > 67.5) & (wr<=112.5)):\n",
    "        wrbin.append(2)\n",
    "    elif((wr > 112.5) & (wr<=157.5)):\n",
    "        wrbin.append(3)\n",
    "    elif((wr > 157.5) & (wr<=202.5)):\n",
    "        wrbin.append(4)\n",
    "    elif((wr > 202.5) & (wr<=247.5)):\n",
    "        wrbin.append(5)\n",
    "    elif((wr > 247.5) & (wr<=292.5)):\n",
    "        wrbin.append(6)\n",
    "    elif((wr > 292.5) & (wr<=337.5)):\n",
    "        wrbin.append(7)\n",
    "openen['WRbin'] = wrbin\n",
    "openen.head()"
   ]
  },
  {
   "cell_type": "code",
   "execution_count": null,
   "metadata": {},
   "outputs": [],
   "source": [
    "wkbin = list()\n",
    "for index, row in openen.iterrows():\n",
    "    wk = row[4]\n",
    "    if((wk >= 0) & (wk<=0.2)):\n",
    "        wkbin.append(0)      \n",
    "    elif((wk > 0.2) & (wk<=1.5)):\n",
    "        wkbin.append(1)\n",
    "    elif((wk > 1.5) & (wk<=3.3)):\n",
    "        wkbin.append(2)\n",
    "    elif((wk > 3.3) & (wk<=5.4)):\n",
    "        wkbin.append(3)\n",
    "    elif((wk > 5.4) & (wk<=7.9)):\n",
    "        wkbin.append(4)\n",
    "    elif((wk > 7.9) & (wk<=10.7)):\n",
    "        wkbin.append(5)\n",
    "    elif((wk > 10.7) & (wk<=13.8)):\n",
    "        wkbin.append(6)\n",
    "    elif((wk > 13.8) & (wk<=17.1)):\n",
    "        wkbin.append(7)\n",
    "    elif((wk > 17.1) & (wk<=20.7)):\n",
    "        wkbin.append(8)   \n",
    "    elif((wk > 20.7) & (wk<=24.4)):\n",
    "        wkbin.append(9)\n",
    "    elif((wk > 24.4) & (wk<=28.4)):\n",
    "        wkbin.append(10)\n",
    "openen['WKbin'] = wkbin\n",
    "openen.head()"
   ]
  },
  {
   "cell_type": "markdown",
   "metadata": {},
   "source": [
    "# Dataframe omzetten naar CSV\n"
   ]
  },
  {
   "cell_type": "code",
   "execution_count": 89,
   "metadata": {},
   "outputs": [],
   "source": [
    "cleanOpen.to_csv('DuurOpening.csv')\n",
    "cleanSluit.to_csv('DuurSluiten.csv')\n",
    "cleanDuur.to_csv('CleanedDuur.csv')\n",
    "openen.to_csv('Open.csv')\n",
    "sluit.to_csv('Sluiten.csv')"
   ]
  },
  {
   "cell_type": "markdown",
   "metadata": {},
   "source": [
    "# Test en Train set openen"
   ]
  },
  {
   "cell_type": "code",
   "execution_count": 90,
   "metadata": {},
   "outputs": [],
   "source": [
    "train = cleanOpen[cleanOpen.time.dt.date < np.datetime64('2018-06-01')]\n",
    "test = cleanOpen[cleanOpen.time.dt.date > np.datetime64('2018-06-01')]"
   ]
  },
  {
   "cell_type": "code",
   "execution_count": 91,
   "metadata": {},
   "outputs": [
    {
     "name": "stderr",
     "output_type": "stream",
     "text": [
      "C:\\Users\\denni\\Anaconda3\\lib\\site-packages\\ipykernel_launcher.py:4: SettingWithCopyWarning: \n",
      "A value is trying to be set on a copy of a slice from a DataFrame.\n",
      "Try using .loc[row_indexer,col_indexer] = value instead\n",
      "\n",
      "See the caveats in the documentation: http://pandas.pydata.org/pandas-docs/stable/indexing.html#indexing-view-versus-copy\n",
      "  after removing the cwd from sys.path.\n"
     ]
    },
    {
     "data": {
      "text/plain": [
       "<matplotlib.collections.PathCollection at 0x1d64496f1d0>"
      ]
     },
     "execution_count": 91,
     "metadata": {},
     "output_type": "execute_result"
    },
    {
     "data": {
      "image/png": "[encoded data removed]",
      "text/plain": [
       "<Figure size 432x288 with 1 Axes>"
      ]
     },
     "metadata": {
      "needs_background": "light"
     },
     "output_type": "display_data"
    }
   ],
   "source": [
    "RFOpen2000 = RandomForestRegressor(n_estimators = 2000)\n",
    "\n",
    "RFOpen2000.fit(train[['WR', 'Wk','WRbin','WKbin', 'uur']], train['duur'])\n",
    "test['RFpred2000'] = RFOpen2000.predict(test[['WR', 'Wk','WRbin','WKbin', 'uur']])\n",
    "plt.scatter(test.WR, test.duur,  color = \"black\")\n",
    "plt.scatter(test.WR, test.RFpred2000, color = 'red')"
   ]
  },
  {
   "cell_type": "code",
   "execution_count": 92,
   "metadata": {},
   "outputs": [
    {
     "data": {
      "text/plain": [
       "[{'est': 2000, 'MSE': 0.6128402261904764, 'R2': -0.7832572270894433}]"
      ]
     },
     "execution_count": 92,
     "metadata": {},
     "output_type": "execute_result"
    }
   ],
   "source": [
    "estimators = 2000\n",
    "MSE = mean_squared_error(test.duur, test.RFpred2000)\n",
    "R2 = r2_score(test.duur,test.RFpred2000)\n",
    "metrics = [{'est':estimators, \"MSE\": MSE, 'R2':R2}]\n",
    "metrics"
   ]
  }
 ],
 "metadata": {
  "kernelspec": {
   "display_name": "Python 3",
   "language": "python",
   "name": "python3"
  },
  "language_info": {
   "codemirror_mode": {
    "name": "ipython",
    "version": 3
   },
   "file_extension": ".py",
   "mimetype": "text/x-python",
   "name": "python",
   "nbconvert_exporter": "python",
   "pygments_lexer": "ipython3",
   "version": "3.7.1"
  }
 },
 "nbformat": 4,
 "nbformat_minor": 2
}
