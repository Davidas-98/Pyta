{
 "cells": [
  {
   "cell_type": "code",
   "execution_count": 1,
   "metadata": {},
   "outputs": [],
   "source": [
    "import sqlite3\n",
    "import numpy as np\n",
    "import pandas as pd\n",
    "import glob\n",
    "import datetime\n",
    "# modellen importeren\n",
    "from sklearn.cluster import AgglomerativeClustering\n",
    "from sklearn.ensemble import RandomForestRegressor\n",
    "from sklearn.preprocessing import StandardScaler\n",
    "from sklearn.metrics import r2_score\n",
    "from sklearn.metrics import mean_squared_error\n",
    "\n",
    "import matplotlib.pyplot as plt\n",
    "%matplotlib inline"
   ]
  },
  {
   "cell_type": "code",
   "execution_count": 2,
   "metadata": {},
   "outputs": [],
   "source": [
    "# Maak verbinding met de database\n",
    "con = sqlite3.connect(r\"D:\\Code\\Notebooks\\SCADA_Bruggen\") # zet hier het path naar je eigen database\n",
    "cur = con.cursor()\n",
    "\n",
    "'''\n",
    "Laad de data van een brug uit de database\n",
    "WHERE = data inladen vanaf 2016, als je dit niet begrijpt hoe het werkt is het geen probleem\n",
    "De limit geeft aan dat je maar een bepaald aantal lines wil laden\n",
    "'''\n",
    "\n",
    "df = pd.read_sql(\"SELECT * FROM WOB\", con)\n",
    "con.close()"
   ]
  },
  {
   "cell_type": "code",
   "execution_count": 3,
   "metadata": {},
   "outputs": [
    {
     "data": {
      "text/html": [
       "<div>\n",
       "<style scoped>\n",
       "    .dataframe tbody tr th:only-of-type {\n",
       "        vertical-align: middle;\n",
       "    }\n",
       "\n",
       "    .dataframe tbody tr th {\n",
       "        vertical-align: top;\n",
       "    }\n",
       "\n",
       "    .dataframe thead th {\n",
       "        text-align: right;\n",
       "    }\n",
       "</style>\n",
       "<table border=\"1\" class=\"dataframe\">\n",
       "  <thead>\n",
       "    <tr style=\"text-align: right;\">\n",
       "      <th></th>\n",
       "      <th>index</th>\n",
       "      <th>Tijd</th>\n",
       "      <th>Type</th>\n",
       "      <th>Klasse</th>\n",
       "      <th>Waarde</th>\n",
       "      <th>ID</th>\n",
       "      <th>Omschrijving</th>\n",
       "      <th>Status</th>\n",
       "      <th>Prioriteit</th>\n",
       "      <th>Tijd came</th>\n",
       "      <th>Tijd went</th>\n",
       "      <th>Tijd ack</th>\n",
       "      <th>Gebr.ID</th>\n",
       "      <th>DPE</th>\n",
       "    </tr>\n",
       "  </thead>\n",
       "  <tbody>\n",
       "    <tr>\n",
       "      <th>7234103</th>\n",
       "      <td>7234103</td>\n",
       "      <td>01-12-2018 00:00:34.801</td>\n",
       "      <td>PROCES</td>\n",
       "      <td>NaN</td>\n",
       "      <td>212</td>\n",
       "      <td>NaN</td>\n",
       "      <td>Meteo Actuele Windrichting</td>\n",
       "      <td>None</td>\n",
       "      <td>None</td>\n",
       "      <td>None</td>\n",
       "      <td>None</td>\n",
       "      <td>None</td>\n",
       "      <td>0.0</td>\n",
       "      <td>DB_H61-Meteo-S.Meteodata.Windrichting.Actueel</td>\n",
       "    </tr>\n",
       "    <tr>\n",
       "      <th>7234104</th>\n",
       "      <td>7234104</td>\n",
       "      <td>01-12-2018 00:00:08.676</td>\n",
       "      <td>PROCES</td>\n",
       "      <td>NaN</td>\n",
       "      <td>1.7187497615814</td>\n",
       "      <td>NaN</td>\n",
       "      <td>Meteo Actuele Windkracht</td>\n",
       "      <td>None</td>\n",
       "      <td>None</td>\n",
       "      <td>None</td>\n",
       "      <td>None</td>\n",
       "      <td>None</td>\n",
       "      <td>0.0</td>\n",
       "      <td>DB_H61-Meteo-S.Meteodata.Windkracht.Actueel</td>\n",
       "    </tr>\n",
       "    <tr>\n",
       "      <th>7234105</th>\n",
       "      <td>7234105</td>\n",
       "      <td>01-12-2018 00:00:03.660</td>\n",
       "      <td>PROCES</td>\n",
       "      <td>NaN</td>\n",
       "      <td>225</td>\n",
       "      <td>NaN</td>\n",
       "      <td>Meteo Actuele Windrichting</td>\n",
       "      <td>None</td>\n",
       "      <td>None</td>\n",
       "      <td>None</td>\n",
       "      <td>None</td>\n",
       "      <td>None</td>\n",
       "      <td>0.0</td>\n",
       "      <td>DB_H61-Meteo-S.Meteodata.Windrichting.Actueel</td>\n",
       "    </tr>\n",
       "    <tr>\n",
       "      <th>7234106</th>\n",
       "      <td>7234106</td>\n",
       "      <td>01-12-2018 00:00:01.054</td>\n",
       "      <td>PROCES</td>\n",
       "      <td>NaN</td>\n",
       "      <td>TRUE</td>\n",
       "      <td>NaN</td>\n",
       "      <td>Afsluitbomen Algemeen Nacht Stand</td>\n",
       "      <td>None</td>\n",
       "      <td>None</td>\n",
       "      <td>None</td>\n",
       "      <td>None</td>\n",
       "      <td>None</td>\n",
       "      <td>0.0</td>\n",
       "      <td>DB_L21-Asb-Alg-S.Status._00</td>\n",
       "    </tr>\n",
       "    <tr>\n",
       "      <th>7234107</th>\n",
       "      <td>7234107</td>\n",
       "      <td>01-12-2018 00:00:01.054</td>\n",
       "      <td>PROCES</td>\n",
       "      <td>NaN</td>\n",
       "      <td>FALSE</td>\n",
       "      <td>NaN</td>\n",
       "      <td>Afsluitbomen Algemeen Dag Stand</td>\n",
       "      <td>None</td>\n",
       "      <td>None</td>\n",
       "      <td>None</td>\n",
       "      <td>None</td>\n",
       "      <td>None</td>\n",
       "      <td>0.0</td>\n",
       "      <td>DB_L21-Asb-Alg-S.Status._01</td>\n",
       "    </tr>\n",
       "  </tbody>\n",
       "</table>\n",
       "</div>"
      ],
      "text/plain": [
       "           index                     Tijd    Type  Klasse           Waarde  \\\n",
       "7234103  7234103  01-12-2018 00:00:34.801  PROCES     NaN              212   \n",
       "7234104  7234104  01-12-2018 00:00:08.676  PROCES     NaN  1.7187497615814   \n",
       "7234105  7234105  01-12-2018 00:00:03.660  PROCES     NaN              225   \n",
       "7234106  7234106  01-12-2018 00:00:01.054  PROCES     NaN             TRUE   \n",
       "7234107  7234107  01-12-2018 00:00:01.054  PROCES     NaN            FALSE   \n",
       "\n",
       "         ID                       Omschrijving Status Prioriteit Tijd came  \\\n",
       "7234103 NaN         Meteo Actuele Windrichting   None       None      None   \n",
       "7234104 NaN           Meteo Actuele Windkracht   None       None      None   \n",
       "7234105 NaN         Meteo Actuele Windrichting   None       None      None   \n",
       "7234106 NaN  Afsluitbomen Algemeen Nacht Stand   None       None      None   \n",
       "7234107 NaN    Afsluitbomen Algemeen Dag Stand   None       None      None   \n",
       "\n",
       "        Tijd went Tijd ack  Gebr.ID  \\\n",
       "7234103      None     None      0.0   \n",
       "7234104      None     None      0.0   \n",
       "7234105      None     None      0.0   \n",
       "7234106      None     None      0.0   \n",
       "7234107      None     None      0.0   \n",
       "\n",
       "                                                   DPE  \n",
       "7234103  DB_H61-Meteo-S.Meteodata.Windrichting.Actueel  \n",
       "7234104    DB_H61-Meteo-S.Meteodata.Windkracht.Actueel  \n",
       "7234105  DB_H61-Meteo-S.Meteodata.Windrichting.Actueel  \n",
       "7234106                    DB_L21-Asb-Alg-S.Status._00  \n",
       "7234107                    DB_L21-Asb-Alg-S.Status._01  "
      ]
     },
     "execution_count": 3,
     "metadata": {},
     "output_type": "execute_result"
    }
   ],
   "source": [
    "df.tail()"
   ]
  },
  {
   "cell_type": "markdown",
   "metadata": {},
   "source": [
    "## Windkracht dataframe"
   ]
  },
  {
   "cell_type": "code",
   "execution_count": 4,
   "metadata": {},
   "outputs": [
    {
     "data": {
      "text/html": [
       "<div>\n",
       "<style scoped>\n",
       "    .dataframe tbody tr th:only-of-type {\n",
       "        vertical-align: middle;\n",
       "    }\n",
       "\n",
       "    .dataframe tbody tr th {\n",
       "        vertical-align: top;\n",
       "    }\n",
       "\n",
       "    .dataframe thead th {\n",
       "        text-align: right;\n",
       "    }\n",
       "</style>\n",
       "<table border=\"1\" class=\"dataframe\">\n",
       "  <thead>\n",
       "    <tr style=\"text-align: right;\">\n",
       "      <th></th>\n",
       "      <th>Wk</th>\n",
       "    </tr>\n",
       "  </thead>\n",
       "  <tbody>\n",
       "    <tr>\n",
       "      <th>count</th>\n",
       "      <td>6.147130e+05</td>\n",
       "    </tr>\n",
       "    <tr>\n",
       "      <th>mean</th>\n",
       "      <td>1.841671e+00</td>\n",
       "    </tr>\n",
       "    <tr>\n",
       "      <th>std</th>\n",
       "      <td>1.218930e+00</td>\n",
       "    </tr>\n",
       "    <tr>\n",
       "      <th>min</th>\n",
       "      <td>5.712112e-09</td>\n",
       "    </tr>\n",
       "    <tr>\n",
       "      <th>25%</th>\n",
       "      <td>9.577546e-01</td>\n",
       "    </tr>\n",
       "    <tr>\n",
       "      <th>50%</th>\n",
       "      <td>1.594329e+00</td>\n",
       "    </tr>\n",
       "    <tr>\n",
       "      <th>75%</th>\n",
       "      <td>2.449725e+00</td>\n",
       "    </tr>\n",
       "    <tr>\n",
       "      <th>max</th>\n",
       "      <td>1.369358e+01</td>\n",
       "    </tr>\n",
       "  </tbody>\n",
       "</table>\n",
       "</div>"
      ],
      "text/plain": [
       "                 Wk\n",
       "count  6.147130e+05\n",
       "mean   1.841671e+00\n",
       "std    1.218930e+00\n",
       "min    5.712112e-09\n",
       "25%    9.577546e-01\n",
       "50%    1.594329e+00\n",
       "75%    2.449725e+00\n",
       "max    1.369358e+01"
      ]
     },
     "execution_count": 4,
     "metadata": {},
     "output_type": "execute_result"
    }
   ],
   "source": [
    "wkdf = df[df.Omschrijving == 'Meteo Actuele Windkracht']\n",
    "\n",
    "wkdf = wkdf[['Tijd', 'Waarde']].copy()\n",
    "wkdf['Tijd'] = pd.to_datetime(wkdf.Tijd, dayfirst = True)\n",
    "wkdf['Waarde'] = wkdf.Waarde.astype('float')\n",
    "\n",
    "# negatieve windkracht heb ik nog nooit gezien, dus die nemen we niet mee\n",
    "wkdf = wkdf[wkdf.Waarde > 0]\n",
    "wkdf.columns = ['time','Wk']\n",
    "\n",
    "# check of alles gelukt is\n",
    "wkdf.describe()"
   ]
  },
  {
   "cell_type": "code",
   "execution_count": 5,
   "metadata": {},
   "outputs": [
    {
     "data": {
      "text/html": [
       "<div>\n",
       "<style scoped>\n",
       "    .dataframe tbody tr th:only-of-type {\n",
       "        vertical-align: middle;\n",
       "    }\n",
       "\n",
       "    .dataframe tbody tr th {\n",
       "        vertical-align: top;\n",
       "    }\n",
       "\n",
       "    .dataframe thead th {\n",
       "        text-align: right;\n",
       "    }\n",
       "</style>\n",
       "<table border=\"1\" class=\"dataframe\">\n",
       "  <thead>\n",
       "    <tr style=\"text-align: right;\">\n",
       "      <th></th>\n",
       "      <th>time</th>\n",
       "      <th>Wk</th>\n",
       "    </tr>\n",
       "  </thead>\n",
       "  <tbody>\n",
       "    <tr>\n",
       "      <th>7233750</th>\n",
       "      <td>2018-12-01 00:46:32.508</td>\n",
       "      <td>1.715133</td>\n",
       "    </tr>\n",
       "    <tr>\n",
       "      <th>7233842</th>\n",
       "      <td>2018-12-01 00:34:35.052</td>\n",
       "      <td>0.652488</td>\n",
       "    </tr>\n",
       "    <tr>\n",
       "      <th>7233952</th>\n",
       "      <td>2018-12-01 00:26:18.051</td>\n",
       "      <td>1.705367</td>\n",
       "    </tr>\n",
       "    <tr>\n",
       "      <th>7233977</th>\n",
       "      <td>2018-12-01 00:24:17.774</td>\n",
       "      <td>0.609809</td>\n",
       "    </tr>\n",
       "    <tr>\n",
       "      <th>7234104</th>\n",
       "      <td>2018-12-01 00:00:08.676</td>\n",
       "      <td>1.718750</td>\n",
       "    </tr>\n",
       "  </tbody>\n",
       "</table>\n",
       "</div>"
      ],
      "text/plain": [
       "                           time        Wk\n",
       "7233750 2018-12-01 00:46:32.508  1.715133\n",
       "7233842 2018-12-01 00:34:35.052  0.652488\n",
       "7233952 2018-12-01 00:26:18.051  1.705367\n",
       "7233977 2018-12-01 00:24:17.774  0.609809\n",
       "7234104 2018-12-01 00:00:08.676  1.718750"
      ]
     },
     "execution_count": 5,
     "metadata": {},
     "output_type": "execute_result"
    }
   ],
   "source": [
    "wkdf.tail()"
   ]
  },
  {
   "cell_type": "markdown",
   "metadata": {},
   "source": [
    "## Windrichting"
   ]
  },
  {
   "cell_type": "code",
   "execution_count": 6,
   "metadata": {},
   "outputs": [
    {
     "name": "stderr",
     "output_type": "stream",
     "text": [
      "C:\\Users\\denni\\Anaconda3\\lib\\site-packages\\ipykernel_launcher.py:5: SettingWithCopyWarning: \n",
      "A value is trying to be set on a copy of a slice from a DataFrame.\n",
      "Try using .loc[row_indexer,col_indexer] = value instead\n",
      "\n",
      "See the caveats in the documentation: http://pandas.pydata.org/pandas-docs/stable/indexing.html#indexing-view-versus-copy\n",
      "  \"\"\"\n",
      "C:\\Users\\denni\\Anaconda3\\lib\\site-packages\\ipykernel_launcher.py:6: SettingWithCopyWarning: \n",
      "A value is trying to be set on a copy of a slice from a DataFrame.\n",
      "Try using .loc[row_indexer,col_indexer] = value instead\n",
      "\n",
      "See the caveats in the documentation: http://pandas.pydata.org/pandas-docs/stable/indexing.html#indexing-view-versus-copy\n",
      "  \n"
     ]
    },
    {
     "name": "stdout",
     "output_type": "stream",
     "text": [
      "<class 'pandas.core.frame.DataFrame'>\n",
      "Int64Index: 790255 entries, 11 to 7234105\n",
      "Data columns (total 2 columns):\n",
      "time    790255 non-null datetime64[ns]\n",
      "WR      790255 non-null float64\n",
      "dtypes: datetime64[ns](1), float64(1)\n",
      "memory usage: 18.1 MB\n"
     ]
    }
   ],
   "source": [
    "# Haal windrichting data uit standaard df \n",
    "wrdf = df[df.Omschrijving == 'Meteo Actuele Windrichting']\n",
    "\n",
    "# zet de types om naar werkbare types\n",
    "wrdf['Tijd'] = pd.to_datetime(wrdf.Tijd, dayfirst = True)\n",
    "wrdf['Waarde'] = wrdf.Waarde.astype('float')\n",
    "\n",
    "# negatieve windrichtingen bestaan niet\n",
    "wrdf = wrdf[wrdf.Waarde > 0]\n",
    "\n",
    "# Maak df met allen tijd en waarde kolom\n",
    "wrdf = wrdf[['Tijd', 'Waarde']].copy()\n",
    "\n",
    "# Pas kolom namen aan zodat het later gemerged kan worden en duidelijk blijft\n",
    "wrdf.columns = ['time','WR']\n",
    "wrdf.head()\n",
    "\n",
    "#check of alles gelukt is\n",
    "wrdf.info()"
   ]
  },
  {
   "cell_type": "markdown",
   "metadata": {},
   "source": [
    "## Brug Beweging DataFrame"
   ]
  },
  {
   "cell_type": "code",
   "execution_count": 7,
   "metadata": {},
   "outputs": [],
   "source": [
    "# Maak een df met daarin alle meldingen die te maken hebben met het openen en sluiten van de brug\n",
    "\n",
    "OpenSluit = df[df.Omschrijving == 'Brug Beweging Actief']\n",
    "SluitOpen = OpenSluit.append(df[df.Omschrijving == 'Algemeen Commando Brug Openen'])\n",
    "OpenSluitBeweging = SluitOpen.append(df[df.Omschrijving == 'Algemeen Commando Brug Sluiten']) \n",
    "OpenSluitBeweging.Tijd = pd.to_datetime(OpenSluitBeweging.Tijd, dayfirst = True)"
   ]
  },
  {
   "cell_type": "code",
   "execution_count": 8,
   "metadata": {},
   "outputs": [
    {
     "data": {
      "text/html": [
       "<div>\n",
       "<style scoped>\n",
       "    .dataframe tbody tr th:only-of-type {\n",
       "        vertical-align: middle;\n",
       "    }\n",
       "\n",
       "    .dataframe tbody tr th {\n",
       "        vertical-align: top;\n",
       "    }\n",
       "\n",
       "    .dataframe thead th {\n",
       "        text-align: right;\n",
       "    }\n",
       "</style>\n",
       "<table border=\"1\" class=\"dataframe\">\n",
       "  <thead>\n",
       "    <tr style=\"text-align: right;\">\n",
       "      <th></th>\n",
       "      <th>index</th>\n",
       "      <th>Tijd</th>\n",
       "      <th>Type</th>\n",
       "      <th>Klasse</th>\n",
       "      <th>Waarde</th>\n",
       "      <th>ID</th>\n",
       "      <th>Omschrijving</th>\n",
       "      <th>Status</th>\n",
       "      <th>Prioriteit</th>\n",
       "      <th>Tijd came</th>\n",
       "      <th>Tijd went</th>\n",
       "      <th>Tijd ack</th>\n",
       "      <th>Gebr.ID</th>\n",
       "      <th>DPE</th>\n",
       "    </tr>\n",
       "  </thead>\n",
       "  <tbody>\n",
       "    <tr>\n",
       "      <th>1062</th>\n",
       "      <td>1062</td>\n",
       "      <td>2015-12-02 15:52:01.741</td>\n",
       "      <td>PROCES</td>\n",
       "      <td>NaN</td>\n",
       "      <td>FALSE</td>\n",
       "      <td>NaN</td>\n",
       "      <td>Brug Beweging Actief</td>\n",
       "      <td>None</td>\n",
       "      <td>None</td>\n",
       "      <td>None</td>\n",
       "      <td>None</td>\n",
       "      <td>None</td>\n",
       "      <td>0.0</td>\n",
       "      <td>DB_A11-Brug-S.Status.BewR</td>\n",
       "    </tr>\n",
       "    <tr>\n",
       "      <th>1111</th>\n",
       "      <td>1111</td>\n",
       "      <td>2015-12-02 15:50:37.945</td>\n",
       "      <td>PROCES</td>\n",
       "      <td>NaN</td>\n",
       "      <td>TRUE</td>\n",
       "      <td>NaN</td>\n",
       "      <td>Brug Beweging Actief</td>\n",
       "      <td>None</td>\n",
       "      <td>None</td>\n",
       "      <td>None</td>\n",
       "      <td>None</td>\n",
       "      <td>None</td>\n",
       "      <td>0.0</td>\n",
       "      <td>DB_A11-Brug-S.Status.BewR</td>\n",
       "    </tr>\n",
       "    <tr>\n",
       "      <th>1212</th>\n",
       "      <td>1212</td>\n",
       "      <td>2015-12-02 15:48:53.356</td>\n",
       "      <td>PROCES</td>\n",
       "      <td>NaN</td>\n",
       "      <td>FALSE</td>\n",
       "      <td>NaN</td>\n",
       "      <td>Brug Beweging Actief</td>\n",
       "      <td>None</td>\n",
       "      <td>None</td>\n",
       "      <td>None</td>\n",
       "      <td>None</td>\n",
       "      <td>None</td>\n",
       "      <td>0.0</td>\n",
       "      <td>DB_A11-Brug-S.Status.BewR</td>\n",
       "    </tr>\n",
       "    <tr>\n",
       "      <th>1261</th>\n",
       "      <td>1261</td>\n",
       "      <td>2015-12-02 15:47:22.959</td>\n",
       "      <td>PROCES</td>\n",
       "      <td>NaN</td>\n",
       "      <td>TRUE</td>\n",
       "      <td>NaN</td>\n",
       "      <td>Brug Beweging Actief</td>\n",
       "      <td>None</td>\n",
       "      <td>None</td>\n",
       "      <td>None</td>\n",
       "      <td>None</td>\n",
       "      <td>None</td>\n",
       "      <td>0.0</td>\n",
       "      <td>DB_A11-Brug-S.Status.BewR</td>\n",
       "    </tr>\n",
       "    <tr>\n",
       "      <th>1701</th>\n",
       "      <td>1701</td>\n",
       "      <td>2015-12-02 15:25:48.543</td>\n",
       "      <td>PROCES</td>\n",
       "      <td>NaN</td>\n",
       "      <td>FALSE</td>\n",
       "      <td>NaN</td>\n",
       "      <td>Brug Beweging Actief</td>\n",
       "      <td>None</td>\n",
       "      <td>None</td>\n",
       "      <td>None</td>\n",
       "      <td>None</td>\n",
       "      <td>None</td>\n",
       "      <td>0.0</td>\n",
       "      <td>DB_A11-Brug-S.Status.BewR</td>\n",
       "    </tr>\n",
       "  </tbody>\n",
       "</table>\n",
       "</div>"
      ],
      "text/plain": [
       "      index                    Tijd    Type  Klasse Waarde  ID  \\\n",
       "1062   1062 2015-12-02 15:52:01.741  PROCES     NaN  FALSE NaN   \n",
       "1111   1111 2015-12-02 15:50:37.945  PROCES     NaN   TRUE NaN   \n",
       "1212   1212 2015-12-02 15:48:53.356  PROCES     NaN  FALSE NaN   \n",
       "1261   1261 2015-12-02 15:47:22.959  PROCES     NaN   TRUE NaN   \n",
       "1701   1701 2015-12-02 15:25:48.543  PROCES     NaN  FALSE NaN   \n",
       "\n",
       "              Omschrijving Status Prioriteit Tijd came Tijd went Tijd ack  \\\n",
       "1062  Brug Beweging Actief   None       None      None      None     None   \n",
       "1111  Brug Beweging Actief   None       None      None      None     None   \n",
       "1212  Brug Beweging Actief   None       None      None      None     None   \n",
       "1261  Brug Beweging Actief   None       None      None      None     None   \n",
       "1701  Brug Beweging Actief   None       None      None      None     None   \n",
       "\n",
       "      Gebr.ID                        DPE  \n",
       "1062      0.0  DB_A11-Brug-S.Status.BewR  \n",
       "1111      0.0  DB_A11-Brug-S.Status.BewR  \n",
       "1212      0.0  DB_A11-Brug-S.Status.BewR  \n",
       "1261      0.0  DB_A11-Brug-S.Status.BewR  \n",
       "1701      0.0  DB_A11-Brug-S.Status.BewR  "
      ]
     },
     "execution_count": 8,
     "metadata": {},
     "output_type": "execute_result"
    }
   ],
   "source": [
    "OpenSluitBeweging.head()"
   ]
  },
  {
   "cell_type": "code",
   "execution_count": 9,
   "metadata": {},
   "outputs": [
    {
     "name": "stdout",
     "output_type": "stream",
     "text": [
      "<class 'pandas.core.frame.DataFrame'>\n",
      "Int64Index: 52833 entries, 1062 to 7231055\n",
      "Data columns (total 14 columns):\n",
      "index           52833 non-null int64\n",
      "Tijd            52833 non-null datetime64[ns]\n",
      "Type            52833 non-null object\n",
      "Klasse          0 non-null float64\n",
      "Waarde          52833 non-null object\n",
      "ID              0 non-null float64\n",
      "Omschrijving    52833 non-null object\n",
      "Status          0 non-null object\n",
      "Prioriteit      0 non-null object\n",
      "Tijd came       0 non-null object\n",
      "Tijd went       0 non-null object\n",
      "Tijd ack        0 non-null object\n",
      "Gebr.ID         52833 non-null float64\n",
      "DPE             52833 non-null object\n",
      "dtypes: datetime64[ns](1), float64(3), int64(1), object(9)\n",
      "memory usage: 6.0+ MB\n"
     ]
    }
   ],
   "source": [
    "OpenSluitBeweging.info()"
   ]
  },
  {
   "cell_type": "code",
   "execution_count": 10,
   "metadata": {},
   "outputs": [],
   "source": [
    "# Sorteer het df op datum. (je sorteert op index omdat Tijd kolom niet mee wilden werken)\n",
    "Duur = OpenSluitBeweging.sort_index()"
   ]
  },
  {
   "cell_type": "code",
   "execution_count": 11,
   "metadata": {},
   "outputs": [
    {
     "data": {
      "text/html": [
       "<div>\n",
       "<style scoped>\n",
       "    .dataframe tbody tr th:only-of-type {\n",
       "        vertical-align: middle;\n",
       "    }\n",
       "\n",
       "    .dataframe tbody tr th {\n",
       "        vertical-align: top;\n",
       "    }\n",
       "\n",
       "    .dataframe thead th {\n",
       "        text-align: right;\n",
       "    }\n",
       "</style>\n",
       "<table border=\"1\" class=\"dataframe\">\n",
       "  <thead>\n",
       "    <tr style=\"text-align: right;\">\n",
       "      <th></th>\n",
       "      <th>index</th>\n",
       "      <th>Tijd</th>\n",
       "      <th>Type</th>\n",
       "      <th>Klasse</th>\n",
       "      <th>Waarde</th>\n",
       "      <th>ID</th>\n",
       "      <th>Omschrijving</th>\n",
       "      <th>Status</th>\n",
       "      <th>Prioriteit</th>\n",
       "      <th>Tijd came</th>\n",
       "      <th>Tijd went</th>\n",
       "      <th>Tijd ack</th>\n",
       "      <th>Gebr.ID</th>\n",
       "      <th>DPE</th>\n",
       "    </tr>\n",
       "  </thead>\n",
       "  <tbody>\n",
       "    <tr>\n",
       "      <th>1062</th>\n",
       "      <td>1062</td>\n",
       "      <td>2015-12-02 15:52:01.741</td>\n",
       "      <td>PROCES</td>\n",
       "      <td>NaN</td>\n",
       "      <td>FALSE</td>\n",
       "      <td>NaN</td>\n",
       "      <td>Brug Beweging Actief</td>\n",
       "      <td>None</td>\n",
       "      <td>None</td>\n",
       "      <td>None</td>\n",
       "      <td>None</td>\n",
       "      <td>None</td>\n",
       "      <td>0.0</td>\n",
       "      <td>DB_A11-Brug-S.Status.BewR</td>\n",
       "    </tr>\n",
       "    <tr>\n",
       "      <th>1094</th>\n",
       "      <td>1094</td>\n",
       "      <td>2015-12-02 15:50:40.203</td>\n",
       "      <td>PROCES</td>\n",
       "      <td>NaN</td>\n",
       "      <td>FALSE</td>\n",
       "      <td>NaN</td>\n",
       "      <td>Algemeen Commando Brug Sluiten</td>\n",
       "      <td>None</td>\n",
       "      <td>None</td>\n",
       "      <td>None</td>\n",
       "      <td>None</td>\n",
       "      <td>None</td>\n",
       "      <td>0.0</td>\n",
       "      <td>DB_D00-Algemeen-S.CMD.BrugSl.Cmd</td>\n",
       "    </tr>\n",
       "    <tr>\n",
       "      <th>1111</th>\n",
       "      <td>1111</td>\n",
       "      <td>2015-12-02 15:50:37.945</td>\n",
       "      <td>PROCES</td>\n",
       "      <td>NaN</td>\n",
       "      <td>TRUE</td>\n",
       "      <td>NaN</td>\n",
       "      <td>Brug Beweging Actief</td>\n",
       "      <td>None</td>\n",
       "      <td>None</td>\n",
       "      <td>None</td>\n",
       "      <td>None</td>\n",
       "      <td>None</td>\n",
       "      <td>0.0</td>\n",
       "      <td>DB_A11-Brug-S.Status.BewR</td>\n",
       "    </tr>\n",
       "    <tr>\n",
       "      <th>1115</th>\n",
       "      <td>1115</td>\n",
       "      <td>2015-12-02 15:50:37.743</td>\n",
       "      <td>PROCES</td>\n",
       "      <td>NaN</td>\n",
       "      <td>TRUE</td>\n",
       "      <td>NaN</td>\n",
       "      <td>Algemeen Commando Brug Sluiten</td>\n",
       "      <td>None</td>\n",
       "      <td>None</td>\n",
       "      <td>None</td>\n",
       "      <td>None</td>\n",
       "      <td>None</td>\n",
       "      <td>40.0</td>\n",
       "      <td>DB_D00-Algemeen-S.CMD.BrugSl.Cmd</td>\n",
       "    </tr>\n",
       "    <tr>\n",
       "      <th>1212</th>\n",
       "      <td>1212</td>\n",
       "      <td>2015-12-02 15:48:53.356</td>\n",
       "      <td>PROCES</td>\n",
       "      <td>NaN</td>\n",
       "      <td>FALSE</td>\n",
       "      <td>NaN</td>\n",
       "      <td>Brug Beweging Actief</td>\n",
       "      <td>None</td>\n",
       "      <td>None</td>\n",
       "      <td>None</td>\n",
       "      <td>None</td>\n",
       "      <td>None</td>\n",
       "      <td>0.0</td>\n",
       "      <td>DB_A11-Brug-S.Status.BewR</td>\n",
       "    </tr>\n",
       "  </tbody>\n",
       "</table>\n",
       "</div>"
      ],
      "text/plain": [
       "      index                    Tijd    Type  Klasse Waarde  ID  \\\n",
       "1062   1062 2015-12-02 15:52:01.741  PROCES     NaN  FALSE NaN   \n",
       "1094   1094 2015-12-02 15:50:40.203  PROCES     NaN  FALSE NaN   \n",
       "1111   1111 2015-12-02 15:50:37.945  PROCES     NaN   TRUE NaN   \n",
       "1115   1115 2015-12-02 15:50:37.743  PROCES     NaN   TRUE NaN   \n",
       "1212   1212 2015-12-02 15:48:53.356  PROCES     NaN  FALSE NaN   \n",
       "\n",
       "                        Omschrijving Status Prioriteit Tijd came Tijd went  \\\n",
       "1062            Brug Beweging Actief   None       None      None      None   \n",
       "1094  Algemeen Commando Brug Sluiten   None       None      None      None   \n",
       "1111            Brug Beweging Actief   None       None      None      None   \n",
       "1115  Algemeen Commando Brug Sluiten   None       None      None      None   \n",
       "1212            Brug Beweging Actief   None       None      None      None   \n",
       "\n",
       "     Tijd ack  Gebr.ID                               DPE  \n",
       "1062     None      0.0         DB_A11-Brug-S.Status.BewR  \n",
       "1094     None      0.0  DB_D00-Algemeen-S.CMD.BrugSl.Cmd  \n",
       "1111     None      0.0         DB_A11-Brug-S.Status.BewR  \n",
       "1115     None     40.0  DB_D00-Algemeen-S.CMD.BrugSl.Cmd  \n",
       "1212     None      0.0         DB_A11-Brug-S.Status.BewR  "
      ]
     },
     "execution_count": 11,
     "metadata": {},
     "output_type": "execute_result"
    }
   ],
   "source": [
    "Duur.head()"
   ]
  },
  {
   "cell_type": "code",
   "execution_count": 12,
   "metadata": {},
   "outputs": [],
   "source": [
    "# Maak een kolom in df met daarin de tijd omgezet naar seconden, zodat het makkelijker rekenen wordt\n",
    "Duur['seconden'] = (Duur.Tijd.astype(np.int64) // 10**9)"
   ]
  },
  {
   "cell_type": "code",
   "execution_count": 13,
   "metadata": {},
   "outputs": [],
   "source": [
    "Duur.to_csv('beweging.csv')"
   ]
  },
  {
   "cell_type": "code",
   "execution_count": 14,
   "metadata": {},
   "outputs": [],
   "source": [
    "begin = 0\n",
    "eind = 0\n",
    "x = 0\n",
    "tst = None\n",
    "sluit = True\n",
    "duur = list()\n",
    "oslist = list()\n",
    "timestamp = list()\n",
    "\n",
    "for index, row in Duur.iterrows():\n",
    "    waarde = row[4]\n",
    "    oms = row[6]\n",
    "    sec = row[14]\n",
    "    ts = row[1]\n",
    "    if ((oms == 'Brug Beweging Actief') & (waarde == \"TRUE\")):\n",
    "        begin = sec\n",
    "        tst = ts       \n",
    "    elif ((oms == 'Brug Beweging Actief') & (waarde == \"FALSE\")):\n",
    "        eind = sec\n",
    "    if (oms == 'Algemeen Commando Brug Openen'):\n",
    "        sluit = False\n",
    "    elif (oms == 'Algemeen Commando Brug Sluiten'):\n",
    "        sluit = True\n",
    "    if ((eind!=0) & (begin!=0)):\n",
    "        duur.append(eind-begin)\n",
    "        timestamp.append(ts)\n",
    "        oslist.append(sluit)\n",
    "        eind = 0\n",
    "        begin = 0\n",
    "    "
   ]
  },
  {
   "cell_type": "code",
   "execution_count": 15,
   "metadata": {},
   "outputs": [],
   "source": [
    "# maak het nieuwe df aan\n",
    "duurdf  = pd.DataFrame(duur)\n",
    "duurdf['beweging'] = oslist\n",
    "duurdf['time'] = timestamp"
   ]
  },
  {
   "cell_type": "code",
   "execution_count": 16,
   "metadata": {},
   "outputs": [
    {
     "data": {
      "text/html": [
       "<div>\n",
       "<style scoped>\n",
       "    .dataframe tbody tr th:only-of-type {\n",
       "        vertical-align: middle;\n",
       "    }\n",
       "\n",
       "    .dataframe tbody tr th {\n",
       "        vertical-align: top;\n",
       "    }\n",
       "\n",
       "    .dataframe thead th {\n",
       "        text-align: right;\n",
       "    }\n",
       "</style>\n",
       "<table border=\"1\" class=\"dataframe\">\n",
       "  <thead>\n",
       "    <tr style=\"text-align: right;\">\n",
       "      <th></th>\n",
       "      <th>0</th>\n",
       "      <th>beweging</th>\n",
       "      <th>time</th>\n",
       "    </tr>\n",
       "  </thead>\n",
       "  <tbody>\n",
       "    <tr>\n",
       "      <th>0</th>\n",
       "      <td>84</td>\n",
       "      <td>True</td>\n",
       "      <td>2015-12-02 15:50:37.945</td>\n",
       "    </tr>\n",
       "    <tr>\n",
       "      <th>1</th>\n",
       "      <td>91</td>\n",
       "      <td>False</td>\n",
       "      <td>2015-12-02 15:47:22.959</td>\n",
       "    </tr>\n",
       "    <tr>\n",
       "      <th>2</th>\n",
       "      <td>84</td>\n",
       "      <td>True</td>\n",
       "      <td>2015-12-02 15:24:24.944</td>\n",
       "    </tr>\n",
       "    <tr>\n",
       "      <th>3</th>\n",
       "      <td>91</td>\n",
       "      <td>False</td>\n",
       "      <td>2015-12-02 15:21:00.562</td>\n",
       "    </tr>\n",
       "    <tr>\n",
       "      <th>4</th>\n",
       "      <td>84</td>\n",
       "      <td>True</td>\n",
       "      <td>2015-12-02 14:24:45.858</td>\n",
       "    </tr>\n",
       "  </tbody>\n",
       "</table>\n",
       "</div>"
      ],
      "text/plain": [
       "    0  beweging                    time\n",
       "0  84      True 2015-12-02 15:50:37.945\n",
       "1  91     False 2015-12-02 15:47:22.959\n",
       "2  84      True 2015-12-02 15:24:24.944\n",
       "3  91     False 2015-12-02 15:21:00.562\n",
       "4  84      True 2015-12-02 14:24:45.858"
      ]
     },
     "execution_count": 16,
     "metadata": {},
     "output_type": "execute_result"
    }
   ],
   "source": [
    "# 0 == sluit\n",
    "# oneven == open\n",
    "\n",
    "duurdf.head()"
   ]
  },
  {
   "cell_type": "code",
   "execution_count": 17,
   "metadata": {},
   "outputs": [],
   "source": [
    "duurdf.columns = ['duur','beweging','time']"
   ]
  },
  {
   "cell_type": "code",
   "execution_count": 18,
   "metadata": {},
   "outputs": [
    {
     "name": "stdout",
     "output_type": "stream",
     "text": [
      "<class 'pandas.core.frame.DataFrame'>\n",
      "RangeIndex: 13205 entries, 0 to 13204\n",
      "Data columns (total 3 columns):\n",
      "duur        13205 non-null int64\n",
      "beweging    13205 non-null bool\n",
      "time        13205 non-null datetime64[ns]\n",
      "dtypes: bool(1), datetime64[ns](1), int64(1)\n",
      "memory usage: 219.3 KB\n"
     ]
    }
   ],
   "source": [
    "duurdf.info()"
   ]
  },
  {
   "cell_type": "markdown",
   "metadata": {},
   "source": [
    "# Mergen van verschillende dataframes"
   ]
  },
  {
   "cell_type": "markdown",
   "metadata": {},
   "source": [
    "## maak één dataframe met  daarin alle waarden die nodig  zijn"
   ]
  },
  {
   "cell_type": "code",
   "execution_count": 19,
   "metadata": {},
   "outputs": [],
   "source": [
    "# samenvoegen van duur data en windrichting\n",
    "# sorteer de dataframes op de time kolom, anders werkt de merge_asof niet\n",
    "sortedduur = duurdf.sort_values('time')\n",
    "sortedwr  =  wrdf.sort_values('time')\n",
    "\n",
    "# voeg de gesorteerde dataframes samen gelet op de time kolom, waarbij hij zoekt naar de eerstvoorgaande time waarde\n",
    "mergeddf = pd.merge_asof(sortedduur,sortedwr, on = 'time')"
   ]
  },
  {
   "cell_type": "code",
   "execution_count": 20,
   "metadata": {},
   "outputs": [],
   "source": [
    "# hetzelfde als hierboven maar dan met de windkracht\n",
    "sortedmerged = mergeddf.sort_values('time')\n",
    "sortedwk  =  wkdf.sort_values('time')\n",
    "duurWrWk = pd.merge_asof(sortedmerged,sortedwk, on = 'time')"
   ]
  },
  {
   "cell_type": "code",
   "execution_count": 21,
   "metadata": {},
   "outputs": [
    {
     "data": {
      "text/html": [
       "<div>\n",
       "<style scoped>\n",
       "    .dataframe tbody tr th:only-of-type {\n",
       "        vertical-align: middle;\n",
       "    }\n",
       "\n",
       "    .dataframe tbody tr th {\n",
       "        vertical-align: top;\n",
       "    }\n",
       "\n",
       "    .dataframe thead th {\n",
       "        text-align: right;\n",
       "    }\n",
       "</style>\n",
       "<table border=\"1\" class=\"dataframe\">\n",
       "  <thead>\n",
       "    <tr style=\"text-align: right;\">\n",
       "      <th></th>\n",
       "      <th>duur</th>\n",
       "      <th>beweging</th>\n",
       "      <th>time</th>\n",
       "      <th>WR</th>\n",
       "      <th>Wk</th>\n",
       "    </tr>\n",
       "  </thead>\n",
       "  <tbody>\n",
       "    <tr>\n",
       "      <th>13195</th>\n",
       "      <td>87</td>\n",
       "      <td>False</td>\n",
       "      <td>2018-11-30 08:54:27.039</td>\n",
       "      <td>155.0</td>\n",
       "      <td>0.900608</td>\n",
       "    </tr>\n",
       "    <tr>\n",
       "      <th>13196</th>\n",
       "      <td>80</td>\n",
       "      <td>True</td>\n",
       "      <td>2018-11-30 08:57:51.255</td>\n",
       "      <td>162.0</td>\n",
       "      <td>0.900608</td>\n",
       "    </tr>\n",
       "    <tr>\n",
       "      <th>13197</th>\n",
       "      <td>88</td>\n",
       "      <td>False</td>\n",
       "      <td>2018-11-30 13:31:32.651</td>\n",
       "      <td>220.0</td>\n",
       "      <td>1.890553</td>\n",
       "    </tr>\n",
       "    <tr>\n",
       "      <th>13198</th>\n",
       "      <td>81</td>\n",
       "      <td>True</td>\n",
       "      <td>2018-11-30 13:36:21.854</td>\n",
       "      <td>212.0</td>\n",
       "      <td>1.905382</td>\n",
       "    </tr>\n",
       "    <tr>\n",
       "      <th>13199</th>\n",
       "      <td>89</td>\n",
       "      <td>False</td>\n",
       "      <td>2018-11-30 13:50:25.744</td>\n",
       "      <td>230.0</td>\n",
       "      <td>1.912977</td>\n",
       "    </tr>\n",
       "    <tr>\n",
       "      <th>13200</th>\n",
       "      <td>80</td>\n",
       "      <td>True</td>\n",
       "      <td>2018-11-30 13:53:28.249</td>\n",
       "      <td>232.0</td>\n",
       "      <td>1.952763</td>\n",
       "    </tr>\n",
       "    <tr>\n",
       "      <th>13201</th>\n",
       "      <td>88</td>\n",
       "      <td>False</td>\n",
       "      <td>2018-11-30 20:24:42.555</td>\n",
       "      <td>226.0</td>\n",
       "      <td>1.328125</td>\n",
       "    </tr>\n",
       "    <tr>\n",
       "      <th>13202</th>\n",
       "      <td>81</td>\n",
       "      <td>True</td>\n",
       "      <td>2018-11-30 20:28:45.744</td>\n",
       "      <td>224.0</td>\n",
       "      <td>1.406973</td>\n",
       "    </tr>\n",
       "    <tr>\n",
       "      <th>13203</th>\n",
       "      <td>89</td>\n",
       "      <td>False</td>\n",
       "      <td>2018-12-01 12:57:42.745</td>\n",
       "      <td>180.0</td>\n",
       "      <td>2.789714</td>\n",
       "    </tr>\n",
       "    <tr>\n",
       "      <th>13204</th>\n",
       "      <td>81</td>\n",
       "      <td>True</td>\n",
       "      <td>2018-12-01 13:00:26.152</td>\n",
       "      <td>166.0</td>\n",
       "      <td>2.789714</td>\n",
       "    </tr>\n",
       "  </tbody>\n",
       "</table>\n",
       "</div>"
      ],
      "text/plain": [
       "       duur  beweging                    time     WR        Wk\n",
       "13195    87     False 2018-11-30 08:54:27.039  155.0  0.900608\n",
       "13196    80      True 2018-11-30 08:57:51.255  162.0  0.900608\n",
       "13197    88     False 2018-11-30 13:31:32.651  220.0  1.890553\n",
       "13198    81      True 2018-11-30 13:36:21.854  212.0  1.905382\n",
       "13199    89     False 2018-11-30 13:50:25.744  230.0  1.912977\n",
       "13200    80      True 2018-11-30 13:53:28.249  232.0  1.952763\n",
       "13201    88     False 2018-11-30 20:24:42.555  226.0  1.328125\n",
       "13202    81      True 2018-11-30 20:28:45.744  224.0  1.406973\n",
       "13203    89     False 2018-12-01 12:57:42.745  180.0  2.789714\n",
       "13204    81      True 2018-12-01 13:00:26.152  166.0  2.789714"
      ]
     },
     "execution_count": 21,
     "metadata": {},
     "output_type": "execute_result"
    }
   ],
   "source": [
    "duurWrWk.tail(10)"
   ]
  },
  {
   "cell_type": "markdown",
   "metadata": {},
   "source": [
    "## check voor outliers"
   ]
  },
  {
   "cell_type": "code",
   "execution_count": 22,
   "metadata": {},
   "outputs": [
    {
     "data": {
      "text/plain": [
       "<matplotlib.axes._subplots.AxesSubplot at 0x1d92c3dff98>"
      ]
     },
     "execution_count": 22,
     "metadata": {},
     "output_type": "execute_result"
    },
    {
     "data": {
      "image/png": "[encoded data removed]",
      "text/plain": [
       "<Figure size 432x288 with 1 Axes>"
      ]
     },
     "metadata": {
      "needs_background": "light"
     },
     "output_type": "display_data"
    }
   ],
   "source": [
    "duurWrWk.boxplot('duur')"
   ]
  },
  {
   "cell_type": "markdown",
   "metadata": {},
   "source": [
    "## Grafieken sluiten brug"
   ]
  },
  {
   "cell_type": "code",
   "execution_count": 23,
   "metadata": {},
   "outputs": [
    {
     "data": {
      "text/plain": [
       "<matplotlib.axes._subplots.AxesSubplot at 0x1d931bc22e8>"
      ]
     },
     "execution_count": 23,
     "metadata": {},
     "output_type": "execute_result"
    },
    {
     "data": {
      "image/png": "[encoded data removed]",
      "text/plain": [
       "<Figure size 432x288 with 1 Axes>"
      ]
     },
     "metadata": {
      "needs_background": "light"
     },
     "output_type": "display_data"
    }
   ],
   "source": [
    "# Duur tegenover tijd\n",
    "openen = duurWrWk[duurWrWk.beweging == False]\n",
    "openen.plot(x = \"time\", y = 'duur', style = '.')"
   ]
  },
  {
   "cell_type": "code",
   "execution_count": 24,
   "metadata": {},
   "outputs": [
    {
     "data": {
      "text/plain": [
       "<matplotlib.axes._subplots.AxesSubplot at 0x1d93bb9c208>"
      ]
     },
     "execution_count": 24,
     "metadata": {},
     "output_type": "execute_result"
    },
    {
     "data": {
      "image/png": "[encoded data removed]",
      "text/plain": [
       "<Figure size 432x288 with 1 Axes>"
      ]
     },
     "metadata": {
      "needs_background": "light"
     },
     "output_type": "display_data"
    }
   ],
   "source": [
    "# duur tegenover tijd\n",
    "sluit = duurWrWk[duurWrWk.beweging == True]\n",
    "sluit.plot(x = \"time\", y = 'duur', style = '.')"
   ]
  },
  {
   "cell_type": "code",
   "execution_count": 68,
   "metadata": {},
   "outputs": [
    {
     "data": {
      "text/plain": [
       "count    6628.000000\n",
       "mean       82.363911\n",
       "std        10.960925\n",
       "min      -154.000000\n",
       "25%        84.000000\n",
       "50%        84.000000\n",
       "75%        85.000000\n",
       "max       241.000000\n",
       "Name: duur, dtype: float64"
      ]
     },
     "execution_count": 68,
     "metadata": {},
     "output_type": "execute_result"
    }
   ],
   "source": [
    "sluit.duur.describe()"
   ]
  },
  {
   "cell_type": "code",
   "execution_count": 26,
   "metadata": {},
   "outputs": [],
   "source": [
    "sluitin = sluit[sluit.duur > 75]\n",
    "sluitout = sluit[sluit.duur < 75]"
   ]
  },
  {
   "cell_type": "code",
   "execution_count": 27,
   "metadata": {},
   "outputs": [
    {
     "data": {
      "text/plain": [
       "(6401, 5)"
      ]
     },
     "execution_count": 27,
     "metadata": {},
     "output_type": "execute_result"
    }
   ],
   "source": [
    "sluitin.shape"
   ]
  },
  {
   "cell_type": "code",
   "execution_count": 28,
   "metadata": {},
   "outputs": [
    {
     "data": {
      "text/plain": [
       "(226, 5)"
      ]
     },
     "execution_count": 28,
     "metadata": {},
     "output_type": "execute_result"
    }
   ],
   "source": [
    "sluitout.shape"
   ]
  },
  {
   "cell_type": "code",
   "execution_count": 29,
   "metadata": {},
   "outputs": [
    {
     "data": {
      "text/plain": [
       "2.2504724274179693"
      ]
     },
     "execution_count": 29,
     "metadata": {},
     "output_type": "execute_result"
    }
   ],
   "source": [
    "sluitPerOut = ((131/5821)*100)\n",
    "sluitPerOut"
   ]
  },
  {
   "cell_type": "code",
   "execution_count": 30,
   "metadata": {},
   "outputs": [],
   "source": [
    "openin = openen[(openen.duur >= 75) & (openen.duur <= 125)]\n",
    "openout = openen[(openen.duur < 75) | (openen.duur > 125)]"
   ]
  },
  {
   "cell_type": "code",
   "execution_count": 31,
   "metadata": {},
   "outputs": [
    {
     "data": {
      "text/plain": [
       "(6351, 5)"
      ]
     },
     "execution_count": 31,
     "metadata": {},
     "output_type": "execute_result"
    }
   ],
   "source": [
    "openin.shape"
   ]
  },
  {
   "cell_type": "code",
   "execution_count": 32,
   "metadata": {},
   "outputs": [
    {
     "data": {
      "text/plain": [
       "(226, 5)"
      ]
     },
     "execution_count": 32,
     "metadata": {},
     "output_type": "execute_result"
    }
   ],
   "source": [
    "openout.shape"
   ]
  },
  {
   "cell_type": "code",
   "execution_count": 33,
   "metadata": {},
   "outputs": [
    {
     "data": {
      "text/plain": [
       "4.401979184439515"
      ]
     },
     "execution_count": 33,
     "metadata": {},
     "output_type": "execute_result"
    }
   ],
   "source": [
    "openPerOut = ((258/5861)*100)\n",
    "openPerOut"
   ]
  },
  {
   "cell_type": "code",
   "execution_count": 34,
   "metadata": {},
   "outputs": [
    {
     "data": {
      "text/plain": [
       "<matplotlib.axes._subplots.AxesSubplot at 0x1d947606748>"
      ]
     },
     "execution_count": 34,
     "metadata": {},
     "output_type": "execute_result"
    },
    {
     "data": {
      "image/png": "[encoded data removed]",
      "text/plain": [
       "<Figure size 432x288 with 1 Axes>"
      ]
     },
     "metadata": {
      "needs_background": "light"
     },
     "output_type": "display_data"
    }
   ],
   "source": [
    "# duur tegenover windkracht\n",
    "sluit.plot(x = \"duur\", y = 'Wk', style = '.', color = 'red')"
   ]
  },
  {
   "cell_type": "code",
   "execution_count": 35,
   "metadata": {},
   "outputs": [
    {
     "data": {
      "text/plain": [
       "<matplotlib.axes._subplots.AxesSubplot at 0x1d94b592cf8>"
      ]
     },
     "execution_count": 35,
     "metadata": {},
     "output_type": "execute_result"
    },
    {
     "data": {
      "image/png": "[encoded data removed]",
      "text/plain": [
       "<Figure size 432x288 with 1 Axes>"
      ]
     },
     "metadata": {
      "needs_background": "light"
     },
     "output_type": "display_data"
    }
   ],
   "source": [
    "# Duur tegenover windrichting\n",
    "sluit.plot(x = \"duur\", y = 'WR', style = '.', color = 'purple')"
   ]
  },
  {
   "cell_type": "markdown",
   "metadata": {},
   "source": [
    "## Grafieken openen"
   ]
  },
  {
   "cell_type": "code",
   "execution_count": 36,
   "metadata": {},
   "outputs": [
    {
     "data": {
      "text/plain": [
       "<matplotlib.axes._subplots.AxesSubplot at 0x1d94c67c5c0>"
      ]
     },
     "execution_count": 36,
     "metadata": {},
     "output_type": "execute_result"
    },
    {
     "data": {
      "image/png": "[encoded data removed]",
      "text/plain": [
       "<Figure size 432x288 with 1 Axes>"
      ]
     },
     "metadata": {
      "needs_background": "light"
     },
     "output_type": "display_data"
    }
   ],
   "source": [
    "# Duur tegenover windkracht\n",
    "openen.plot(x = \"duur\", y = 'Wk', style = '.', color = 'red')"
   ]
  },
  {
   "cell_type": "code",
   "execution_count": 37,
   "metadata": {},
   "outputs": [
    {
     "data": {
      "text/plain": [
       "<matplotlib.axes._subplots.AxesSubplot at 0x1d96eded470>"
      ]
     },
     "execution_count": 37,
     "metadata": {},
     "output_type": "execute_result"
    },
    {
     "data": {
      "image/png": "[encoded data removed]",
      "text/plain": [
       "<Figure size 432x288 with 1 Axes>"
      ]
     },
     "metadata": {
      "needs_background": "light"
     },
     "output_type": "display_data"
    }
   ],
   "source": [
    "# Duur tegenover Windrichting\n",
    "openen.plot(x = \"duur\", y = 'WR', style = '.', color = 'purple')"
   ]
  },
  {
   "cell_type": "markdown",
   "metadata": {},
   "source": [
    "## Data Cleaning"
   ]
  },
  {
   "cell_type": "code",
   "execution_count": 38,
   "metadata": {},
   "outputs": [
    {
     "data": {
      "text/html": [
       "<div>\n",
       "<style scoped>\n",
       "    .dataframe tbody tr th:only-of-type {\n",
       "        vertical-align: middle;\n",
       "    }\n",
       "\n",
       "    .dataframe tbody tr th {\n",
       "        vertical-align: top;\n",
       "    }\n",
       "\n",
       "    .dataframe thead th {\n",
       "        text-align: right;\n",
       "    }\n",
       "</style>\n",
       "<table border=\"1\" class=\"dataframe\">\n",
       "  <thead>\n",
       "    <tr style=\"text-align: right;\">\n",
       "      <th></th>\n",
       "      <th>duur</th>\n",
       "      <th>WR</th>\n",
       "      <th>Wk</th>\n",
       "    </tr>\n",
       "  </thead>\n",
       "  <tbody>\n",
       "    <tr>\n",
       "      <th>count</th>\n",
       "      <td>12747.000000</td>\n",
       "      <td>12747.000000</td>\n",
       "      <td>12747.000000</td>\n",
       "    </tr>\n",
       "    <tr>\n",
       "      <th>mean</th>\n",
       "      <td>86.541068</td>\n",
       "      <td>194.186161</td>\n",
       "      <td>1.900865</td>\n",
       "    </tr>\n",
       "    <tr>\n",
       "      <th>std</th>\n",
       "      <td>2.989590</td>\n",
       "      <td>70.160923</td>\n",
       "      <td>1.117008</td>\n",
       "    </tr>\n",
       "    <tr>\n",
       "      <th>min</th>\n",
       "      <td>76.000000</td>\n",
       "      <td>1.000000</td>\n",
       "      <td>0.003979</td>\n",
       "    </tr>\n",
       "    <tr>\n",
       "      <th>25%</th>\n",
       "      <td>84.000000</td>\n",
       "      <td>140.000000</td>\n",
       "      <td>1.072772</td>\n",
       "    </tr>\n",
       "    <tr>\n",
       "      <th>50%</th>\n",
       "      <td>87.000000</td>\n",
       "      <td>215.000000</td>\n",
       "      <td>1.701027</td>\n",
       "    </tr>\n",
       "    <tr>\n",
       "      <th>75%</th>\n",
       "      <td>89.000000</td>\n",
       "      <td>239.000000</td>\n",
       "      <td>2.499457</td>\n",
       "    </tr>\n",
       "    <tr>\n",
       "      <th>max</th>\n",
       "      <td>122.000000</td>\n",
       "      <td>358.000000</td>\n",
       "      <td>9.743923</td>\n",
       "    </tr>\n",
       "  </tbody>\n",
       "</table>\n",
       "</div>"
      ],
      "text/plain": [
       "               duur            WR            Wk\n",
       "count  12747.000000  12747.000000  12747.000000\n",
       "mean      86.541068    194.186161      1.900865\n",
       "std        2.989590     70.160923      1.117008\n",
       "min       76.000000      1.000000      0.003979\n",
       "25%       84.000000    140.000000      1.072772\n",
       "50%       87.000000    215.000000      1.701027\n",
       "75%       89.000000    239.000000      2.499457\n",
       "max      122.000000    358.000000      9.743923"
      ]
     },
     "execution_count": 38,
     "metadata": {},
     "output_type": "execute_result"
    }
   ],
   "source": [
    "# haal de outliers uit de data\n",
    "cleanDuur = duurWrWk[duurWrWk.duur >  75]\n",
    "cleanDuur = cleanDuur[cleanDuur.duur < 125]\n",
    "cleanDuur.describe()"
   ]
  },
  {
   "cell_type": "code",
   "execution_count": 39,
   "metadata": {},
   "outputs": [
    {
     "data": {
      "text/plain": [
       "<matplotlib.axes._subplots.AxesSubplot at 0x1d956caa9b0>"
      ]
     },
     "execution_count": 39,
     "metadata": {},
     "output_type": "execute_result"
    },
    {
     "data": {
      "image/png": "[encoded data removed]",
      "text/plain": [
       "<Figure size 432x288 with 1 Axes>"
      ]
     },
     "metadata": {
      "needs_background": "light"
     },
     "output_type": "display_data"
    }
   ],
   "source": [
    "cleanDuur.boxplot('duur')"
   ]
  },
  {
   "cell_type": "markdown",
   "metadata": {},
   "source": [
    "## Duur van openen bruggen over de tijd"
   ]
  },
  {
   "cell_type": "code",
   "execution_count": 40,
   "metadata": {},
   "outputs": [],
   "source": [
    "cleanOpen = cleanDuur[cleanDuur.beweging == False]"
   ]
  },
  {
   "cell_type": "code",
   "execution_count": 41,
   "metadata": {},
   "outputs": [
    {
     "data": {
      "text/plain": [
       "<matplotlib.axes._subplots.AxesSubplot at 0x1d95acfa3c8>"
      ]
     },
     "execution_count": 41,
     "metadata": {},
     "output_type": "execute_result"
    },
    {
     "data": {
      "image/png": "[encoded data removed]",
      "text/plain": [
       "<Figure size 432x288 with 1 Axes>"
      ]
     },
     "metadata": {
      "needs_background": "light"
     },
     "output_type": "display_data"
    }
   ],
   "source": [
    "cleanOpen.plot(x = 'time', y ='duur', style = '.')"
   ]
  },
  {
   "cell_type": "markdown",
   "metadata": {},
   "source": [
    "## Duur van sluiten bruggen over de tijd"
   ]
  },
  {
   "cell_type": "code",
   "execution_count": 42,
   "metadata": {},
   "outputs": [],
   "source": [
    "cleanSluit = cleanDuur[cleanDuur.beweging == True]"
   ]
  },
  {
   "cell_type": "code",
   "execution_count": 43,
   "metadata": {},
   "outputs": [
    {
     "data": {
      "text/plain": [
       "<matplotlib.axes._subplots.AxesSubplot at 0x1d961a5b0f0>"
      ]
     },
     "execution_count": 43,
     "metadata": {},
     "output_type": "execute_result"
    },
    {
     "data": {
      "image/png": "[encoded data removed]",
      "text/plain": [
       "<Figure size 432x288 with 1 Axes>"
      ]
     },
     "metadata": {
      "needs_background": "light"
     },
     "output_type": "display_data"
    }
   ],
   "source": [
    "cleanSluit.plot(x = \"time\", y = 'duur', style = '.')"
   ]
  },
  {
   "cell_type": "markdown",
   "metadata": {},
   "source": [
    "## data prep voor dagdeel"
   ]
  },
  {
   "cell_type": "code",
   "execution_count": 44,
   "metadata": {},
   "outputs": [
    {
     "name": "stderr",
     "output_type": "stream",
     "text": [
      "C:\\Users\\denni\\Anaconda3\\lib\\site-packages\\ipykernel_launcher.py:2: SettingWithCopyWarning: \n",
      "A value is trying to be set on a copy of a slice from a DataFrame.\n",
      "Try using .loc[row_indexer,col_indexer] = value instead\n",
      "\n",
      "See the caveats in the documentation: http://pandas.pydata.org/pandas-docs/stable/indexing.html#indexing-view-versus-copy\n",
      "  \n",
      "C:\\Users\\denni\\Anaconda3\\lib\\site-packages\\ipykernel_launcher.py:3: SettingWithCopyWarning: \n",
      "A value is trying to be set on a copy of a slice from a DataFrame.\n",
      "Try using .loc[row_indexer,col_indexer] = value instead\n",
      "\n",
      "See the caveats in the documentation: http://pandas.pydata.org/pandas-docs/stable/indexing.html#indexing-view-versus-copy\n",
      "  This is separate from the ipykernel package so we can avoid doing imports until\n"
     ]
    }
   ],
   "source": [
    "# Uur kolom maken om dagdeel te bepalen.\n",
    "cleanOpen['uur'] = cleanOpen.time.dt.hour\n",
    "cleanSluit['uur'] = cleanSluit.time.dt.hour\n",
    "cleanDuur['uur'] = cleanDuur.time.dt.hour"
   ]
  },
  {
   "cell_type": "markdown",
   "metadata": {},
   "source": [
    "# Boxplots\n",
    "## Boxplots per dagdeel"
   ]
  },
  {
   "cell_type": "code",
   "execution_count": 45,
   "metadata": {},
   "outputs": [
    {
     "data": {
      "text/plain": [
       "([<matplotlib.axis.XTick at 0x1d9461adcc0>,\n",
       "  <matplotlib.axis.XTick at 0x1d940469438>,\n",
       "  <matplotlib.axis.XTick at 0x1d93ec688d0>,\n",
       "  <matplotlib.axis.XTick at 0x1d97296dc88>],\n",
       " <a list of 4 Text xticklabel objects>)"
      ]
     },
     "execution_count": 45,
     "metadata": {},
     "output_type": "execute_result"
    },
    {
     "data": {
      "image/png": "[encoded data removed]",
      "text/plain": [
       "<Figure size 432x288 with 1 Axes>"
      ]
     },
     "metadata": {
      "needs_background": "light"
     },
     "output_type": "display_data"
    }
   ],
   "source": [
    "ochtendDuur = cleanDuur[((cleanDuur.uur >= 6)  & (cleanDuur.uur <= 12))]\n",
    "middagDuur = cleanDuur[((cleanDuur.uur >= 13)  & (cleanDuur.uur <= 18))]\n",
    "avondDuur = cleanDuur[((cleanDuur.uur >= 19)  & (cleanDuur.uur <= 24))]\n",
    "nachtDuur = cleanDuur[((cleanDuur.uur >= 0)  & (cleanDuur.uur <= 5))]\n",
    "data  = [cleanDuur.duur, ochtendDuur.duur, middagDuur.duur, avondDuur.duur, nachtDuur.duur]\n",
    "plt.boxplot(data)\n",
    "plt.xticks([1, 2, 3, 4], ('alles','ochtend', 'middag','avond', 'nacht'))"
   ]
  },
  {
   "cell_type": "markdown",
   "metadata": {},
   "source": [
    "## Boxplot openen dagdeel"
   ]
  },
  {
   "cell_type": "code",
   "execution_count": 46,
   "metadata": {},
   "outputs": [
    {
     "data": {
      "text/plain": [
       "Text(0, 0.5, 'Duur (s)')"
      ]
     },
     "execution_count": 46,
     "metadata": {},
     "output_type": "execute_result"
    },
    {
     "data": {
      "image/png": "[encoded data removed]",
      "text/plain": [
       "<Figure size 1152x648 with 1 Axes>"
      ]
     },
     "metadata": {
      "needs_background": "light"
     },
     "output_type": "display_data"
    }
   ],
   "source": [
    "# maak nieuwe dataframes met daarin alle ochtend, middag en avond openingen.\n",
    "# Deze brug opent in deze periode niet s'nachts\n",
    "\n",
    "ochtendDuurOpen = cleanOpen[((cleanOpen.uur >= 6)  & (cleanOpen.uur <= 12))]\n",
    "middagDuurOpen= cleanOpen[((cleanOpen.uur >= 13)  & (cleanOpen.uur <= 18))]\n",
    "avondDuurOpen = cleanOpen[((cleanOpen.uur >= 19)  & (cleanOpen.uur <= 24))]\n",
    "\n",
    "# selecteer de data om in de boxplot te zetten\n",
    "dataOpen  = [cleanOpen.duur, ochtendDuurOpen.duur, middagDuurOpen.duur, avondDuurOpen.duur]\n",
    "\n",
    "# Boxplot\n",
    "plt.figure(figsize=(16,9))\n",
    "plt.boxplot(dataOpen)\n",
    "plt.xticks([1, 2, 3, 4], ('Totaal','ochtend', 'middag','avond'))\n",
    "plt.title('Duur van openen van brug WT per dagdeel van 1-1-2016 tot 4-11-2016')\n",
    "plt.ylabel('Duur (s)')"
   ]
  },
  {
   "cell_type": "markdown",
   "metadata": {},
   "source": [
    "## Boxplot sluiten per dagdeel"
   ]
  },
  {
   "cell_type": "code",
   "execution_count": 47,
   "metadata": {},
   "outputs": [
    {
     "data": {
      "text/plain": [
       "Text(0, 0.5, 'Duur (s)')"
      ]
     },
     "execution_count": 47,
     "metadata": {},
     "output_type": "execute_result"
    },
    {
     "data": {
      "image/png": "[encoded data removed]",
      "text/plain": [
       "<Figure size 1152x648 with 1 Axes>"
      ]
     },
     "metadata": {
      "needs_background": "light"
     },
     "output_type": "display_data"
    }
   ],
   "source": [
    "ochtendDuurSluit = cleanSluit[((cleanSluit.uur >= 6)  & (cleanSluit.uur <= 12))]\n",
    "middagDuurSluit= cleanSluit[((cleanSluit.uur >= 13)  & (cleanSluit.uur <= 18))]\n",
    "avondDuurSluit = cleanSluit[((cleanSluit.uur >= 19)  & (cleanSluit.uur <= 24))]\n",
    "dataSluit  = [cleanSluit.duur, ochtendDuurSluit.duur, middagDuurSluit.duur, avondDuurSluit.duur]\n",
    "plt.figure(figsize=(16,9))\n",
    "plt.boxplot(dataSluit)\n",
    "plt.xticks([1, 2, 3, 4], ('Totaal','ochtend', 'middag','avond'))\n",
    "plt.title('Duur van sluiten van brug WT per dagdeel van 1-1-2016 tot 4-11-2016')\n",
    "plt.ylabel('Duur (s)')"
   ]
  },
  {
   "cell_type": "markdown",
   "metadata": {},
   "source": [
    "## Boxplots per windrichting"
   ]
  },
  {
   "cell_type": "code",
   "execution_count": 48,
   "metadata": {},
   "outputs": [
    {
     "data": {
      "text/plain": [
       "([<matplotlib.axis.XTick at 0x1d8d172c9e8>,\n",
       "  <matplotlib.axis.XTick at 0x1d8d172c320>,\n",
       "  <matplotlib.axis.XTick at 0x1d8d172c208>,\n",
       "  <matplotlib.axis.XTick at 0x1d8d1dade48>,\n",
       "  <matplotlib.axis.XTick at 0x1d8d1dc8320>,\n",
       "  <matplotlib.axis.XTick at 0x1d8d1dc87f0>,\n",
       "  <matplotlib.axis.XTick at 0x1d8d1dc8cc0>,\n",
       "  <matplotlib.axis.XTick at 0x1d8d201d1d0>,\n",
       "  <matplotlib.axis.XTick at 0x1d8d201d6a0>],\n",
       " <a list of 9 Text xticklabel objects>)"
      ]
     },
     "execution_count": 48,
     "metadata": {},
     "output_type": "execute_result"
    },
    {
     "data": {
      "image/png": "[encoded data removed]",
      "text/plain": [
       "<Figure size 432x288 with 1 Axes>"
      ]
     },
     "metadata": {
      "needs_background": "light"
     },
     "output_type": "display_data"
    }
   ],
   "source": [
    "cleanDuur['N'] = ((cleanDuur.WR >= 0) & (cleanDuur.WR <= 22.5) | (cleanDuur.WR >= 337.6) & (cleanDuur.WR <= 360)).astype('int')\n",
    "cleanDuur['NO'] = ((cleanDuur.WR >=22.6) & (cleanDuur.WR <= 67.5)).astype('int')\n",
    "cleanDuur['O'] = ((cleanDuur.WR >=67.6) & (cleanDuur.WR <= 112.5)).astype('int')\n",
    "cleanDuur['ZO'] = ((cleanDuur.WR >=112.6) & (cleanDuur.WR <= 157.5)).astype('int')\n",
    "cleanDuur['Z'] = ((cleanDuur.WR >=157.6) & (cleanDuur.WR <= 202.5)).astype('int')\n",
    "cleanDuur['ZW'] = ((cleanDuur.WR >=202.6) & (cleanDuur.WR <= 247.2)).astype('int')\n",
    "cleanDuur['W'] = ((cleanDuur.WR>=247.6) & (cleanDuur.WR <= 292.5)).astype('int')\n",
    "cleanDuur['NW'] = ((cleanDuur.WR >=292.6) & (cleanDuur.WR <= 337.5)).astype('int')\n",
    "\n",
    "N = cleanDuur[cleanDuur.N == 1]\n",
    "NO = cleanDuur[cleanDuur.NO == 1]\n",
    "O = cleanDuur[cleanDuur.O == 1]\n",
    "ZO = cleanDuur[cleanDuur.ZO == 1]\n",
    "Z = cleanDuur[cleanDuur.Z == 1]\n",
    "ZW = cleanDuur[cleanDuur.ZW == 1]\n",
    "W = cleanDuur[cleanDuur.W == 1]\n",
    "NW = cleanDuur[cleanDuur.NW == 1]\n",
    "\n",
    "data = [cleanDuur.duur, N.duur,NO.duur,O.duur,ZO.duur,Z.duur, ZW.duur, W.duur, NW.duur]\n",
    "plt.boxplot(data)\n",
    "plt.xticks([1, 2, 3, 4, 5, 6, 7, 8, 9], ('Totaal','N','NO','O','ZO' ,'Z' ,'ZW','W','NW'))"
   ]
  },
  {
   "cell_type": "markdown",
   "metadata": {},
   "source": [
    "## Boxplot duur openen per windrichting"
   ]
  },
  {
   "cell_type": "code",
   "execution_count": 49,
   "metadata": {},
   "outputs": [
    {
     "data": {
      "text/plain": [
       "Text(0, 0.5, 'Duur (s)')"
      ]
     },
     "execution_count": 49,
     "metadata": {},
     "output_type": "execute_result"
    },
    {
     "data": {
      "image/png": "[encoded data removed]",
      "text/plain": [
       "<Figure size 1152x648 with 1 Axes>"
      ]
     },
     "metadata": {
      "needs_background": "light"
     },
     "output_type": "display_data"
    }
   ],
   "source": [
    "# dataframes aanmaken met alleen de data per windrichting, dus dataframe voor Noord, Oost, etc.\n",
    "openN = cleanOpen[((cleanOpen.WR >= 0) & (cleanOpen.WR <= 22.5) | (cleanOpen.WR >= 337.6) & (cleanOpen.WR <= 360))]\n",
    "openNO = cleanOpen[((cleanOpen.WR >=22.6) & (cleanOpen.WR <= 67.5))]\n",
    "openO = cleanOpen[((cleanOpen.WR >=67.6) & (cleanOpen.WR <= 112.5))]\n",
    "openZO = cleanOpen[((cleanOpen.WR >=112.6) & (cleanOpen.WR <= 157.5))]\n",
    "openZ = cleanOpen[((cleanOpen.WR >=157.6) & (cleanOpen.WR <= 202.5))]\n",
    "openZW = cleanOpen[((cleanOpen.WR >=202.6) & (cleanOpen.WR <= 247.2))]\n",
    "openW = cleanOpen[((cleanOpen.WR>=247.6) & (cleanOpen.WR <= 292.5))]\n",
    "openNW = cleanOpen[((cleanOpen.WR >=292.6) & (cleanOpen.WR <= 337.5))]\n",
    "\n",
    "# selecteer data voor plot\n",
    "data = [cleanOpen.duur, openN.duur,openNO.duur,openO.duur,openZO.duur,openZ.duur, openZW.duur, openW.duur, openNW.duur]\n",
    "\n",
    "# Boxplot\n",
    "plt.figure(figsize=(16,9))\n",
    "plt.boxplot(data)\n",
    "plt.xticks([1, 2, 3, 4, 5, 6, 7, 8, 9], ('Totaal','N','NO','O','ZO' ,'Z' ,'ZW','W','NW'))\n",
    "plt.title('Duur van opening brug WT per windrichting van 1-1-2016 tot 4-11-2016')\n",
    "plt.ylabel('Duur (s)')"
   ]
  },
  {
   "cell_type": "markdown",
   "metadata": {},
   "source": [
    "## Boxplot duur sluiten per windrichting"
   ]
  },
  {
   "cell_type": "code",
   "execution_count": 50,
   "metadata": {},
   "outputs": [
    {
     "data": {
      "text/plain": [
       "Text(0, 0.5, 'Duur (s)')"
      ]
     },
     "execution_count": 50,
     "metadata": {},
     "output_type": "execute_result"
    },
    {
     "data": {
      "image/png": "[encoded data removed]",
      "text/plain": [
       "<Figure size 1152x648 with 1 Axes>"
      ]
     },
     "metadata": {
      "needs_background": "light"
     },
     "output_type": "display_data"
    }
   ],
   "source": [
    "sluitN = cleanSluit[((cleanSluit.WR >= 0) & (cleanSluit.WR <= 22.5) | (cleanSluit.WR >= 337.6) & (cleanSluit.WR <= 360))]\n",
    "sluitNO = cleanSluit[((cleanSluit.WR >=22.6) & (cleanSluit.WR <= 67.5))]\n",
    "sluitO = cleanSluit[((cleanSluit.WR >=67.6) & (cleanSluit.WR <= 112.5))]\n",
    "sluitZO = cleanSluit[((cleanSluit.WR >=112.6) & (cleanSluit.WR <= 157.5))]\n",
    "sluitZ = cleanSluit[((cleanSluit.WR >=157.6) & (cleanSluit.WR <= 202.5))]\n",
    "sluitZW = cleanSluit[((cleanSluit.WR >=202.6) & (cleanSluit.WR <= 247.2))]\n",
    "sluitW = cleanSluit[((cleanSluit.WR>=247.6) & (cleanSluit.WR <= 292.5))]\n",
    "sluitNW = cleanSluit[((cleanSluit.WR >=292.6) & (cleanSluit.WR <= 337.5))]\n",
    "\n",
    "data = [cleanSluit.duur, sluitN.duur,sluitNO.duur,sluitO.duur,sluitZO.duur,sluitZ.duur, sluitZW.duur, sluitW.duur, sluitNW.duur]\n",
    "\n",
    "plt.figure(figsize=(16,9))\n",
    "plt.boxplot(data)\n",
    "plt.xticks([1, 2, 3, 4, 5, 6, 7, 8, 9], ('Totaal','N','NO','O','ZO' ,'Z' ,'ZW','W','NW'))\n",
    "plt.title('Duur van sluiting brug WT per windrichting van 1-1-2016 tot 4-11-2016')\n",
    "plt.ylabel('Duur (s)')"
   ]
  },
  {
   "cell_type": "markdown",
   "metadata": {},
   "source": [
    "# Scatter duur openen"
   ]
  },
  {
   "cell_type": "code",
   "execution_count": 51,
   "metadata": {},
   "outputs": [
    {
     "name": "stderr",
     "output_type": "stream",
     "text": [
      "C:\\Users\\denni\\Anaconda3\\lib\\site-packages\\ipykernel_launcher.py:21: SettingWithCopyWarning: \n",
      "A value is trying to be set on a copy of a slice from a DataFrame.\n",
      "Try using .loc[row_indexer,col_indexer] = value instead\n",
      "\n",
      "See the caveats in the documentation: http://pandas.pydata.org/pandas-docs/stable/indexing.html#indexing-view-versus-copy\n"
     ]
    },
    {
     "data": {
      "text/html": [
       "<div>\n",
       "<style scoped>\n",
       "    .dataframe tbody tr th:only-of-type {\n",
       "        vertical-align: middle;\n",
       "    }\n",
       "\n",
       "    .dataframe tbody tr th {\n",
       "        vertical-align: top;\n",
       "    }\n",
       "\n",
       "    .dataframe thead th {\n",
       "        text-align: right;\n",
       "    }\n",
       "</style>\n",
       "<table border=\"1\" class=\"dataframe\">\n",
       "  <thead>\n",
       "    <tr style=\"text-align: right;\">\n",
       "      <th></th>\n",
       "      <th>duur</th>\n",
       "      <th>beweging</th>\n",
       "      <th>time</th>\n",
       "      <th>WR</th>\n",
       "      <th>Wk</th>\n",
       "      <th>uur</th>\n",
       "      <th>WRbin</th>\n",
       "    </tr>\n",
       "  </thead>\n",
       "  <tbody>\n",
       "    <tr>\n",
       "      <th>0</th>\n",
       "      <td>90</td>\n",
       "      <td>False</td>\n",
       "      <td>2015-12-02 10:38:11.447</td>\n",
       "      <td>224.0</td>\n",
       "      <td>1.041667</td>\n",
       "      <td>10</td>\n",
       "      <td>5</td>\n",
       "    </tr>\n",
       "    <tr>\n",
       "      <th>2</th>\n",
       "      <td>91</td>\n",
       "      <td>False</td>\n",
       "      <td>2015-12-02 13:04:50.664</td>\n",
       "      <td>219.0</td>\n",
       "      <td>0.520833</td>\n",
       "      <td>13</td>\n",
       "      <td>5</td>\n",
       "    </tr>\n",
       "    <tr>\n",
       "      <th>4</th>\n",
       "      <td>91</td>\n",
       "      <td>False</td>\n",
       "      <td>2015-12-02 13:52:13.960</td>\n",
       "      <td>215.0</td>\n",
       "      <td>2.712673</td>\n",
       "      <td>13</td>\n",
       "      <td>5</td>\n",
       "    </tr>\n",
       "    <tr>\n",
       "      <th>6</th>\n",
       "      <td>90</td>\n",
       "      <td>False</td>\n",
       "      <td>2015-12-02 14:14:47.153</td>\n",
       "      <td>262.0</td>\n",
       "      <td>5.099826</td>\n",
       "      <td>14</td>\n",
       "      <td>6</td>\n",
       "    </tr>\n",
       "    <tr>\n",
       "      <th>8</th>\n",
       "      <td>90</td>\n",
       "      <td>False</td>\n",
       "      <td>2015-12-02 14:20:26.554</td>\n",
       "      <td>232.0</td>\n",
       "      <td>0.889757</td>\n",
       "      <td>14</td>\n",
       "      <td>5</td>\n",
       "    </tr>\n",
       "  </tbody>\n",
       "</table>\n",
       "</div>"
      ],
      "text/plain": [
       "   duur  beweging                    time     WR        Wk  uur  WRbin\n",
       "0    90     False 2015-12-02 10:38:11.447  224.0  1.041667   10      5\n",
       "2    91     False 2015-12-02 13:04:50.664  219.0  0.520833   13      5\n",
       "4    91     False 2015-12-02 13:52:13.960  215.0  2.712673   13      5\n",
       "6    90     False 2015-12-02 14:14:47.153  262.0  5.099826   14      6\n",
       "8    90     False 2015-12-02 14:20:26.554  232.0  0.889757   14      5"
      ]
     },
     "execution_count": 51,
     "metadata": {},
     "output_type": "execute_result"
    }
   ],
   "source": [
    "wrbin = list()\n",
    "for index, row in cleanOpen.iterrows():\n",
    "    wr = row[3]\n",
    "    wk = row[4]\n",
    "    if(((wr >= 0) & (wr<=22.5))| ((wr >= 337.6) & (wr<=360))):\n",
    "        wrbin.append(0)      \n",
    "    elif((wr >= 22.6) & (wr<=67.5)):\n",
    "        wrbin.append(1)\n",
    "    elif((wr >= 67.6) & (wr<=112.5)):\n",
    "        wrbin.append(2)\n",
    "    elif((wr >= 112.6) & (wr<=157.5)):\n",
    "        wrbin.append(3)\n",
    "    elif((wr >= 157.6) & (wr<=202.5)):\n",
    "        wrbin.append(4)\n",
    "    elif((wr >= 202.6) & (wr<=247.5)):\n",
    "        wrbin.append(5)\n",
    "    elif((wr >= 247.6) & (wr<=292.5)):\n",
    "        wrbin.append(6)\n",
    "    elif((wr >= 292.6) & (wr<=337.5)):\n",
    "        wrbin.append(7)\n",
    "cleanOpen['WRbin'] = wrbin\n",
    "cleanOpen.head()"
   ]
  },
  {
   "cell_type": "code",
   "execution_count": 52,
   "metadata": {},
   "outputs": [
    {
     "data": {
      "text/plain": [
       "count    6350.000000\n",
       "mean        1.893229\n",
       "std         1.113881\n",
       "min         0.039786\n",
       "25%         1.071687\n",
       "50%         1.689815\n",
       "75%         2.487522\n",
       "max         8.680555\n",
       "Name: Wk, dtype: float64"
      ]
     },
     "execution_count": 52,
     "metadata": {},
     "output_type": "execute_result"
    }
   ],
   "source": [
    "cleanOpen.Wk.describe()"
   ]
  },
  {
   "cell_type": "code",
   "execution_count": 53,
   "metadata": {},
   "outputs": [
    {
     "name": "stderr",
     "output_type": "stream",
     "text": [
      "C:\\Users\\denni\\Anaconda3\\lib\\site-packages\\ipykernel_launcher.py:26: SettingWithCopyWarning: \n",
      "A value is trying to be set on a copy of a slice from a DataFrame.\n",
      "Try using .loc[row_indexer,col_indexer] = value instead\n",
      "\n",
      "See the caveats in the documentation: http://pandas.pydata.org/pandas-docs/stable/indexing.html#indexing-view-versus-copy\n"
     ]
    },
    {
     "data": {
      "text/html": [
       "<div>\n",
       "<style scoped>\n",
       "    .dataframe tbody tr th:only-of-type {\n",
       "        vertical-align: middle;\n",
       "    }\n",
       "\n",
       "    .dataframe tbody tr th {\n",
       "        vertical-align: top;\n",
       "    }\n",
       "\n",
       "    .dataframe thead th {\n",
       "        text-align: right;\n",
       "    }\n",
       "</style>\n",
       "<table border=\"1\" class=\"dataframe\">\n",
       "  <thead>\n",
       "    <tr style=\"text-align: right;\">\n",
       "      <th></th>\n",
       "      <th>duur</th>\n",
       "      <th>beweging</th>\n",
       "      <th>time</th>\n",
       "      <th>WR</th>\n",
       "      <th>Wk</th>\n",
       "      <th>uur</th>\n",
       "      <th>WRbin</th>\n",
       "      <th>WKbin</th>\n",
       "    </tr>\n",
       "  </thead>\n",
       "  <tbody>\n",
       "    <tr>\n",
       "      <th>0</th>\n",
       "      <td>90</td>\n",
       "      <td>False</td>\n",
       "      <td>2015-12-02 10:38:11.447</td>\n",
       "      <td>224.0</td>\n",
       "      <td>1.041667</td>\n",
       "      <td>10</td>\n",
       "      <td>5</td>\n",
       "      <td>1</td>\n",
       "    </tr>\n",
       "    <tr>\n",
       "      <th>2</th>\n",
       "      <td>91</td>\n",
       "      <td>False</td>\n",
       "      <td>2015-12-02 13:04:50.664</td>\n",
       "      <td>219.0</td>\n",
       "      <td>0.520833</td>\n",
       "      <td>13</td>\n",
       "      <td>5</td>\n",
       "      <td>1</td>\n",
       "    </tr>\n",
       "    <tr>\n",
       "      <th>4</th>\n",
       "      <td>91</td>\n",
       "      <td>False</td>\n",
       "      <td>2015-12-02 13:52:13.960</td>\n",
       "      <td>215.0</td>\n",
       "      <td>2.712673</td>\n",
       "      <td>13</td>\n",
       "      <td>5</td>\n",
       "      <td>2</td>\n",
       "    </tr>\n",
       "    <tr>\n",
       "      <th>6</th>\n",
       "      <td>90</td>\n",
       "      <td>False</td>\n",
       "      <td>2015-12-02 14:14:47.153</td>\n",
       "      <td>262.0</td>\n",
       "      <td>5.099826</td>\n",
       "      <td>14</td>\n",
       "      <td>6</td>\n",
       "      <td>3</td>\n",
       "    </tr>\n",
       "    <tr>\n",
       "      <th>8</th>\n",
       "      <td>90</td>\n",
       "      <td>False</td>\n",
       "      <td>2015-12-02 14:20:26.554</td>\n",
       "      <td>232.0</td>\n",
       "      <td>0.889757</td>\n",
       "      <td>14</td>\n",
       "      <td>5</td>\n",
       "      <td>1</td>\n",
       "    </tr>\n",
       "  </tbody>\n",
       "</table>\n",
       "</div>"
      ],
      "text/plain": [
       "   duur  beweging                    time     WR        Wk  uur  WRbin  WKbin\n",
       "0    90     False 2015-12-02 10:38:11.447  224.0  1.041667   10      5      1\n",
       "2    91     False 2015-12-02 13:04:50.664  219.0  0.520833   13      5      1\n",
       "4    91     False 2015-12-02 13:52:13.960  215.0  2.712673   13      5      2\n",
       "6    90     False 2015-12-02 14:14:47.153  262.0  5.099826   14      6      3\n",
       "8    90     False 2015-12-02 14:20:26.554  232.0  0.889757   14      5      1"
      ]
     },
     "execution_count": 53,
     "metadata": {},
     "output_type": "execute_result"
    }
   ],
   "source": [
    "wkbin = list()\n",
    "for index, row in cleanOpen.iterrows():\n",
    "    wk = row[4]\n",
    "    if((wk >= 0) & (wk<=0.2)):\n",
    "        wkbin.append(0)      \n",
    "    elif((wk > 0.2) & (wk<=1.5)):\n",
    "        wkbin.append(1)\n",
    "    elif((wk > 1.5) & (wk<=3.3)):\n",
    "        wkbin.append(2)\n",
    "    elif((wk > 3.3) & (wk<=5.4)):\n",
    "        wkbin.append(3)\n",
    "    elif((wk > 5.4) & (wk<=7.9)):\n",
    "        wkbin.append(4)\n",
    "    elif((wk > 7.9) & (wk<=10.7)):\n",
    "        wkbin.append(5)\n",
    "    elif((wk > 10.7) & (wk<=13.8)):\n",
    "        wkbin.append(6)\n",
    "    elif((wk > 13.8) & (wk<=17.1)):\n",
    "        wkbin.append(7)\n",
    "    elif((wk > 17.1) & (wk<=20.7)):\n",
    "        wkbin.append(8)   \n",
    "    elif((wk > 20.7) & (wk<=24.4)):\n",
    "        wkbin.append(9)\n",
    "    elif((wk > 24.4) & (wk<=28.4)):\n",
    "        wkbin.append(10)\n",
    "cleanOpen['WKbin'] = wkbin\n",
    "cleanOpen.head()\n"
   ]
  },
  {
   "cell_type": "code",
   "execution_count": 54,
   "metadata": {},
   "outputs": [
    {
     "data": {
      "text/plain": [
       "Text(0.5, 1.0, 'Duur per windrichting')"
      ]
     },
     "execution_count": 54,
     "metadata": {},
     "output_type": "execute_result"
    },
    {
     "data": {
      "image/png": "[encoded data removed]",
      "text/plain": [
       "<Figure size 432x288 with 1 Axes>"
      ]
     },
     "metadata": {
      "needs_background": "light"
     },
     "output_type": "display_data"
    }
   ],
   "source": [
    "fig, ax = plt.subplots()\n",
    "scatter = ax.scatter(cleanOpen.WR, cleanOpen.duur, c = cleanOpen.WRbin,  s=50, cmap='gnuplot')\n",
    "ax.set_title(\"Duur per windrichting\")"
   ]
  },
  {
   "cell_type": "code",
   "execution_count": 55,
   "metadata": {},
   "outputs": [
    {
     "data": {
      "text/plain": [
       "Text(0.5, 1.0, 'Duur per windrichting')"
      ]
     },
     "execution_count": 55,
     "metadata": {},
     "output_type": "execute_result"
    },
    {
     "data": {
      "image/png": "[encoded data removed]",
      "text/plain": [
       "<Figure size 432x288 with 1 Axes>"
      ]
     },
     "metadata": {
      "needs_background": "light"
     },
     "output_type": "display_data"
    }
   ],
   "source": [
    "fig, ax = plt.subplots()\n",
    "scatter = ax.scatter(cleanOpen.WR, cleanOpen.duur, c = cleanOpen.WKbin,  s=50, cmap='gnuplot')\n",
    "ax.set_title(\"Duur per windrichting\")"
   ]
  },
  {
   "cell_type": "code",
   "execution_count": 56,
   "metadata": {},
   "outputs": [
    {
     "data": {
      "text/plain": [
       "Text(0.5, 1.0, 'Duur per windkracht')"
      ]
     },
     "execution_count": 56,
     "metadata": {},
     "output_type": "execute_result"
    },
    {
     "data": {
      "image/png": "[encoded data removed]",
      "text/plain": [
       "<Figure size 432x288 with 1 Axes>"
      ]
     },
     "metadata": {
      "needs_background": "light"
     },
     "output_type": "display_data"
    }
   ],
   "source": [
    "fig, ax = plt.subplots()\n",
    "scatter = ax.scatter(cleanOpen.Wk, cleanOpen.duur, c = cleanOpen.WKbin,  s=50, cmap='gnuplot')\n",
    "ax.set_title(\"Duur per windkracht\")"
   ]
  },
  {
   "cell_type": "code",
   "execution_count": 57,
   "metadata": {},
   "outputs": [
    {
     "data": {
      "text/plain": [
       "Text(0.5, 1.0, 'Duur per windkracht')"
      ]
     },
     "execution_count": 57,
     "metadata": {},
     "output_type": "execute_result"
    },
    {
     "data": {
      "image/png": "[encoded data removed]",
      "text/plain": [
       "<Figure size 432x288 with 1 Axes>"
      ]
     },
     "metadata": {
      "needs_background": "light"
     },
     "output_type": "display_data"
    }
   ],
   "source": [
    "fig, ax = plt.subplots()\n",
    "scatter = ax.scatter(cleanOpen.Wk, cleanOpen.duur, c = cleanOpen.WRbin,  s=50, cmap='gnuplot')\n",
    "ax.set_title(\"Duur per windkracht\")"
   ]
  },
  {
   "cell_type": "markdown",
   "metadata": {},
   "source": [
    "# Scatter duur sluiten"
   ]
  },
  {
   "cell_type": "code",
   "execution_count": 58,
   "metadata": {},
   "outputs": [
    {
     "name": "stderr",
     "output_type": "stream",
     "text": [
      "C:\\Users\\denni\\Anaconda3\\lib\\site-packages\\ipykernel_launcher.py:21: SettingWithCopyWarning: \n",
      "A value is trying to be set on a copy of a slice from a DataFrame.\n",
      "Try using .loc[row_indexer,col_indexer] = value instead\n",
      "\n",
      "See the caveats in the documentation: http://pandas.pydata.org/pandas-docs/stable/indexing.html#indexing-view-versus-copy\n"
     ]
    },
    {
     "data": {
      "text/html": [
       "<div>\n",
       "<style scoped>\n",
       "    .dataframe tbody tr th:only-of-type {\n",
       "        vertical-align: middle;\n",
       "    }\n",
       "\n",
       "    .dataframe tbody tr th {\n",
       "        vertical-align: top;\n",
       "    }\n",
       "\n",
       "    .dataframe thead th {\n",
       "        text-align: right;\n",
       "    }\n",
       "</style>\n",
       "<table border=\"1\" class=\"dataframe\">\n",
       "  <thead>\n",
       "    <tr style=\"text-align: right;\">\n",
       "      <th></th>\n",
       "      <th>duur</th>\n",
       "      <th>beweging</th>\n",
       "      <th>time</th>\n",
       "      <th>WR</th>\n",
       "      <th>Wk</th>\n",
       "      <th>uur</th>\n",
       "      <th>WRbin</th>\n",
       "    </tr>\n",
       "  </thead>\n",
       "  <tbody>\n",
       "    <tr>\n",
       "      <th>1</th>\n",
       "      <td>84</td>\n",
       "      <td>True</td>\n",
       "      <td>2015-12-02 10:41:42.360</td>\n",
       "      <td>254.0</td>\n",
       "      <td>1.801215</td>\n",
       "      <td>10</td>\n",
       "      <td>6</td>\n",
       "    </tr>\n",
       "    <tr>\n",
       "      <th>3</th>\n",
       "      <td>84</td>\n",
       "      <td>True</td>\n",
       "      <td>2015-12-02 13:10:15.044</td>\n",
       "      <td>237.0</td>\n",
       "      <td>0.390625</td>\n",
       "      <td>13</td>\n",
       "      <td>5</td>\n",
       "    </tr>\n",
       "    <tr>\n",
       "      <th>5</th>\n",
       "      <td>84</td>\n",
       "      <td>True</td>\n",
       "      <td>2015-12-02 13:56:25.965</td>\n",
       "      <td>237.0</td>\n",
       "      <td>4.231771</td>\n",
       "      <td>13</td>\n",
       "      <td>5</td>\n",
       "    </tr>\n",
       "    <tr>\n",
       "      <th>7</th>\n",
       "      <td>84</td>\n",
       "      <td>True</td>\n",
       "      <td>2015-12-02 14:17:25.256</td>\n",
       "      <td>305.0</td>\n",
       "      <td>4.014757</td>\n",
       "      <td>14</td>\n",
       "      <td>7</td>\n",
       "    </tr>\n",
       "    <tr>\n",
       "      <th>9</th>\n",
       "      <td>84</td>\n",
       "      <td>True</td>\n",
       "      <td>2015-12-02 14:24:45.858</td>\n",
       "      <td>140.0</td>\n",
       "      <td>3.927951</td>\n",
       "      <td>14</td>\n",
       "      <td>3</td>\n",
       "    </tr>\n",
       "  </tbody>\n",
       "</table>\n",
       "</div>"
      ],
      "text/plain": [
       "   duur  beweging                    time     WR        Wk  uur  WRbin\n",
       "1    84      True 2015-12-02 10:41:42.360  254.0  1.801215   10      6\n",
       "3    84      True 2015-12-02 13:10:15.044  237.0  0.390625   13      5\n",
       "5    84      True 2015-12-02 13:56:25.965  237.0  4.231771   13      5\n",
       "7    84      True 2015-12-02 14:17:25.256  305.0  4.014757   14      7\n",
       "9    84      True 2015-12-02 14:24:45.858  140.0  3.927951   14      3"
      ]
     },
     "execution_count": 58,
     "metadata": {},
     "output_type": "execute_result"
    }
   ],
   "source": [
    "wrbin = list()\n",
    "for index, row in cleanSluit.iterrows():\n",
    "    wr = row[3]\n",
    "    wk = row[4]\n",
    "    if(((wr >= 0) & (wr<=22.5))| ((wr >= 337.6) & (wr<=360))):\n",
    "        wrbin.append(0)      \n",
    "    elif((wr >= 22.6) & (wr<=67.5)):\n",
    "        wrbin.append(1)\n",
    "    elif((wr >= 67.6) & (wr<=112.5)):\n",
    "        wrbin.append(2)\n",
    "    elif((wr >= 112.6) & (wr<=157.5)):\n",
    "        wrbin.append(3)\n",
    "    elif((wr >= 157.6) & (wr<=202.5)):\n",
    "        wrbin.append(4)\n",
    "    elif((wr >= 202.6) & (wr<=247.5)):\n",
    "        wrbin.append(5)\n",
    "    elif((wr >= 247.6) & (wr<=292.5)):\n",
    "        wrbin.append(6)\n",
    "    elif((wr >= 292.6) & (wr<=337.5)):\n",
    "        wrbin.append(7)\n",
    "cleanSluit['WRbin'] = wrbin\n",
    "cleanSluit.head()"
   ]
  },
  {
   "cell_type": "code",
   "execution_count": 59,
   "metadata": {},
   "outputs": [
    {
     "name": "stderr",
     "output_type": "stream",
     "text": [
      "C:\\Users\\denni\\Anaconda3\\lib\\site-packages\\ipykernel_launcher.py:26: SettingWithCopyWarning: \n",
      "A value is trying to be set on a copy of a slice from a DataFrame.\n",
      "Try using .loc[row_indexer,col_indexer] = value instead\n",
      "\n",
      "See the caveats in the documentation: http://pandas.pydata.org/pandas-docs/stable/indexing.html#indexing-view-versus-copy\n"
     ]
    },
    {
     "data": {
      "text/html": [
       "<div>\n",
       "<style scoped>\n",
       "    .dataframe tbody tr th:only-of-type {\n",
       "        vertical-align: middle;\n",
       "    }\n",
       "\n",
       "    .dataframe tbody tr th {\n",
       "        vertical-align: top;\n",
       "    }\n",
       "\n",
       "    .dataframe thead th {\n",
       "        text-align: right;\n",
       "    }\n",
       "</style>\n",
       "<table border=\"1\" class=\"dataframe\">\n",
       "  <thead>\n",
       "    <tr style=\"text-align: right;\">\n",
       "      <th></th>\n",
       "      <th>duur</th>\n",
       "      <th>beweging</th>\n",
       "      <th>time</th>\n",
       "      <th>WR</th>\n",
       "      <th>Wk</th>\n",
       "      <th>uur</th>\n",
       "      <th>WRbin</th>\n",
       "      <th>WKbin</th>\n",
       "    </tr>\n",
       "  </thead>\n",
       "  <tbody>\n",
       "    <tr>\n",
       "      <th>1</th>\n",
       "      <td>84</td>\n",
       "      <td>True</td>\n",
       "      <td>2015-12-02 10:41:42.360</td>\n",
       "      <td>254.0</td>\n",
       "      <td>1.801215</td>\n",
       "      <td>10</td>\n",
       "      <td>6</td>\n",
       "      <td>2</td>\n",
       "    </tr>\n",
       "    <tr>\n",
       "      <th>3</th>\n",
       "      <td>84</td>\n",
       "      <td>True</td>\n",
       "      <td>2015-12-02 13:10:15.044</td>\n",
       "      <td>237.0</td>\n",
       "      <td>0.390625</td>\n",
       "      <td>13</td>\n",
       "      <td>5</td>\n",
       "      <td>1</td>\n",
       "    </tr>\n",
       "    <tr>\n",
       "      <th>5</th>\n",
       "      <td>84</td>\n",
       "      <td>True</td>\n",
       "      <td>2015-12-02 13:56:25.965</td>\n",
       "      <td>237.0</td>\n",
       "      <td>4.231771</td>\n",
       "      <td>13</td>\n",
       "      <td>5</td>\n",
       "      <td>3</td>\n",
       "    </tr>\n",
       "    <tr>\n",
       "      <th>7</th>\n",
       "      <td>84</td>\n",
       "      <td>True</td>\n",
       "      <td>2015-12-02 14:17:25.256</td>\n",
       "      <td>305.0</td>\n",
       "      <td>4.014757</td>\n",
       "      <td>14</td>\n",
       "      <td>7</td>\n",
       "      <td>3</td>\n",
       "    </tr>\n",
       "    <tr>\n",
       "      <th>9</th>\n",
       "      <td>84</td>\n",
       "      <td>True</td>\n",
       "      <td>2015-12-02 14:24:45.858</td>\n",
       "      <td>140.0</td>\n",
       "      <td>3.927951</td>\n",
       "      <td>14</td>\n",
       "      <td>3</td>\n",
       "      <td>3</td>\n",
       "    </tr>\n",
       "  </tbody>\n",
       "</table>\n",
       "</div>"
      ],
      "text/plain": [
       "   duur  beweging                    time     WR        Wk  uur  WRbin  WKbin\n",
       "1    84      True 2015-12-02 10:41:42.360  254.0  1.801215   10      6      2\n",
       "3    84      True 2015-12-02 13:10:15.044  237.0  0.390625   13      5      1\n",
       "5    84      True 2015-12-02 13:56:25.965  237.0  4.231771   13      5      3\n",
       "7    84      True 2015-12-02 14:17:25.256  305.0  4.014757   14      7      3\n",
       "9    84      True 2015-12-02 14:24:45.858  140.0  3.927951   14      3      3"
      ]
     },
     "execution_count": 59,
     "metadata": {},
     "output_type": "execute_result"
    }
   ],
   "source": [
    "wkbin = list()\n",
    "for index, row in cleanSluit.iterrows():\n",
    "    wk = row[4]\n",
    "    if((wk >= 0) & (wk<=0.2)):\n",
    "        wkbin.append(0)      \n",
    "    elif((wk > 0.2) & (wk<=1.5)):\n",
    "        wkbin.append(1)\n",
    "    elif((wk > 1.5) & (wk<=3.3)):\n",
    "        wkbin.append(2)\n",
    "    elif((wk > 3.3) & (wk<=5.4)):\n",
    "        wkbin.append(3)\n",
    "    elif((wk > 5.4) & (wk<=7.9)):\n",
    "        wkbin.append(4)\n",
    "    elif((wk > 7.9) & (wk<=10.7)):\n",
    "        wkbin.append(5)\n",
    "    elif((wk > 10.7) & (wk<=13.8)):\n",
    "        wkbin.append(6)\n",
    "    elif((wk > 13.8) & (wk<=17.1)):\n",
    "        wkbin.append(7)\n",
    "    elif((wk > 17.1) & (wk<=20.7)):\n",
    "        wkbin.append(8)   \n",
    "    elif((wk > 20.7) & (wk<=24.4)):\n",
    "        wkbin.append(9)\n",
    "    elif((wk > 24.4) & (wk<=28.4)):\n",
    "        wkbin.append(10)\n",
    "cleanSluit['WKbin'] = wkbin\n",
    "cleanSluit.head()"
   ]
  },
  {
   "cell_type": "code",
   "execution_count": 60,
   "metadata": {},
   "outputs": [
    {
     "data": {
      "text/plain": [
       "Text(0.5, 1.0, 'Duur per windrichting')"
      ]
     },
     "execution_count": 60,
     "metadata": {},
     "output_type": "execute_result"
    },
    {
     "data": {
      "image/png": "[encoded data removed]",
      "text/plain": [
       "<Figure size 432x288 with 1 Axes>"
      ]
     },
     "metadata": {
      "needs_background": "light"
     },
     "output_type": "display_data"
    }
   ],
   "source": [
    "fig, ax = plt.subplots()\n",
    "scatter = ax.scatter(cleanSluit.WR, cleanSluit.duur, c = cleanSluit.WRbin,  s=50, cmap='gnuplot')\n",
    "ax.set_title(\"Duur per windrichting\")"
   ]
  },
  {
   "cell_type": "code",
   "execution_count": 61,
   "metadata": {},
   "outputs": [
    {
     "data": {
      "text/plain": [
       "Text(0.5, 1.0, 'Duur per windrichting')"
      ]
     },
     "execution_count": 61,
     "metadata": {},
     "output_type": "execute_result"
    },
    {
     "data": {
      "image/png": "[encoded data removed]",
      "text/plain": [
       "<Figure size 432x288 with 1 Axes>"
      ]
     },
     "metadata": {
      "needs_background": "light"
     },
     "output_type": "display_data"
    }
   ],
   "source": [
    "fig, ax = plt.subplots()\n",
    "scatter = ax.scatter(cleanSluit.duur, cleanSluit.WR,  c = cleanSluit.WKbin,  s=50, cmap='gnuplot')\n",
    "ax.set_title(\"Duur per windrichting\")"
   ]
  },
  {
   "cell_type": "code",
   "execution_count": 62,
   "metadata": {},
   "outputs": [
    {
     "data": {
      "text/plain": [
       "Text(0.5, 1.0, 'Duur per windrichting')"
      ]
     },
     "execution_count": 62,
     "metadata": {},
     "output_type": "execute_result"
    },
    {
     "data": {
      "image/png": "[encoded data removed]",
      "text/plain": [
       "<Figure size 432x288 with 1 Axes>"
      ]
     },
     "metadata": {
      "needs_background": "light"
     },
     "output_type": "display_data"
    }
   ],
   "source": [
    "fig, ax = plt.subplots()\n",
    "scatter = ax.scatter(cleanSluit.WR, cleanSluit.duur, c = cleanSluit.WKbin,  s=50, cmap='gnuplot')\n",
    "ax.set_title(\"Duur per windrichting\")"
   ]
  },
  {
   "cell_type": "code",
   "execution_count": 63,
   "metadata": {},
   "outputs": [
    {
     "data": {
      "text/plain": [
       "Text(0.5, 1.0, 'Duur per windkracht')"
      ]
     },
     "execution_count": 63,
     "metadata": {},
     "output_type": "execute_result"
    },
    {
     "data": {
      "image/png": "[encoded data removed]",
      "text/plain": [
       "<Figure size 432x288 with 1 Axes>"
      ]
     },
     "metadata": {
      "needs_background": "light"
     },
     "output_type": "display_data"
    }
   ],
   "source": [
    "fig, ax = plt.subplots()\n",
    "scatter = ax.scatter(cleanSluit.Wk, cleanSluit.duur, c = cleanSluit.WKbin,  s=50, cmap='gnuplot')\n",
    "ax.set_title(\"Duur per windkracht\")"
   ]
  },
  {
   "cell_type": "code",
   "execution_count": 64,
   "metadata": {},
   "outputs": [
    {
     "data": {
      "text/plain": [
       "Text(0.5, 1.0, 'Duur per windkracht')"
      ]
     },
     "execution_count": 64,
     "metadata": {},
     "output_type": "execute_result"
    },
    {
     "data": {
      "image/png": "[encoded data removed]",
      "text/plain": [
       "<Figure size 432x288 with 1 Axes>"
      ]
     },
     "metadata": {
      "needs_background": "light"
     },
     "output_type": "display_data"
    }
   ],
   "source": [
    "fig, ax = plt.subplots()\n",
    "scatter = ax.scatter(cleanSluit.Wk, cleanSluit.duur, c = cleanSluit.WRbin,  s=50, cmap='gnuplot')\n",
    "ax.set_title(\"Duur per windkracht\")"
   ]
  },
  {
   "cell_type": "code",
   "execution_count": 65,
   "metadata": {},
   "outputs": [
    {
     "name": "stderr",
     "output_type": "stream",
     "text": [
      "C:\\Users\\denni\\Anaconda3\\lib\\site-packages\\ipykernel_launcher.py:21: SettingWithCopyWarning: \n",
      "A value is trying to be set on a copy of a slice from a DataFrame.\n",
      "Try using .loc[row_indexer,col_indexer] = value instead\n",
      "\n",
      "See the caveats in the documentation: http://pandas.pydata.org/pandas-docs/stable/indexing.html#indexing-view-versus-copy\n"
     ]
    },
    {
     "data": {
      "text/html": [
       "<div>\n",
       "<style scoped>\n",
       "    .dataframe tbody tr th:only-of-type {\n",
       "        vertical-align: middle;\n",
       "    }\n",
       "\n",
       "    .dataframe tbody tr th {\n",
       "        vertical-align: top;\n",
       "    }\n",
       "\n",
       "    .dataframe thead th {\n",
       "        text-align: right;\n",
       "    }\n",
       "</style>\n",
       "<table border=\"1\" class=\"dataframe\">\n",
       "  <thead>\n",
       "    <tr style=\"text-align: right;\">\n",
       "      <th></th>\n",
       "      <th>duur</th>\n",
       "      <th>beweging</th>\n",
       "      <th>time</th>\n",
       "      <th>WR</th>\n",
       "      <th>Wk</th>\n",
       "      <th>WRbin</th>\n",
       "    </tr>\n",
       "  </thead>\n",
       "  <tbody>\n",
       "    <tr>\n",
       "      <th>0</th>\n",
       "      <td>90</td>\n",
       "      <td>False</td>\n",
       "      <td>2015-12-02 10:38:11.447</td>\n",
       "      <td>224.0</td>\n",
       "      <td>1.041667</td>\n",
       "      <td>5</td>\n",
       "    </tr>\n",
       "    <tr>\n",
       "      <th>2</th>\n",
       "      <td>91</td>\n",
       "      <td>False</td>\n",
       "      <td>2015-12-02 13:04:50.664</td>\n",
       "      <td>219.0</td>\n",
       "      <td>0.520833</td>\n",
       "      <td>5</td>\n",
       "    </tr>\n",
       "    <tr>\n",
       "      <th>4</th>\n",
       "      <td>91</td>\n",
       "      <td>False</td>\n",
       "      <td>2015-12-02 13:52:13.960</td>\n",
       "      <td>215.0</td>\n",
       "      <td>2.712673</td>\n",
       "      <td>5</td>\n",
       "    </tr>\n",
       "    <tr>\n",
       "      <th>6</th>\n",
       "      <td>90</td>\n",
       "      <td>False</td>\n",
       "      <td>2015-12-02 14:14:47.153</td>\n",
       "      <td>262.0</td>\n",
       "      <td>5.099826</td>\n",
       "      <td>6</td>\n",
       "    </tr>\n",
       "    <tr>\n",
       "      <th>8</th>\n",
       "      <td>90</td>\n",
       "      <td>False</td>\n",
       "      <td>2015-12-02 14:20:26.554</td>\n",
       "      <td>232.0</td>\n",
       "      <td>0.889757</td>\n",
       "      <td>5</td>\n",
       "    </tr>\n",
       "  </tbody>\n",
       "</table>\n",
       "</div>"
      ],
      "text/plain": [
       "   duur  beweging                    time     WR        Wk  WRbin\n",
       "0    90     False 2015-12-02 10:38:11.447  224.0  1.041667      5\n",
       "2    91     False 2015-12-02 13:04:50.664  219.0  0.520833      5\n",
       "4    91     False 2015-12-02 13:52:13.960  215.0  2.712673      5\n",
       "6    90     False 2015-12-02 14:14:47.153  262.0  5.099826      6\n",
       "8    90     False 2015-12-02 14:20:26.554  232.0  0.889757      5"
      ]
     },
     "execution_count": 65,
     "metadata": {},
     "output_type": "execute_result"
    }
   ],
   "source": [
    "wrbin = list()\n",
    "for index, row in openen.iterrows():\n",
    "    wr = row[3]\n",
    "    wk = row[4]\n",
    "    if(((wr >= 0) & (wr<=22.5))| ((wr >= 337.6) & (wr<=360))):\n",
    "        wrbin.append(0)      \n",
    "    elif((wr >= 22.6) & (wr<=67.5)):\n",
    "        wrbin.append(1)\n",
    "    elif((wr >= 67.6) & (wr<=112.5)):\n",
    "        wrbin.append(2)\n",
    "    elif((wr >= 112.6) & (wr<=157.5)):\n",
    "        wrbin.append(3)\n",
    "    elif((wr >= 157.6) & (wr<=202.5)):\n",
    "        wrbin.append(4)\n",
    "    elif((wr >= 202.6) & (wr<=247.5)):\n",
    "        wrbin.append(5)\n",
    "    elif((wr >= 247.6) & (wr<=292.5)):\n",
    "        wrbin.append(6)\n",
    "    elif((wr >= 292.6) & (wr<=337.5)):\n",
    "        wrbin.append(7)\n",
    "openen['WRbin'] = wrbin\n",
    "openen.head()"
   ]
  },
  {
   "cell_type": "code",
   "execution_count": 66,
   "metadata": {},
   "outputs": [
    {
     "name": "stderr",
     "output_type": "stream",
     "text": [
      "C:\\Users\\denni\\Anaconda3\\lib\\site-packages\\ipykernel_launcher.py:26: SettingWithCopyWarning: \n",
      "A value is trying to be set on a copy of a slice from a DataFrame.\n",
      "Try using .loc[row_indexer,col_indexer] = value instead\n",
      "\n",
      "See the caveats in the documentation: http://pandas.pydata.org/pandas-docs/stable/indexing.html#indexing-view-versus-copy\n"
     ]
    },
    {
     "data": {
      "text/html": [
       "<div>\n",
       "<style scoped>\n",
       "    .dataframe tbody tr th:only-of-type {\n",
       "        vertical-align: middle;\n",
       "    }\n",
       "\n",
       "    .dataframe tbody tr th {\n",
       "        vertical-align: top;\n",
       "    }\n",
       "\n",
       "    .dataframe thead th {\n",
       "        text-align: right;\n",
       "    }\n",
       "</style>\n",
       "<table border=\"1\" class=\"dataframe\">\n",
       "  <thead>\n",
       "    <tr style=\"text-align: right;\">\n",
       "      <th></th>\n",
       "      <th>duur</th>\n",
       "      <th>beweging</th>\n",
       "      <th>time</th>\n",
       "      <th>WR</th>\n",
       "      <th>Wk</th>\n",
       "      <th>WRbin</th>\n",
       "      <th>WKbin</th>\n",
       "    </tr>\n",
       "  </thead>\n",
       "  <tbody>\n",
       "    <tr>\n",
       "      <th>0</th>\n",
       "      <td>90</td>\n",
       "      <td>False</td>\n",
       "      <td>2015-12-02 10:38:11.447</td>\n",
       "      <td>224.0</td>\n",
       "      <td>1.041667</td>\n",
       "      <td>5</td>\n",
       "      <td>1</td>\n",
       "    </tr>\n",
       "    <tr>\n",
       "      <th>2</th>\n",
       "      <td>91</td>\n",
       "      <td>False</td>\n",
       "      <td>2015-12-02 13:04:50.664</td>\n",
       "      <td>219.0</td>\n",
       "      <td>0.520833</td>\n",
       "      <td>5</td>\n",
       "      <td>1</td>\n",
       "    </tr>\n",
       "    <tr>\n",
       "      <th>4</th>\n",
       "      <td>91</td>\n",
       "      <td>False</td>\n",
       "      <td>2015-12-02 13:52:13.960</td>\n",
       "      <td>215.0</td>\n",
       "      <td>2.712673</td>\n",
       "      <td>5</td>\n",
       "      <td>2</td>\n",
       "    </tr>\n",
       "    <tr>\n",
       "      <th>6</th>\n",
       "      <td>90</td>\n",
       "      <td>False</td>\n",
       "      <td>2015-12-02 14:14:47.153</td>\n",
       "      <td>262.0</td>\n",
       "      <td>5.099826</td>\n",
       "      <td>6</td>\n",
       "      <td>3</td>\n",
       "    </tr>\n",
       "    <tr>\n",
       "      <th>8</th>\n",
       "      <td>90</td>\n",
       "      <td>False</td>\n",
       "      <td>2015-12-02 14:20:26.554</td>\n",
       "      <td>232.0</td>\n",
       "      <td>0.889757</td>\n",
       "      <td>5</td>\n",
       "      <td>1</td>\n",
       "    </tr>\n",
       "  </tbody>\n",
       "</table>\n",
       "</div>"
      ],
      "text/plain": [
       "   duur  beweging                    time     WR        Wk  WRbin  WKbin\n",
       "0    90     False 2015-12-02 10:38:11.447  224.0  1.041667      5      1\n",
       "2    91     False 2015-12-02 13:04:50.664  219.0  0.520833      5      1\n",
       "4    91     False 2015-12-02 13:52:13.960  215.0  2.712673      5      2\n",
       "6    90     False 2015-12-02 14:14:47.153  262.0  5.099826      6      3\n",
       "8    90     False 2015-12-02 14:20:26.554  232.0  0.889757      5      1"
      ]
     },
     "execution_count": 66,
     "metadata": {},
     "output_type": "execute_result"
    }
   ],
   "source": [
    "wkbin = list()\n",
    "for index, row in openen.iterrows():\n",
    "    wk = row[4]\n",
    "    if((wk >= 0) & (wk<=0.2)):\n",
    "        wkbin.append(0)      \n",
    "    elif((wk > 0.2) & (wk<=1.5)):\n",
    "        wkbin.append(1)\n",
    "    elif((wk > 1.5) & (wk<=3.3)):\n",
    "        wkbin.append(2)\n",
    "    elif((wk > 3.3) & (wk<=5.4)):\n",
    "        wkbin.append(3)\n",
    "    elif((wk > 5.4) & (wk<=7.9)):\n",
    "        wkbin.append(4)\n",
    "    elif((wk > 7.9) & (wk<=10.7)):\n",
    "        wkbin.append(5)\n",
    "    elif((wk > 10.7) & (wk<=13.8)):\n",
    "        wkbin.append(6)\n",
    "    elif((wk > 13.8) & (wk<=17.1)):\n",
    "        wkbin.append(7)\n",
    "    elif((wk > 17.1) & (wk<=20.7)):\n",
    "        wkbin.append(8)   \n",
    "    elif((wk > 20.7) & (wk<=24.4)):\n",
    "        wkbin.append(9)\n",
    "    elif((wk > 24.4) & (wk<=28.4)):\n",
    "        wkbin.append(10)\n",
    "openen['WKbin'] = wkbin\n",
    "openen.head()"
   ]
  },
  {
   "cell_type": "markdown",
   "metadata": {},
   "source": [
    "# Dataframe omzetten naar CSV\n"
   ]
  },
  {
   "cell_type": "code",
   "execution_count": 67,
   "metadata": {},
   "outputs": [],
   "source": [
    "cleanOpen.to_csv('DuurOpening.csv')\n",
    "cleanSluit.to_csv('DuurSluiten.csv')\n",
    "cleanDuur.to_csv('CleanedDuur.csv')\n",
    "openen.to_csv('Open.csv')\n",
    "sluit.to_csv('Sluiten.csv')"
   ]
  }
 ],
 "metadata": {
  "kernelspec": {
   "display_name": "Python 3",
   "language": "python",
   "name": "python3"
  },
  "language_info": {
   "codemirror_mode": {
    "name": "ipython",
    "version": 3
   },
   "file_extension": ".py",
   "mimetype": "text/x-python",
   "name": "python",
   "nbconvert_exporter": "python",
   "pygments_lexer": "ipython3",
   "version": "3.7.1"
  }
 },
 "nbformat": 4,
 "nbformat_minor": 2
}
