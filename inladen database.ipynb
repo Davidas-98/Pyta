{
 "cells": [
  {
   "cell_type": "markdown",
   "metadata": {},
   "source": [
    "# Inladen van alle data naar de database\n",
    "\n",
    "Er wordt een tabel aangemaakt met daarin alle data van alle bruggen, deze heet \"Bruggen\"\n",
    "\n",
    "Er wordt per brug een tabel aangemaakt met daarin de data van de brug, deze hebben de afkorting van de brug als naam\n",
    "\n",
    "Om dit script te runnen moet je de path variabele aanpassen. zet hier je eigen path naar de csv bestanden\n",
    "\n",
    "Als je de database op een andere plaats wil hebben kun je ook een path in de sqlite3.connect zetten, anders plaatst hij de database in dezelfde map als dit notebook.\n",
    "\n",
    "Het duurt ong 5 uur om dit script te runnen. \n",
    "\n",
    "Let niet op de foutmelding over spaties en negeer het geskipte bestand, want die is leeg :P\n",
    "\n",
    "Aan het eind heb je als het goed is een database van ~43 GB"
   ]
  },
  {
   "cell_type": "markdown",
   "metadata": {},
   "source": [
    "# 1 tabel per brug met de afkorting als naam van de brug"
   ]
  },
  {
   "cell_type": "code",
   "execution_count": 1,
   "metadata": {},
   "outputs": [
    {
     "name": "stderr",
     "output_type": "stream",
     "text": [
      "C:\\Users\\denni\\Anaconda3\\lib\\site-packages\\pandas\\core\\generic.py:2130: UserWarning: The spaces in these column names will not be changed. In pandas versions < 0.14, spaces were converted to underscores.\n",
      "  dtype=dtype)\n"
     ]
    }
   ],
   "source": [
    "import sqlite3\n",
    "import pandas as pd\n",
    "import glob\n",
    "import datetime\n",
    "import matplotlib.pyplot as plt\n",
    "%matplotlib inline\n",
    "\n",
    "# Maak verbinding met de database\n",
    "con = sqlite3.connect(r\"D:\\Code\\Notebooks\\SCADA_Bruggen\") #pas dit aan voordat je runt\n",
    "cur = con.cursor()\n",
    "\n",
    "#Array met de bruggen om ze in te laden\n",
    "brug_ = [\"/W5/NO_W5_*.csv\", \"/WA/NO_WA_*.csv\", \"/WB/NO_WB_*.csv\",\"/WBH/NO_WBH_*.csv\",\"/WD/NO_WD_*.csv\",\"/WE/NO_WE_*.csv\"\n",
    "         ,\"/WG/NO_WG_*.csv\",\"/WGR/NO_WGR_*.csv\",\"/WH/NO_WH_*.csv\",\"/WHE/NO_WHE_*.csv\",\"/WHO/NO_WHO_*.csv\",\"/WHT/NO_WHT_*.csv\"\n",
    "        ,\"/WHY/NO_WHY_*.csv\",\"/WL/NO_WL_*.csv\",\"/WO/NO_WO_*.csv\",\"/WOB/NO_WOB_*.csv\",\"/WS/NO_WS_*.csv\",\"/WT/NO_WT_*.csv\"\n",
    "        ,\"/WW/NO_WW_*.csv\",\"/ZBS/NO_ZBS_*.csv\",\"/ZST/NO_ZST_*.csv\"]\n",
    "\n",
    "\n",
    "# ID van de bruggen voor de naam van de tabel en ID voor volledige tabel\n",
    "Brug_ID = [\"W5\", \"WA\", \"WB\", \"WBH\", \"WD\", \"WE\", \"WG\", \"WGR\", \"WH\", \"WHE\", \"WHO\", \"WHT\", \"WHY\", \"WL\", \"WO\", \"WOB\", \n",
    "          \"WS\", \"WT\", \"WW\", \"ZBS\", \"ZST\"]\n",
    "\n",
    "# path waar de csv's in staan\n",
    "path =r'D:\\Code\\Notebooks\\csv' # zet hier je eigen path neer\n",
    "\n",
    "# counter voor naam van tabel\n",
    "i = 0\n",
    "\n",
    "for brug in brug_:\n",
    "    \n",
    "    allFiles = glob.glob(path + brug)\n",
    "\n",
    "    list_ = []\n",
    "\n",
    "    # Uitlezen van de csv files\n",
    "    for file_ in allFiles:\n",
    "        try:\n",
    "            # lees alle csv's in \n",
    "            df = pd.read_csv(file_, skiprows=23, delimiter=\";\", encoding = \"ansi\", low_memory=False)\n",
    "            #verwijder een lege kolom aan het einde van de dataset\n",
    "            df2 = df.iloc[:,0:14] \n",
    "            list_.append(df2)\n",
    "        except:\n",
    "            print(\"Skipped Error at : \" + file_)\n",
    "    # gooit alle data in 1 dataframe\n",
    "    frame = pd.concat(list_, axis = 0, ignore_index = True)\n",
    "\n",
    "    # Gooi de lege comment kolom weg en voeg een nieuwe kolom toe met het ID van de Brug\n",
    "    frame.drop(['Cmnt.'], inplace = True, axis=1)\n",
    "    \n",
    "    #schrijf het dataframe weg per brug naar losse tabellen in de sqlite database \n",
    "    #(naam van tabel, database connectie, bestaat de tabel voeg dan toe)\n",
    "    frame.to_sql(Brug_ID[i] , con, if_exists = 'append')\n",
    "\n",
    "    con.commit()\n",
    "    # ga naar de volgende tabel\n",
    "    i += 1\n",
    "    \n",
    "con.close()\n"
   ]
  },
  {
   "cell_type": "markdown",
   "metadata": {},
   "source": [
    "# tabel met alle data van alle bruggen bij elkaar"
   ]
  },
  {
   "cell_type": "code",
   "execution_count": 2,
   "metadata": {},
   "outputs": [
    {
     "name": "stdout",
     "output_type": "stream",
     "text": [
      "Skipped Error at : F:\\Code\\NO_XXX_EVENT_EXPORT\\NO_ZST_EVENT_EXPORT_2015-12-01_00-00-00_2015-12-01_23-59-59.CSV\n"
     ]
    }
   ],
   "source": [
    "# Maak verbinding met de database\n",
    "con = sqlite3.connect(r\"F:\\Code\\Notebooks\\Data science bruggen\\SCADA_Bruggen\") #pas dit aan voordat je runt\n",
    "cur = con.cursor()\n",
    "\n",
    "#Array met de bruggen om ze in te laden\n",
    "brug_ = [\"/NO_W5_*.csv\", \"/NO_WA_*.csv\", \"/NO_WB_*.csv\",\"/NO_WBH_*.csv\",\"/NO_WD_*.csv\",\"/NO_WE_*.csv\"\n",
    "         ,\"/NO_WG_*.csv\",\"/NO_WGR_*.csv\",\"/NO_WH_*.csv\",\"/NO_WHE_*.csv\",\"/NO_WHO_*.csv\",\"/NO_WHT_*.csv\"\n",
    "        ,\"/NO_WHY_*.csv\",\"/NO_WL_*.csv\",\"/NO_WO_*.csv\",\"/NO_WOB_*.csv\",\"/NO_WS_*.csv\",\"/NO_WT_*.csv\"\n",
    "        ,\"/NO_WW_*.csv\",\"/NO_ZBS_*.csv\",\"/NO_ZST_*.csv\"]\n",
    "\n",
    "\n",
    "# ID van de bruggen voor de naam van de tabel en ID voor volledige tabel\n",
    "Brug_ID = [\"W5\", \"WA\", \"WB\", \"WBH\", \"WD\", \"WE\", \"WG\", \"WGR\", \"WH\", \"WHE\", \"WHO\", \"WHT\", \"WHY\", \"WL\", \"WO\", \"WOB\", \n",
    "          \"WS\", \"WT\", \"WW\", \"ZBS\", \"ZST\"]    \n",
    "# counter voor naam van tabel\n",
    "i = 0\n",
    "\n",
    "for brug in brug_:\n",
    "    \n",
    "    allFiles = glob.glob(path + brug)\n",
    "\n",
    "    list_ = []\n",
    "\n",
    "    # Uitlezen van de csv files\n",
    "    for file_ in allFiles:\n",
    "        try:\n",
    "            # lees alle csv's in \n",
    "            df = pd.read_csv(file_, skiprows=23, delimiter=\";\", encoding = \"ansi\", low_memory=False)\n",
    "            #verwijder een lege kolom aan het einde van de dataset\n",
    "            df2 = df.iloc[:,0:14] \n",
    "            list_.append(df2)\n",
    "        except:\n",
    "            print(\"Skipped Error at : \" + file_)\n",
    "    # gooit alle data in 1 dataframe\n",
    "    frame = pd.concat(list_, axis = 0, ignore_index = True)\n",
    "\n",
    "    # Gooi de lege comment kolom weg en voeg een nieuwe kolom toe met het ID van de Brug\n",
    "    frame.drop(['Cmnt.'], inplace = True, axis=1)\n",
    "    #Voeg het ID van de brug toe als extra kolom zodat je kunt herkennen van welke brug de data is\n",
    "    frame['brug_ID'] = Brug_ID[i]\n",
    "    #schrijf de data naar 1 grote tabel met daarin alle data van alle bruggen\n",
    "    frame.to_sql(\"Bruggen\", con, if_exists = \"append\")\n",
    "    con.commit()\n",
    "    # ga naar de volgende tabel\n",
    "    i += 1\n",
    "con.close()"
   ]
  },
  {
   "cell_type": "markdown",
   "metadata": {},
   "source": [
    "# Test of de database gelukt is\n",
    "\n",
    "verander de database connectie naar je eigen path\n",
    "\n",
    "het resultaat zou (148919838,) moeten zijn"
   ]
  },
  {
   "cell_type": "code",
   "execution_count": 1,
   "metadata": {},
   "outputs": [
    {
     "name": "stdout",
     "output_type": "stream",
     "text": [
      "(148919838,)\n"
     ]
    }
   ],
   "source": [
    "import sqlite3\n",
    "con = sqlite3.connect(r\"D:\\Code\\Notebooks\\SCADA_Bruggen\")\n",
    "cur = con.cursor()\n",
    "cur.execute('SELECT count(*) FROM Bruggen')\n",
    "result = cur.fetchone()\n",
    "print(result)\n",
    "con.close()"
   ]
  }
 ],
 "metadata": {
  "kernelspec": {
   "display_name": "Python 3",
   "language": "python",
   "name": "python3"
  },
  "language_info": {
   "codemirror_mode": {
    "name": "ipython",
    "version": 3
   },
   "file_extension": ".py",
   "mimetype": "text/x-python",
   "name": "python",
   "nbconvert_exporter": "python",
   "pygments_lexer": "ipython3",
   "version": "3.7.1"
  }
 },
 "nbformat": 4,
 "nbformat_minor": 2
}
