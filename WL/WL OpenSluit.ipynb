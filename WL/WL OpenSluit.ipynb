{
 "cells": [
  {
   "cell_type": "code",
   "execution_count": 1,
   "metadata": {},
   "outputs": [],
   "source": [
    "import sqlite3\n",
    "import numpy as np\n",
    "import pandas as pd\n",
    "import glob\n",
    "import datetime\n",
    "# modellen importeren\n",
    "from sklearn.cluster import AgglomerativeClustering\n",
    "from sklearn.ensemble import RandomForestRegressor\n",
    "from sklearn.preprocessing import StandardScaler\n",
    "from sklearn.metrics import r2_score\n",
    "from sklearn.metrics import mean_squared_error\n",
    "\n",
    "import matplotlib.pyplot as plt\n",
    "%matplotlib inline"
   ]
  },
  {
   "cell_type": "code",
   "execution_count": 2,
   "metadata": {},
   "outputs": [],
   "source": [
    "# Maak verbinding met de database\n",
    "con = sqlite3.connect(r\"D:\\Code\\Notebooks\\SCADA_Bruggen\") # zet hier het path naar je eigen database\n",
    "cur = con.cursor()\n",
    "\n",
    "'''\n",
    "Laad de data van een brug uit de database\n",
    "WHERE = data inladen vanaf 2016, als je dit niet begrijpt hoe het werkt is het geen probleem\n",
    "De limit geeft aan dat je maar een bepaald aantal lines wil laden\n",
    "'''\n",
    "\n",
    "df = pd.read_sql(\"SELECT * FROM WL\", con)\n",
    "con.close()"
   ]
  },
  {
   "cell_type": "code",
   "execution_count": 3,
   "metadata": {},
   "outputs": [
    {
     "data": {
      "text/html": [
       "<div>\n",
       "<style scoped>\n",
       "    .dataframe tbody tr th:only-of-type {\n",
       "        vertical-align: middle;\n",
       "    }\n",
       "\n",
       "    .dataframe tbody tr th {\n",
       "        vertical-align: top;\n",
       "    }\n",
       "\n",
       "    .dataframe thead th {\n",
       "        text-align: right;\n",
       "    }\n",
       "</style>\n",
       "<table border=\"1\" class=\"dataframe\">\n",
       "  <thead>\n",
       "    <tr style=\"text-align: right;\">\n",
       "      <th></th>\n",
       "      <th>index</th>\n",
       "      <th>Tijd</th>\n",
       "      <th>Type</th>\n",
       "      <th>Klasse</th>\n",
       "      <th>Waarde</th>\n",
       "      <th>ID</th>\n",
       "      <th>Omschrijving</th>\n",
       "      <th>Status</th>\n",
       "      <th>Prioriteit</th>\n",
       "      <th>Tijd came</th>\n",
       "      <th>Tijd went</th>\n",
       "      <th>Tijd ack</th>\n",
       "      <th>Gebr.ID</th>\n",
       "      <th>DPE</th>\n",
       "    </tr>\n",
       "  </thead>\n",
       "  <tbody>\n",
       "    <tr>\n",
       "      <th>9096803</th>\n",
       "      <td>9096803</td>\n",
       "      <td>01-12-2018 00:00:26.123</td>\n",
       "      <td>PROCES</td>\n",
       "      <td>NaN</td>\n",
       "      <td>4.0102043151855</td>\n",
       "      <td>NaN</td>\n",
       "      <td>Afsluitboom 4 Stilstands Uren Float</td>\n",
       "      <td>None</td>\n",
       "      <td>None</td>\n",
       "      <td>None</td>\n",
       "      <td>None</td>\n",
       "      <td>None</td>\n",
       "      <td>0.0</td>\n",
       "      <td>DB_L21-Asb-4-S.Status.StU</td>\n",
       "    </tr>\n",
       "    <tr>\n",
       "      <th>9096804</th>\n",
       "      <td>9096804</td>\n",
       "      <td>01-12-2018 00:00:26.021</td>\n",
       "      <td>PROCES</td>\n",
       "      <td>NaN</td>\n",
       "      <td>4.0101838111877</td>\n",
       "      <td>NaN</td>\n",
       "      <td>Afsluitboom 3 Stilstands Uren Float</td>\n",
       "      <td>None</td>\n",
       "      <td>None</td>\n",
       "      <td>None</td>\n",
       "      <td>None</td>\n",
       "      <td>None</td>\n",
       "      <td>0.0</td>\n",
       "      <td>DB_L21-Asb-3-S.Status.StU</td>\n",
       "    </tr>\n",
       "    <tr>\n",
       "      <th>9096805</th>\n",
       "      <td>9096805</td>\n",
       "      <td>01-12-2018 00:00:12.621</td>\n",
       "      <td>PROCES</td>\n",
       "      <td>NaN</td>\n",
       "      <td>4.0101742744446</td>\n",
       "      <td>NaN</td>\n",
       "      <td>Object StilstandUren Float</td>\n",
       "      <td>None</td>\n",
       "      <td>None</td>\n",
       "      <td>None</td>\n",
       "      <td>None</td>\n",
       "      <td>None</td>\n",
       "      <td>0.0</td>\n",
       "      <td>DB_A11-Brug-S.Status.StU</td>\n",
       "    </tr>\n",
       "    <tr>\n",
       "      <th>9096806</th>\n",
       "      <td>9096806</td>\n",
       "      <td>01-12-2018 00:00:08.600</td>\n",
       "      <td>PROCES</td>\n",
       "      <td>NaN</td>\n",
       "      <td>1.7187497615814</td>\n",
       "      <td>NaN</td>\n",
       "      <td>Meteo Actuele Windkracht</td>\n",
       "      <td>None</td>\n",
       "      <td>None</td>\n",
       "      <td>None</td>\n",
       "      <td>None</td>\n",
       "      <td>None</td>\n",
       "      <td>0.0</td>\n",
       "      <td>DB_H61-Meteo-S.Meteodata.Windkracht.Actueel</td>\n",
       "    </tr>\n",
       "    <tr>\n",
       "      <th>9096807</th>\n",
       "      <td>9096807</td>\n",
       "      <td>01-12-2018 00:00:03.595</td>\n",
       "      <td>PROCES</td>\n",
       "      <td>NaN</td>\n",
       "      <td>225</td>\n",
       "      <td>NaN</td>\n",
       "      <td>Meteo Actuele Windrichting</td>\n",
       "      <td>None</td>\n",
       "      <td>None</td>\n",
       "      <td>None</td>\n",
       "      <td>None</td>\n",
       "      <td>None</td>\n",
       "      <td>0.0</td>\n",
       "      <td>DB_H61-Meteo-S.Meteodata.Windrichting.Actueel</td>\n",
       "    </tr>\n",
       "  </tbody>\n",
       "</table>\n",
       "</div>"
      ],
      "text/plain": [
       "           index                     Tijd    Type  Klasse           Waarde  \\\n",
       "9096803  9096803  01-12-2018 00:00:26.123  PROCES     NaN  4.0102043151855   \n",
       "9096804  9096804  01-12-2018 00:00:26.021  PROCES     NaN  4.0101838111877   \n",
       "9096805  9096805  01-12-2018 00:00:12.621  PROCES     NaN  4.0101742744446   \n",
       "9096806  9096806  01-12-2018 00:00:08.600  PROCES     NaN  1.7187497615814   \n",
       "9096807  9096807  01-12-2018 00:00:03.595  PROCES     NaN              225   \n",
       "\n",
       "         ID                         Omschrijving Status Prioriteit Tijd came  \\\n",
       "9096803 NaN  Afsluitboom 4 Stilstands Uren Float   None       None      None   \n",
       "9096804 NaN  Afsluitboom 3 Stilstands Uren Float   None       None      None   \n",
       "9096805 NaN           Object StilstandUren Float   None       None      None   \n",
       "9096806 NaN             Meteo Actuele Windkracht   None       None      None   \n",
       "9096807 NaN           Meteo Actuele Windrichting   None       None      None   \n",
       "\n",
       "        Tijd went Tijd ack  Gebr.ID  \\\n",
       "9096803      None     None      0.0   \n",
       "9096804      None     None      0.0   \n",
       "9096805      None     None      0.0   \n",
       "9096806      None     None      0.0   \n",
       "9096807      None     None      0.0   \n",
       "\n",
       "                                                   DPE  \n",
       "9096803                      DB_L21-Asb-4-S.Status.StU  \n",
       "9096804                      DB_L21-Asb-3-S.Status.StU  \n",
       "9096805                       DB_A11-Brug-S.Status.StU  \n",
       "9096806    DB_H61-Meteo-S.Meteodata.Windkracht.Actueel  \n",
       "9096807  DB_H61-Meteo-S.Meteodata.Windrichting.Actueel  "
      ]
     },
     "execution_count": 3,
     "metadata": {},
     "output_type": "execute_result"
    }
   ],
   "source": [
    "df.tail()"
   ]
  },
  {
   "cell_type": "markdown",
   "metadata": {},
   "source": [
    "## Windkracht dataframe"
   ]
  },
  {
   "cell_type": "code",
   "execution_count": 4,
   "metadata": {},
   "outputs": [
    {
     "data": {
      "text/html": [
       "<div>\n",
       "<style scoped>\n",
       "    .dataframe tbody tr th:only-of-type {\n",
       "        vertical-align: middle;\n",
       "    }\n",
       "\n",
       "    .dataframe tbody tr th {\n",
       "        vertical-align: top;\n",
       "    }\n",
       "\n",
       "    .dataframe thead th {\n",
       "        text-align: right;\n",
       "    }\n",
       "</style>\n",
       "<table border=\"1\" class=\"dataframe\">\n",
       "  <thead>\n",
       "    <tr style=\"text-align: right;\">\n",
       "      <th></th>\n",
       "      <th>Wk</th>\n",
       "    </tr>\n",
       "  </thead>\n",
       "  <tbody>\n",
       "    <tr>\n",
       "      <th>count</th>\n",
       "      <td>6.146030e+05</td>\n",
       "    </tr>\n",
       "    <tr>\n",
       "      <th>mean</th>\n",
       "      <td>1.841538e+00</td>\n",
       "    </tr>\n",
       "    <tr>\n",
       "      <th>std</th>\n",
       "      <td>1.218775e+00</td>\n",
       "    </tr>\n",
       "    <tr>\n",
       "      <th>min</th>\n",
       "      <td>5.712112e-09</td>\n",
       "    </tr>\n",
       "    <tr>\n",
       "      <th>25%</th>\n",
       "      <td>9.577548e-01</td>\n",
       "    </tr>\n",
       "    <tr>\n",
       "      <th>50%</th>\n",
       "      <td>1.594329e+00</td>\n",
       "    </tr>\n",
       "    <tr>\n",
       "      <th>75%</th>\n",
       "      <td>2.449364e+00</td>\n",
       "    </tr>\n",
       "    <tr>\n",
       "      <th>max</th>\n",
       "      <td>1.751302e+01</td>\n",
       "    </tr>\n",
       "  </tbody>\n",
       "</table>\n",
       "</div>"
      ],
      "text/plain": [
       "                 Wk\n",
       "count  6.146030e+05\n",
       "mean   1.841538e+00\n",
       "std    1.218775e+00\n",
       "min    5.712112e-09\n",
       "25%    9.577548e-01\n",
       "50%    1.594329e+00\n",
       "75%    2.449364e+00\n",
       "max    1.751302e+01"
      ]
     },
     "execution_count": 4,
     "metadata": {},
     "output_type": "execute_result"
    }
   ],
   "source": [
    "wkdf = df[df.Omschrijving == 'Meteo Actuele Windkracht']\n",
    "\n",
    "wkdf = wkdf[['Tijd', 'Waarde']].copy()\n",
    "wkdf['Tijd'] = pd.to_datetime(wkdf.Tijd, dayfirst = True)\n",
    "wkdf['Waarde'] = wkdf.Waarde.astype('float')\n",
    "\n",
    "# negatieve windkracht heb ik nog nooit gezien, dus die nemen we niet mee\n",
    "wkdf = wkdf[wkdf.Waarde > 0]\n",
    "wkdf.columns = ['time','Wk']\n",
    "\n",
    "# check of alles gelukt is\n",
    "wkdf.describe()"
   ]
  },
  {
   "cell_type": "code",
   "execution_count": 5,
   "metadata": {},
   "outputs": [
    {
     "data": {
      "text/html": [
       "<div>\n",
       "<style scoped>\n",
       "    .dataframe tbody tr th:only-of-type {\n",
       "        vertical-align: middle;\n",
       "    }\n",
       "\n",
       "    .dataframe tbody tr th {\n",
       "        vertical-align: top;\n",
       "    }\n",
       "\n",
       "    .dataframe thead th {\n",
       "        text-align: right;\n",
       "    }\n",
       "</style>\n",
       "<table border=\"1\" class=\"dataframe\">\n",
       "  <thead>\n",
       "    <tr style=\"text-align: right;\">\n",
       "      <th></th>\n",
       "      <th>time</th>\n",
       "      <th>Wk</th>\n",
       "    </tr>\n",
       "  </thead>\n",
       "  <tbody>\n",
       "    <tr>\n",
       "      <th>9096682</th>\n",
       "      <td>2018-12-01 00:46:32.405</td>\n",
       "      <td>1.715133</td>\n",
       "    </tr>\n",
       "    <tr>\n",
       "      <th>9096740</th>\n",
       "      <td>2018-12-01 00:34:34.925</td>\n",
       "      <td>0.652488</td>\n",
       "    </tr>\n",
       "    <tr>\n",
       "      <th>9096773</th>\n",
       "      <td>2018-12-01 00:26:17.940</td>\n",
       "      <td>1.705367</td>\n",
       "    </tr>\n",
       "    <tr>\n",
       "      <th>9096778</th>\n",
       "      <td>2018-12-01 00:24:17.721</td>\n",
       "      <td>0.609809</td>\n",
       "    </tr>\n",
       "    <tr>\n",
       "      <th>9096806</th>\n",
       "      <td>2018-12-01 00:00:08.600</td>\n",
       "      <td>1.718750</td>\n",
       "    </tr>\n",
       "  </tbody>\n",
       "</table>\n",
       "</div>"
      ],
      "text/plain": [
       "                           time        Wk\n",
       "9096682 2018-12-01 00:46:32.405  1.715133\n",
       "9096740 2018-12-01 00:34:34.925  0.652488\n",
       "9096773 2018-12-01 00:26:17.940  1.705367\n",
       "9096778 2018-12-01 00:24:17.721  0.609809\n",
       "9096806 2018-12-01 00:00:08.600  1.718750"
      ]
     },
     "execution_count": 5,
     "metadata": {},
     "output_type": "execute_result"
    }
   ],
   "source": [
    "wkdf.tail()"
   ]
  },
  {
   "cell_type": "markdown",
   "metadata": {},
   "source": [
    "## Windrichting"
   ]
  },
  {
   "cell_type": "code",
   "execution_count": 6,
   "metadata": {},
   "outputs": [
    {
     "name": "stderr",
     "output_type": "stream",
     "text": [
      "C:\\Users\\denni\\Anaconda3\\lib\\site-packages\\ipykernel_launcher.py:5: SettingWithCopyWarning: \n",
      "A value is trying to be set on a copy of a slice from a DataFrame.\n",
      "Try using .loc[row_indexer,col_indexer] = value instead\n",
      "\n",
      "See the caveats in the documentation: http://pandas.pydata.org/pandas-docs/stable/indexing.html#indexing-view-versus-copy\n",
      "  \"\"\"\n",
      "C:\\Users\\denni\\Anaconda3\\lib\\site-packages\\ipykernel_launcher.py:6: SettingWithCopyWarning: \n",
      "A value is trying to be set on a copy of a slice from a DataFrame.\n",
      "Try using .loc[row_indexer,col_indexer] = value instead\n",
      "\n",
      "See the caveats in the documentation: http://pandas.pydata.org/pandas-docs/stable/indexing.html#indexing-view-versus-copy\n",
      "  \n"
     ]
    },
    {
     "name": "stdout",
     "output_type": "stream",
     "text": [
      "<class 'pandas.core.frame.DataFrame'>\n",
      "Int64Index: 790180 entries, 30 to 9096807\n",
      "Data columns (total 2 columns):\n",
      "time    790180 non-null datetime64[ns]\n",
      "WR      790180 non-null float64\n",
      "dtypes: datetime64[ns](1), float64(1)\n",
      "memory usage: 18.1 MB\n"
     ]
    }
   ],
   "source": [
    "# Haal windrichting data uit standaard df \n",
    "wrdf = df[df.Omschrijving == 'Meteo Actuele Windrichting']\n",
    "\n",
    "# zet de types om naar werkbare types\n",
    "wrdf['Tijd'] = pd.to_datetime(wrdf.Tijd, dayfirst = True)\n",
    "wrdf['Waarde'] = wrdf.Waarde.astype('float')\n",
    "\n",
    "# negatieve windrichtingen bestaan niet\n",
    "wrdf = wrdf[wrdf.Waarde > 0]\n",
    "\n",
    "# Maak df met allen tijd en waarde kolom\n",
    "wrdf = wrdf[['Tijd', 'Waarde']].copy()\n",
    "\n",
    "# Pas kolom namen aan zodat het later gemerged kan worden en duidelijk blijft\n",
    "wrdf.columns = ['time','WR']\n",
    "wrdf.head()\n",
    "\n",
    "#check of alles gelukt is\n",
    "wrdf.info()"
   ]
  },
  {
   "cell_type": "markdown",
   "metadata": {},
   "source": [
    "## Brug Beweging DataFrame"
   ]
  },
  {
   "cell_type": "code",
   "execution_count": 7,
   "metadata": {},
   "outputs": [],
   "source": [
    "# Maak een df met daarin alle meldingen die te maken hebben met het openen en sluiten van de brug\n",
    "\n",
    "OpenSluit = df[df.Omschrijving == 'Brug Beweging Actief']\n",
    "SluitOpen = OpenSluit.append(df[df.Omschrijving == 'Algemeen Commando Brug Openen'])\n",
    "OpenSluitBeweging = SluitOpen.append(df[df.Omschrijving == 'Algemeen Commando Brug Sluiten']) \n",
    "OpenSluitBeweging.Tijd = pd.to_datetime(OpenSluitBeweging.Tijd, dayfirst = True)"
   ]
  },
  {
   "cell_type": "code",
   "execution_count": 8,
   "metadata": {},
   "outputs": [
    {
     "data": {
      "text/html": [
       "<div>\n",
       "<style scoped>\n",
       "    .dataframe tbody tr th:only-of-type {\n",
       "        vertical-align: middle;\n",
       "    }\n",
       "\n",
       "    .dataframe tbody tr th {\n",
       "        vertical-align: top;\n",
       "    }\n",
       "\n",
       "    .dataframe thead th {\n",
       "        text-align: right;\n",
       "    }\n",
       "</style>\n",
       "<table border=\"1\" class=\"dataframe\">\n",
       "  <thead>\n",
       "    <tr style=\"text-align: right;\">\n",
       "      <th></th>\n",
       "      <th>index</th>\n",
       "      <th>Tijd</th>\n",
       "      <th>Type</th>\n",
       "      <th>Klasse</th>\n",
       "      <th>Waarde</th>\n",
       "      <th>ID</th>\n",
       "      <th>Omschrijving</th>\n",
       "      <th>Status</th>\n",
       "      <th>Prioriteit</th>\n",
       "      <th>Tijd came</th>\n",
       "      <th>Tijd went</th>\n",
       "      <th>Tijd ack</th>\n",
       "      <th>Gebr.ID</th>\n",
       "      <th>DPE</th>\n",
       "    </tr>\n",
       "  </thead>\n",
       "  <tbody>\n",
       "    <tr>\n",
       "      <th>384</th>\n",
       "      <td>384</td>\n",
       "      <td>2015-12-02 23:28:38.160</td>\n",
       "      <td>PROCES</td>\n",
       "      <td>NaN</td>\n",
       "      <td>FALSE</td>\n",
       "      <td>NaN</td>\n",
       "      <td>Brug Beweging Actief</td>\n",
       "      <td>None</td>\n",
       "      <td>None</td>\n",
       "      <td>None</td>\n",
       "      <td>None</td>\n",
       "      <td>None</td>\n",
       "      <td>0.0</td>\n",
       "      <td>DB_A11-Brug-S.Status.BewR</td>\n",
       "    </tr>\n",
       "    <tr>\n",
       "      <th>438</th>\n",
       "      <td>438</td>\n",
       "      <td>2015-12-02 23:27:23.058</td>\n",
       "      <td>PROCES</td>\n",
       "      <td>NaN</td>\n",
       "      <td>TRUE</td>\n",
       "      <td>NaN</td>\n",
       "      <td>Brug Beweging Actief</td>\n",
       "      <td>None</td>\n",
       "      <td>None</td>\n",
       "      <td>None</td>\n",
       "      <td>None</td>\n",
       "      <td>None</td>\n",
       "      <td>0.0</td>\n",
       "      <td>DB_A11-Brug-S.Status.BewR</td>\n",
       "    </tr>\n",
       "    <tr>\n",
       "      <th>561</th>\n",
       "      <td>561</td>\n",
       "      <td>2015-12-02 23:26:16.261</td>\n",
       "      <td>PROCES</td>\n",
       "      <td>NaN</td>\n",
       "      <td>FALSE</td>\n",
       "      <td>NaN</td>\n",
       "      <td>Brug Beweging Actief</td>\n",
       "      <td>None</td>\n",
       "      <td>None</td>\n",
       "      <td>None</td>\n",
       "      <td>None</td>\n",
       "      <td>None</td>\n",
       "      <td>0.0</td>\n",
       "      <td>DB_A11-Brug-S.Status.BewR</td>\n",
       "    </tr>\n",
       "    <tr>\n",
       "      <th>637</th>\n",
       "      <td>637</td>\n",
       "      <td>2015-12-02 23:25:07.456</td>\n",
       "      <td>PROCES</td>\n",
       "      <td>NaN</td>\n",
       "      <td>TRUE</td>\n",
       "      <td>NaN</td>\n",
       "      <td>Brug Beweging Actief</td>\n",
       "      <td>None</td>\n",
       "      <td>None</td>\n",
       "      <td>None</td>\n",
       "      <td>None</td>\n",
       "      <td>None</td>\n",
       "      <td>0.0</td>\n",
       "      <td>DB_A11-Brug-S.Status.BewR</td>\n",
       "    </tr>\n",
       "    <tr>\n",
       "      <th>1838</th>\n",
       "      <td>1838</td>\n",
       "      <td>2015-12-02 17:39:37.159</td>\n",
       "      <td>PROCES</td>\n",
       "      <td>NaN</td>\n",
       "      <td>FALSE</td>\n",
       "      <td>NaN</td>\n",
       "      <td>Brug Beweging Actief</td>\n",
       "      <td>None</td>\n",
       "      <td>None</td>\n",
       "      <td>None</td>\n",
       "      <td>None</td>\n",
       "      <td>None</td>\n",
       "      <td>0.0</td>\n",
       "      <td>DB_A11-Brug-S.Status.BewR</td>\n",
       "    </tr>\n",
       "  </tbody>\n",
       "</table>\n",
       "</div>"
      ],
      "text/plain": [
       "      index                    Tijd    Type  Klasse Waarde  ID  \\\n",
       "384     384 2015-12-02 23:28:38.160  PROCES     NaN  FALSE NaN   \n",
       "438     438 2015-12-02 23:27:23.058  PROCES     NaN   TRUE NaN   \n",
       "561     561 2015-12-02 23:26:16.261  PROCES     NaN  FALSE NaN   \n",
       "637     637 2015-12-02 23:25:07.456  PROCES     NaN   TRUE NaN   \n",
       "1838   1838 2015-12-02 17:39:37.159  PROCES     NaN  FALSE NaN   \n",
       "\n",
       "              Omschrijving Status Prioriteit Tijd came Tijd went Tijd ack  \\\n",
       "384   Brug Beweging Actief   None       None      None      None     None   \n",
       "438   Brug Beweging Actief   None       None      None      None     None   \n",
       "561   Brug Beweging Actief   None       None      None      None     None   \n",
       "637   Brug Beweging Actief   None       None      None      None     None   \n",
       "1838  Brug Beweging Actief   None       None      None      None     None   \n",
       "\n",
       "      Gebr.ID                        DPE  \n",
       "384       0.0  DB_A11-Brug-S.Status.BewR  \n",
       "438       0.0  DB_A11-Brug-S.Status.BewR  \n",
       "561       0.0  DB_A11-Brug-S.Status.BewR  \n",
       "637       0.0  DB_A11-Brug-S.Status.BewR  \n",
       "1838      0.0  DB_A11-Brug-S.Status.BewR  "
      ]
     },
     "execution_count": 8,
     "metadata": {},
     "output_type": "execute_result"
    }
   ],
   "source": [
    "OpenSluitBeweging.head()"
   ]
  },
  {
   "cell_type": "code",
   "execution_count": 9,
   "metadata": {},
   "outputs": [
    {
     "name": "stdout",
     "output_type": "stream",
     "text": [
      "<class 'pandas.core.frame.DataFrame'>\n",
      "Int64Index: 58435 entries, 384 to 9093972\n",
      "Data columns (total 14 columns):\n",
      "index           58435 non-null int64\n",
      "Tijd            58435 non-null datetime64[ns]\n",
      "Type            58435 non-null object\n",
      "Klasse          0 non-null float64\n",
      "Waarde          58435 non-null object\n",
      "ID              0 non-null float64\n",
      "Omschrijving    58435 non-null object\n",
      "Status          0 non-null object\n",
      "Prioriteit      0 non-null object\n",
      "Tijd came       0 non-null object\n",
      "Tijd went       0 non-null object\n",
      "Tijd ack        0 non-null object\n",
      "Gebr.ID         58435 non-null float64\n",
      "DPE             58435 non-null object\n",
      "dtypes: datetime64[ns](1), float64(3), int64(1), object(9)\n",
      "memory usage: 6.7+ MB\n"
     ]
    }
   ],
   "source": [
    "OpenSluitBeweging.info()"
   ]
  },
  {
   "cell_type": "code",
   "execution_count": 10,
   "metadata": {},
   "outputs": [],
   "source": [
    "# Sorteer het df op datum. (je sorteert op index omdat Tijd kolom niet mee wilden werken)\n",
    "Duur = OpenSluitBeweging.sort_index()"
   ]
  },
  {
   "cell_type": "code",
   "execution_count": 11,
   "metadata": {},
   "outputs": [
    {
     "data": {
      "text/html": [
       "<div>\n",
       "<style scoped>\n",
       "    .dataframe tbody tr th:only-of-type {\n",
       "        vertical-align: middle;\n",
       "    }\n",
       "\n",
       "    .dataframe tbody tr th {\n",
       "        vertical-align: top;\n",
       "    }\n",
       "\n",
       "    .dataframe thead th {\n",
       "        text-align: right;\n",
       "    }\n",
       "</style>\n",
       "<table border=\"1\" class=\"dataframe\">\n",
       "  <thead>\n",
       "    <tr style=\"text-align: right;\">\n",
       "      <th></th>\n",
       "      <th>index</th>\n",
       "      <th>Tijd</th>\n",
       "      <th>Type</th>\n",
       "      <th>Klasse</th>\n",
       "      <th>Waarde</th>\n",
       "      <th>ID</th>\n",
       "      <th>Omschrijving</th>\n",
       "      <th>Status</th>\n",
       "      <th>Prioriteit</th>\n",
       "      <th>Tijd came</th>\n",
       "      <th>Tijd went</th>\n",
       "      <th>Tijd ack</th>\n",
       "      <th>Gebr.ID</th>\n",
       "      <th>DPE</th>\n",
       "    </tr>\n",
       "  </thead>\n",
       "  <tbody>\n",
       "    <tr>\n",
       "      <th>384</th>\n",
       "      <td>384</td>\n",
       "      <td>2015-12-02 23:28:38.160</td>\n",
       "      <td>PROCES</td>\n",
       "      <td>NaN</td>\n",
       "      <td>FALSE</td>\n",
       "      <td>NaN</td>\n",
       "      <td>Brug Beweging Actief</td>\n",
       "      <td>None</td>\n",
       "      <td>None</td>\n",
       "      <td>None</td>\n",
       "      <td>None</td>\n",
       "      <td>None</td>\n",
       "      <td>0.0</td>\n",
       "      <td>DB_A11-Brug-S.Status.BewR</td>\n",
       "    </tr>\n",
       "    <tr>\n",
       "      <th>424</th>\n",
       "      <td>424</td>\n",
       "      <td>2015-12-02 23:27:25.127</td>\n",
       "      <td>PROCES</td>\n",
       "      <td>NaN</td>\n",
       "      <td>FALSE</td>\n",
       "      <td>NaN</td>\n",
       "      <td>Algemeen Commando Brug Sluiten</td>\n",
       "      <td>None</td>\n",
       "      <td>None</td>\n",
       "      <td>None</td>\n",
       "      <td>None</td>\n",
       "      <td>None</td>\n",
       "      <td>0.0</td>\n",
       "      <td>DB_D00-Algemeen-S.CMD.BrugSl.Cmd</td>\n",
       "    </tr>\n",
       "    <tr>\n",
       "      <th>438</th>\n",
       "      <td>438</td>\n",
       "      <td>2015-12-02 23:27:23.058</td>\n",
       "      <td>PROCES</td>\n",
       "      <td>NaN</td>\n",
       "      <td>TRUE</td>\n",
       "      <td>NaN</td>\n",
       "      <td>Brug Beweging Actief</td>\n",
       "      <td>None</td>\n",
       "      <td>None</td>\n",
       "      <td>None</td>\n",
       "      <td>None</td>\n",
       "      <td>None</td>\n",
       "      <td>0.0</td>\n",
       "      <td>DB_A11-Brug-S.Status.BewR</td>\n",
       "    </tr>\n",
       "    <tr>\n",
       "      <th>452</th>\n",
       "      <td>452</td>\n",
       "      <td>2015-12-02 23:27:22.867</td>\n",
       "      <td>PROCES</td>\n",
       "      <td>NaN</td>\n",
       "      <td>TRUE</td>\n",
       "      <td>NaN</td>\n",
       "      <td>Algemeen Commando Brug Sluiten</td>\n",
       "      <td>None</td>\n",
       "      <td>None</td>\n",
       "      <td>None</td>\n",
       "      <td>None</td>\n",
       "      <td>None</td>\n",
       "      <td>23.0</td>\n",
       "      <td>DB_D00-Algemeen-S.CMD.BrugSl.Cmd</td>\n",
       "    </tr>\n",
       "    <tr>\n",
       "      <th>561</th>\n",
       "      <td>561</td>\n",
       "      <td>2015-12-02 23:26:16.261</td>\n",
       "      <td>PROCES</td>\n",
       "      <td>NaN</td>\n",
       "      <td>FALSE</td>\n",
       "      <td>NaN</td>\n",
       "      <td>Brug Beweging Actief</td>\n",
       "      <td>None</td>\n",
       "      <td>None</td>\n",
       "      <td>None</td>\n",
       "      <td>None</td>\n",
       "      <td>None</td>\n",
       "      <td>0.0</td>\n",
       "      <td>DB_A11-Brug-S.Status.BewR</td>\n",
       "    </tr>\n",
       "  </tbody>\n",
       "</table>\n",
       "</div>"
      ],
      "text/plain": [
       "     index                    Tijd    Type  Klasse Waarde  ID  \\\n",
       "384    384 2015-12-02 23:28:38.160  PROCES     NaN  FALSE NaN   \n",
       "424    424 2015-12-02 23:27:25.127  PROCES     NaN  FALSE NaN   \n",
       "438    438 2015-12-02 23:27:23.058  PROCES     NaN   TRUE NaN   \n",
       "452    452 2015-12-02 23:27:22.867  PROCES     NaN   TRUE NaN   \n",
       "561    561 2015-12-02 23:26:16.261  PROCES     NaN  FALSE NaN   \n",
       "\n",
       "                       Omschrijving Status Prioriteit Tijd came Tijd went  \\\n",
       "384            Brug Beweging Actief   None       None      None      None   \n",
       "424  Algemeen Commando Brug Sluiten   None       None      None      None   \n",
       "438            Brug Beweging Actief   None       None      None      None   \n",
       "452  Algemeen Commando Brug Sluiten   None       None      None      None   \n",
       "561            Brug Beweging Actief   None       None      None      None   \n",
       "\n",
       "    Tijd ack  Gebr.ID                               DPE  \n",
       "384     None      0.0         DB_A11-Brug-S.Status.BewR  \n",
       "424     None      0.0  DB_D00-Algemeen-S.CMD.BrugSl.Cmd  \n",
       "438     None      0.0         DB_A11-Brug-S.Status.BewR  \n",
       "452     None     23.0  DB_D00-Algemeen-S.CMD.BrugSl.Cmd  \n",
       "561     None      0.0         DB_A11-Brug-S.Status.BewR  "
      ]
     },
     "execution_count": 11,
     "metadata": {},
     "output_type": "execute_result"
    }
   ],
   "source": [
    "Duur.head()"
   ]
  },
  {
   "cell_type": "code",
   "execution_count": 12,
   "metadata": {},
   "outputs": [],
   "source": [
    "# Maak een kolom in df met daarin de tijd omgezet naar seconden, zodat het makkelijker rekenen wordt\n",
    "Duur['seconden'] = (Duur.Tijd.astype(np.int64) // 10**9)"
   ]
  },
  {
   "cell_type": "code",
   "execution_count": 13,
   "metadata": {},
   "outputs": [],
   "source": [
    "Duur.to_csv('beweging.csv')"
   ]
  },
  {
   "cell_type": "code",
   "execution_count": 14,
   "metadata": {},
   "outputs": [],
   "source": [
    "begin = 0\n",
    "eind = 0\n",
    "x = 0\n",
    "tst = None\n",
    "sluit = True\n",
    "duur = list()\n",
    "oslist = list()\n",
    "timestamp = list()\n",
    "\n",
    "for index, row in Duur.iterrows():\n",
    "    waarde = row[4]\n",
    "    oms = row[6]\n",
    "    sec = row[14]\n",
    "    ts = row[1]\n",
    "    if ((oms == 'Brug Beweging Actief') & (waarde == \"TRUE\")):\n",
    "        begin = sec\n",
    "        tst = ts       \n",
    "    elif ((oms == 'Brug Beweging Actief') & (waarde == \"FALSE\")):\n",
    "        eind = sec\n",
    "    if (oms == 'Algemeen Commando Brug Openen'):\n",
    "        sluit = False\n",
    "    elif (oms == 'Algemeen Commando Brug Sluiten'):\n",
    "        sluit = True\n",
    "    if ((eind!=0) & (begin!=0)):\n",
    "        duur.append(eind-begin)\n",
    "        timestamp.append(ts)\n",
    "        oslist.append(sluit)\n",
    "        eind = 0\n",
    "        begin = 0\n",
    "    "
   ]
  },
  {
   "cell_type": "code",
   "execution_count": 15,
   "metadata": {},
   "outputs": [],
   "source": [
    "# maak het nieuwe df aan\n",
    "duurdf  = pd.DataFrame(duur)\n",
    "duurdf['beweging'] = oslist\n",
    "duurdf['time'] = timestamp"
   ]
  },
  {
   "cell_type": "code",
   "execution_count": 16,
   "metadata": {},
   "outputs": [
    {
     "data": {
      "text/html": [
       "<div>\n",
       "<style scoped>\n",
       "    .dataframe tbody tr th:only-of-type {\n",
       "        vertical-align: middle;\n",
       "    }\n",
       "\n",
       "    .dataframe tbody tr th {\n",
       "        vertical-align: top;\n",
       "    }\n",
       "\n",
       "    .dataframe thead th {\n",
       "        text-align: right;\n",
       "    }\n",
       "</style>\n",
       "<table border=\"1\" class=\"dataframe\">\n",
       "  <thead>\n",
       "    <tr style=\"text-align: right;\">\n",
       "      <th></th>\n",
       "      <th>0</th>\n",
       "      <th>beweging</th>\n",
       "      <th>time</th>\n",
       "    </tr>\n",
       "  </thead>\n",
       "  <tbody>\n",
       "    <tr>\n",
       "      <th>0</th>\n",
       "      <td>75</td>\n",
       "      <td>True</td>\n",
       "      <td>2015-12-02 23:27:23.058</td>\n",
       "    </tr>\n",
       "    <tr>\n",
       "      <th>1</th>\n",
       "      <td>69</td>\n",
       "      <td>False</td>\n",
       "      <td>2015-12-02 23:25:07.456</td>\n",
       "    </tr>\n",
       "    <tr>\n",
       "      <th>2</th>\n",
       "      <td>75</td>\n",
       "      <td>True</td>\n",
       "      <td>2015-12-02 17:38:22.158</td>\n",
       "    </tr>\n",
       "    <tr>\n",
       "      <th>3</th>\n",
       "      <td>69</td>\n",
       "      <td>False</td>\n",
       "      <td>2015-12-02 17:36:13.867</td>\n",
       "    </tr>\n",
       "    <tr>\n",
       "      <th>4</th>\n",
       "      <td>75</td>\n",
       "      <td>True</td>\n",
       "      <td>2015-12-02 17:10:28.862</td>\n",
       "    </tr>\n",
       "  </tbody>\n",
       "</table>\n",
       "</div>"
      ],
      "text/plain": [
       "    0  beweging                    time\n",
       "0  75      True 2015-12-02 23:27:23.058\n",
       "1  69     False 2015-12-02 23:25:07.456\n",
       "2  75      True 2015-12-02 17:38:22.158\n",
       "3  69     False 2015-12-02 17:36:13.867\n",
       "4  75      True 2015-12-02 17:10:28.862"
      ]
     },
     "execution_count": 16,
     "metadata": {},
     "output_type": "execute_result"
    }
   ],
   "source": [
    "# 0 == sluit\n",
    "# oneven == open\n",
    "\n",
    "duurdf.head()"
   ]
  },
  {
   "cell_type": "code",
   "execution_count": 17,
   "metadata": {},
   "outputs": [],
   "source": [
    "duurdf.columns = ['duur','beweging','time']"
   ]
  },
  {
   "cell_type": "code",
   "execution_count": 18,
   "metadata": {},
   "outputs": [
    {
     "name": "stdout",
     "output_type": "stream",
     "text": [
      "<class 'pandas.core.frame.DataFrame'>\n",
      "RangeIndex: 14592 entries, 0 to 14591\n",
      "Data columns (total 3 columns):\n",
      "duur        14592 non-null int64\n",
      "beweging    14592 non-null bool\n",
      "time        14592 non-null datetime64[ns]\n",
      "dtypes: bool(1), datetime64[ns](1), int64(1)\n",
      "memory usage: 242.3 KB\n"
     ]
    }
   ],
   "source": [
    "duurdf.info()"
   ]
  },
  {
   "cell_type": "markdown",
   "metadata": {},
   "source": [
    "# Mergen van verschillende dataframes"
   ]
  },
  {
   "cell_type": "markdown",
   "metadata": {},
   "source": [
    "## maak één dataframe met  daarin alle waarden die nodig  zijn"
   ]
  },
  {
   "cell_type": "code",
   "execution_count": 19,
   "metadata": {},
   "outputs": [],
   "source": [
    "# samenvoegen van duur data en windrichting\n",
    "# sorteer de dataframes op de time kolom, anders werkt de merge_asof niet\n",
    "sortedduur = duurdf.sort_values('time')\n",
    "sortedwr  =  wrdf.sort_values('time')\n",
    "\n",
    "# voeg de gesorteerde dataframes samen gelet op de time kolom, waarbij hij zoekt naar de eerstvoorgaande time waarde\n",
    "mergeddf = pd.merge_asof(sortedduur,sortedwr, on = 'time')"
   ]
  },
  {
   "cell_type": "code",
   "execution_count": 20,
   "metadata": {},
   "outputs": [],
   "source": [
    "# hetzelfde als hierboven maar dan met de windkracht\n",
    "sortedmerged = mergeddf.sort_values('time')\n",
    "sortedwk  =  wkdf.sort_values('time')\n",
    "duurWrWk = pd.merge_asof(sortedmerged,sortedwk, on = 'time')"
   ]
  },
  {
   "cell_type": "code",
   "execution_count": 21,
   "metadata": {},
   "outputs": [
    {
     "data": {
      "text/html": [
       "<div>\n",
       "<style scoped>\n",
       "    .dataframe tbody tr th:only-of-type {\n",
       "        vertical-align: middle;\n",
       "    }\n",
       "\n",
       "    .dataframe tbody tr th {\n",
       "        vertical-align: top;\n",
       "    }\n",
       "\n",
       "    .dataframe thead th {\n",
       "        text-align: right;\n",
       "    }\n",
       "</style>\n",
       "<table border=\"1\" class=\"dataframe\">\n",
       "  <thead>\n",
       "    <tr style=\"text-align: right;\">\n",
       "      <th></th>\n",
       "      <th>duur</th>\n",
       "      <th>beweging</th>\n",
       "      <th>time</th>\n",
       "      <th>WR</th>\n",
       "      <th>Wk</th>\n",
       "    </tr>\n",
       "  </thead>\n",
       "  <tbody>\n",
       "    <tr>\n",
       "      <th>14582</th>\n",
       "      <td>70</td>\n",
       "      <td>False</td>\n",
       "      <td>2018-11-30 12:00:57.931</td>\n",
       "      <td>226.0</td>\n",
       "      <td>1.902127</td>\n",
       "    </tr>\n",
       "    <tr>\n",
       "      <th>14583</th>\n",
       "      <td>77</td>\n",
       "      <td>True</td>\n",
       "      <td>2018-11-30 12:03:24.532</td>\n",
       "      <td>209.0</td>\n",
       "      <td>1.902127</td>\n",
       "    </tr>\n",
       "    <tr>\n",
       "      <th>14584</th>\n",
       "      <td>69</td>\n",
       "      <td>False</td>\n",
       "      <td>2018-11-30 13:00:22.827</td>\n",
       "      <td>211.0</td>\n",
       "      <td>1.967593</td>\n",
       "    </tr>\n",
       "    <tr>\n",
       "      <th>14585</th>\n",
       "      <td>77</td>\n",
       "      <td>True</td>\n",
       "      <td>2018-11-30 13:03:11.536</td>\n",
       "      <td>205.0</td>\n",
       "      <td>1.967593</td>\n",
       "    </tr>\n",
       "    <tr>\n",
       "      <th>14586</th>\n",
       "      <td>69</td>\n",
       "      <td>True</td>\n",
       "      <td>2018-11-30 18:13:49.324</td>\n",
       "      <td>220.0</td>\n",
       "      <td>1.275319</td>\n",
       "    </tr>\n",
       "    <tr>\n",
       "      <th>14587</th>\n",
       "      <td>76</td>\n",
       "      <td>True</td>\n",
       "      <td>2018-11-30 18:16:48.118</td>\n",
       "      <td>248.0</td>\n",
       "      <td>1.275319</td>\n",
       "    </tr>\n",
       "    <tr>\n",
       "      <th>14588</th>\n",
       "      <td>70</td>\n",
       "      <td>False</td>\n",
       "      <td>2018-11-30 19:55:18.812</td>\n",
       "      <td>218.0</td>\n",
       "      <td>1.229384</td>\n",
       "    </tr>\n",
       "    <tr>\n",
       "      <th>14589</th>\n",
       "      <td>78</td>\n",
       "      <td>True</td>\n",
       "      <td>2018-11-30 19:58:18.319</td>\n",
       "      <td>218.0</td>\n",
       "      <td>2.277199</td>\n",
       "    </tr>\n",
       "    <tr>\n",
       "      <th>14590</th>\n",
       "      <td>70</td>\n",
       "      <td>False</td>\n",
       "      <td>2018-12-01 12:38:52.829</td>\n",
       "      <td>156.0</td>\n",
       "      <td>3.739150</td>\n",
       "    </tr>\n",
       "    <tr>\n",
       "      <th>14591</th>\n",
       "      <td>78</td>\n",
       "      <td>True</td>\n",
       "      <td>2018-12-01 12:40:13.425</td>\n",
       "      <td>156.0</td>\n",
       "      <td>3.739150</td>\n",
       "    </tr>\n",
       "  </tbody>\n",
       "</table>\n",
       "</div>"
      ],
      "text/plain": [
       "       duur  beweging                    time     WR        Wk\n",
       "14582    70     False 2018-11-30 12:00:57.931  226.0  1.902127\n",
       "14583    77      True 2018-11-30 12:03:24.532  209.0  1.902127\n",
       "14584    69     False 2018-11-30 13:00:22.827  211.0  1.967593\n",
       "14585    77      True 2018-11-30 13:03:11.536  205.0  1.967593\n",
       "14586    69      True 2018-11-30 18:13:49.324  220.0  1.275319\n",
       "14587    76      True 2018-11-30 18:16:48.118  248.0  1.275319\n",
       "14588    70     False 2018-11-30 19:55:18.812  218.0  1.229384\n",
       "14589    78      True 2018-11-30 19:58:18.319  218.0  2.277199\n",
       "14590    70     False 2018-12-01 12:38:52.829  156.0  3.739150\n",
       "14591    78      True 2018-12-01 12:40:13.425  156.0  3.739150"
      ]
     },
     "execution_count": 21,
     "metadata": {},
     "output_type": "execute_result"
    }
   ],
   "source": [
    "duurWrWk.tail(10)"
   ]
  },
  {
   "cell_type": "markdown",
   "metadata": {},
   "source": [
    "## check voor outliers"
   ]
  },
  {
   "cell_type": "code",
   "execution_count": 22,
   "metadata": {},
   "outputs": [
    {
     "data": {
      "text/plain": [
       "<matplotlib.axes._subplots.AxesSubplot at 0x1ef7def4e80>"
      ]
     },
     "execution_count": 22,
     "metadata": {},
     "output_type": "execute_result"
    },
    {
     "data": {
      "image/png": "[encoded data removed]",
      "text/plain": [
       "<Figure size 432x288 with 1 Axes>"
      ]
     },
     "metadata": {
      "needs_background": "light"
     },
     "output_type": "display_data"
    }
   ],
   "source": [
    "duurWrWk.boxplot('duur')"
   ]
  },
  {
   "cell_type": "markdown",
   "metadata": {},
   "source": [
    "## Grafieken sluiten brug"
   ]
  },
  {
   "cell_type": "code",
   "execution_count": 23,
   "metadata": {},
   "outputs": [
    {
     "data": {
      "text/plain": [
       "<matplotlib.axes._subplots.AxesSubplot at 0x1efda015240>"
      ]
     },
     "execution_count": 23,
     "metadata": {},
     "output_type": "execute_result"
    },
    {
     "data": {
      "image/png": "[encoded data removed]",
      "text/plain": [
       "<Figure size 432x288 with 1 Axes>"
      ]
     },
     "metadata": {
      "needs_background": "light"
     },
     "output_type": "display_data"
    }
   ],
   "source": [
    "# Duur tegenover tijd\n",
    "openen = duurWrWk[duurWrWk.beweging == False]\n",
    "openen.plot(x = \"time\", y = 'duur', style = '.')"
   ]
  },
  {
   "cell_type": "code",
   "execution_count": 24,
   "metadata": {},
   "outputs": [
    {
     "data": {
      "text/plain": [
       "<matplotlib.axes._subplots.AxesSubplot at 0x1efeb131a20>"
      ]
     },
     "execution_count": 24,
     "metadata": {},
     "output_type": "execute_result"
    },
    {
     "data": {
      "image/png": "[encoded data removed]",
      "text/plain": [
       "<Figure size 432x288 with 1 Axes>"
      ]
     },
     "metadata": {
      "needs_background": "light"
     },
     "output_type": "display_data"
    }
   ],
   "source": [
    "# duur tegenover tijd\n",
    "sluit = duurWrWk[duurWrWk.beweging == True]\n",
    "sluit.plot(x = \"time\", y = 'duur', style = '.')"
   ]
  },
  {
   "cell_type": "code",
   "execution_count": 25,
   "metadata": {},
   "outputs": [
    {
     "data": {
      "text/plain": [
       "count      6921.000000\n",
       "mean         69.674613\n",
       "std        2237.328822\n",
       "min      -26449.000000\n",
       "25%          69.000000\n",
       "50%          69.000000\n",
       "75%          70.000000\n",
       "max      128474.000000\n",
       "Name: duur, dtype: float64"
      ]
     },
     "execution_count": 25,
     "metadata": {},
     "output_type": "execute_result"
    }
   ],
   "source": [
    "openen.duur.describe()"
   ]
  },
  {
   "cell_type": "code",
   "execution_count": 26,
   "metadata": {},
   "outputs": [],
   "source": [
    "sluitin = sluit[sluit.duur > 75]\n",
    "sluitout = sluit[sluit.duur < 75]"
   ]
  },
  {
   "cell_type": "code",
   "execution_count": 27,
   "metadata": {},
   "outputs": [
    {
     "data": {
      "text/plain": [
       "(5521, 5)"
      ]
     },
     "execution_count": 27,
     "metadata": {},
     "output_type": "execute_result"
    }
   ],
   "source": [
    "sluitin.shape"
   ]
  },
  {
   "cell_type": "code",
   "execution_count": 28,
   "metadata": {},
   "outputs": [
    {
     "data": {
      "text/plain": [
       "(614, 5)"
      ]
     },
     "execution_count": 28,
     "metadata": {},
     "output_type": "execute_result"
    }
   ],
   "source": [
    "sluitout.shape"
   ]
  },
  {
   "cell_type": "code",
   "execution_count": 29,
   "metadata": {},
   "outputs": [
    {
     "data": {
      "text/plain": [
       "2.2504724274179693"
      ]
     },
     "execution_count": 29,
     "metadata": {},
     "output_type": "execute_result"
    }
   ],
   "source": [
    "sluitPerOut = ((131/5821)*100)\n",
    "sluitPerOut"
   ]
  },
  {
   "cell_type": "code",
   "execution_count": 30,
   "metadata": {},
   "outputs": [],
   "source": [
    "openin = openen[(openen.duur >= 75) & (openen.duur <= 125)]\n",
    "openout = openen[(openen.duur < 75) | (openen.duur > 125)]"
   ]
  },
  {
   "cell_type": "code",
   "execution_count": 31,
   "metadata": {},
   "outputs": [
    {
     "data": {
      "text/plain": [
       "(67, 5)"
      ]
     },
     "execution_count": 31,
     "metadata": {},
     "output_type": "execute_result"
    }
   ],
   "source": [
    "openin.shape"
   ]
  },
  {
   "cell_type": "code",
   "execution_count": 32,
   "metadata": {},
   "outputs": [
    {
     "data": {
      "text/plain": [
       "(6854, 5)"
      ]
     },
     "execution_count": 32,
     "metadata": {},
     "output_type": "execute_result"
    }
   ],
   "source": [
    "openout.shape"
   ]
  },
  {
   "cell_type": "code",
   "execution_count": 33,
   "metadata": {},
   "outputs": [
    {
     "data": {
      "text/plain": [
       "4.401979184439515"
      ]
     },
     "execution_count": 33,
     "metadata": {},
     "output_type": "execute_result"
    }
   ],
   "source": [
    "openPerOut = ((258/5861)*100)\n",
    "openPerOut"
   ]
  },
  {
   "cell_type": "code",
   "execution_count": 34,
   "metadata": {},
   "outputs": [
    {
     "data": {
      "text/plain": [
       "<matplotlib.axes._subplots.AxesSubplot at 0x1eff9eaec18>"
      ]
     },
     "execution_count": 34,
     "metadata": {},
     "output_type": "execute_result"
    },
    {
     "data": {
      "image/png": "[encoded data removed]",
      "text/plain": [
       "<Figure size 432x288 with 1 Axes>"
      ]
     },
     "metadata": {
      "needs_background": "light"
     },
     "output_type": "display_data"
    }
   ],
   "source": [
    "# duur tegenover windkracht\n",
    "sluit.plot(x = \"duur\", y = 'Wk', style = '.', color = 'red')"
   ]
  },
  {
   "cell_type": "code",
   "execution_count": 35,
   "metadata": {},
   "outputs": [
    {
     "data": {
      "text/plain": [
       "<matplotlib.axes._subplots.AxesSubplot at 0x1eff9eae208>"
      ]
     },
     "execution_count": 35,
     "metadata": {},
     "output_type": "execute_result"
    },
    {
     "data": {
      "image/png": "[encoded data removed]",
      "text/plain": [
       "<Figure size 432x288 with 1 Axes>"
      ]
     },
     "metadata": {
      "needs_background": "light"
     },
     "output_type": "display_data"
    }
   ],
   "source": [
    "# Duur tegenover windrichting\n",
    "sluit.plot(x = \"duur\", y = 'WR', style = '.', color = 'purple')"
   ]
  },
  {
   "cell_type": "markdown",
   "metadata": {},
   "source": [
    "## Grafieken openen"
   ]
  },
  {
   "cell_type": "code",
   "execution_count": 36,
   "metadata": {},
   "outputs": [
    {
     "data": {
      "text/plain": [
       "<matplotlib.axes._subplots.AxesSubplot at 0x1efff0c2c88>"
      ]
     },
     "execution_count": 36,
     "metadata": {},
     "output_type": "execute_result"
    },
    {
     "data": {
      "image/png": "[encoded data removed]",
      "text/plain": [
       "<Figure size 432x288 with 1 Axes>"
      ]
     },
     "metadata": {
      "needs_background": "light"
     },
     "output_type": "display_data"
    }
   ],
   "source": [
    "# Duur tegenover windkracht\n",
    "openen.plot(x = \"duur\", y = 'Wk', style = '.', color = 'red')"
   ]
  },
  {
   "cell_type": "code",
   "execution_count": 37,
   "metadata": {},
   "outputs": [
    {
     "data": {
      "text/plain": [
       "<matplotlib.axes._subplots.AxesSubplot at 0x1f000f7cc50>"
      ]
     },
     "execution_count": 37,
     "metadata": {},
     "output_type": "execute_result"
    },
    {
     "data": {
      "image/png": "[encoded data removed]",
      "text/plain": [
       "<Figure size 432x288 with 1 Axes>"
      ]
     },
     "metadata": {
      "needs_background": "light"
     },
     "output_type": "display_data"
    }
   ],
   "source": [
    "# Duur tegenover Windrichting\n",
    "openen.plot(x = \"duur\", y = 'WR', style = '.', color = 'purple')"
   ]
  },
  {
   "cell_type": "markdown",
   "metadata": {},
   "source": [
    "## Data Cleaning"
   ]
  },
  {
   "cell_type": "code",
   "execution_count": 98,
   "metadata": {},
   "outputs": [
    {
     "data": {
      "text/html": [
       "<div>\n",
       "<style scoped>\n",
       "    .dataframe tbody tr th:only-of-type {\n",
       "        vertical-align: middle;\n",
       "    }\n",
       "\n",
       "    .dataframe tbody tr th {\n",
       "        vertical-align: top;\n",
       "    }\n",
       "\n",
       "    .dataframe thead th {\n",
       "        text-align: right;\n",
       "    }\n",
       "</style>\n",
       "<table border=\"1\" class=\"dataframe\">\n",
       "  <thead>\n",
       "    <tr style=\"text-align: right;\">\n",
       "      <th></th>\n",
       "      <th>duur</th>\n",
       "      <th>WR</th>\n",
       "      <th>Wk</th>\n",
       "    </tr>\n",
       "  </thead>\n",
       "  <tbody>\n",
       "    <tr>\n",
       "      <th>count</th>\n",
       "      <td>14269.000000</td>\n",
       "      <td>14269.000000</td>\n",
       "      <td>14269.000000</td>\n",
       "    </tr>\n",
       "    <tr>\n",
       "      <th>mean</th>\n",
       "      <td>72.590020</td>\n",
       "      <td>192.630668</td>\n",
       "      <td>1.888496</td>\n",
       "    </tr>\n",
       "    <tr>\n",
       "      <th>std</th>\n",
       "      <td>3.363936</td>\n",
       "      <td>71.245919</td>\n",
       "      <td>1.143501</td>\n",
       "    </tr>\n",
       "    <tr>\n",
       "      <th>min</th>\n",
       "      <td>66.000000</td>\n",
       "      <td>1.000000</td>\n",
       "      <td>0.000362</td>\n",
       "    </tr>\n",
       "    <tr>\n",
       "      <th>25%</th>\n",
       "      <td>69.000000</td>\n",
       "      <td>138.000000</td>\n",
       "      <td>1.052156</td>\n",
       "    </tr>\n",
       "    <tr>\n",
       "      <th>50%</th>\n",
       "      <td>73.000000</td>\n",
       "      <td>215.000000</td>\n",
       "      <td>1.676070</td>\n",
       "    </tr>\n",
       "    <tr>\n",
       "      <th>75%</th>\n",
       "      <td>76.000000</td>\n",
       "      <td>239.000000</td>\n",
       "      <td>2.495660</td>\n",
       "    </tr>\n",
       "    <tr>\n",
       "      <th>max</th>\n",
       "      <td>78.000000</td>\n",
       "      <td>358.000000</td>\n",
       "      <td>13.585069</td>\n",
       "    </tr>\n",
       "  </tbody>\n",
       "</table>\n",
       "</div>"
      ],
      "text/plain": [
       "               duur            WR            Wk\n",
       "count  14269.000000  14269.000000  14269.000000\n",
       "mean      72.590020    192.630668      1.888496\n",
       "std        3.363936     71.245919      1.143501\n",
       "min       66.000000      1.000000      0.000362\n",
       "25%       69.000000    138.000000      1.052156\n",
       "50%       73.000000    215.000000      1.676070\n",
       "75%       76.000000    239.000000      2.495660\n",
       "max       78.000000    358.000000     13.585069"
      ]
     },
     "execution_count": 98,
     "metadata": {},
     "output_type": "execute_result"
    }
   ],
   "source": [
    "# haal de outliers uit de data\n",
    "cleanDuur = duurWrWk[duurWrWk.duur >  65]\n",
    "cleanDuur = cleanDuur[cleanDuur.duur < 80]\n",
    "cleanDuur.describe()"
   ]
  },
  {
   "cell_type": "code",
   "execution_count": 99,
   "metadata": {},
   "outputs": [
    {
     "data": {
      "text/plain": [
       "<matplotlib.axes._subplots.AxesSubplot at 0x1ef7dd813c8>"
      ]
     },
     "execution_count": 99,
     "metadata": {},
     "output_type": "execute_result"
    },
    {
     "data": {
      "image/png": "[encoded data removed]",
      "text/plain": [
       "<Figure size 432x288 with 1 Axes>"
      ]
     },
     "metadata": {
      "needs_background": "light"
     },
     "output_type": "display_data"
    }
   ],
   "source": [
    "cleanDuur.boxplot('duur')"
   ]
  },
  {
   "cell_type": "markdown",
   "metadata": {},
   "source": [
    "## Duur van openen bruggen over de tijd"
   ]
  },
  {
   "cell_type": "code",
   "execution_count": 100,
   "metadata": {},
   "outputs": [],
   "source": [
    "cleanOpen = cleanDuur[cleanDuur.beweging == False]"
   ]
  },
  {
   "cell_type": "code",
   "execution_count": 101,
   "metadata": {},
   "outputs": [
    {
     "data": {
      "text/plain": [
       "<matplotlib.axes._subplots.AxesSubplot at 0x1ef7dfab978>"
      ]
     },
     "execution_count": 101,
     "metadata": {},
     "output_type": "execute_result"
    },
    {
     "data": {
      "image/png": "[encoded data removed]",
      "text/plain": [
       "<Figure size 432x288 with 1 Axes>"
      ]
     },
     "metadata": {
      "needs_background": "light"
     },
     "output_type": "display_data"
    }
   ],
   "source": [
    "cleanOpen.plot(x = 'time', y ='duur', style = '.')"
   ]
  },
  {
   "cell_type": "markdown",
   "metadata": {},
   "source": [
    "## Duur van sluiten bruggen over de tijd"
   ]
  },
  {
   "cell_type": "code",
   "execution_count": 102,
   "metadata": {},
   "outputs": [],
   "source": [
    "cleanSluit = cleanDuur[cleanDuur.beweging == True]"
   ]
  },
  {
   "cell_type": "code",
   "execution_count": 103,
   "metadata": {},
   "outputs": [
    {
     "data": {
      "text/plain": [
       "<matplotlib.axes._subplots.AxesSubplot at 0x1ef7e51cbe0>"
      ]
     },
     "execution_count": 103,
     "metadata": {},
     "output_type": "execute_result"
    },
    {
     "data": {
      "image/png": "[encoded data removed]",
      "text/plain": [
       "<Figure size 432x288 with 1 Axes>"
      ]
     },
     "metadata": {
      "needs_background": "light"
     },
     "output_type": "display_data"
    }
   ],
   "source": [
    "cleanSluit.plot(x = \"time\", y = 'duur', style = '.')"
   ]
  },
  {
   "cell_type": "markdown",
   "metadata": {},
   "source": [
    "## data prep voor dagdeel"
   ]
  },
  {
   "cell_type": "code",
   "execution_count": 104,
   "metadata": {},
   "outputs": [
    {
     "name": "stderr",
     "output_type": "stream",
     "text": [
      "C:\\Users\\denni\\Anaconda3\\lib\\site-packages\\ipykernel_launcher.py:2: SettingWithCopyWarning: \n",
      "A value is trying to be set on a copy of a slice from a DataFrame.\n",
      "Try using .loc[row_indexer,col_indexer] = value instead\n",
      "\n",
      "See the caveats in the documentation: http://pandas.pydata.org/pandas-docs/stable/indexing.html#indexing-view-versus-copy\n",
      "  \n",
      "C:\\Users\\denni\\Anaconda3\\lib\\site-packages\\ipykernel_launcher.py:3: SettingWithCopyWarning: \n",
      "A value is trying to be set on a copy of a slice from a DataFrame.\n",
      "Try using .loc[row_indexer,col_indexer] = value instead\n",
      "\n",
      "See the caveats in the documentation: http://pandas.pydata.org/pandas-docs/stable/indexing.html#indexing-view-versus-copy\n",
      "  This is separate from the ipykernel package so we can avoid doing imports until\n"
     ]
    }
   ],
   "source": [
    "# Uur kolom maken om dagdeel te bepalen.\n",
    "cleanOpen['uur'] = cleanOpen.time.dt.hour\n",
    "cleanSluit['uur'] = cleanSluit.time.dt.hour\n",
    "cleanDuur['uur'] = cleanDuur.time.dt.hour"
   ]
  },
  {
   "cell_type": "markdown",
   "metadata": {},
   "source": [
    "# Boxplots\n",
    "## Boxplots per dagdeel"
   ]
  },
  {
   "cell_type": "code",
   "execution_count": 105,
   "metadata": {},
   "outputs": [
    {
     "data": {
      "text/plain": [
       "([<matplotlib.axis.XTick at 0x1ef7f2683c8>,\n",
       "  <matplotlib.axis.XTick at 0x1ef7e345b70>,\n",
       "  <matplotlib.axis.XTick at 0x1ef7e345320>,\n",
       "  <matplotlib.axis.XTick at 0x1ef7fb76470>],\n",
       " <a list of 4 Text xticklabel objects>)"
      ]
     },
     "execution_count": 105,
     "metadata": {},
     "output_type": "execute_result"
    },
    {
     "data": {
      "image/png": "[encoded data removed]",
      "text/plain": [
       "<Figure size 432x288 with 1 Axes>"
      ]
     },
     "metadata": {
      "needs_background": "light"
     },
     "output_type": "display_data"
    }
   ],
   "source": [
    "ochtendDuur = cleanDuur[((cleanDuur.uur >= 6)  & (cleanDuur.uur <= 12))]\n",
    "middagDuur = cleanDuur[((cleanDuur.uur >= 13)  & (cleanDuur.uur <= 18))]\n",
    "avondDuur = cleanDuur[((cleanDuur.uur >= 19)  & (cleanDuur.uur <= 24))]\n",
    "nachtDuur = cleanDuur[((cleanDuur.uur >= 0)  & (cleanDuur.uur <= 5))]\n",
    "data  = [cleanDuur.duur, ochtendDuur.duur, middagDuur.duur, avondDuur.duur, nachtDuur.duur]\n",
    "plt.boxplot(data)\n",
    "plt.xticks([1, 2, 3, 4], ('alles','ochtend', 'middag','avond', 'nacht'))"
   ]
  },
  {
   "cell_type": "markdown",
   "metadata": {},
   "source": [
    "## Boxplot openen dagdeel"
   ]
  },
  {
   "cell_type": "code",
   "execution_count": 106,
   "metadata": {},
   "outputs": [
    {
     "data": {
      "text/plain": [
       "Text(0, 0.5, 'Duur (s)')"
      ]
     },
     "execution_count": 106,
     "metadata": {},
     "output_type": "execute_result"
    },
    {
     "data": {
      "image/png": "[encoded data removed]",
      "text/plain": [
       "<Figure size 1152x648 with 1 Axes>"
      ]
     },
     "metadata": {
      "needs_background": "light"
     },
     "output_type": "display_data"
    }
   ],
   "source": [
    "# maak nieuwe dataframes met daarin alle ochtend, middag en avond openingen.\n",
    "# Deze brug opent in deze periode niet s'nachts\n",
    "\n",
    "ochtendDuurOpen = cleanOpen[((cleanOpen.uur >= 6)  & (cleanOpen.uur <= 12))]\n",
    "middagDuurOpen= cleanOpen[((cleanOpen.uur >= 13)  & (cleanOpen.uur <= 18))]\n",
    "avondDuurOpen = cleanOpen[((cleanOpen.uur >= 19)  & (cleanOpen.uur <= 24))]\n",
    "\n",
    "# selecteer de data om in de boxplot te zetten\n",
    "dataOpen  = [cleanOpen.duur, ochtendDuurOpen.duur, middagDuurOpen.duur, avondDuurOpen.duur]\n",
    "\n",
    "# Boxplot\n",
    "plt.figure(figsize=(16,9))\n",
    "plt.boxplot(dataOpen)\n",
    "plt.xticks([1, 2, 3, 4], ('Totaal','ochtend', 'middag','avond'))\n",
    "plt.title('Duur van openen van brug WT per dagdeel van 1-1-2016 tot 4-11-2016')\n",
    "plt.ylabel('Duur (s)')"
   ]
  },
  {
   "cell_type": "markdown",
   "metadata": {},
   "source": [
    "## Boxplot sluiten per dagdeel"
   ]
  },
  {
   "cell_type": "code",
   "execution_count": 107,
   "metadata": {},
   "outputs": [
    {
     "data": {
      "text/plain": [
       "Text(0, 0.5, 'Duur (s)')"
      ]
     },
     "execution_count": 107,
     "metadata": {},
     "output_type": "execute_result"
    },
    {
     "data": {
      "image/png": "[encoded data removed]",
      "text/plain": [
       "<Figure size 1152x648 with 1 Axes>"
      ]
     },
     "metadata": {
      "needs_background": "light"
     },
     "output_type": "display_data"
    }
   ],
   "source": [
    "ochtendDuurSluit = cleanSluit[((cleanSluit.uur >= 6)  & (cleanSluit.uur <= 12))]\n",
    "middagDuurSluit= cleanSluit[((cleanSluit.uur >= 13)  & (cleanSluit.uur <= 18))]\n",
    "avondDuurSluit = cleanSluit[((cleanSluit.uur >= 19)  & (cleanSluit.uur <= 24))]\n",
    "dataSluit  = [cleanSluit.duur, ochtendDuurSluit.duur, middagDuurSluit.duur, avondDuurSluit.duur]\n",
    "plt.figure(figsize=(16,9))\n",
    "plt.boxplot(dataSluit)\n",
    "plt.xticks([1, 2, 3, 4], ('Totaal','ochtend', 'middag','avond'))\n",
    "plt.title('Duur van sluiten van brug WT per dagdeel van 1-1-2016 tot 4-11-2016')\n",
    "plt.ylabel('Duur (s)')"
   ]
  },
  {
   "cell_type": "markdown",
   "metadata": {},
   "source": [
    "## Boxplots per windrichting"
   ]
  },
  {
   "cell_type": "code",
   "execution_count": 108,
   "metadata": {},
   "outputs": [
    {
     "data": {
      "text/plain": [
       "([<matplotlib.axis.XTick at 0x1ef00098a90>,\n",
       "  <matplotlib.axis.XTick at 0x1ef000983c8>,\n",
       "  <matplotlib.axis.XTick at 0x1ef00098278>,\n",
       "  <matplotlib.axis.XTick at 0x1ef0172de80>,\n",
       "  <matplotlib.axis.XTick at 0x1ef01741358>,\n",
       "  <matplotlib.axis.XTick at 0x1ef01741828>,\n",
       "  <matplotlib.axis.XTick at 0x1ef01741cf8>,\n",
       "  <matplotlib.axis.XTick at 0x1ef01963208>,\n",
       "  <matplotlib.axis.XTick at 0x1ef019636d8>],\n",
       " <a list of 9 Text xticklabel objects>)"
      ]
     },
     "execution_count": 108,
     "metadata": {},
     "output_type": "execute_result"
    },
    {
     "data": {
      "image/png": "[encoded data removed]",
      "text/plain": [
       "<Figure size 432x288 with 1 Axes>"
      ]
     },
     "metadata": {
      "needs_background": "light"
     },
     "output_type": "display_data"
    }
   ],
   "source": [
    "cleanDuur['N'] = ((cleanDuur.WR >= 0) & (cleanDuur.WR <= 22.5) | (cleanDuur.WR >= 337.6) & (cleanDuur.WR <= 360)).astype('int')\n",
    "cleanDuur['NO'] = ((cleanDuur.WR >=22.6) & (cleanDuur.WR <= 67.5)).astype('int')\n",
    "cleanDuur['O'] = ((cleanDuur.WR >=67.6) & (cleanDuur.WR <= 112.5)).astype('int')\n",
    "cleanDuur['ZO'] = ((cleanDuur.WR >=112.6) & (cleanDuur.WR <= 157.5)).astype('int')\n",
    "cleanDuur['Z'] = ((cleanDuur.WR >=157.6) & (cleanDuur.WR <= 202.5)).astype('int')\n",
    "cleanDuur['ZW'] = ((cleanDuur.WR >=202.6) & (cleanDuur.WR <= 247.2)).astype('int')\n",
    "cleanDuur['W'] = ((cleanDuur.WR>=247.6) & (cleanDuur.WR <= 292.5)).astype('int')\n",
    "cleanDuur['NW'] = ((cleanDuur.WR >=292.6) & (cleanDuur.WR <= 337.5)).astype('int')\n",
    "\n",
    "N = cleanDuur[cleanDuur.N == 1]\n",
    "NO = cleanDuur[cleanDuur.NO == 1]\n",
    "O = cleanDuur[cleanDuur.O == 1]\n",
    "ZO = cleanDuur[cleanDuur.ZO == 1]\n",
    "Z = cleanDuur[cleanDuur.Z == 1]\n",
    "ZW = cleanDuur[cleanDuur.ZW == 1]\n",
    "W = cleanDuur[cleanDuur.W == 1]\n",
    "NW = cleanDuur[cleanDuur.NW == 1]\n",
    "\n",
    "data = [cleanDuur.duur, N.duur,NO.duur,O.duur,ZO.duur,Z.duur, ZW.duur, W.duur, NW.duur]\n",
    "plt.boxplot(data)\n",
    "plt.xticks([1, 2, 3, 4, 5, 6, 7, 8, 9], ('Totaal','N','NO','O','ZO' ,'Z' ,'ZW','W','NW'))"
   ]
  },
  {
   "cell_type": "markdown",
   "metadata": {},
   "source": [
    "## Boxplot duur openen per windrichting"
   ]
  },
  {
   "cell_type": "code",
   "execution_count": 109,
   "metadata": {},
   "outputs": [
    {
     "data": {
      "text/plain": [
       "Text(0, 0.5, 'Duur (s)')"
      ]
     },
     "execution_count": 109,
     "metadata": {},
     "output_type": "execute_result"
    },
    {
     "data": {
      "image/png": "[encoded data removed]",
      "text/plain": [
       "<Figure size 1152x648 with 1 Axes>"
      ]
     },
     "metadata": {
      "needs_background": "light"
     },
     "output_type": "display_data"
    }
   ],
   "source": [
    "# dataframes aanmaken met alleen de data per windrichting, dus dataframe voor Noord, Oost, etc.\n",
    "openN = cleanOpen[((cleanOpen.WR >= 0) & (cleanOpen.WR <= 22.5) | (cleanOpen.WR >= 337.6) & (cleanOpen.WR <= 360))]\n",
    "openNO = cleanOpen[((cleanOpen.WR >=22.6) & (cleanOpen.WR <= 67.5))]\n",
    "openO = cleanOpen[((cleanOpen.WR >=67.6) & (cleanOpen.WR <= 112.5))]\n",
    "openZO = cleanOpen[((cleanOpen.WR >=112.6) & (cleanOpen.WR <= 157.5))]\n",
    "openZ = cleanOpen[((cleanOpen.WR >=157.6) & (cleanOpen.WR <= 202.5))]\n",
    "openZW = cleanOpen[((cleanOpen.WR >=202.6) & (cleanOpen.WR <= 247.2))]\n",
    "openW = cleanOpen[((cleanOpen.WR>=247.6) & (cleanOpen.WR <= 292.5))]\n",
    "openNW = cleanOpen[((cleanOpen.WR >=292.6) & (cleanOpen.WR <= 337.5))]\n",
    "\n",
    "# selecteer data voor plot\n",
    "data = [cleanOpen.duur, openN.duur,openNO.duur,openO.duur,openZO.duur,openZ.duur, openZW.duur, openW.duur, openNW.duur]\n",
    "\n",
    "# Boxplot\n",
    "plt.figure(figsize=(16,9))\n",
    "plt.boxplot(data)\n",
    "plt.xticks([1, 2, 3, 4, 5, 6, 7, 8, 9], ('Totaal','N','NO','O','ZO' ,'Z' ,'ZW','W','NW'))\n",
    "plt.title('Duur van opening brug WT per windrichting van 1-1-2016 tot 4-11-2016')\n",
    "plt.ylabel('Duur (s)')"
   ]
  },
  {
   "cell_type": "markdown",
   "metadata": {},
   "source": [
    "## Boxplot duur sluiten per windrichting"
   ]
  },
  {
   "cell_type": "code",
   "execution_count": 110,
   "metadata": {},
   "outputs": [
    {
     "data": {
      "text/plain": [
       "Text(0, 0.5, 'Duur (s)')"
      ]
     },
     "execution_count": 110,
     "metadata": {},
     "output_type": "execute_result"
    },
    {
     "data": {
      "image/png": "[encoded data removed]",
      "text/plain": [
       "<Figure size 1152x648 with 1 Axes>"
      ]
     },
     "metadata": {
      "needs_background": "light"
     },
     "output_type": "display_data"
    }
   ],
   "source": [
    "sluitN = cleanSluit[((cleanSluit.WR >= 0) & (cleanSluit.WR <= 22.5) | (cleanSluit.WR >= 337.6) & (cleanSluit.WR <= 360))]\n",
    "sluitNO = cleanSluit[((cleanSluit.WR >=22.6) & (cleanSluit.WR <= 67.5))]\n",
    "sluitO = cleanSluit[((cleanSluit.WR >=67.6) & (cleanSluit.WR <= 112.5))]\n",
    "sluitZO = cleanSluit[((cleanSluit.WR >=112.6) & (cleanSluit.WR <= 157.5))]\n",
    "sluitZ = cleanSluit[((cleanSluit.WR >=157.6) & (cleanSluit.WR <= 202.5))]\n",
    "sluitZW = cleanSluit[((cleanSluit.WR >=202.6) & (cleanSluit.WR <= 247.2))]\n",
    "sluitW = cleanSluit[((cleanSluit.WR>=247.6) & (cleanSluit.WR <= 292.5))]\n",
    "sluitNW = cleanSluit[((cleanSluit.WR >=292.6) & (cleanSluit.WR <= 337.5))]\n",
    "\n",
    "data = [cleanSluit.duur, sluitN.duur,sluitNO.duur,sluitO.duur,sluitZO.duur,sluitZ.duur, sluitZW.duur, sluitW.duur, sluitNW.duur]\n",
    "\n",
    "plt.figure(figsize=(16,9))\n",
    "plt.boxplot(data)\n",
    "plt.xticks([1, 2, 3, 4, 5, 6, 7, 8, 9], ('Totaal','N','NO','O','ZO' ,'Z' ,'ZW','W','NW'))\n",
    "plt.title('Duur van sluiting brug WT per windrichting van 1-1-2016 tot 4-11-2016')\n",
    "plt.ylabel('Duur (s)')"
   ]
  },
  {
   "cell_type": "markdown",
   "metadata": {},
   "source": [
    "# Scatter duur openen"
   ]
  },
  {
   "cell_type": "code",
   "execution_count": 111,
   "metadata": {},
   "outputs": [
    {
     "name": "stderr",
     "output_type": "stream",
     "text": [
      "C:\\Users\\denni\\Anaconda3\\lib\\site-packages\\ipykernel_launcher.py:21: SettingWithCopyWarning: \n",
      "A value is trying to be set on a copy of a slice from a DataFrame.\n",
      "Try using .loc[row_indexer,col_indexer] = value instead\n",
      "\n",
      "See the caveats in the documentation: http://pandas.pydata.org/pandas-docs/stable/indexing.html#indexing-view-versus-copy\n"
     ]
    },
    {
     "data": {
      "text/html": [
       "<div>\n",
       "<style scoped>\n",
       "    .dataframe tbody tr th:only-of-type {\n",
       "        vertical-align: middle;\n",
       "    }\n",
       "\n",
       "    .dataframe tbody tr th {\n",
       "        vertical-align: top;\n",
       "    }\n",
       "\n",
       "    .dataframe thead th {\n",
       "        text-align: right;\n",
       "    }\n",
       "</style>\n",
       "<table border=\"1\" class=\"dataframe\">\n",
       "  <thead>\n",
       "    <tr style=\"text-align: right;\">\n",
       "      <th></th>\n",
       "      <th>duur</th>\n",
       "      <th>beweging</th>\n",
       "      <th>time</th>\n",
       "      <th>WR</th>\n",
       "      <th>Wk</th>\n",
       "      <th>uur</th>\n",
       "      <th>WRbin</th>\n",
       "    </tr>\n",
       "  </thead>\n",
       "  <tbody>\n",
       "    <tr>\n",
       "      <th>0</th>\n",
       "      <td>69</td>\n",
       "      <td>False</td>\n",
       "      <td>2015-12-02 09:04:37.049</td>\n",
       "      <td>256.0</td>\n",
       "      <td>0.889757</td>\n",
       "      <td>9</td>\n",
       "      <td>6</td>\n",
       "    </tr>\n",
       "    <tr>\n",
       "      <th>8</th>\n",
       "      <td>68</td>\n",
       "      <td>False</td>\n",
       "      <td>2015-12-02 13:38:46.247</td>\n",
       "      <td>245.0</td>\n",
       "      <td>3.537326</td>\n",
       "      <td>13</td>\n",
       "      <td>5</td>\n",
       "    </tr>\n",
       "    <tr>\n",
       "      <th>10</th>\n",
       "      <td>69</td>\n",
       "      <td>False</td>\n",
       "      <td>2015-12-02 14:36:18.254</td>\n",
       "      <td>236.0</td>\n",
       "      <td>1.605903</td>\n",
       "      <td>14</td>\n",
       "      <td>5</td>\n",
       "    </tr>\n",
       "    <tr>\n",
       "      <th>12</th>\n",
       "      <td>69</td>\n",
       "      <td>False</td>\n",
       "      <td>2015-12-02 17:08:45.359</td>\n",
       "      <td>204.0</td>\n",
       "      <td>0.694444</td>\n",
       "      <td>17</td>\n",
       "      <td>5</td>\n",
       "    </tr>\n",
       "    <tr>\n",
       "      <th>14</th>\n",
       "      <td>69</td>\n",
       "      <td>False</td>\n",
       "      <td>2015-12-02 17:36:13.867</td>\n",
       "      <td>226.0</td>\n",
       "      <td>2.256944</td>\n",
       "      <td>17</td>\n",
       "      <td>5</td>\n",
       "    </tr>\n",
       "  </tbody>\n",
       "</table>\n",
       "</div>"
      ],
      "text/plain": [
       "    duur  beweging                    time     WR        Wk  uur  WRbin\n",
       "0     69     False 2015-12-02 09:04:37.049  256.0  0.889757    9      6\n",
       "8     68     False 2015-12-02 13:38:46.247  245.0  3.537326   13      5\n",
       "10    69     False 2015-12-02 14:36:18.254  236.0  1.605903   14      5\n",
       "12    69     False 2015-12-02 17:08:45.359  204.0  0.694444   17      5\n",
       "14    69     False 2015-12-02 17:36:13.867  226.0  2.256944   17      5"
      ]
     },
     "execution_count": 111,
     "metadata": {},
     "output_type": "execute_result"
    }
   ],
   "source": [
    "wrbin = list()\n",
    "for index, row in cleanOpen.iterrows():\n",
    "    wr = row[3]\n",
    "    wk = row[4]\n",
    "    if(((wr >= 0) & (wr<=22.5))| ((wr >= 337.6) & (wr<=360))):\n",
    "        wrbin.append(0)      \n",
    "    elif((wr >= 22.6) & (wr<=67.5)):\n",
    "        wrbin.append(1)\n",
    "    elif((wr >= 67.6) & (wr<=112.5)):\n",
    "        wrbin.append(2)\n",
    "    elif((wr >= 112.6) & (wr<=157.5)):\n",
    "        wrbin.append(3)\n",
    "    elif((wr >= 157.6) & (wr<=202.5)):\n",
    "        wrbin.append(4)\n",
    "    elif((wr >= 202.6) & (wr<=247.5)):\n",
    "        wrbin.append(5)\n",
    "    elif((wr >= 247.6) & (wr<=292.5)):\n",
    "        wrbin.append(6)\n",
    "    elif((wr >= 292.6) & (wr<=337.5)):\n",
    "        wrbin.append(7)\n",
    "cleanOpen['WRbin'] = wrbin\n",
    "cleanOpen.head()"
   ]
  },
  {
   "cell_type": "code",
   "execution_count": 112,
   "metadata": {},
   "outputs": [
    {
     "data": {
      "text/plain": [
       "count    6748.000000\n",
       "mean        1.885509\n",
       "std         1.135143\n",
       "min         0.000362\n",
       "25%         1.047634\n",
       "50%         1.678421\n",
       "75%         2.500000\n",
       "max        10.633680\n",
       "Name: Wk, dtype: float64"
      ]
     },
     "execution_count": 112,
     "metadata": {},
     "output_type": "execute_result"
    }
   ],
   "source": [
    "cleanOpen.Wk.describe()"
   ]
  },
  {
   "cell_type": "code",
   "execution_count": 113,
   "metadata": {},
   "outputs": [
    {
     "name": "stderr",
     "output_type": "stream",
     "text": [
      "C:\\Users\\denni\\Anaconda3\\lib\\site-packages\\ipykernel_launcher.py:26: SettingWithCopyWarning: \n",
      "A value is trying to be set on a copy of a slice from a DataFrame.\n",
      "Try using .loc[row_indexer,col_indexer] = value instead\n",
      "\n",
      "See the caveats in the documentation: http://pandas.pydata.org/pandas-docs/stable/indexing.html#indexing-view-versus-copy\n"
     ]
    },
    {
     "data": {
      "text/html": [
       "<div>\n",
       "<style scoped>\n",
       "    .dataframe tbody tr th:only-of-type {\n",
       "        vertical-align: middle;\n",
       "    }\n",
       "\n",
       "    .dataframe tbody tr th {\n",
       "        vertical-align: top;\n",
       "    }\n",
       "\n",
       "    .dataframe thead th {\n",
       "        text-align: right;\n",
       "    }\n",
       "</style>\n",
       "<table border=\"1\" class=\"dataframe\">\n",
       "  <thead>\n",
       "    <tr style=\"text-align: right;\">\n",
       "      <th></th>\n",
       "      <th>duur</th>\n",
       "      <th>beweging</th>\n",
       "      <th>time</th>\n",
       "      <th>WR</th>\n",
       "      <th>Wk</th>\n",
       "      <th>uur</th>\n",
       "      <th>WRbin</th>\n",
       "      <th>WKbin</th>\n",
       "    </tr>\n",
       "  </thead>\n",
       "  <tbody>\n",
       "    <tr>\n",
       "      <th>0</th>\n",
       "      <td>69</td>\n",
       "      <td>False</td>\n",
       "      <td>2015-12-02 09:04:37.049</td>\n",
       "      <td>256.0</td>\n",
       "      <td>0.889757</td>\n",
       "      <td>9</td>\n",
       "      <td>6</td>\n",
       "      <td>1</td>\n",
       "    </tr>\n",
       "    <tr>\n",
       "      <th>8</th>\n",
       "      <td>68</td>\n",
       "      <td>False</td>\n",
       "      <td>2015-12-02 13:38:46.247</td>\n",
       "      <td>245.0</td>\n",
       "      <td>3.537326</td>\n",
       "      <td>13</td>\n",
       "      <td>5</td>\n",
       "      <td>3</td>\n",
       "    </tr>\n",
       "    <tr>\n",
       "      <th>10</th>\n",
       "      <td>69</td>\n",
       "      <td>False</td>\n",
       "      <td>2015-12-02 14:36:18.254</td>\n",
       "      <td>236.0</td>\n",
       "      <td>1.605903</td>\n",
       "      <td>14</td>\n",
       "      <td>5</td>\n",
       "      <td>2</td>\n",
       "    </tr>\n",
       "    <tr>\n",
       "      <th>12</th>\n",
       "      <td>69</td>\n",
       "      <td>False</td>\n",
       "      <td>2015-12-02 17:08:45.359</td>\n",
       "      <td>204.0</td>\n",
       "      <td>0.694444</td>\n",
       "      <td>17</td>\n",
       "      <td>5</td>\n",
       "      <td>1</td>\n",
       "    </tr>\n",
       "    <tr>\n",
       "      <th>14</th>\n",
       "      <td>69</td>\n",
       "      <td>False</td>\n",
       "      <td>2015-12-02 17:36:13.867</td>\n",
       "      <td>226.0</td>\n",
       "      <td>2.256944</td>\n",
       "      <td>17</td>\n",
       "      <td>5</td>\n",
       "      <td>2</td>\n",
       "    </tr>\n",
       "  </tbody>\n",
       "</table>\n",
       "</div>"
      ],
      "text/plain": [
       "    duur  beweging                    time     WR        Wk  uur  WRbin  WKbin\n",
       "0     69     False 2015-12-02 09:04:37.049  256.0  0.889757    9      6      1\n",
       "8     68     False 2015-12-02 13:38:46.247  245.0  3.537326   13      5      3\n",
       "10    69     False 2015-12-02 14:36:18.254  236.0  1.605903   14      5      2\n",
       "12    69     False 2015-12-02 17:08:45.359  204.0  0.694444   17      5      1\n",
       "14    69     False 2015-12-02 17:36:13.867  226.0  2.256944   17      5      2"
      ]
     },
     "execution_count": 113,
     "metadata": {},
     "output_type": "execute_result"
    }
   ],
   "source": [
    "wkbin = list()\n",
    "for index, row in cleanOpen.iterrows():\n",
    "    wk = row[4]\n",
    "    if((wk >= 0) & (wk<=0.2)):\n",
    "        wkbin.append(0)      \n",
    "    elif((wk > 0.2) & (wk<=1.5)):\n",
    "        wkbin.append(1)\n",
    "    elif((wk > 1.5) & (wk<=3.3)):\n",
    "        wkbin.append(2)\n",
    "    elif((wk > 3.3) & (wk<=5.4)):\n",
    "        wkbin.append(3)\n",
    "    elif((wk > 5.4) & (wk<=7.9)):\n",
    "        wkbin.append(4)\n",
    "    elif((wk > 7.9) & (wk<=10.7)):\n",
    "        wkbin.append(5)\n",
    "    elif((wk > 10.7) & (wk<=13.8)):\n",
    "        wkbin.append(6)\n",
    "    elif((wk > 13.8) & (wk<=17.1)):\n",
    "        wkbin.append(7)\n",
    "    elif((wk > 17.1) & (wk<=20.7)):\n",
    "        wkbin.append(8)   \n",
    "    elif((wk > 20.7) & (wk<=24.4)):\n",
    "        wkbin.append(9)\n",
    "    elif((wk > 24.4) & (wk<=28.4)):\n",
    "        wkbin.append(10)\n",
    "cleanOpen['WKbin'] = wkbin\n",
    "cleanOpen.head()\n"
   ]
  },
  {
   "cell_type": "code",
   "execution_count": 114,
   "metadata": {},
   "outputs": [
    {
     "data": {
      "text/plain": [
       "Text(0.5, 1.0, 'Duur per windrichting')"
      ]
     },
     "execution_count": 114,
     "metadata": {},
     "output_type": "execute_result"
    },
    {
     "data": {
      "image/png": "[encoded data removed]",
      "text/plain": [
       "<Figure size 432x288 with 1 Axes>"
      ]
     },
     "metadata": {
      "needs_background": "light"
     },
     "output_type": "display_data"
    }
   ],
   "source": [
    "fig, ax = plt.subplots()\n",
    "scatter = ax.scatter(cleanOpen.WR, cleanOpen.duur, c = cleanOpen.WRbin,  s=50, cmap='gnuplot')\n",
    "ax.set_title(\"Duur per windrichting\")"
   ]
  },
  {
   "cell_type": "code",
   "execution_count": 115,
   "metadata": {},
   "outputs": [
    {
     "data": {
      "text/plain": [
       "Text(0.5, 1.0, 'Duur per windrichting')"
      ]
     },
     "execution_count": 115,
     "metadata": {},
     "output_type": "execute_result"
    },
    {
     "data": {
      "image/png": "[encoded data removed]",
      "text/plain": [
       "<Figure size 432x288 with 1 Axes>"
      ]
     },
     "metadata": {
      "needs_background": "light"
     },
     "output_type": "display_data"
    }
   ],
   "source": [
    "fig, ax = plt.subplots()\n",
    "scatter = ax.scatter(cleanOpen.WR, cleanOpen.duur, c = cleanOpen.WKbin,  s=50, cmap='gnuplot')\n",
    "ax.set_title(\"Duur per windrichting\")"
   ]
  },
  {
   "cell_type": "code",
   "execution_count": 116,
   "metadata": {},
   "outputs": [
    {
     "data": {
      "text/plain": [
       "Text(0.5, 1.0, 'Duur per windkracht')"
      ]
     },
     "execution_count": 116,
     "metadata": {},
     "output_type": "execute_result"
    },
    {
     "data": {
      "image/png": "[encoded data removed]",
      "text/plain": [
       "<Figure size 432x288 with 1 Axes>"
      ]
     },
     "metadata": {
      "needs_background": "light"
     },
     "output_type": "display_data"
    }
   ],
   "source": [
    "fig, ax = plt.subplots()\n",
    "scatter = ax.scatter(cleanOpen.Wk, cleanOpen.duur, c = cleanOpen.WKbin,  s=50, cmap='gnuplot')\n",
    "ax.set_title(\"Duur per windkracht\")"
   ]
  },
  {
   "cell_type": "code",
   "execution_count": 117,
   "metadata": {},
   "outputs": [
    {
     "data": {
      "text/plain": [
       "Text(0.5, 1.0, 'Duur per windkracht')"
      ]
     },
     "execution_count": 117,
     "metadata": {},
     "output_type": "execute_result"
    },
    {
     "data": {
      "image/png": "[encoded data removed]",
      "text/plain": [
       "<Figure size 432x288 with 1 Axes>"
      ]
     },
     "metadata": {
      "needs_background": "light"
     },
     "output_type": "display_data"
    }
   ],
   "source": [
    "fig, ax = plt.subplots()\n",
    "scatter = ax.scatter(cleanOpen.Wk, cleanOpen.duur, c = cleanOpen.WRbin,  s=50, cmap='gnuplot')\n",
    "ax.set_title(\"Duur per windkracht\")"
   ]
  },
  {
   "cell_type": "markdown",
   "metadata": {},
   "source": [
    "# Scatter duur sluiten"
   ]
  },
  {
   "cell_type": "code",
   "execution_count": 118,
   "metadata": {},
   "outputs": [
    {
     "name": "stderr",
     "output_type": "stream",
     "text": [
      "C:\\Users\\denni\\Anaconda3\\lib\\site-packages\\ipykernel_launcher.py:21: SettingWithCopyWarning: \n",
      "A value is trying to be set on a copy of a slice from a DataFrame.\n",
      "Try using .loc[row_indexer,col_indexer] = value instead\n",
      "\n",
      "See the caveats in the documentation: http://pandas.pydata.org/pandas-docs/stable/indexing.html#indexing-view-versus-copy\n"
     ]
    },
    {
     "data": {
      "text/html": [
       "<div>\n",
       "<style scoped>\n",
       "    .dataframe tbody tr th:only-of-type {\n",
       "        vertical-align: middle;\n",
       "    }\n",
       "\n",
       "    .dataframe tbody tr th {\n",
       "        vertical-align: top;\n",
       "    }\n",
       "\n",
       "    .dataframe thead th {\n",
       "        text-align: right;\n",
       "    }\n",
       "</style>\n",
       "<table border=\"1\" class=\"dataframe\">\n",
       "  <thead>\n",
       "    <tr style=\"text-align: right;\">\n",
       "      <th></th>\n",
       "      <th>duur</th>\n",
       "      <th>beweging</th>\n",
       "      <th>time</th>\n",
       "      <th>WR</th>\n",
       "      <th>Wk</th>\n",
       "      <th>uur</th>\n",
       "      <th>WRbin</th>\n",
       "    </tr>\n",
       "  </thead>\n",
       "  <tbody>\n",
       "    <tr>\n",
       "      <th>1</th>\n",
       "      <td>75</td>\n",
       "      <td>True</td>\n",
       "      <td>2015-12-02 09:07:36.553</td>\n",
       "      <td>212.0</td>\n",
       "      <td>1.106771</td>\n",
       "      <td>9</td>\n",
       "      <td>5</td>\n",
       "    </tr>\n",
       "    <tr>\n",
       "      <th>2</th>\n",
       "      <td>69</td>\n",
       "      <td>True</td>\n",
       "      <td>2015-12-02 10:12:38.240</td>\n",
       "      <td>242.0</td>\n",
       "      <td>0.217014</td>\n",
       "      <td>10</td>\n",
       "      <td>5</td>\n",
       "    </tr>\n",
       "    <tr>\n",
       "      <th>3</th>\n",
       "      <td>75</td>\n",
       "      <td>True</td>\n",
       "      <td>2015-12-02 10:15:32.242</td>\n",
       "      <td>234.0</td>\n",
       "      <td>1.345486</td>\n",
       "      <td>10</td>\n",
       "      <td>5</td>\n",
       "    </tr>\n",
       "    <tr>\n",
       "      <th>4</th>\n",
       "      <td>69</td>\n",
       "      <td>True</td>\n",
       "      <td>2015-12-02 11:36:03.144</td>\n",
       "      <td>120.0</td>\n",
       "      <td>0.499132</td>\n",
       "      <td>11</td>\n",
       "      <td>3</td>\n",
       "    </tr>\n",
       "    <tr>\n",
       "      <th>5</th>\n",
       "      <td>75</td>\n",
       "      <td>True</td>\n",
       "      <td>2015-12-02 11:39:13.346</td>\n",
       "      <td>181.0</td>\n",
       "      <td>3.689236</td>\n",
       "      <td>11</td>\n",
       "      <td>4</td>\n",
       "    </tr>\n",
       "  </tbody>\n",
       "</table>\n",
       "</div>"
      ],
      "text/plain": [
       "   duur  beweging                    time     WR        Wk  uur  WRbin\n",
       "1    75      True 2015-12-02 09:07:36.553  212.0  1.106771    9      5\n",
       "2    69      True 2015-12-02 10:12:38.240  242.0  0.217014   10      5\n",
       "3    75      True 2015-12-02 10:15:32.242  234.0  1.345486   10      5\n",
       "4    69      True 2015-12-02 11:36:03.144  120.0  0.499132   11      3\n",
       "5    75      True 2015-12-02 11:39:13.346  181.0  3.689236   11      4"
      ]
     },
     "execution_count": 118,
     "metadata": {},
     "output_type": "execute_result"
    }
   ],
   "source": [
    "wrbin = list()\n",
    "for index, row in cleanSluit.iterrows():\n",
    "    wr = row[3]\n",
    "    wk = row[4]\n",
    "    if(((wr >= 0) & (wr<=22.5))| ((wr >= 337.6) & (wr<=360))):\n",
    "        wrbin.append(0)      \n",
    "    elif((wr >= 22.6) & (wr<=67.5)):\n",
    "        wrbin.append(1)\n",
    "    elif((wr >= 67.6) & (wr<=112.5)):\n",
    "        wrbin.append(2)\n",
    "    elif((wr >= 112.6) & (wr<=157.5)):\n",
    "        wrbin.append(3)\n",
    "    elif((wr >= 157.6) & (wr<=202.5)):\n",
    "        wrbin.append(4)\n",
    "    elif((wr >= 202.6) & (wr<=247.5)):\n",
    "        wrbin.append(5)\n",
    "    elif((wr >= 247.6) & (wr<=292.5)):\n",
    "        wrbin.append(6)\n",
    "    elif((wr >= 292.6) & (wr<=337.5)):\n",
    "        wrbin.append(7)\n",
    "cleanSluit['WRbin'] = wrbin\n",
    "cleanSluit.head()"
   ]
  },
  {
   "cell_type": "code",
   "execution_count": 119,
   "metadata": {},
   "outputs": [
    {
     "name": "stderr",
     "output_type": "stream",
     "text": [
      "C:\\Users\\denni\\Anaconda3\\lib\\site-packages\\ipykernel_launcher.py:26: SettingWithCopyWarning: \n",
      "A value is trying to be set on a copy of a slice from a DataFrame.\n",
      "Try using .loc[row_indexer,col_indexer] = value instead\n",
      "\n",
      "See the caveats in the documentation: http://pandas.pydata.org/pandas-docs/stable/indexing.html#indexing-view-versus-copy\n"
     ]
    },
    {
     "data": {
      "text/html": [
       "<div>\n",
       "<style scoped>\n",
       "    .dataframe tbody tr th:only-of-type {\n",
       "        vertical-align: middle;\n",
       "    }\n",
       "\n",
       "    .dataframe tbody tr th {\n",
       "        vertical-align: top;\n",
       "    }\n",
       "\n",
       "    .dataframe thead th {\n",
       "        text-align: right;\n",
       "    }\n",
       "</style>\n",
       "<table border=\"1\" class=\"dataframe\">\n",
       "  <thead>\n",
       "    <tr style=\"text-align: right;\">\n",
       "      <th></th>\n",
       "      <th>duur</th>\n",
       "      <th>beweging</th>\n",
       "      <th>time</th>\n",
       "      <th>WR</th>\n",
       "      <th>Wk</th>\n",
       "      <th>uur</th>\n",
       "      <th>WRbin</th>\n",
       "      <th>WKbin</th>\n",
       "    </tr>\n",
       "  </thead>\n",
       "  <tbody>\n",
       "    <tr>\n",
       "      <th>1</th>\n",
       "      <td>75</td>\n",
       "      <td>True</td>\n",
       "      <td>2015-12-02 09:07:36.553</td>\n",
       "      <td>212.0</td>\n",
       "      <td>1.106771</td>\n",
       "      <td>9</td>\n",
       "      <td>5</td>\n",
       "      <td>1</td>\n",
       "    </tr>\n",
       "    <tr>\n",
       "      <th>2</th>\n",
       "      <td>69</td>\n",
       "      <td>True</td>\n",
       "      <td>2015-12-02 10:12:38.240</td>\n",
       "      <td>242.0</td>\n",
       "      <td>0.217014</td>\n",
       "      <td>10</td>\n",
       "      <td>5</td>\n",
       "      <td>1</td>\n",
       "    </tr>\n",
       "    <tr>\n",
       "      <th>3</th>\n",
       "      <td>75</td>\n",
       "      <td>True</td>\n",
       "      <td>2015-12-02 10:15:32.242</td>\n",
       "      <td>234.0</td>\n",
       "      <td>1.345486</td>\n",
       "      <td>10</td>\n",
       "      <td>5</td>\n",
       "      <td>1</td>\n",
       "    </tr>\n",
       "    <tr>\n",
       "      <th>4</th>\n",
       "      <td>69</td>\n",
       "      <td>True</td>\n",
       "      <td>2015-12-02 11:36:03.144</td>\n",
       "      <td>120.0</td>\n",
       "      <td>0.499132</td>\n",
       "      <td>11</td>\n",
       "      <td>3</td>\n",
       "      <td>1</td>\n",
       "    </tr>\n",
       "    <tr>\n",
       "      <th>5</th>\n",
       "      <td>75</td>\n",
       "      <td>True</td>\n",
       "      <td>2015-12-02 11:39:13.346</td>\n",
       "      <td>181.0</td>\n",
       "      <td>3.689236</td>\n",
       "      <td>11</td>\n",
       "      <td>4</td>\n",
       "      <td>3</td>\n",
       "    </tr>\n",
       "  </tbody>\n",
       "</table>\n",
       "</div>"
      ],
      "text/plain": [
       "   duur  beweging                    time     WR        Wk  uur  WRbin  WKbin\n",
       "1    75      True 2015-12-02 09:07:36.553  212.0  1.106771    9      5      1\n",
       "2    69      True 2015-12-02 10:12:38.240  242.0  0.217014   10      5      1\n",
       "3    75      True 2015-12-02 10:15:32.242  234.0  1.345486   10      5      1\n",
       "4    69      True 2015-12-02 11:36:03.144  120.0  0.499132   11      3      1\n",
       "5    75      True 2015-12-02 11:39:13.346  181.0  3.689236   11      4      3"
      ]
     },
     "execution_count": 119,
     "metadata": {},
     "output_type": "execute_result"
    }
   ],
   "source": [
    "wkbin = list()\n",
    "for index, row in cleanSluit.iterrows():\n",
    "    wk = row[4]\n",
    "    if((wk >= 0) & (wk<=0.2)):\n",
    "        wkbin.append(0)      \n",
    "    elif((wk > 0.2) & (wk<=1.5)):\n",
    "        wkbin.append(1)\n",
    "    elif((wk > 1.5) & (wk<=3.3)):\n",
    "        wkbin.append(2)\n",
    "    elif((wk > 3.3) & (wk<=5.4)):\n",
    "        wkbin.append(3)\n",
    "    elif((wk > 5.4) & (wk<=7.9)):\n",
    "        wkbin.append(4)\n",
    "    elif((wk > 7.9) & (wk<=10.7)):\n",
    "        wkbin.append(5)\n",
    "    elif((wk > 10.7) & (wk<=13.8)):\n",
    "        wkbin.append(6)\n",
    "    elif((wk > 13.8) & (wk<=17.1)):\n",
    "        wkbin.append(7)\n",
    "    elif((wk > 17.1) & (wk<=20.7)):\n",
    "        wkbin.append(8)   \n",
    "    elif((wk > 20.7) & (wk<=24.4)):\n",
    "        wkbin.append(9)\n",
    "    elif((wk > 24.4) & (wk<=28.4)):\n",
    "        wkbin.append(10)\n",
    "cleanSluit['WKbin'] = wkbin\n",
    "cleanSluit.head()"
   ]
  },
  {
   "cell_type": "code",
   "execution_count": 120,
   "metadata": {},
   "outputs": [
    {
     "data": {
      "text/plain": [
       "Text(0.5, 1.0, 'Duur per windrichting')"
      ]
     },
     "execution_count": 120,
     "metadata": {},
     "output_type": "execute_result"
    },
    {
     "data": {
      "image/png": "[encoded data removed]",
      "text/plain": [
       "<Figure size 432x288 with 1 Axes>"
      ]
     },
     "metadata": {
      "needs_background": "light"
     },
     "output_type": "display_data"
    }
   ],
   "source": [
    "fig, ax = plt.subplots()\n",
    "scatter = ax.scatter(cleanSluit.WR, cleanSluit.duur, c = cleanSluit.WRbin,  s=50, cmap='gnuplot')\n",
    "ax.set_title(\"Duur per windrichting\")"
   ]
  },
  {
   "cell_type": "code",
   "execution_count": 121,
   "metadata": {},
   "outputs": [
    {
     "data": {
      "text/plain": [
       "Text(0.5, 1.0, 'Duur per windrichting')"
      ]
     },
     "execution_count": 121,
     "metadata": {},
     "output_type": "execute_result"
    },
    {
     "data": {
      "image/png": "[encoded data removed]",
      "text/plain": [
       "<Figure size 432x288 with 1 Axes>"
      ]
     },
     "metadata": {
      "needs_background": "light"
     },
     "output_type": "display_data"
    }
   ],
   "source": [
    "fig, ax = plt.subplots()\n",
    "scatter = ax.scatter(cleanSluit.duur, cleanSluit.WR,  c = cleanSluit.WKbin,  s=50, cmap='gnuplot')\n",
    "ax.set_title(\"Duur per windrichting\")"
   ]
  },
  {
   "cell_type": "code",
   "execution_count": 122,
   "metadata": {},
   "outputs": [
    {
     "data": {
      "text/plain": [
       "Text(0.5, 1.0, 'Duur per windrichting')"
      ]
     },
     "execution_count": 122,
     "metadata": {},
     "output_type": "execute_result"
    },
    {
     "data": {
      "image/png": "[encoded data removed]",
      "text/plain": [
       "<Figure size 432x288 with 1 Axes>"
      ]
     },
     "metadata": {
      "needs_background": "light"
     },
     "output_type": "display_data"
    }
   ],
   "source": [
    "fig, ax = plt.subplots()\n",
    "scatter = ax.scatter(cleanSluit.WR, cleanSluit.duur, c = cleanSluit.WKbin,  s=50, cmap='gnuplot')\n",
    "ax.set_title(\"Duur per windrichting\")"
   ]
  },
  {
   "cell_type": "code",
   "execution_count": 123,
   "metadata": {},
   "outputs": [
    {
     "data": {
      "text/plain": [
       "Text(0.5, 1.0, 'Duur per windkracht')"
      ]
     },
     "execution_count": 123,
     "metadata": {},
     "output_type": "execute_result"
    },
    {
     "data": {
      "image/png": "[encoded data removed]",
      "text/plain": [
       "<Figure size 432x288 with 1 Axes>"
      ]
     },
     "metadata": {
      "needs_background": "light"
     },
     "output_type": "display_data"
    }
   ],
   "source": [
    "fig, ax = plt.subplots()\n",
    "scatter = ax.scatter(cleanSluit.Wk, cleanSluit.duur, c = cleanSluit.WKbin,  s=50, cmap='gnuplot')\n",
    "ax.set_title(\"Duur per windkracht\")"
   ]
  },
  {
   "cell_type": "code",
   "execution_count": 124,
   "metadata": {},
   "outputs": [
    {
     "data": {
      "text/plain": [
       "Text(0.5, 1.0, 'Duur per windkracht')"
      ]
     },
     "execution_count": 124,
     "metadata": {},
     "output_type": "execute_result"
    },
    {
     "data": {
      "image/png": "[encoded data removed]",
      "text/plain": [
       "<Figure size 432x288 with 1 Axes>"
      ]
     },
     "metadata": {
      "needs_background": "light"
     },
     "output_type": "display_data"
    }
   ],
   "source": [
    "fig, ax = plt.subplots()\n",
    "scatter = ax.scatter(cleanSluit.Wk, cleanSluit.duur, c = cleanSluit.WRbin,  s=50, cmap='gnuplot')\n",
    "ax.set_title(\"Duur per windkracht\")"
   ]
  },
  {
   "cell_type": "code",
   "execution_count": 125,
   "metadata": {},
   "outputs": [
    {
     "name": "stderr",
     "output_type": "stream",
     "text": [
      "C:\\Users\\denni\\Anaconda3\\lib\\site-packages\\ipykernel_launcher.py:21: SettingWithCopyWarning: \n",
      "A value is trying to be set on a copy of a slice from a DataFrame.\n",
      "Try using .loc[row_indexer,col_indexer] = value instead\n",
      "\n",
      "See the caveats in the documentation: http://pandas.pydata.org/pandas-docs/stable/indexing.html#indexing-view-versus-copy\n"
     ]
    },
    {
     "data": {
      "text/html": [
       "<div>\n",
       "<style scoped>\n",
       "    .dataframe tbody tr th:only-of-type {\n",
       "        vertical-align: middle;\n",
       "    }\n",
       "\n",
       "    .dataframe tbody tr th {\n",
       "        vertical-align: top;\n",
       "    }\n",
       "\n",
       "    .dataframe thead th {\n",
       "        text-align: right;\n",
       "    }\n",
       "</style>\n",
       "<table border=\"1\" class=\"dataframe\">\n",
       "  <thead>\n",
       "    <tr style=\"text-align: right;\">\n",
       "      <th></th>\n",
       "      <th>duur</th>\n",
       "      <th>beweging</th>\n",
       "      <th>time</th>\n",
       "      <th>WR</th>\n",
       "      <th>Wk</th>\n",
       "      <th>WRbin</th>\n",
       "      <th>WKbin</th>\n",
       "    </tr>\n",
       "  </thead>\n",
       "  <tbody>\n",
       "    <tr>\n",
       "      <th>0</th>\n",
       "      <td>69</td>\n",
       "      <td>False</td>\n",
       "      <td>2015-12-02 09:04:37.049</td>\n",
       "      <td>256.0</td>\n",
       "      <td>0.889757</td>\n",
       "      <td>6</td>\n",
       "      <td>1</td>\n",
       "    </tr>\n",
       "    <tr>\n",
       "      <th>8</th>\n",
       "      <td>68</td>\n",
       "      <td>False</td>\n",
       "      <td>2015-12-02 13:38:46.247</td>\n",
       "      <td>245.0</td>\n",
       "      <td>3.537326</td>\n",
       "      <td>5</td>\n",
       "      <td>3</td>\n",
       "    </tr>\n",
       "    <tr>\n",
       "      <th>10</th>\n",
       "      <td>69</td>\n",
       "      <td>False</td>\n",
       "      <td>2015-12-02 14:36:18.254</td>\n",
       "      <td>236.0</td>\n",
       "      <td>1.605903</td>\n",
       "      <td>5</td>\n",
       "      <td>2</td>\n",
       "    </tr>\n",
       "    <tr>\n",
       "      <th>12</th>\n",
       "      <td>69</td>\n",
       "      <td>False</td>\n",
       "      <td>2015-12-02 17:08:45.359</td>\n",
       "      <td>204.0</td>\n",
       "      <td>0.694444</td>\n",
       "      <td>5</td>\n",
       "      <td>1</td>\n",
       "    </tr>\n",
       "    <tr>\n",
       "      <th>14</th>\n",
       "      <td>69</td>\n",
       "      <td>False</td>\n",
       "      <td>2015-12-02 17:36:13.867</td>\n",
       "      <td>226.0</td>\n",
       "      <td>2.256944</td>\n",
       "      <td>5</td>\n",
       "      <td>2</td>\n",
       "    </tr>\n",
       "  </tbody>\n",
       "</table>\n",
       "</div>"
      ],
      "text/plain": [
       "    duur  beweging                    time     WR        Wk  WRbin  WKbin\n",
       "0     69     False 2015-12-02 09:04:37.049  256.0  0.889757      6      1\n",
       "8     68     False 2015-12-02 13:38:46.247  245.0  3.537326      5      3\n",
       "10    69     False 2015-12-02 14:36:18.254  236.0  1.605903      5      2\n",
       "12    69     False 2015-12-02 17:08:45.359  204.0  0.694444      5      1\n",
       "14    69     False 2015-12-02 17:36:13.867  226.0  2.256944      5      2"
      ]
     },
     "execution_count": 125,
     "metadata": {},
     "output_type": "execute_result"
    }
   ],
   "source": [
    "wrbin = list()\n",
    "for index, row in openen.iterrows():\n",
    "    wr = row[3]\n",
    "    wk = row[4]\n",
    "    if(((wr >= 0) & (wr<=22.5))| ((wr >= 337.6) & (wr<=360))):\n",
    "        wrbin.append(0)      \n",
    "    elif((wr >= 22.6) & (wr<=67.5)):\n",
    "        wrbin.append(1)\n",
    "    elif((wr >= 67.6) & (wr<=112.5)):\n",
    "        wrbin.append(2)\n",
    "    elif((wr >= 112.6) & (wr<=157.5)):\n",
    "        wrbin.append(3)\n",
    "    elif((wr >= 157.6) & (wr<=202.5)):\n",
    "        wrbin.append(4)\n",
    "    elif((wr >= 202.6) & (wr<=247.5)):\n",
    "        wrbin.append(5)\n",
    "    elif((wr >= 247.6) & (wr<=292.5)):\n",
    "        wrbin.append(6)\n",
    "    elif((wr >= 292.6) & (wr<=337.5)):\n",
    "        wrbin.append(7)\n",
    "openen['WRbin'] = wrbin\n",
    "openen.head()"
   ]
  },
  {
   "cell_type": "code",
   "execution_count": 126,
   "metadata": {},
   "outputs": [
    {
     "name": "stderr",
     "output_type": "stream",
     "text": [
      "C:\\Users\\denni\\Anaconda3\\lib\\site-packages\\ipykernel_launcher.py:26: SettingWithCopyWarning: \n",
      "A value is trying to be set on a copy of a slice from a DataFrame.\n",
      "Try using .loc[row_indexer,col_indexer] = value instead\n",
      "\n",
      "See the caveats in the documentation: http://pandas.pydata.org/pandas-docs/stable/indexing.html#indexing-view-versus-copy\n"
     ]
    },
    {
     "data": {
      "text/html": [
       "<div>\n",
       "<style scoped>\n",
       "    .dataframe tbody tr th:only-of-type {\n",
       "        vertical-align: middle;\n",
       "    }\n",
       "\n",
       "    .dataframe tbody tr th {\n",
       "        vertical-align: top;\n",
       "    }\n",
       "\n",
       "    .dataframe thead th {\n",
       "        text-align: right;\n",
       "    }\n",
       "</style>\n",
       "<table border=\"1\" class=\"dataframe\">\n",
       "  <thead>\n",
       "    <tr style=\"text-align: right;\">\n",
       "      <th></th>\n",
       "      <th>duur</th>\n",
       "      <th>beweging</th>\n",
       "      <th>time</th>\n",
       "      <th>WR</th>\n",
       "      <th>Wk</th>\n",
       "      <th>WRbin</th>\n",
       "      <th>WKbin</th>\n",
       "    </tr>\n",
       "  </thead>\n",
       "  <tbody>\n",
       "    <tr>\n",
       "      <th>0</th>\n",
       "      <td>69</td>\n",
       "      <td>False</td>\n",
       "      <td>2015-12-02 09:04:37.049</td>\n",
       "      <td>256.0</td>\n",
       "      <td>0.889757</td>\n",
       "      <td>6</td>\n",
       "      <td>1</td>\n",
       "    </tr>\n",
       "    <tr>\n",
       "      <th>8</th>\n",
       "      <td>68</td>\n",
       "      <td>False</td>\n",
       "      <td>2015-12-02 13:38:46.247</td>\n",
       "      <td>245.0</td>\n",
       "      <td>3.537326</td>\n",
       "      <td>5</td>\n",
       "      <td>3</td>\n",
       "    </tr>\n",
       "    <tr>\n",
       "      <th>10</th>\n",
       "      <td>69</td>\n",
       "      <td>False</td>\n",
       "      <td>2015-12-02 14:36:18.254</td>\n",
       "      <td>236.0</td>\n",
       "      <td>1.605903</td>\n",
       "      <td>5</td>\n",
       "      <td>2</td>\n",
       "    </tr>\n",
       "    <tr>\n",
       "      <th>12</th>\n",
       "      <td>69</td>\n",
       "      <td>False</td>\n",
       "      <td>2015-12-02 17:08:45.359</td>\n",
       "      <td>204.0</td>\n",
       "      <td>0.694444</td>\n",
       "      <td>5</td>\n",
       "      <td>1</td>\n",
       "    </tr>\n",
       "    <tr>\n",
       "      <th>14</th>\n",
       "      <td>69</td>\n",
       "      <td>False</td>\n",
       "      <td>2015-12-02 17:36:13.867</td>\n",
       "      <td>226.0</td>\n",
       "      <td>2.256944</td>\n",
       "      <td>5</td>\n",
       "      <td>2</td>\n",
       "    </tr>\n",
       "  </tbody>\n",
       "</table>\n",
       "</div>"
      ],
      "text/plain": [
       "    duur  beweging                    time     WR        Wk  WRbin  WKbin\n",
       "0     69     False 2015-12-02 09:04:37.049  256.0  0.889757      6      1\n",
       "8     68     False 2015-12-02 13:38:46.247  245.0  3.537326      5      3\n",
       "10    69     False 2015-12-02 14:36:18.254  236.0  1.605903      5      2\n",
       "12    69     False 2015-12-02 17:08:45.359  204.0  0.694444      5      1\n",
       "14    69     False 2015-12-02 17:36:13.867  226.0  2.256944      5      2"
      ]
     },
     "execution_count": 126,
     "metadata": {},
     "output_type": "execute_result"
    }
   ],
   "source": [
    "wkbin = list()\n",
    "for index, row in openen.iterrows():\n",
    "    wk = row[4]\n",
    "    if((wk >= 0) & (wk<=0.2)):\n",
    "        wkbin.append(0)      \n",
    "    elif((wk > 0.2) & (wk<=1.5)):\n",
    "        wkbin.append(1)\n",
    "    elif((wk > 1.5) & (wk<=3.3)):\n",
    "        wkbin.append(2)\n",
    "    elif((wk > 3.3) & (wk<=5.4)):\n",
    "        wkbin.append(3)\n",
    "    elif((wk > 5.4) & (wk<=7.9)):\n",
    "        wkbin.append(4)\n",
    "    elif((wk > 7.9) & (wk<=10.7)):\n",
    "        wkbin.append(5)\n",
    "    elif((wk > 10.7) & (wk<=13.8)):\n",
    "        wkbin.append(6)\n",
    "    elif((wk > 13.8) & (wk<=17.1)):\n",
    "        wkbin.append(7)\n",
    "    elif((wk > 17.1) & (wk<=20.7)):\n",
    "        wkbin.append(8)   \n",
    "    elif((wk > 20.7) & (wk<=24.4)):\n",
    "        wkbin.append(9)\n",
    "    elif((wk > 24.4) & (wk<=28.4)):\n",
    "        wkbin.append(10)\n",
    "openen['WKbin'] = wkbin\n",
    "openen.head()"
   ]
  },
  {
   "cell_type": "markdown",
   "metadata": {},
   "source": [
    "# Dataframe omzetten naar CSV\n"
   ]
  },
  {
   "cell_type": "code",
   "execution_count": 127,
   "metadata": {},
   "outputs": [],
   "source": [
    "cleanOpen.to_csv('DuurOpening.csv')\n",
    "cleanSluit.to_csv('DuurSluiten.csv')\n",
    "cleanDuur.to_csv('CleanedDuur.csv')\n",
    "openen.to_csv('Open.csv')\n",
    "sluit.to_csv('Sluiten.csv')"
   ]
  }
 ],
 "metadata": {
  "kernelspec": {
   "display_name": "Python 3",
   "language": "python",
   "name": "python3"
  },
  "language_info": {
   "codemirror_mode": {
    "name": "ipython",
    "version": 3
   },
   "file_extension": ".py",
   "mimetype": "text/x-python",
   "name": "python",
   "nbconvert_exporter": "python",
   "pygments_lexer": "ipython3",
   "version": "3.7.1"
  }
 },
 "nbformat": 4,
 "nbformat_minor": 2
}
